{
 "cells": [
  {
   "cell_type": "code",
   "execution_count": 3,
   "metadata": {},
   "outputs": [],
   "source": [
    "import torch \n",
    "\n",
    "x = torch.randn(1,3, 5)"
   ]
  },
  {
   "cell_type": "code",
   "execution_count": 68,
   "metadata": {},
   "outputs": [
    {
     "data": {
      "text/plain": [
       "tensor(273)"
      ]
     },
     "metadata": {},
     "output_type": "display_data"
    },
    {
     "data": {
      "text/plain": [
       "tensor([[[-0.1123, -0.2205,  1.8428,  ...,  0.2003,  0.8074,  0.9903]],\n",
       "\n",
       "        [[-0.2923, -1.9020, -0.7646,  ..., -0.6766,  0.0141,  0.4463]],\n",
       "\n",
       "        [[-0.6164, -1.1524, -0.9401,  ..., -1.6328, -0.4651, -0.3668]],\n",
       "\n",
       "        ...,\n",
       "\n",
       "        [[-0.2307, -1.8026,  0.0791,  ...,  0.6982, -1.5687, -1.8555]],\n",
       "\n",
       "        [[-1.7656, -0.3165,  0.1590,  ...,  0.6107,  2.0839, -0.5763]],\n",
       "\n",
       "        [[-0.5494,  1.9790,  0.0045,  ...,  1.8940, -0.9832, -1.4182]]])"
      ]
     },
     "metadata": {},
     "output_type": "display_data"
    },
    {
     "data": {
      "text/plain": [
       "torch.Size([273, 1, 11])"
      ]
     },
     "metadata": {},
     "output_type": "display_data"
    }
   ],
   "source": [
    "pred = torch.randn(500, 1, 11)\n",
    "s = torch.randint(0,2,(500,))\n",
    "display(s.sum())\n",
    "s = s.view(-1, 1, 1)\n",
    "s = torch.squeeze(s)\n",
    "b = s == 1\n",
    "pred = pred[b]\n",
    "display(pred)\n",
    "display(pred.shape)"
   ]
  },
  {
   "cell_type": "code",
   "execution_count": 66,
   "metadata": {},
   "outputs": [],
   "source": [
    "for i in range(pred.shape[0]):\n",
    "    v = pred[i][0]\n",
    "    is_zero = len(torch.nonzero(v)) == 0\n",
    "    if is_zero:\n",
    "        print(f'tensor at index {i} is all 0')"
   ]
  },
  {
   "cell_type": "code",
   "execution_count": 70,
   "metadata": {},
   "outputs": [
    {
     "data": {
      "text/plain": [
       "tensor([ 7.2653e-04,  1.3560e+00, -1.4563e+00, -1.4381e+00,  9.9402e-01,\n",
       "         4.1003e-01,  6.9461e-01,  7.0060e-01, -1.3364e+00, -6.7760e-02,\n",
       "         1.5448e-01])"
      ]
     },
     "metadata": {},
     "output_type": "display_data"
    },
    {
     "data": {
      "text/plain": [
       "tensor([ 0.2895,  0.8692, -0.2492,  0.3074, -1.9362, -1.4238, -0.4139,  1.1702,\n",
       "        -0.1952, -0.2009, -1.6811])"
      ]
     },
     "metadata": {},
     "output_type": "display_data"
    }
   ],
   "source": [
    "x = torch.randn(11)\n",
    "y = torch.randn(11)\n",
    "display(x)\n",
    "display(y)"
   ]
  },
  {
   "cell_type": "code",
   "execution_count": 71,
   "metadata": {},
   "outputs": [
    {
     "data": {
      "text/plain": [
       "tensor([-0.2888,  0.4868, -1.2071, -1.7455,  2.9302,  1.8338,  1.1085, -0.4696,\n",
       "        -1.1412,  0.1332,  1.8356])"
      ]
     },
     "metadata": {},
     "output_type": "display_data"
    }
   ],
   "source": [
    "diff = x - y\n",
    "display(diff)"
   ]
  },
  {
   "cell_type": "code",
   "execution_count": 72,
   "metadata": {},
   "outputs": [
    {
     "data": {
      "text/plain": [
       "tensor([0.0834, 0.2370, 1.4571, 3.0467, 8.5863, 3.3630, 1.2287, 0.2205, 1.3024,\n",
       "        0.0177, 3.3694])"
      ]
     },
     "metadata": {},
     "output_type": "display_data"
    }
   ],
   "source": [
    "square = diff **2\n",
    "display(square)"
   ]
  },
  {
   "cell_type": "code",
   "execution_count": 208,
   "metadata": {},
   "outputs": [
    {
     "data": {
      "text/plain": [
       "tensor([[[ 27.,  77.,  80.,  -3.,   4.,  44.,  88., -91.,  40.,  34.,   0.]]],\n",
       "       device='cuda:1')"
      ]
     },
     "metadata": {},
     "output_type": "display_data"
    },
    {
     "data": {
      "text/plain": [
       "tensor([[[  9.,   1., -95.,  57., -55., -17.,  36.,  75.,  59.,  73.,  54.]]],\n",
       "       device='cuda:1')"
      ]
     },
     "metadata": {},
     "output_type": "display_data"
    }
   ],
   "source": [
    "pred = torch.randint(-100, 100, (1, 1, 11), dtype=torch.float).to(1)\n",
    "targ = torch.randint(-100, 100, (1, 1, 11), dtype=torch.float).to(1)\n",
    "\n",
    "display(pred[:5])\n",
    "display(targ[:5])"
   ]
  },
  {
   "cell_type": "code",
   "execution_count": 212,
   "metadata": {},
   "outputs": [
    {
     "data": {
      "text/plain": [
       "5041"
      ]
     },
     "metadata": {},
     "output_type": "display_data"
    },
    {
     "data": {
      "text/plain": [
       "784"
      ]
     },
     "metadata": {},
     "output_type": "display_data"
    },
    {
     "data": {
      "text/plain": [
       "576"
      ]
     },
     "metadata": {},
     "output_type": "display_data"
    },
    {
     "data": {
      "text/plain": [
       "6889"
      ]
     },
     "metadata": {},
     "output_type": "display_data"
    }
   ],
   "source": [
    "display((-57 -14)**2)\n",
    "display((65 -93)**2)\n",
    "display((48 -72)**2)\n",
    "display((-9 +92)**2)\n",
    "    "
   ]
  },
  {
   "cell_type": "code",
   "execution_count": 213,
   "metadata": {},
   "outputs": [
    {
     "data": {
      "text/plain": [
       "tensor(7507.7275, device='cuda:1')"
      ]
     },
     "metadata": {},
     "output_type": "display_data"
    }
   ],
   "source": [
    "loss = torch.nn.MSELoss()\n",
    "\n",
    "output = loss(pred, targ)\n",
    "display(output)"
   ]
  },
  {
   "cell_type": "code",
   "execution_count": 214,
   "metadata": {},
   "outputs": [],
   "source": [
    "def loss_index(pred, targ, start, end):\n",
    "    p = pred[:, :, start:end]\n",
    "    t = targ[:, :, start:end]\n",
    "    loss = torch.nn.MSELoss()\n",
    "    output = loss(p, t)\n",
    "    return output"
   ]
  },
  {
   "cell_type": "code",
   "execution_count": 215,
   "metadata": {},
   "outputs": [
    {
     "data": {
      "text/plain": [
       "tensor(324., device='cuda:1')"
      ]
     },
     "metadata": {},
     "output_type": "display_data"
    },
    {
     "data": {
      "text/plain": [
       "tensor(5776., device='cuda:1')"
      ]
     },
     "metadata": {},
     "output_type": "display_data"
    },
    {
     "data": {
      "text/plain": [
       "tensor(30625., device='cuda:1')"
      ]
     },
     "metadata": {},
     "output_type": "display_data"
    },
    {
     "data": {
      "text/plain": [
       "tensor(3600., device='cuda:1')"
      ]
     },
     "metadata": {},
     "output_type": "display_data"
    },
    {
     "data": {
      "text/plain": [
       "tensor(6037.1431, device='cuda:1')"
      ]
     },
     "metadata": {},
     "output_type": "display_data"
    },
    {
     "name": "stdout",
     "output_type": "stream",
     "text": [
      "final output\n",
      "tensor(7507.7275, device='cuda:1')\n"
     ]
    }
   ],
   "source": [
    "a = loss_index(pred, targ, 0, 1)\n",
    "display(a)\n",
    "\n",
    "b = loss_index(pred, targ, 1, 2)\n",
    "display(b)\n",
    "\n",
    "c = loss_index(pred, targ, 2, 3)\n",
    "display(c)\n",
    "\n",
    "d = loss_index(pred, targ, 3, 4)\n",
    "display(d)\n",
    "\n",
    "e = loss_index(pred, targ, 4, 11)\n",
    "display(e)\n",
    "\n",
    "final = (a + b + c + d + e *7) / 11\n",
    "print('final output')\n",
    "print(final)"
   ]
  },
  {
   "cell_type": "code",
   "execution_count": 180,
   "metadata": {},
   "outputs": [
    {
     "data": {
      "text/plain": [
       "tensor([0, 0, 0, 0, 0, 0, 0, 0, 0, 0, 0, 0, 0, 0, 0, 0, 0, 0, 0, 0, 0, 0, 0, 0,\n",
       "        0, 0, 0, 0, 0, 0, 0, 0, 0, 0, 0, 0, 0, 0, 0, 0, 0, 0, 0, 0, 0, 0, 0, 0,\n",
       "        0, 0, 0, 0, 0, 0, 0, 0, 0, 0, 0, 0, 0, 0, 0, 0, 0, 0, 0, 0, 0, 0, 0, 0,\n",
       "        0, 0, 0, 0, 0, 0, 0, 0, 0, 0, 0, 0, 0, 0, 0, 0, 0, 0, 0, 0, 0, 0, 0, 0,\n",
       "        0, 0, 0, 0, 0, 0, 0, 0, 0, 0, 0, 0, 0, 0, 0, 0, 0, 0, 0, 0, 0, 0, 0, 0,\n",
       "        0, 0, 0, 0, 0, 0, 0, 0, 0, 0, 0, 0, 0, 0, 0, 0, 0, 0, 0, 0, 0, 0, 0, 0,\n",
       "        0, 0, 0, 0, 0, 0, 0, 0, 0, 0, 0, 0, 0, 0, 0, 0, 0, 0, 0, 0, 0, 0, 0, 0,\n",
       "        0, 0, 0, 0, 0, 0, 0, 0, 0, 0, 0, 0, 0, 0, 0, 0, 0, 0, 0, 0, 0, 0, 0, 0,\n",
       "        0, 0, 0, 0, 0, 0, 0, 0, 0, 0, 0, 0, 0, 0, 0, 0, 0, 0, 0, 0, 0, 0, 0, 0,\n",
       "        0, 0, 0, 0, 0, 0, 0, 0, 0, 0, 0, 0, 0, 0, 0, 0, 0, 0, 0, 0, 0, 0, 0, 0,\n",
       "        0, 0, 0, 0, 0, 0, 0, 0, 0, 0, 0, 0, 0, 0, 0, 0, 0, 0, 0, 0, 0, 0, 0, 0,\n",
       "        0, 0, 0, 0, 0, 0, 0, 0, 0, 0, 0, 0, 0, 0, 0, 0, 0, 0, 0, 0, 0, 0, 0, 0,\n",
       "        0, 0, 0, 0, 0, 0, 0, 0, 0, 0, 0, 0, 0, 0, 0, 0, 0, 0, 0, 0, 0, 0, 0, 0,\n",
       "        0, 0, 0, 0, 0, 0, 0, 0, 0, 0, 0, 0, 0, 0, 0, 0, 0, 0, 0, 0, 0, 0, 0, 0,\n",
       "        0, 0, 0, 0, 0, 0, 0, 0, 0, 0, 0, 0, 0, 0, 0, 0, 0, 0, 0, 0, 0, 0, 0, 0,\n",
       "        0, 0, 0, 0, 0, 0, 0, 0, 0, 0, 0, 0, 0, 0, 0, 0, 0, 0, 0, 0, 0, 0, 0, 0,\n",
       "        0, 0, 0, 0, 0, 0, 0, 0, 0, 0, 0, 0, 0, 0, 0, 0, 0, 0, 0, 0, 0, 0, 0, 0,\n",
       "        0, 0, 0, 0, 0, 0, 0, 0, 0, 0, 0, 0, 0, 0, 0, 0, 0, 0, 0, 0, 0, 0, 0, 0,\n",
       "        0, 0, 0, 0, 0, 0, 0, 0, 0, 0, 0, 0, 0, 0, 0, 0, 0, 0, 0, 0, 0, 0, 0, 0,\n",
       "        0, 0, 0, 0, 0, 0, 0, 0, 0, 0, 0, 0, 0, 0, 0, 0, 0, 0, 0, 0, 0, 0, 0, 0,\n",
       "        0, 0, 0, 0, 0, 0, 0, 0, 0, 0, 0, 0, 0, 0, 0, 0, 0, 0, 0, 0],\n",
       "       dtype=torch.uint8)"
      ]
     },
     "metadata": {},
     "output_type": "display_data"
    },
    {
     "data": {
      "text/plain": [
       "tensor(0, dtype=torch.uint8)"
      ]
     },
     "metadata": {},
     "output_type": "display_data"
    },
    {
     "name": "stdout",
     "output_type": "stream",
     "text": [
      "True\n"
     ]
    }
   ],
   "source": [
    "s = torch.Tensor(500)\n",
    "s = s.fill_(0)\n",
    "b = s == 1\n",
    "b\n",
    "byte = b.byte()\n",
    "display(byte)\n",
    "display(byte.any())\n",
    "\n",
    "all_false = byte.any().item() == 0 \n",
    "print(all_false)"
   ]
  },
  {
   "cell_type": "code",
   "execution_count": null,
   "metadata": {},
   "outputs": [],
   "source": []
  },
  {
   "cell_type": "code",
   "execution_count": 141,
   "metadata": {},
   "outputs": [],
   "source": [
    "mse = torch.sum((pred - targ)**2) * (1/targ.numel())\n",
    "# mse = torch.sum((pred - targ)**2)"
   ]
  },
  {
   "cell_type": "code",
   "execution_count": 142,
   "metadata": {},
   "outputs": [
    {
     "data": {
      "text/plain": [
       "tensor(844.2407, device='cuda:1')"
      ]
     },
     "execution_count": 142,
     "metadata": {},
     "output_type": "execute_result"
    }
   ],
   "source": [
    "mse"
   ]
  },
  {
   "cell_type": "code",
   "execution_count": 7,
   "metadata": {},
   "outputs": [
    {
     "data": {
      "text/plain": [
       "tensor([[-0.2533, -1.1309,  0.3981,  0.3567,  0.3350, -0.5709,  1.3298,  0.9635,\n",
       "          0.6017,  0.7755,  1.0888],\n",
       "        [-0.0178, -1.5589,  0.6162, -1.1520, -0.0455, -0.7064, -1.1989,  0.7995,\n",
       "          0.3436,  1.0281, -0.0675],\n",
       "        [ 0.3010, -0.1664, -0.8931,  1.3884, -0.9047,  0.3073,  0.9444, -0.2480,\n",
       "         -0.5690, -0.9077,  0.0296],\n",
       "        [-0.9615, -0.4419,  2.4193, -0.3976, -0.6639,  2.8166, -0.6819,  0.2191,\n",
       "         -0.0337,  1.5510,  0.7961],\n",
       "        [-0.8296, -2.1406, -1.2744, -1.2556,  0.8849,  0.4220, -2.6180, -0.4671,\n",
       "         -1.6946, -0.2943,  1.9246]])"
      ]
     },
     "metadata": {},
     "output_type": "display_data"
    },
    {
     "data": {
      "text/plain": [
       "tensor([[-0.2533,  0.3981,  0.3350,  1.3298,  0.6017,  1.0888],\n",
       "        [-0.0178,  0.6162, -0.0455, -1.1989,  0.3436, -0.0675],\n",
       "        [ 0.3010, -0.8931, -0.9047,  0.9444, -0.5690,  0.0296],\n",
       "        [-0.9615,  2.4193, -0.6639, -0.6819, -0.0337,  0.7961],\n",
       "        [-0.8296, -1.2744,  0.8849, -2.6180, -1.6946,  1.9246]])"
      ]
     },
     "metadata": {},
     "output_type": "display_data"
    },
    {
     "data": {
      "text/plain": [
       "tensor([[-1.1309,  0.3567, -0.5709,  0.9635,  0.7755],\n",
       "        [-1.5589, -1.1520, -0.7064,  0.7995,  1.0281],\n",
       "        [-0.1664,  1.3884,  0.3073, -0.2480, -0.9077],\n",
       "        [-0.4419, -0.3976,  2.8166,  0.2191,  1.5510],\n",
       "        [-2.1406, -1.2556,  0.4220, -0.4671, -0.2943]])"
      ]
     },
     "metadata": {},
     "output_type": "display_data"
    }
   ],
   "source": [
    "import torch\n",
    "\n",
    "pe = torch.randn(5, 11)\n",
    "display(pe)\n",
    "display(pe[:, 0::2])\n",
    "display(pe[:, 1::2])"
   ]
  },
  {
   "cell_type": "code",
   "execution_count": 8,
   "metadata": {},
   "outputs": [
    {
     "data": {
      "text/plain": [
       "tensor([0., 1., 2., 3., 4.])"
      ]
     },
     "metadata": {},
     "output_type": "display_data"
    }
   ],
   "source": [
    "position = torch.arange(0, 5, dtype=torch.float)\n",
    "display(position)"
   ]
  },
  {
   "cell_type": "code",
   "execution_count": 9,
   "metadata": {},
   "outputs": [
    {
     "data": {
      "text/plain": [
       "tensor([[0.],\n",
       "        [1.],\n",
       "        [2.],\n",
       "        [3.],\n",
       "        [4.]])"
      ]
     },
     "metadata": {},
     "output_type": "display_data"
    }
   ],
   "source": [
    "display(position.unsqueeze(1))"
   ]
  },
  {
   "cell_type": "code",
   "execution_count": 18,
   "metadata": {},
   "outputs": [
    {
     "data": {
      "text/plain": [
       "tensor([0, 1, 2, 3, 4])"
      ]
     },
     "metadata": {},
     "output_type": "display_data"
    }
   ],
   "source": [
    "display(torch.arange(0, max_len))"
   ]
  },
  {
   "cell_type": "code",
   "execution_count": 22,
   "metadata": {},
   "outputs": [
    {
     "data": {
      "text/plain": [
       "tensor([ 0.,  2.,  4.,  6.,  8., 10.])"
      ]
     },
     "metadata": {},
     "output_type": "display_data"
    },
    {
     "data": {
      "text/plain": [
       "tensor([[0.],\n",
       "        [1.],\n",
       "        [2.],\n",
       "        [3.],\n",
       "        [4.]])"
      ]
     },
     "metadata": {},
     "output_type": "display_data"
    },
    {
     "data": {
      "text/plain": [
       "tensor([[0.],\n",
       "        [1.],\n",
       "        [2.],\n",
       "        [3.]])"
      ]
     },
     "metadata": {},
     "output_type": "display_data"
    },
    {
     "data": {
      "text/plain": [
       "tensor([1.0000e+00, 1.8738e-01, 3.5112e-02, 6.5793e-03, 1.2328e-03, 2.3101e-04])"
      ]
     },
     "metadata": {},
     "output_type": "display_data"
    },
    {
     "data": {
      "text/plain": [
       "tensor([1.0000, 0.1874, 0.0351, 0.0066, 0.0012])"
      ]
     },
     "metadata": {},
     "output_type": "display_data"
    },
    {
     "data": {
      "text/plain": [
       "tensor([[0.0000e+00, 0.0000e+00, 0.0000e+00, 0.0000e+00, 0.0000e+00, 0.0000e+00],\n",
       "        [1.0000e+00, 1.8738e-01, 3.5112e-02, 6.5793e-03, 1.2328e-03, 2.3101e-04],\n",
       "        [2.0000e+00, 3.7476e-01, 7.0224e-02, 1.3159e-02, 2.4657e-03, 4.6203e-04],\n",
       "        [3.0000e+00, 5.6215e-01, 1.0534e-01, 1.9738e-02, 3.6985e-03, 6.9304e-04],\n",
       "        [4.0000e+00, 7.4953e-01, 1.4045e-01, 2.6317e-02, 4.9314e-03, 9.2405e-04]])"
      ]
     },
     "metadata": {},
     "output_type": "display_data"
    },
    {
     "name": "stdout",
     "output_type": "stream",
     "text": [
      "even numbered input size\n"
     ]
    }
   ],
   "source": [
    "import math\n",
    "\n",
    "max_len = 5\n",
    "d_model = 11\n",
    "\n",
    "pe = torch.zeros(max_len, d_model)\n",
    "position = torch.arange(0, max_len, dtype=torch.float).unsqueeze(1)\n",
    "div_term = torch.exp(torch.arange(0, d_model, 2).float() * (-math.log(10000.0) / d_model))\n",
    "display(torch.arange(0, d_model,2).float())\n",
    "display(position)\n",
    "display(position[:-1])\n",
    "display(div_term)\n",
    "display(div_term[:-1])\n",
    "display(position*div_term)\n",
    "pe[:, 0::2] = torch.sin(position * div_term)\n",
    "if d_model % 2 != 0:\n",
    "    div_term = div_term[:-1]\n",
    "    print('even numbered input size')\n",
    "pe[:, 1::2] = torch.cos(position * div_term)\n",
    "pe = pe.unsqueeze(0).transpose(0, 1)\n",
    "# self.register_buffer('pe', pe)"
   ]
  },
  {
   "cell_type": "code",
   "execution_count": null,
   "metadata": {},
   "outputs": [],
   "source": []
  }
 ],
 "metadata": {
  "kernelspec": {
   "display_name": "Python 3",
   "language": "python",
   "name": "python3"
  },
  "language_info": {
   "codemirror_mode": {
    "name": "ipython",
    "version": 3
   },
   "file_extension": ".py",
   "mimetype": "text/x-python",
   "name": "python",
   "nbconvert_exporter": "python",
   "pygments_lexer": "ipython3",
   "version": "3.7.7"
  }
 },
 "nbformat": 4,
 "nbformat_minor": 4
}
