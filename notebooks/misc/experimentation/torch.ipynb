{
 "cells": [
  {
   "cell_type": "code",
   "execution_count": 10,
   "metadata": {},
   "outputs": [],
   "source": [
    "import torch \n",
    "\n",
    "x = torch.randn(1,3, 5)"
   ]
  },
  {
   "cell_type": "code",
   "execution_count": 11,
   "metadata": {},
   "outputs": [
    {
     "data": {
      "text/plain": [
       "tensor([[[ 1.0482, -0.1731,  1.1397, -0.7010,  0.5074],\n",
       "         [-0.1270,  0.5720,  0.8288, -0.9301,  0.8128],\n",
       "         [ 0.3304,  0.3476, -0.1529,  0.7788,  1.5008]]])"
      ]
     },
     "execution_count": 11,
     "metadata": {},
     "output_type": "execute_result"
    }
   ],
   "source": [
    "x"
   ]
  },
  {
   "cell_type": "code",
   "execution_count": 12,
   "metadata": {},
   "outputs": [
    {
     "data": {
      "text/plain": [
       "tensor([[[ 1.0482, -0.1731,  1.1397, -0.7010,  0.5074,  1.0482, -0.1731,\n",
       "           1.1397, -0.7010,  0.5074],\n",
       "         [-0.1270,  0.5720,  0.8288, -0.9301,  0.8128, -0.1270,  0.5720,\n",
       "           0.8288, -0.9301,  0.8128],\n",
       "         [ 0.3304,  0.3476, -0.1529,  0.7788,  1.5008,  0.3304,  0.3476,\n",
       "          -0.1529,  0.7788,  1.5008]]])"
      ]
     },
     "execution_count": 12,
     "metadata": {},
     "output_type": "execute_result"
    }
   ],
   "source": [
    "x = torch.cat((x,x), 2)\n",
    "x"
   ]
  },
  {
   "cell_type": "code",
   "execution_count": null,
   "metadata": {},
   "outputs": [],
   "source": []
  }
 ],
 "metadata": {
  "kernelspec": {
   "display_name": "Python 3",
   "language": "python",
   "name": "python3"
  },
  "language_info": {
   "codemirror_mode": {
    "name": "ipython",
    "version": 3
   },
   "file_extension": ".py",
   "mimetype": "text/x-python",
   "name": "python",
   "nbconvert_exporter": "python",
   "pygments_lexer": "ipython3",
   "version": "3.7.7"
  }
 },
 "nbformat": 4,
 "nbformat_minor": 4
}
