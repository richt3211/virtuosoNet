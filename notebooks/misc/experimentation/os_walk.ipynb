{
 "cells": [
  {
   "cell_type": "code",
   "execution_count": 6,
   "metadata": {},
   "outputs": [
    {
     "name": "stdout",
     "output_type": "stream",
     "text": [
      "./\n",
      "./artifacts\n",
      "./artifacts/test_dir\n",
      "./.ipynb_checkpoints\n"
     ]
    }
   ],
   "source": [
    "import os\n",
    "for dir, subdirs, files in os.walk('./'):\n",
    "#     print(subdirs)\n",
    "#     print(files)\n",
    "    print(dir)"
   ]
  },
  {
   "cell_type": "code",
   "execution_count": 11,
   "metadata": {},
   "outputs": [
    {
     "name": "stdout",
     "output_type": "stream",
     "text": [
      "0.1-LSTM.ipynb\n",
      "0.1-Env-Test.ipynb\n",
      "0.1-python-script.ipynb\n",
      "0.1-midi.ipynb\n",
      "os_walk.ipynb\n",
      "0.1-discord-bot.ipynb\n",
      "0.2-midi.ipynb\n",
      "artifacts\n",
      "artifacts\n",
      "0.1-Transformer.ipynb\n",
      "0,2-neptune.ipynb\n",
      "0.1-neptune.ipynb\n",
      "test_script.py\n",
      "test.mid\n",
      ".ipynb_checkpoints\n",
      ".ipynb_checkpoints\n"
     ]
    }
   ],
   "source": [
    "for x in os.listdir('./'):\n",
    "    print(x)\n",
    "    if os.path.isdir(x):\n",
    "        print(x)"
   ]
  },
  {
   "cell_type": "code",
   "execution_count": null,
   "metadata": {},
   "outputs": [],
   "source": []
  }
 ],
 "metadata": {
  "kernelspec": {
   "display_name": "Python 3",
   "language": "python",
   "name": "python3"
  },
  "language_info": {
   "codemirror_mode": {
    "name": "ipython",
    "version": 3
   },
   "file_extension": ".py",
   "mimetype": "text/x-python",
   "name": "python",
   "nbconvert_exporter": "python",
   "pygments_lexer": "ipython3",
   "version": "3.7.7"
  }
 },
 "nbformat": 4,
 "nbformat_minor": 4
}
