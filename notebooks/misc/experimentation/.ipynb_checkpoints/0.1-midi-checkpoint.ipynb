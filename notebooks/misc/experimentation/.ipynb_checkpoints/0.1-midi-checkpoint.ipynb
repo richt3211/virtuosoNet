{
 "cells": [
  {
   "cell_type": "code",
   "execution_count": 3,
   "metadata": {},
   "outputs": [],
   "source": [
    "from src.constants import PRODUCTION_DATA_DIR\n",
    "import pretty_midi"
   ]
  },
  {
   "cell_type": "code",
   "execution_count": 5,
   "metadata": {},
   "outputs": [],
   "source": [
    "midi_path = f'{PRODUCTION_DATA_DIR}/output/bwv_858_fugue/han_bl.mid'\n",
    "\n",
    "midi_data = pretty_midi.PrettyMIDI(midi_path)"
   ]
  },
  {
   "cell_type": "code",
   "execution_count": 6,
   "metadata": {},
   "outputs": [
    {
     "name": "stdout",
     "output_type": "stream",
     "text": [
      "229.11534154535315\n"
     ]
    }
   ],
   "source": [
    "print(midi_data.estimate_tempo())"
   ]
  },
  {
   "cell_type": "code",
   "execution_count": 7,
   "metadata": {},
   "outputs": [
    {
     "name": "stdout",
     "output_type": "stream",
     "text": [
      "Note(start=1.002273, end=1.072727, pitch=73, velocity=65)\n",
      "Note(start=1.284091, end=1.340909, pitch=78, velocity=60)\n",
      "Note(start=1.545455, end=1.600000, pitch=77, velocity=60)\n",
      "Note(start=1.806818, end=1.879545, pitch=78, velocity=62)\n",
      "Note(start=2.068182, end=2.156818, pitch=77, velocity=62)\n",
      "Note(start=2.195455, end=2.295455, pitch=75, velocity=68)\n",
      "Note(start=2.325000, end=2.406818, pitch=73, velocity=64)\n",
      "Note(start=2.734091, end=2.779545, pitch=71, velocity=61)\n",
      "Note(start=2.797727, end=2.840909, pitch=73, velocity=61)\n",
      "Note(start=2.868182, end=2.977273, pitch=75, velocity=70)\n",
      "Note(start=3.734091, end=3.779545, pitch=73, velocity=67)\n",
      "Note(start=4.020455, end=4.070455, pitch=71, velocity=63)\n",
      "Note(start=4.304545, end=4.352273, pitch=70, velocity=61)\n",
      "Note(start=4.584091, end=4.634091, pitch=68, velocity=62)\n",
      "Note(start=4.859091, end=4.906818, pitch=73, velocity=63)\n",
      "Note(start=5.134091, end=5.190909, pitch=70, velocity=60)\n",
      "Note(start=5.395455, end=5.443182, pitch=66, velocity=58)\n",
      "Note(start=5.525000, end=5.622727, pitch=78, velocity=65)\n",
      "Note(start=5.654545, end=5.704545, pitch=73, velocity=59)\n",
      "Note(start=5.654545, end=5.747727, pitch=77, velocity=64)\n"
     ]
    }
   ],
   "source": [
    "i = 0\n",
    "for instrument in midi_data.instruments:\n",
    "    for note in instrument.notes:\n",
    "        if i == 20:\n",
    "            break\n",
    "        print(note)\n",
    "        i +=1"
   ]
  },
  {
   "cell_type": "code",
   "execution_count": 8,
   "metadata": {},
   "outputs": [],
   "source": [
    "def print_first_twenty_notes(midi_path):\n",
    "    midi_data = pretty_midi.PrettyMIDI(midi_path)\n",
    "    i = 0\n",
    "    for instrument in midi_data.instruments:\n",
    "        for note in instrument.notes:\n",
    "            if i == 20:\n",
    "                break\n",
    "            print(note)\n",
    "            i +=1"
   ]
  },
  {
   "cell_type": "code",
   "execution_count": 9,
   "metadata": {},
   "outputs": [
    {
     "name": "stdout",
     "output_type": "stream",
     "text": [
      "Note(start=1.004545, end=1.134091, pitch=73, velocity=63)\n",
      "Note(start=1.268182, end=1.397727, pitch=78, velocity=63)\n",
      "Note(start=1.531818, end=1.661364, pitch=77, velocity=63)\n",
      "Note(start=1.793182, end=1.922727, pitch=78, velocity=63)\n",
      "Note(start=2.056818, end=2.120455, pitch=77, velocity=63)\n",
      "Note(start=2.188636, end=2.252273, pitch=75, velocity=63)\n",
      "Note(start=2.318182, end=2.515909, pitch=73, velocity=63)\n",
      "Note(start=2.713636, end=2.743182, pitch=71, velocity=63)\n",
      "Note(start=2.779545, end=2.809091, pitch=73, velocity=63)\n",
      "Note(start=2.845455, end=3.106818, pitch=75, velocity=63)\n",
      "Note(start=3.634091, end=3.763636, pitch=73, velocity=63)\n",
      "Note(start=3.895455, end=4.025000, pitch=71, velocity=63)\n",
      "Note(start=4.159091, end=4.288636, pitch=70, velocity=63)\n",
      "Note(start=4.422727, end=4.552273, pitch=68, velocity=63)\n",
      "Note(start=4.684091, end=4.813636, pitch=73, velocity=63)\n",
      "Note(start=4.947727, end=5.077273, pitch=70, velocity=63)\n",
      "Note(start=5.209091, end=5.340909, pitch=66, velocity=63)\n",
      "Note(start=5.340909, end=5.404545, pitch=78, velocity=63)\n",
      "Note(start=5.472727, end=5.536364, pitch=77, velocity=63)\n",
      "Note(start=5.472727, end=5.602273, pitch=73, velocity=63)\n"
     ]
    }
   ],
   "source": [
    "midi_path = f'{PRODUCTION_DATA_DIR}/output/bwv_858_fugue/te_bl.mid'\n",
    "print_first_twenty_notes(midi_path)"
   ]
  },
  {
   "cell_type": "code",
   "execution_count": null,
   "metadata": {},
   "outputs": [],
   "source": []
  }
 ],
 "metadata": {
  "kernelspec": {
   "display_name": "Python 3",
   "language": "python",
   "name": "python3"
  },
  "language_info": {
   "codemirror_mode": {
    "name": "ipython",
    "version": 3
   },
   "file_extension": ".py",
   "mimetype": "text/x-python",
   "name": "python",
   "nbconvert_exporter": "python",
   "pygments_lexer": "ipython3",
   "version": "3.7.7"
  }
 },
 "nbformat": 4,
 "nbformat_minor": 4
}
