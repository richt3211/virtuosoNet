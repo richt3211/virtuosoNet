{
 "cells": [
  {
   "cell_type": "code",
   "execution_count": 70,
   "metadata": {},
   "outputs": [
    {
     "name": "stdout",
     "output_type": "stream",
     "text": [
      "The autoreload extension is already loaded. To reload it, use:\n",
      "  %reload_ext autoreload\n"
     ]
    }
   ],
   "source": [
    "%load_ext autoreload\n",
    "%autoreload 2"
   ]
  },
  {
   "cell_type": "code",
   "execution_count": 71,
   "metadata": {},
   "outputs": [],
   "source": [
    "nep_ids = [\n",
    "    123,\n",
    "    147,\n",
    "    169,\n",
    "    128,\n",
    "    133,\n",
    "    118,\n",
    "    181,\n",
    "    132,\n",
    "    171,\n",
    "    173,\n",
    "    188,\n",
    "    134,\n",
    "    190,\n",
    "    135,\n",
    "    125\n",
    "]"
   ]
  },
  {
   "cell_type": "markdown",
   "metadata": {},
   "source": [
    "Get metrics for all ids. Need a dict with the id as key that holds all relevant values "
   ]
  },
  {
   "cell_type": "code",
   "execution_count": 72,
   "metadata": {},
   "outputs": [
    {
     "data": {
      "text/plain": [
       "{123: None,\n",
       " 147: None,\n",
       " 169: None,\n",
       " 128: None,\n",
       " 133: None,\n",
       " 118: None,\n",
       " 181: None,\n",
       " 132: None,\n",
       " 171: None,\n",
       " 173: None,\n",
       " 188: None,\n",
       " 134: None,\n",
       " 190: None,\n",
       " 135: None,\n",
       " 125: None}"
      ]
     },
     "execution_count": 72,
     "metadata": {},
     "output_type": "execute_result"
    }
   ],
   "source": [
    "exp_values = {id:None for id in nep_ids}\n",
    "exp_values"
   ]
  },
  {
   "cell_type": "code",
   "execution_count": 73,
   "metadata": {},
   "outputs": [],
   "source": [
    "from src.neptune import get_experiment_by_id"
   ]
  },
  {
   "cell_type": "code",
   "execution_count": 74,
   "metadata": {},
   "outputs": [
    {
     "name": "stderr",
     "output_type": "stream",
     "text": [
      "WARNING: There is a new version of neptune-client 0.4.130 (installed: 0.4.126).\n",
      "WARNING: There is a new version of neptune-client 0.4.130 (installed: 0.4.126).\n",
      "WARNING: There is a new version of neptune-client 0.4.130 (installed: 0.4.126).\n",
      "WARNING: There is a new version of neptune-client 0.4.130 (installed: 0.4.126).\n",
      "WARNING: There is a new version of neptune-client 0.4.130 (installed: 0.4.126).\n",
      "WARNING: There is a new version of neptune-client 0.4.130 (installed: 0.4.126).\n",
      "WARNING: There is a new version of neptune-client 0.4.130 (installed: 0.4.126).\n",
      "WARNING: There is a new version of neptune-client 0.4.130 (installed: 0.4.126).\n",
      "WARNING: There is a new version of neptune-client 0.4.130 (installed: 0.4.126).\n",
      "WARNING: There is a new version of neptune-client 0.4.130 (installed: 0.4.126).\n",
      "WARNING: There is a new version of neptune-client 0.4.130 (installed: 0.4.126).\n",
      "WARNING: There is a new version of neptune-client 0.4.130 (installed: 0.4.126).\n",
      "WARNING: There is a new version of neptune-client 0.4.130 (installed: 0.4.126).\n",
      "WARNING: There is a new version of neptune-client 0.4.130 (installed: 0.4.126).\n",
      "WARNING: There is a new version of neptune-client 0.4.130 (installed: 0.4.126).\n"
     ]
    }
   ],
   "source": [
    "keywords = ['total', 'tempo', 'vel', 'dev', 'articul', 'pedal']\n",
    "keys = [f'test {word} loss' for word in keywords]\n",
    "for id in exp_values:\n",
    "    exp = get_experiment_by_id(f'THESIS-{id}')\n",
    "    values = exp.get_numeric_channels_values(*keys)\n",
    "    exp_values[id] = values\n",
    "    if len(values) > 1:\n",
    "        print('Whoops. There is a problem with the experiment evaluation metrics. It has more than one value')\n"
   ]
  },
  {
   "cell_type": "markdown",
   "metadata": {},
   "source": [
    "# My Models"
   ]
  },
  {
   "cell_type": "code",
   "execution_count": 75,
   "metadata": {},
   "outputs": [
    {
     "name": "stdout",
     "output_type": "stream",
     "text": [
      "                  %total              %tempo              %vel              %dev              %articul              %pedal        \n",
      "\\readlist*\\a{1.079915467915403, 0.8387099791654173, 1.3530433499396628, 1.017870266429722, 1.1067559519102133, 1.080384319222477} % 123 \n",
      "\\readlist*\\b{0.8634560842141723, 0.5412064723018719, 0.8022146236503704, 0.8804639799541721, 0.8022366483458304, 0.9245564142364828} % 147 \n",
      "\\readlist*\\c{0.8714990162701071, 0.5505609703737273, 0.7881732323421042, 0.9611995326543272, 0.8751485813981792, 0.9159152227103448} % 169 \n",
      "\\readlist*\\d{0.8608967689267041, 0.5025553895868159, 0.7638317284792879, 0.878050578836977, 0.8178488211257614, 0.929653946913942} % 128 \n",
      "\\readlist*\\e{0.8269241870319757, 0.4671040222800673, 0.7613456284477763, 0.8818908914978052, 0.8233950348666115, 0.8803471737534461} % 133 \n",
      "\\readlist*\\f{0.892434075736163, 0.6518531192930515, 0.8248660148758638, 0.8837178772102976, 0.822714017388242, 0.9476605038763138} % 118 \n",
      "\\readlist*\\g{0.931571010408277, 0.6190825817829081, 0.96866907527554, 0.8923720742977281, 1.0889969662761827, 0.9540228699651616} % 181 \n",
      "\\readlist*\\h{0.8398954164095592, 0.5103522019637757, 0.7708808816209132, 0.9533001596417616, 0.8093733305095236, 0.8849918198915682} % 132 \n",
      "\\readlist*\\i{0.9055077961121484, 0.7380731321188851, 0.8207453556958286, 0.9515869074832948, 0.8602034320048559, 0.9414252330302848} % 171 \n",
      "\\readlist*\\j{1.005084838962903, 0.8624353822994071, 1.0529326007749042, 0.8987197173990472, 1.1763732810960201, 1.0093531322087683} % 173 \n",
      "\\readlist*\\k{0.8352959967855129, 0.6160173766780894, 0.7846170962729531, 0.8910593114013335, 0.7908931125724473, 0.8722384046125028} % 188 \n",
      "\\readlist*\\l{0.8463679141699834, 0.5445592460407571, 0.7492400507566016, 0.899280836268869, 0.8597047927381344, 0.8938945523819722} % 134 \n",
      "\\readlist*\\m{0.8707426997177073, 0.4897337480780074, 0.7796597156133693, 0.8877784585332059, 0.8655195282458561, 0.9364968512758156} % 190 \n",
      "\\readlist*\\n{0.8436574470387758, 0.4748660706616556, 0.8106850048921405, 0.8946506051604983, 0.8585572391965963, 0.8916389604554559} % 135 \n",
      "\\readlist*\\o{0.9331073568122104, 0.6931559999619044, 0.9870281539322866, 0.9139575008493828, 1.1235607440091158, 0.9352111728264682} % 125 \n",
      "\n"
     ]
    }
   ],
   "source": [
    "import string\n",
    "\n",
    "alphabet = list(string.ascii_lowercase)\n",
    "latex_str = '\\readlist*\\a'\n",
    "latex_str = '            '\n",
    "\n",
    "for key in keywords:\n",
    "    latex_str += f'      %{key}        '\n",
    "latex_str += '\\n'\n",
    "list_name_idx = 0\n",
    "for id in exp_values:\n",
    "    values = exp_values[id]\n",
    "    values_str = ''\n",
    "    for key in keys:\n",
    "        values_str += f'{values[key][0]}, '\n",
    "    # get rid of comma and space at end\n",
    "    values_str = values_str[:-2]\n",
    "#     print(values_str)\n",
    "    latex_str=latex_str + f'\\\\readlist*\\\\{alphabet[list_name_idx]}{{{values_str}}} % {id} \\n'\n",
    "    list_name_idx +=1\n",
    "print(latex_str)"
   ]
  },
  {
   "cell_type": "markdown",
   "metadata": {},
   "source": [
    "# virtuosoNet Models"
   ]
  },
  {
   "cell_type": "code",
   "execution_count": 61,
   "metadata": {},
   "outputs": [],
   "source": [
    "v_net_values = {\n",
    "    'hanbl': {\n",
    "        'tempo': 0.400,\n",
    "        'vel': 0.673,\n",
    "        'dev': 0.773,\n",
    "        'artc': 0.721,\n",
    "        'pedal': 0.843\n",
    "    },\n",
    "    'hans': {\n",
    "        'tempo': 0.269,\n",
    "        'vel': 0.607,\n",
    "        'dev': 0.753,\n",
    "        'artc': 0.688,\n",
    "        'pedal': 0.820\n",
    "    },\n",
    "    'hanm': {\n",
    "        'tempo': 0.220,\n",
    "        'vel': 0.532,\n",
    "        'dev': 0.747,\n",
    "        'artc': 0.754,\n",
    "        'pedal': 0.810\n",
    "    }\n",
    "}"
   ]
  },
  {
   "cell_type": "code",
   "execution_count": 62,
   "metadata": {},
   "outputs": [
    {
     "data": {
      "text/plain": [
       "{'hanbl': {'tempo': 0.4,\n",
       "  'vel': 0.673,\n",
       "  'dev': 0.773,\n",
       "  'artc': 0.721,\n",
       "  'pedal': 0.843,\n",
       "  'total': 0.7698181818181818},\n",
       " 'hans': {'tempo': 0.269,\n",
       "  'vel': 0.607,\n",
       "  'dev': 0.753,\n",
       "  'artc': 0.688,\n",
       "  'pedal': 0.82,\n",
       "  'total': 0.7324545454545454},\n",
       " 'hanm': {'tempo': 0.22,\n",
       "  'vel': 0.532,\n",
       "  'dev': 0.747,\n",
       "  'artc': 0.754,\n",
       "  'pedal': 0.81,\n",
       "  'total': 0.7202727272727273}}"
      ]
     },
     "execution_count": 62,
     "metadata": {},
     "output_type": "execute_result"
    }
   ],
   "source": [
    "for model, values in v_net_values.items():\n",
    "#     (tempo_loss + vel_loss + dev_loss + articul_loss + pedal_loss * 7) / 11\n",
    "    total = (values['tempo'] + values['vel'] + values['dev'] + values['artc'] + values['pedal'] * 7) / 11\n",
    "    values['total'] = total\n",
    "\n",
    "v_net_values"
   ]
  },
  {
   "cell_type": "code",
   "execution_count": 63,
   "metadata": {},
   "outputs": [
    {
     "name": "stdout",
     "output_type": "stream",
     "text": [
      "                        % total      %temp, %vel, %dev, %art, %pedal  \n",
      "\\readlist*\\hanbl{0.7698181818181818, 0.4, 0.673, 0.773, 0.721, 0.843} \n",
      "\\readlist*\\hans{0.7324545454545454, 0.269, 0.607, 0.753, 0.688, 0.82} \n",
      "\\readlist*\\hanm{0.7202727272727273, 0.22, 0.532, 0.747, 0.754, 0.81} \n",
      "\n"
     ]
    }
   ],
   "source": [
    "# latex_str = '\\readlist*\\han-bl'\n",
    "latex_str = '                 '\n",
    "latex_str += '       % total      %temp, %vel, %dev, %art, %pedal  \\n'\n",
    "for model, values in v_net_values.items():\n",
    "    values_str = ''\n",
    "#     for expr, value in values:\n",
    "    values_str = f\"{values['total']}, {values['tempo']}, {values['vel']}, {values['dev']}, {values['artc']}, {values['pedal']}\"\n",
    "    latex_str += f'\\\\readlist*\\\\{model}{{{values_str}}} \\n'\n",
    "print(latex_str)"
   ]
  },
  {
   "cell_type": "code",
   "execution_count": null,
   "metadata": {},
   "outputs": [],
   "source": []
  }
 ],
 "metadata": {
  "kernelspec": {
   "display_name": "Python 3",
   "language": "python",
   "name": "python3"
  },
  "language_info": {
   "codemirror_mode": {
    "name": "ipython",
    "version": 3
   },
   "file_extension": ".py",
   "mimetype": "text/x-python",
   "name": "python",
   "nbconvert_exporter": "python",
   "pygments_lexer": "ipython3",
   "version": "3.7.7"
  }
 },
 "nbformat": 4,
 "nbformat_minor": 4
}
