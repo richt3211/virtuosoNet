{
 "cells": [
  {
   "cell_type": "code",
   "execution_count": 35,
   "metadata": {},
   "outputs": [],
   "source": [
    "from src.models.model_run_job import ModelJobParams"
   ]
  },
  {
   "cell_type": "code",
   "execution_count": 36,
   "metadata": {},
   "outputs": [],
   "source": [
    "params = ModelJobParams()"
   ]
  },
  {
   "cell_type": "code",
   "execution_count": 49,
   "metadata": {},
   "outputs": [
    {
     "name": "stderr",
     "output_type": "stream",
     "text": [
      "WARNING: There is a new version of neptune-client 0.4.130 (installed: 0.4.126).\n"
     ]
    }
   ],
   "source": [
    "exp = get_experiment_by_id('THESIS-179')\n",
    "params = exp.get_parameters()"
   ]
  },
  {
   "cell_type": "code",
   "execution_count": 55,
   "metadata": {},
   "outputs": [],
   "source": [
    "from neptune.experiments import Experiment\n",
    "def read_training_params(filepath, exp:Experiment) -> ModelJobParams:\n",
    "    def set_value_in_params(jp:ModelJobParams, dp:dict, field_name:str, cast_fn):\n",
    "        if field_name in dp and field_name in asdict(jp):\n",
    "            jp.__setattr__(field_name, cast_fn(dp[field_name]))\n",
    "\n",
    "    # if the experiment artifacts do not contain the training params, pull them down from neptune and manually reconstruct them\n",
    "#     if not os.path.exists(filepath):\n",
    "    dict_params = exp.get_parameters()\n",
    "    job_params = ModelJobParams()\n",
    "    # go through each field one by one. Easier than trying to do it dynamically \n",
    "    set_value_in_params(job_params, dict_params, 'device_num', int)\n",
    "    set_value_in_params(job_params, dict_params, 'qpm_index', int)\n",
    "    set_value_in_params(job_params, dict_params, 'vel_param_idx', int)\n",
    "    set_value_in_params(job_params, dict_params, 'dev_param_idx', int)\n",
    "    set_value_in_params(job_params, dict_params, 'articul_param_idx', int)\n",
    "    set_value_in_params(job_params, dict_params, 'pedal_param_idx', int)\n",
    "    \n",
    "    \n",
    "    set_value_in_params(job_params, dict_params, 'num_key_augmentation', int)\n",
    "    set_value_in_params(job_params, dict_params, 'batch_size', int)\n",
    "    set_value_in_params(job_params, dict_params, 'epochs', int)\n",
    "    \n",
    "    set_value_in_params(job_params, dict_params, 'num_tempo_param', int)\n",
    "    set_value_in_params(job_params, dict_params, 'num_prime_param', int)\n",
    "    \n",
    "    set_value_in_params(job_params, dict_params, 'criterion', str)\n",
    "    set_value_in_params(job_params, dict_params, 'tempo_loss', bool)\n",
    "    \n",
    "    set_value_in_params(job_params, dict_params, 'time_steps', int)\n",
    "    set_value_in_params(job_params, dict_params, 'is_dev', bool)\n",
    "    \n",
    "    if 'articul_mask' in dict_params and 'articul_mask' in asdict(job_params):\n",
    "        job_params.articul_mask = dict_params['articul_mask']\n",
    "    else:\n",
    "        job_params.articul_mask = 'pedal'\n",
    "    \n",
    "    if 'tempo_weight' not in dict_params:\n",
    "        job_params.tempo_weight = 1\n",
    "        job_params.vel_weight = 1\n",
    "        job_params.dev_weight = 1\n",
    "        job_params.articul_weight = 1\n",
    "        job_params.pedal_weight = 7\n",
    "    else:\n",
    "        set_value_in_params(job_params, dict_params, 'tempo_weight', float)\n",
    "        set_value_in_params(job_params, dict_params, 'vel_weight', float)\n",
    "        set_value_in_params(job_params, dict_params, 'dev_weight', float)\n",
    "        set_value_in_params(job_params, dict_params, 'articul_weight', float)\n",
    "        set_value_in_params(job_params, dict_params, 'pedal_weight', float)\n",
    "        \n",
    "    return job_params"
   ]
  },
  {
   "cell_type": "code",
   "execution_count": 56,
   "metadata": {},
   "outputs": [
    {
     "data": {
      "text/plain": [
       "{'input_size': 78,\n",
       " 'output_size': 11,\n",
       " 'device_num': 1,\n",
       " 'time_steps': 500,\n",
       " 'is_dev': True,\n",
       " 'device': device(type='cuda', index=1),\n",
       " 'qpm_index': 0,\n",
       " 'vel_param_idx': 1,\n",
       " 'dev_param_idx': 2,\n",
       " 'articul_param_idx': 3,\n",
       " 'pedal_param_idx': 4,\n",
       " 'num_key_augmentation': 1,\n",
       " 'batch_size': 1,\n",
       " 'epochs': 50,\n",
       " 'num_tempo_param': 1,\n",
       " 'num_prime_param': 11,\n",
       " 'criterion': 'torch',\n",
       " 'tempo_loss': True,\n",
       " 'articul_mask': 'pedal',\n",
       " 'tempo_weight': 1.0,\n",
       " 'vel_weight': 1.0,\n",
       " 'dev_weight': 1.0,\n",
       " 'articul_weight': 1.0,\n",
       " 'pedal_weight': 7.0}"
      ]
     },
     "execution_count": 56,
     "metadata": {},
     "output_type": "execute_result"
    }
   ],
   "source": [
    "params = read_training_params('', exp)\n",
    "asdict(params)"
   ]
  },
  {
   "cell_type": "code",
   "execution_count": 57,
   "metadata": {},
   "outputs": [
    {
     "data": {
      "text/plain": [
       "{'input_size': 78.0,\n",
       " 'output_size': 11.0,\n",
       " 'device_num': 1.0,\n",
       " 'time_steps': 500.0,\n",
       " 'is_dev': 'True',\n",
       " 'device': 'cuda:1',\n",
       " 'num_head': 6.0,\n",
       " 'hidden_size': 128.0,\n",
       " 'num_layers': 6.0,\n",
       " 'dropout': 0.1,\n",
       " 'qpm_index': 0.0,\n",
       " 'vel_param_idx': 1.0,\n",
       " 'dev_param_idx': 2.0,\n",
       " 'articul_param_idx': 3.0,\n",
       " 'pedal_param_idx': 4.0,\n",
       " 'num_key_augmentation': 1.0,\n",
       " 'batch_size': 1.0,\n",
       " 'epochs': 50.0,\n",
       " 'num_tempo_param': 1.0,\n",
       " 'num_prime_param': 11.0,\n",
       " 'criterion': 'torch',\n",
       " 'tempo_loss': 'True',\n",
       " 'articul_mask': 'pedal',\n",
       " 'tempo_weight': 1.0,\n",
       " 'vel_weight': 1.0,\n",
       " 'dev_weight': 1.0,\n",
       " 'articul_weight': 1.0,\n",
       " 'pedal_weight': 7.0,\n",
       " 'learning_rate': 3e-05,\n",
       " 'grad_clip': 0.5,\n",
       " 'model_name': 'TRANSFORMER ENCODER ONLY'}"
      ]
     },
     "execution_count": 57,
     "metadata": {},
     "output_type": "execute_result"
    }
   ],
   "source": [
    "exp.get_parameters()"
   ]
  },
  {
   "cell_type": "code",
   "execution_count": 58,
   "metadata": {},
   "outputs": [
    {
     "data": {
      "text/plain": [
       "{'input_size': 78,\n",
       " 'output_size': 11,\n",
       " 'device_num': 1,\n",
       " 'time_steps': 500,\n",
       " 'is_dev': False,\n",
       " 'device': device(type='cuda', index=1),\n",
       " 'qpm_index': 0,\n",
       " 'vel_param_idx': 1,\n",
       " 'dev_param_idx': 2,\n",
       " 'articul_param_idx': 3,\n",
       " 'pedal_param_idx': 4,\n",
       " 'num_key_augmentation': 1,\n",
       " 'batch_size': 1,\n",
       " 'epochs': 50,\n",
       " 'num_tempo_param': 1,\n",
       " 'num_prime_param': 11,\n",
       " 'criterion': 'torch',\n",
       " 'tempo_loss': True,\n",
       " 'articul_mask': 'aligned',\n",
       " 'tempo_weight': 0.2,\n",
       " 'vel_weight': 0.2,\n",
       " 'dev_weight': 0.2,\n",
       " 'articul_weight': 0.2,\n",
       " 'pedal_weight': 0.2}"
      ]
     },
     "execution_count": 58,
     "metadata": {},
     "output_type": "execute_result"
    }
   ],
   "source": [
    "asdict(ModelJobParams())"
   ]
  },
  {
   "cell_type": "raw",
   "metadata": {},
   "source": [
    "@dataclass\n",
    "class ModelJobParams(Params):\n",
    "    qpm_index:int = 0\n",
    "    vel_param_idx:int = 1\n",
    "    dev_param_idx:int = 2\n",
    "    articul_param_idx:int = 3\n",
    "    pedal_param_idx:int = 4\n",
    "\n",
    "    num_key_augmentation:int = 1\n",
    "    batch_size:int = 1\n",
    "    epochs:int = 50\n",
    "\n",
    "    num_tempo_param:int = 1\n",
    "    num_prime_param:int = 11\n",
    "\n",
    "    criterion:str = 'torch'\n",
    "    tempo_loss:bool = True\n",
    "\n",
    "    articul_mask:str = 'aligned'\n",
    "\n",
    "    tempo_weight:float = 0.2\n",
    "    vel_weight:float = 0.2\n",
    "    dev_weight:float = 0.2\n",
    "    articul_weight:float = 0.2\n",
    "    pedal_weight:float = 0.2"
   ]
  }
 ],
 "metadata": {
  "kernelspec": {
   "display_name": "Python 3",
   "language": "python",
   "name": "python3"
  },
  "language_info": {
   "codemirror_mode": {
    "name": "ipython",
    "version": 3
   },
   "file_extension": ".py",
   "mimetype": "text/x-python",
   "name": "python",
   "nbconvert_exporter": "python",
   "pygments_lexer": "ipython3",
   "version": "3.7.7"
  }
 },
 "nbformat": 4,
 "nbformat_minor": 4
}
