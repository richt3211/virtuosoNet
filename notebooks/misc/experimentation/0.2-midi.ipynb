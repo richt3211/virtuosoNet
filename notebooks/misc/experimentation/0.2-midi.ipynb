{
 "cells": [
  {
   "cell_type": "markdown",
   "metadata": {},
   "source": [
    "Need to generate a performance from the legacy system and see if it can be played in garage band and fl studio\n",
    "\n",
    "Performance generation isn't creating a valid midi files, so I'll need to experiment with the pretty midi package to see what's missing"
   ]
  },
  {
   "cell_type": "code",
   "execution_count": 2,
   "metadata": {},
   "outputs": [],
   "source": [
    "import pretty_midi"
   ]
  },
  {
   "cell_type": "code",
   "execution_count": 5,
   "metadata": {},
   "outputs": [],
   "source": [
    "import pretty_midi\n",
    "# Create a PrettyMIDI object\n",
    "c_chord = pretty_midi.PrettyMIDI()\n",
    "# Create an Instrument instance for a cello instrument\n",
    "program = pretty_midi.instrument_name_to_program('Acoustic Grand Piano')\n",
    "piano = pretty_midi.Instrument(program=program)\n",
    "# Iterate over note names, which will be converted to note number later\n",
    "for note_name in ['C5', 'E5', 'G5']:\n",
    "    # Retrieve the MIDI note number for this note name\n",
    "    note_number = pretty_midi.note_name_to_number(note_name)\n",
    "    # Create a Note instance, starting at 0s and ending at .5s\n",
    "    note = pretty_midi.Note(\n",
    "        velocity=100, pitch=note_number, start=0, end=.5)\n",
    "    # Add it to our cello instrument\n",
    "    piano.notes.append(note)\n",
    "# Add the cello instrument to the PrettyMIDI object\n",
    "c_chord.instruments.append(piano)\n",
    "# Write out the MIDI data\n",
    "c_chord.write('test.mid')"
   ]
  },
  {
   "cell_type": "code",
   "execution_count": 7,
   "metadata": {},
   "outputs": [],
   "source": [
    "midi_notes = [\n",
    "    pretty_midi.Note(velocity=69, pitch=73, start=0.99, end=1.22),\n",
    "    pretty_midi.Note(velocity=69, pitch=78, start=1.38, end=1.66),\n",
    "    pretty_midi.Note(velocity=70, pitch=77, start=1.78, end=2.00),\n",
    "    pretty_midi.Note(velocity=72, pitch=78, start=2.18, end=2.47),\n",
    "    pretty_midi.Note(velocity=69, pitch=77, start=2.59, end=2.73),\n",
    "]\n",
    "\n",
    "midi_pedals = [\n",
    "    pretty_midi.ControlChange(number=64, time=0.96, value=21),\n",
    "    pretty_midi.ControlChange(number=64, time=1.19, value=22),\n",
    "    pretty_midi.ControlChange(number=64, time=1.35, value=18),\n",
    "    pretty_midi.ControlChange(number=64, time=1.63, value=22),\n",
    "    pretty_midi.ControlChange(number=64, time=1.75, value=17),\n",
    "    pretty_midi.ControlChange(number=64, time=1.97, value=17),\n",
    "    pretty_midi.ControlChange(number=64, time=2.15, value=13),\n",
    "    pretty_midi.ControlChange(number=64, time=2.44, value=20),\n",
    "    pretty_midi.ControlChange(number=64, time=2.56, value=21),\n",
    "]"
   ]
  },
  {
   "cell_type": "code",
   "execution_count": 8,
   "metadata": {},
   "outputs": [],
   "source": [
    "piano_midi = pretty_midi.PrettyMIDI()\n",
    "piano_program = pretty_midi.instrument_name_to_program('Acoustic Grand Piano')\n",
    "\n",
    "piano = pretty_midi.Instrument(program=piano_program)\n",
    "for note in midi_notes:\n",
    "    piano.notes.append(note)\n",
    "\n",
    "piano_midi.instruments.append(piano)\n",
    "last_note_end = midi_notes[-1].end\n",
    "\n",
    "# end pedal 3 seconds after the last note\n",
    "last_pedal = pretty_midi.ControlChange(number=64, value=0, time=last_note_end + 3)\n",
    "midi_pedals.append(last_pedal)\n",
    "\n",
    "piano_midi.instruments[0].control_changes = midi_pedals"
   ]
  },
  {
   "cell_type": "code",
   "execution_count": 9,
   "metadata": {},
   "outputs": [],
   "source": [
    "piano_midi.write('test.mid')"
   ]
  },
  {
   "cell_type": "markdown",
   "metadata": {},
   "source": [
    "Investigation after writing file"
   ]
  },
  {
   "cell_type": "code",
   "execution_count": 11,
   "metadata": {},
   "outputs": [],
   "source": [
    "midi_path = f'test.mid'\n",
    "\n",
    "midi_data = pretty_midi.PrettyMIDI(midi_path)"
   ]
  },
  {
   "cell_type": "code",
   "execution_count": 12,
   "metadata": {},
   "outputs": [
    {
     "name": "stdout",
     "output_type": "stream",
     "text": [
      "Note(start=0.990909, end=1.220455, pitch=73, velocity=69)\n",
      "Note(start=1.379545, end=1.659091, pitch=78, velocity=69)\n",
      "Note(start=1.779545, end=2.000000, pitch=77, velocity=70)\n",
      "Note(start=2.179545, end=2.470455, pitch=78, velocity=72)\n",
      "Note(start=2.590909, end=2.729545, pitch=77, velocity=69)\n"
     ]
    }
   ],
   "source": [
    "i = 0\n",
    "for instrument in midi_data.instruments:\n",
    "    for note in instrument.notes:\n",
    "        if i == 20:\n",
    "            break\n",
    "        print(note)\n",
    "        i +=1"
   ]
  },
  {
   "cell_type": "code",
   "execution_count": null,
   "metadata": {},
   "outputs": [],
   "source": []
  }
 ],
 "metadata": {
  "kernelspec": {
   "display_name": "Python 3",
   "language": "python",
   "name": "python3"
  },
  "language_info": {
   "codemirror_mode": {
    "name": "ipython",
    "version": 3
   },
   "file_extension": ".py",
   "mimetype": "text/x-python",
   "name": "python",
   "nbconvert_exporter": "python",
   "pygments_lexer": "ipython3",
   "version": "3.7.7"
  }
 },
 "nbformat": 4,
 "nbformat_minor": 4
}
