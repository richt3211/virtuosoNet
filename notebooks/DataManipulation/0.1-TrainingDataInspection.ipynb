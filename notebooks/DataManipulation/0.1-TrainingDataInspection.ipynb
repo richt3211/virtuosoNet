{
 "metadata": {
  "language_info": {
   "codemirror_mode": {
    "name": "ipython",
    "version": 3
   },
   "file_extension": ".py",
   "mimetype": "text/x-python",
   "name": "python",
   "nbconvert_exporter": "python",
   "pygments_lexer": "ipython3",
   "version": "3.6.11-final"
  },
  "orig_nbformat": 2,
  "kernelspec": {
   "name": "python_defaultSpec_1597340166090",
   "display_name": "Python 3.6.11 64-bit"
  }
 },
 "nbformat": 4,
 "nbformat_minor": 2,
 "cells": [
  {
   "cell_type": "code",
   "execution_count": 5,
   "metadata": {},
   "outputs": [],
   "source": [
    "import sys \n",
    "sys.path.append('../../')"
   ]
  },
  {
   "cell_type": "code",
   "execution_count": 6,
   "metadata": {},
   "outputs": [],
   "source": [
    "import pickle"
   ]
  },
  {
   "cell_type": "code",
   "execution_count": 9,
   "metadata": {
    "tags": []
   },
   "outputs": [
    {
     "output_type": "stream",
     "name": "stdout",
     "text": "Loading the training data...\nFinished loading traing data\n"
    }
   ],
   "source": [
    "    print('Loading the training data...')\n",
    "    training_data_name =  \"../../training_data.dat\"\n",
    "    if not os.path.isfile(training_data_name):\n",
    "        training_data_name = '/mnt/ssd1/jdasam_data/' + training_data_name\n",
    "    with open(training_data_name, \"rb\") as f:\n",
    "        u = pickle._Unpickler(f)\n",
    "        u.encoding = 'latin1'\n",
    "        # p = u.load()\n",
    "        # complete_xy = pickle.load(f)\n",
    "        complete_xy = u.load()\n",
    "    print('Finished loading traing data')"
   ]
  },
  {
   "cell_type": "code",
   "execution_count": 10,
   "metadata": {},
   "outputs": [
    {
     "output_type": "display_data",
     "data": {
      "text/plain": "dict_keys(['train', 'valid'])"
     },
     "metadata": {}
    }
   ],
   "source": [
    "display(complete_xy.keys())"
   ]
  },
  {
   "cell_type": "code",
   "execution_count": 11,
   "metadata": {},
   "outputs": [
    {
     "output_type": "display_data",
     "data": {
      "text/plain": "list"
     },
     "metadata": {}
    }
   ],
   "source": [
    "display(type(complete_xy['train']))"
   ]
  },
  {
   "cell_type": "code",
   "execution_count": null,
   "metadata": {},
   "outputs": [],
   "source": []
  }
 ]
}