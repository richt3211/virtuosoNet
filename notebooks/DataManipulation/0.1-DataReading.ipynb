{
 "metadata": {
  "language_info": {
   "codemirror_mode": {
    "name": "ipython",
    "version": 3
   },
   "file_extension": ".py",
   "mimetype": "text/x-python",
   "name": "python",
   "nbconvert_exporter": "python",
   "pygments_lexer": "ipython3",
   "version": "3.6.11-final"
  },
  "orig_nbformat": 2,
  "kernelspec": {
   "name": "python_defaultSpec_1598045098590",
   "display_name": "Python 3.6.11 64-bit (conda)"
  }
 },
 "nbformat": 4,
 "nbformat_minor": 2,
 "cells": [
  {
   "cell_type": "code",
   "execution_count": 4,
   "metadata": {
    "tags": []
   },
   "outputs": [
    {
     "output_type": "stream",
     "name": "stdout",
     "text": "Data type is regression:  True\nThe autoreload extension is already loaded. To reload it, use:\n  %reload_ext autoreload\n"
    }
   ],
   "source": [
    "from pyScoreParser.data_generation import load_entire_subfolder, load_limited_subfolder\n",
    "from pyScoreParser.data_generation import get_train_val_test_lists\n",
    "%load_ext autoreload\n",
    "%autoreload 2\n",
    "\n"
   ]
  },
  {
   "cell_type": "code",
   "execution_count": 30,
   "metadata": {
    "tags": []
   },
   "outputs": [
    {
     "output_type": "stream",
     "name": "stdout",
     "text": "../../../chopin_cleaned/Mozart/Piano_Sonatas/8-1/\nNumber of non matched pairs: 0\nperformance name is Bogdanovitch01\nNumber of non matched pairs: 71\nNumber of mismatched notes:  60\ncheck trill pitch - detected pitch:  77  trill note pitch:  76 expected up trill pitch:  78 time: 73.38667875 measure:  42\nNumber of Matched Notes: 3140, unmatched notes: 107\nperformance name is LEE_J03\nNumber of non matched pairs: 52\nNumber of mismatched notes:  20\ncheck trill pitch - detected pitch:  77  trill note pitch:  76 expected up trill pitch:  78 time: 76.53304312499999 measure:  42\ncheck trill pitch - detected pitch:  77  trill note pitch:  76 expected up trill pitch:  78 time: 76.64735925 measure:  42\nNumber of Matched Notes: 3191, unmatched notes: 56\nperformance name is Lo01\nNumber of non matched pairs: 48\nNumber of mismatched notes:  68\ncheck trill pitch - detected pitch:  77  trill note pitch:  76 expected up trill pitch:  78 time: 80.7290859375 measure:  42\ncheck trill pitch - detected pitch:  77  trill note pitch:  76 expected up trill pitch:  78 time: 80.86129734375001 measure:  42\nNumber of Matched Notes: 3159, unmatched notes: 88\nperformance name is Rozanski02\nNumber of non matched pairs: 24\nNumber of mismatched notes:  77\ncheck trill pitch - detected pitch:  77  trill note pitch:  76 expected up trill pitch:  78 time: 81.76407421875001 measure:  42\nNumber of Matched Notes: 3173, unmatched notes: 74\nperformance name is Jia01\nNumber of non matched pairs: 46\nNumber of mismatched notes:  60\ncheck trill pitch - detected pitch:  77  trill note pitch:  76 expected up trill pitch:  78 time: 75.475351875 measure:  42\ncheck trill pitch - detected pitch:  77  trill note pitch:  76 expected up trill pitch:  78 time: 75.8252446875 measure:  42\nNumber of Matched Notes: 3157, unmatched notes: 90\n../../../chopin_cleaned/Bach/Fugue/bwv_874/\nNumber of non matched pairs: 0\nperformance name is Kurz01\nNumber of non matched pairs: 7\nNumber of mismatched notes:  0\nNumber of Matched Notes: 868, unmatched notes: 7\nperformance name is WongWY01\nNumber of non matched pairs: 3\nNumber of mismatched notes:  0\nNumber of Matched Notes: 872, unmatched notes: 3\nperformance name is BianF01\nNumber of non matched pairs: 2\nNumber of mismatched notes:  0\nNumber of Matched Notes: 873, unmatched notes: 2\n../../../chopin_cleaned/Liszt/Transcendental_Etudes/5/\nNumber of non matched pairs: 2\nperformance name is Huangci01\nNumber of non matched pairs: 309\nNumber of mismatched notes:  74\nNumber of Matched Notes: 4165, unmatched notes: 380\nperformance name is Min03\nNumber of non matched pairs: 344\nNumber of mismatched notes:  28\nNumber of Matched Notes: 4174, unmatched notes: 371\nperformance name is LiuY06\nNumber of non matched pairs: 273\nNumber of mismatched notes:  36\nNumber of Matched Notes: 4239, unmatched notes: 306\nperformance name is Gryaznov02\nNumber of non matched pairs: 227\nNumber of mismatched notes:  35\nNumber of Matched Notes: 4283, unmatched notes: 262\nperformance name is Huang16\nNumber of non matched pairs: 313\nNumber of mismatched notes:  38\nNumber of Matched Notes: 4197, unmatched notes: 348\nperformance name is Wang06\nNumber of non matched pairs: 202\nNumber of mismatched notes:  42\nNumber of Matched Notes: 4303, unmatched notes: 242\nperformance name is Sun09\nNumber of non matched pairs: 164\nNumber of mismatched notes:  17\nNumber of Matched Notes: 4367, unmatched notes: 178\nperformance name is Park03\nNumber of non matched pairs: 389\nNumber of mismatched notes:  30\nNumber of Matched Notes: 4128, unmatched notes: 417\nperformance name is WangY02\nNumber of non matched pairs: 622\nNumber of mismatched notes:  56\nNumber of Matched Notes: 3873, unmatched notes: 672\nperformance name is KIM_W02\nNumber of non matched pairs: 195\nNumber of mismatched notes:  17\nNumber of Matched Notes: 4333, unmatched notes: 212\nperformance name is HUAN_B03\nNumber of non matched pairs: 359\nNumber of mismatched notes:  126\nNumber of Matched Notes: 4081, unmatched notes: 464\nNumber of train pairs:  5 valid pairs:  3 test pairs:  11\n"
    }
   ],
   "source": [
    "# train_list = ['']\n",
    "# test_list = ['']\n",
    "train_list = ['Mozart/Piano_Sonatas/8-1/']\n",
    "valid_list = ['Bach/Fugue/bwv_874/']\n",
    "test_list = ['Liszt/Transcendental_Etudes/5/']\n",
    "\n",
    "chopin_pairs, num_train_pairs, num_valid_pairs, num_test_pairs = load_limited_subfolder('../../../chopin_cleaned', train_list, valid_list, test_list, 2)\n",
    "# save_features_as_vector(chopin_pairs, num_train_pairs, num_valid_pairs, 'perform_style_set_5')"
   ]
  },
  {
   "cell_type": "code",
   "execution_count": 31,
   "metadata": {},
   "outputs": [
    {
     "output_type": "display_data",
     "data": {
      "text/plain": "5"
     },
     "metadata": {}
    },
    {
     "output_type": "display_data",
     "data": {
      "text/plain": "3"
     },
     "metadata": {}
    },
    {
     "output_type": "display_data",
     "data": {
      "text/plain": "11"
     },
     "metadata": {}
    }
   ],
   "source": [
    "display(num_train_pairs)\n",
    "display(num_valid_pairs)\n",
    "display(num_test_pairs)"
   ]
  },
  {
   "cell_type": "code",
   "execution_count": null,
   "metadata": {},
   "outputs": [],
   "source": []
  },
  {
   "cell_type": "code",
   "execution_count": null,
   "metadata": {},
   "outputs": [],
   "source": []
  },
  {
   "cell_type": "markdown",
   "metadata": {},
   "source": [
    "Need to change all .MID files to .mid"
   ]
  },
  {
   "cell_type": "code",
   "execution_count": 18,
   "metadata": {
    "tags": []
   },
   "outputs": [],
   "source": [
    "path = \"../../../chopin_cleaned\"\n",
    "midi_list = []\n",
    "if path[len(path)-1] != \"/\":\n",
    "    path = f'{path}/'\n",
    "for dp,_,filenames in os.walk(path):\n",
    "    # print(dp)\n",
    "    for f in filenames:\n",
    "        if f[-4:] == \".MID\":\n",
    "            path = os.path.join(dp,f)\n",
    "            new_path = path.replace(\".MID\", \".mid\")\n",
    "            print(path)\n",
    "            print(new_path)\n",
    "            # os.rename(path, new_path)"
   ]
  },
  {
   "cell_type": "code",
   "execution_count": null,
   "metadata": {},
   "outputs": [],
   "source": []
  }
 ]
}