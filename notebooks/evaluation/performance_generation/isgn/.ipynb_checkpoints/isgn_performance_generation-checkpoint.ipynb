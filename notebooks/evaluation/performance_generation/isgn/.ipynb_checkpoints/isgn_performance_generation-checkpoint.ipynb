{
 "cells": [
  {
   "cell_type": "code",
   "execution_count": 1,
   "metadata": {},
   "outputs": [],
   "source": [
    "%load_ext autoreload\n",
    "%autoreload 2"
   ]
  },
  {
   "cell_type": "code",
   "execution_count": 2,
   "metadata": {},
   "outputs": [
    {
     "name": "stdout",
     "output_type": "stream",
     "text": [
      "Data type is regression:  True\n"
     ]
    }
   ],
   "source": [
    "from src.evaluation.qualitative import legacy_test_run_str"
   ]
  },
  {
   "cell_type": "code",
   "execution_count": 3,
   "metadata": {},
   "outputs": [
    {
     "name": "stdout",
     "output_type": "stream",
     "text": [
      "/uusoc/exports/scratch/rtimpson/thesis/virtuosoNet/src/old/model_run.py -data=/uusoc/exports/scratch/rtimpson/thesis/virtuosoNet/data/train/training_data -mode=test_some -code=isgn -is_dev=false -exp_id=THESIS-69 -bp=true\n"
     ]
    }
   ],
   "source": [
    "run_str = legacy_test_run_str(\n",
    "    model_code='isgn',\n",
    "    exp_id='THESIS-69',\n",
    "    is_dev='false'\n",
    ")\n",
    "print(run_str)"
   ]
  },
  {
   "cell_type": "code",
   "execution_count": 4,
   "metadata": {},
   "outputs": [
    {
     "name": "stdout",
     "output_type": "stream",
     "text": [
      "Namespace(boolPedal=True, composer='Beethoven', dataName='/uusoc/exports/scratch/rtimpson/thesis/virtuosoNet/data/train/training_data', deltaLoss=False, device=1, disklavier=True, exp_description='Default Neptune Description', exp_id='THESIS-69', exp_name='Default Neptune Experiment', exp_tags='legacy', hierCode='han_ar_measure', intermediateLoss=True, is_dev=False, latent=0, modelCode='isgn', model_folder='legacy', model_name='Default Model Name', multi_instruments=False, num_epochs=100, perfName='Anger_sub1', randomTrain=True, resume='_best.pth.tar', resumeTraining=False, run_description='Running Model', run_folder='default_run_folder', sessMode='test_some', slurEdge=False, startTempo=0, testPath='./test_pieces/bps_5_1/', trainTrill=False, trainingLoss='MSE', trillCode='trill_default', velocity='50,65', voiceEdge=True)\n",
      "2020-11-24 13:21:11 - Initialized experiment, reading params\n",
      "2020-11-24 13:21:14 - Read params and loaded models\n",
      "=> no checkpoint found at '_best.pth.tar'\n",
      "2020-11-24 13:21:14 - creating performance for /uusoc/exports/scratch/rtimpson/thesis/virtuosoData/production/input/chopin_fantasie_impromptu/\n"
     ]
    },
    {
     "name": "stderr",
     "output_type": "stream",
     "text": [
      "/uusoc/exports/scratch/rtimpson/thesis/virtuosoNet/env/lib/python3.7/site-packages/torch/nn/functional.py:1628: UserWarning: nn.functional.tanh is deprecated. Use torch.tanh instead.\n",
      "  warnings.warn(\"nn.functional.tanh is deprecated. Use torch.tanh instead.\")\n"
     ]
    },
    {
     "name": "stdout",
     "output_type": "stream",
     "text": [
      "Saving midi performance to chopin_fantasie_impromptu_z0\n",
      "2020-11-24 13:21:19 - creating performance for /uusoc/exports/scratch/rtimpson/thesis/virtuosoData/production/input/bwv_855_prelude/\n",
      "Saving midi performance to bwv_855_prelude_z0\n",
      "2020-11-24 13:21:22 - creating performance for /uusoc/exports/scratch/rtimpson/thesis/virtuosoData/production/input/mozart_sonata_11_1/\n",
      "Saving midi performance to mozart_sonata_11_1_z0\n"
     ]
    }
   ],
   "source": [
    "%run {run_str}"
   ]
  },
  {
   "cell_type": "code",
   "execution_count": 7,
   "metadata": {},
   "outputs": [],
   "source": [
    "import pretty_midi\n",
    "midi_path = f'artifacts/bwv_855_prelude_z0.mid'\n",
    "\n",
    "midi_data = pretty_midi.PrettyMIDI(midi_path)"
   ]
  },
  {
   "cell_type": "code",
   "execution_count": null,
   "metadata": {},
   "outputs": [],
   "source": []
  }
 ],
 "metadata": {
  "kernelspec": {
   "display_name": "Python 3",
   "language": "python",
   "name": "python3"
  },
  "language_info": {
   "codemirror_mode": {
    "name": "ipython",
    "version": 3
   },
   "file_extension": ".py",
   "mimetype": "text/x-python",
   "name": "python",
   "nbconvert_exporter": "python",
   "pygments_lexer": "ipython3",
   "version": "3.7.7"
  }
 },
 "nbformat": 4,
 "nbformat_minor": 4
}
