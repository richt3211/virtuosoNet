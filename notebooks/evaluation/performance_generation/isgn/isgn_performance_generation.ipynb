{
 "cells": [
  {
   "cell_type": "code",
   "execution_count": 13,
   "metadata": {},
   "outputs": [
    {
     "name": "stdout",
     "output_type": "stream",
     "text": [
      "The autoreload extension is already loaded. To reload it, use:\n",
      "  %reload_ext autoreload\n"
     ]
    }
   ],
   "source": [
    "%load_ext autoreload\n",
    "%autoreload 2"
   ]
  },
  {
   "cell_type": "code",
   "execution_count": 14,
   "metadata": {},
   "outputs": [],
   "source": [
    "from src.evaluation.qualitative import legacy_test_run_str"
   ]
  },
  {
   "cell_type": "code",
   "execution_count": 15,
   "metadata": {},
   "outputs": [
    {
     "name": "stdout",
     "output_type": "stream",
     "text": [
      "/uusoc/exports/scratch/rtimpson/thesis/virtuosoNet/src/old/model_run.py -data=/uusoc/exports/scratch/rtimpson/thesis/virtuosoNet/data/train/training_data -mode=test_some -code=isgn -is_dev=false -exp_id=THESIS-69 -bp=true\n"
     ]
    }
   ],
   "source": [
    "run_str = legacy_test_run_str(\n",
    "    model_code='isgn',\n",
    "    exp_id='THESIS-69',\n",
    "    is_dev='false'\n",
    ")\n",
    "print(run_str)"
   ]
  },
  {
   "cell_type": "code",
   "execution_count": 16,
   "metadata": {},
   "outputs": [
    {
     "name": "stdout",
     "output_type": "stream",
     "text": [
      "Namespace(boolPedal=True, composer='Beethoven', dataName='/uusoc/exports/scratch/rtimpson/thesis/virtuosoNet/data/train/training_data', deltaLoss=False, device=1, disklavier=True, exp_description='Default Neptune Description', exp_id='THESIS-69', exp_name='Default Neptune Experiment', exp_tags='legacy', hierCode='han_ar_measure', intermediateLoss=True, is_dev=False, latent=0, modelCode='isgn', model_folder='legacy', model_name='Default Model Name', multi_instruments=False, num_epochs=100, perfName='Anger_sub1', randomTrain=True, resume='_best.pth.tar', resumeTraining=False, run_description='Running Model', run_folder='default_run_folder', sessMode='test_some', slurEdge=False, startTempo=0, testPath='./test_pieces/bps_5_1/', trainTrill=False, trainingLoss='MSE', trillCode='trill_default', velocity='50,65', voiceEdge=True)\n",
      "2020-12-01 20:34:09 - Initialized experiment, reading params\n",
      "2020-12-01 20:34:09 - Read params and loaded models\n",
      "=> no checkpoint found at '_best.pth.tar'\n",
      "2020-12-01 20:34:10 - creating performance for /uusoc/exports/scratch/rtimpson/thesis/virtuosoData/production/input/chopin_fantasie_impromptu/\n",
      "Saving midi performance to chopin_fantasie_impromptu_z0\n",
      "2020-12-01 20:34:14 - creating performance for /uusoc/exports/scratch/rtimpson/thesis/virtuosoData/production/input/bwv_855_prelude/\n",
      "Saving midi performance to bwv_855_prelude_z0\n",
      "2020-12-01 20:34:18 - creating performance for /uusoc/exports/scratch/rtimpson/thesis/virtuosoData/production/input/mozart_sonata_11_1/\n",
      "Saving midi performance to mozart_sonata_11_1_z0\n"
     ]
    }
   ],
   "source": [
    "%run {run_str}"
   ]
  },
  {
   "cell_type": "code",
   "execution_count": 10,
   "metadata": {},
   "outputs": [],
   "source": [
    "import pretty_midi\n",
    "midi_path = f'artifacts/mozart_sonata_11_1_z0.mid'\n",
    "\n",
    "midi_data = pretty_midi.PrettyMIDI(midi_path)"
   ]
  },
  {
   "cell_type": "code",
   "execution_count": 11,
   "metadata": {},
   "outputs": [
    {
     "name": "stdout",
     "output_type": "stream",
     "text": [
      "ControlChange(number=64, value=80, time=0.968182)\n",
      "ControlChange(number=67, value=0, time=0.968182)\n",
      "ControlChange(number=64, value=79, time=1.154545)\n",
      "ControlChange(number=64, value=79, time=1.215909)\n",
      "ControlChange(number=64, value=80, time=1.315909)\n",
      "ControlChange(number=67, value=0, time=1.315909)\n",
      "ControlChange(number=64, value=81, time=1.434091)\n",
      "ControlChange(number=67, value=0, time=1.434091)\n",
      "ControlChange(number=64, value=79, time=1.556818)\n",
      "ControlChange(number=64, value=81, time=1.665909)\n",
      "ControlChange(number=67, value=0, time=1.665909)\n",
      "ControlChange(number=64, value=79, time=1.915909)\n",
      "ControlChange(number=64, value=81, time=2.131818)\n",
      "ControlChange(number=67, value=0, time=2.131818)\n",
      "ControlChange(number=64, value=79, time=2.256818)\n",
      "ControlChange(number=64, value=81, time=2.363636)\n",
      "ControlChange(number=67, value=0, time=2.363636)\n",
      "ControlChange(number=64, value=79, time=2.550000)\n",
      "ControlChange(number=64, value=79, time=2.611364)\n",
      "ControlChange(number=64, value=81, time=2.711364)\n"
     ]
    }
   ],
   "source": [
    "i = 0\n",
    "for instrument in midi_data.instruments:\n",
    "    for control in instrument.control_changes:\n",
    "        if i == 20:\n",
    "            break\n",
    "        print(control)\n",
    "        i +=1\n",
    "            \n",
    "    for note in instrument.notes:\n",
    "        if i == 20:\n",
    "            break\n",
    "        print(note)\n",
    "        i +=1"
   ]
  },
  {
   "cell_type": "code",
   "execution_count": null,
   "metadata": {},
   "outputs": [],
   "source": []
  }
 ],
 "metadata": {
  "kernelspec": {
   "display_name": "Python 3",
   "language": "python",
   "name": "python3"
  },
  "language_info": {
   "codemirror_mode": {
    "name": "ipython",
    "version": 3
   },
   "file_extension": ".py",
   "mimetype": "text/x-python",
   "name": "python",
   "nbconvert_exporter": "python",
   "pygments_lexer": "ipython3",
   "version": "3.7.7"
  }
 },
 "nbformat": 4,
 "nbformat_minor": 4
}
