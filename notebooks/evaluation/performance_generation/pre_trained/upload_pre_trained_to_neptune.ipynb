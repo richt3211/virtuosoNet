{
 "cells": [
  {
   "cell_type": "code",
   "execution_count": 2,
   "metadata": {},
   "outputs": [],
   "source": [
    "%load_ext autoreload\n",
    "%autoreload 2"
   ]
  },
  {
   "cell_type": "code",
   "execution_count": 5,
   "metadata": {},
   "outputs": [],
   "source": [
    "from src.neptune import init_experiment\n",
    "from src.evaluation.qualitative import QualitativeEvaluatorParams\n",
    "from src.constants import CACHE_MODEL_DIR"
   ]
  },
  {
   "cell_type": "code",
   "execution_count": 4,
   "metadata": {},
   "outputs": [
    {
     "name": "stdout",
     "output_type": "stream",
     "text": [
      "https://ui.neptune.ai/richt3211/thesis/e/THESIS-162\n"
     ]
    }
   ],
   "source": [
    "exp = init_experiment(\n",
    "    exp_name=\"Uploading pre trained han_ar_measure model\",\n",
    "    exp_description=\"Rather than train a legacy model I'm going to just use the pre trained model from the original repository\",\n",
    "    tags=['legacy', 'pre_trained', 'han_measure', 'full']\n",
    ")"
   ]
  },
  {
   "cell_type": "code",
   "execution_count": 6,
   "metadata": {},
   "outputs": [
    {
     "data": {
      "text/plain": [
       "'/uusoc/exports/scratch/rtimpson/thesis/virtuosoNet/models'"
      ]
     },
     "execution_count": 6,
     "metadata": {},
     "output_type": "execute_result"
    }
   ],
   "source": [
    "CACHE_MODEL_DIR"
   ]
  },
  {
   "cell_type": "code",
   "execution_count": 14,
   "metadata": {},
   "outputs": [
    {
     "name": "stdout",
     "output_type": "stream",
     "text": [
      "True\n",
      "True\n",
      "True\n",
      "True\n"
     ]
    }
   ],
   "source": [
    "folder = f'{CACHE_MODEL_DIR}/legacy_pre_trained'\n",
    "\n",
    "measure_model = f'{folder}/prime_han_ar_measure_best.pth'\n",
    "measure_params = f'{folder}/han_ar_measure_params.pickle'\n",
    "note_model = f'{folder}/prime_han_ar_note_best.pth'\n",
    "note_params = f'{folder}/han_ar_note_params.pickle'\n",
    "\n",
    "print(os.path.exists(measure_model))\n",
    "print(os.path.exists(measure_params))\n",
    "print(os.path.exists(note_model))\n",
    "print(os.path.exists(note_params))"
   ]
  },
  {
   "cell_type": "code",
   "execution_count": 15,
   "metadata": {},
   "outputs": [],
   "source": [
    "exp.log_artifact(measure_model, 'prime_han_ar_measure_best.pth')\n",
    "exp.log_artifact(measure_params, 'han_ar_measure_params.pickle')\n",
    "exp.log_artifact(note_model, 'prime_han_ar_note_best.pth')\n",
    "exp.log_artifact(note_params, 'han_ar_note_params.pickle')"
   ]
  },
  {
   "cell_type": "code",
   "execution_count": null,
   "metadata": {},
   "outputs": [],
   "source": []
  }
 ],
 "metadata": {
  "kernelspec": {
   "display_name": "Python 3",
   "language": "python",
   "name": "python3"
  },
  "language_info": {
   "codemirror_mode": {
    "name": "ipython",
    "version": 3
   },
   "file_extension": ".py",
   "mimetype": "text/x-python",
   "name": "python",
   "nbconvert_exporter": "python",
   "pygments_lexer": "ipython3",
   "version": "3.7.7"
  }
 },
 "nbformat": 4,
 "nbformat_minor": 4
}
