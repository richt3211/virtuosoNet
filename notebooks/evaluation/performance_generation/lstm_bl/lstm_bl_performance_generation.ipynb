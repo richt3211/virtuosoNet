{
 "cells": [
  {
   "cell_type": "code",
   "execution_count": 9,
   "metadata": {},
   "outputs": [
    {
     "name": "stdout",
     "output_type": "stream",
     "text": [
      "The autoreload extension is already loaded. To reload it, use:\n",
      "  %reload_ext autoreload\n"
     ]
    }
   ],
   "source": [
    "%load_ext autoreload\n",
    "%autoreload 2"
   ]
  },
  {
   "cell_type": "code",
   "execution_count": 10,
   "metadata": {},
   "outputs": [],
   "source": [
    "from src.evaluation.qualitative import LSTMBaselineQualitativeEvaluator, init_performance_generation"
   ]
  },
  {
   "cell_type": "code",
   "execution_count": 11,
   "metadata": {},
   "outputs": [],
   "source": [
    "model_name = 'model.pth'\n",
    "model_path = f'./artifacts/{model_name}'\n",
    "exp = init_performance_generation('THESIS-123', model_name)"
   ]
  },
  {
   "cell_type": "code",
   "execution_count": 12,
   "metadata": {},
   "outputs": [
    {
     "name": "stdout",
     "output_type": "stream",
     "text": [
      "2020-12-08 11:53:23 - Generating performance for chopin_fantasie_impromptu\n",
      "Saving midi performance to ./artifacts/chopin_fantasie_impromptu.mid\n",
      "2020-12-08 11:53:27 - Generating performance for bach_bwv_855_prelude\n",
      "Saving midi performance to ./artifacts/bach_bwv_855_prelude.mid\n",
      "2020-12-08 11:53:29 - Generating performance for mozart_sonata_11_1\n",
      "Saving midi performance to ./artifacts/mozart_sonata_11_1.mid\n",
      "2020-12-08 11:53:39 - Generating performance for beethoven_sonata_17_1\n",
      "Saving midi performance to ./artifacts/beethoven_sonata_17_1.mid\n",
      "2020-12-08 11:53:45 - Generating performance for chopin_etudes_op_10_12\n",
      "Saving midi performance to ./artifacts/chopin_etudes_op_10_12.mid\n",
      "2020-12-08 11:53:49 - Generating performance for bach_bwv_858_prelude\n",
      "Saving midi performance to ./artifacts/bach_bwv_858_prelude.mid\n"
     ]
    }
   ],
   "source": [
    "qualitative_evaluator = LSTMBaselineQualitativeEvaluator(exp=exp)\n",
    "qualitative_evaluator.generate_performances(model_path)"
   ]
  },
  {
   "cell_type": "code",
   "execution_count": null,
   "metadata": {},
   "outputs": [],
   "source": []
  }
 ],
 "metadata": {
  "kernelspec": {
   "display_name": "Python 3",
   "language": "python",
   "name": "python3"
  },
  "language_info": {
   "codemirror_mode": {
    "name": "ipython",
    "version": 3
   },
   "file_extension": ".py",
   "mimetype": "text/x-python",
   "name": "python",
   "nbconvert_exporter": "python",
   "pygments_lexer": "ipython3",
   "version": "3.7.7"
  }
 },
 "nbformat": 4,
 "nbformat_minor": 4
}
