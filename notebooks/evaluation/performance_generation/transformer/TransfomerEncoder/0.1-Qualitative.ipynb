{
 "cells": [
  {
   "cell_type": "code",
   "execution_count": 2,
   "metadata": {},
   "outputs": [],
   "source": [
    "%load_ext autoreload\n",
    "%autoreload 2"
   ]
  },
  {
   "cell_type": "code",
   "execution_count": 3,
   "metadata": {},
   "outputs": [
    {
     "name": "stdout",
     "output_type": "stream",
     "text": [
      "Data type is regression:  True\n"
     ]
    }
   ],
   "source": [
    "from src.evaluation.qualitative import (\n",
    "    QualitativeEvaluatorParams, \n",
    "    TransformerEncoderQualitativeEvaluator, \n",
    "    playMidi, \n",
    "    init_performance_generation\n",
    ")\n",
    "from src.models.model_run_job import ModelJobParams\n",
    "from src.constants import PRODUCTION_DATA_DIR, DEVELOPMENT_DATA_DIR, CACHE_MODEL_DIR\n",
    "from src.neptune import get_experiment_by_id"
   ]
  },
  {
   "cell_type": "code",
   "execution_count": 5,
   "metadata": {},
   "outputs": [],
   "source": [
    "exp = init_performance_generation('THESIS-86', is_dev=False, is_legacy=False)"
   ]
  },
  {
   "cell_type": "code",
   "execution_count": 7,
   "metadata": {},
   "outputs": [],
   "source": [
    "from src.models.transformer import TransformerEncoder\n",
    "from src.models.model_writer_reader import read_params"
   ]
  },
  {
   "cell_type": "code",
   "execution_count": 8,
   "metadata": {},
   "outputs": [],
   "source": [
    "hyper_params = read_params('artifacts/params.pickle')\n",
    "model = TransformerEncoder(hyper_params)"
   ]
  },
  {
   "cell_type": "code",
   "execution_count": 9,
   "metadata": {},
   "outputs": [],
   "source": [
    "params = QualitativeEvaluatorParams(is_dev=False)\n",
    "qualitative_evaluator = TransformerEncoderQualitativeEvaluator(params, model, exp)"
   ]
  },
  {
   "cell_type": "code",
   "execution_count": 12,
   "metadata": {},
   "outputs": [
    {
     "name": "stdout",
     "output_type": "stream",
     "text": [
      "2020-11-30 16:32:39 - Generating performance for chopin_fantasie_impromptu\n",
      "Saving midi performance to ./artifacts/chopin_fantasie_impromptu.mid\n",
      "2020-11-30 16:32:43 - Generating performance for bwv_855_prelude\n",
      "Saving midi performance to ./artifacts/bwv_855_prelude.mid\n",
      "2020-11-30 16:32:45 - Generating performance for mozart_sonata_11_1\n",
      "Saving midi performance to ./artifacts/mozart_sonata_11_1.mid\n"
     ]
    }
   ],
   "source": [
    "model_path = './artifacts/_best.pth'\n",
    "qualitative_evaluator.generate_performances(model_path)"
   ]
  },
  {
   "cell_type": "code",
   "execution_count": null,
   "metadata": {},
   "outputs": [],
   "source": [
    "from src.constants import PRODUCTION_DATA_DIR\n",
    "chopin_perf_midi = './artifacts/chopin_fantasie_impromptu.mid'\n",
    "bach_perf_midi = './artifacts/bwv_855_prelude.mid'\n",
    "mozart_perf_midi = './artifacts/mozart_sonata_11_1.mid'\n",
    "score_midi = f'{PRODUCTION_DATA_DIR}/input/chopin_fantasie_impromptu/score_midi.mid'"
   ]
  },
  {
   "cell_type": "code",
   "execution_count": null,
   "metadata": {},
   "outputs": [],
   "source": [
    "playMidi(chopin_perf_midi)"
   ]
  },
  {
   "cell_type": "code",
   "execution_count": null,
   "metadata": {},
   "outputs": [],
   "source": [
    "playMidi(bach_perf_midi)"
   ]
  },
  {
   "cell_type": "code",
   "execution_count": null,
   "metadata": {},
   "outputs": [],
   "source": [
    "playMidi(mozart_perf_midi)"
   ]
  },
  {
   "cell_type": "code",
   "execution_count": null,
   "metadata": {},
   "outputs": [],
   "source": [
    "playMidi(score_midi)"
   ]
  },
  {
   "cell_type": "code",
   "execution_count": null,
   "metadata": {},
   "outputs": [],
   "source": [
    "playMidi(f'{PRODUCTION_DATA_DIR}/input/mozart_sonata_11_1/score_midi.mid')"
   ]
  },
  {
   "cell_type": "code",
   "execution_count": null,
   "metadata": {},
   "outputs": [],
   "source": []
  }
 ],
 "metadata": {
  "kernelspec": {
   "display_name": "Python 3",
   "language": "python",
   "name": "python3"
  },
  "language_info": {
   "codemirror_mode": {
    "name": "ipython",
    "version": 3
   },
   "file_extension": ".py",
   "mimetype": "text/x-python",
   "name": "python",
   "nbconvert_exporter": "python",
   "pygments_lexer": "ipython3",
   "version": "3.7.7"
  },
  "neptune": {
   "notebookId": "0e629a15-f7bd-4351-8207-277a74ea3918"
  }
 },
 "nbformat": 4,
 "nbformat_minor": 4
}
