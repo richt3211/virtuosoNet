{
 "cells": [
  {
   "cell_type": "code",
   "execution_count": 2,
   "metadata": {},
   "outputs": [],
   "source": [
    "%load_ext autoreload\n",
    "%autoreload 2"
   ]
  },
  {
   "cell_type": "code",
   "execution_count": 7,
   "metadata": {},
   "outputs": [
    {
     "name": "stdout",
     "output_type": "stream",
     "text": [
      "Data type is regression:  True\n"
     ]
    }
   ],
   "source": [
    "from src.neptune import init_experiment\n",
    "from src.evaluation.qualitative import QualitativeEvaluatorParams"
   ]
  },
  {
   "cell_type": "code",
   "execution_count": 5,
   "metadata": {},
   "outputs": [
    {
     "name": "stdout",
     "output_type": "stream",
     "text": [
      "https://ui.neptune.ai/richt3211/thesis/e/THESIS-99\n"
     ]
    }
   ],
   "source": [
    "exp = init_experiment(\n",
    "    exp_name=\"Added comparison midi files\",\n",
    "    exp_description=\"Adding comparison files to neptune so that I can use them in my web midi player for easy comparison\",\n",
    "    tags=['comparison']\n",
    ")"
   ]
  },
  {
   "cell_type": "code",
   "execution_count": 20,
   "metadata": {},
   "outputs": [
    {
     "name": "stdout",
     "output_type": "stream",
     "text": [
      "/uusoc/exports/scratch/rtimpson/thesis/virtuosoData/development/Beethoven/Piano_Sonatas/17-1//Tuncali01.mid\n",
      "/uusoc/exports/scratch/rtimpson/thesis/virtuosoData/development/Beethoven/Piano_Sonatas/17-1//KaszoS09.mid\n",
      "/uusoc/exports/scratch/rtimpson/thesis/virtuosoData/development/Beethoven/Piano_Sonatas/17-1//Mordvinov02.mid\n",
      "/uusoc/exports/scratch/rtimpson/thesis/virtuosoData/development/Beethoven/Piano_Sonatas/17-1//midi_cleaned.mid\n",
      "/uusoc/exports/scratch/rtimpson/thesis/virtuosoData/development/Beethoven/Piano_Sonatas/17-1//USHIKI05.mid\n",
      "/uusoc/exports/scratch/rtimpson/thesis/virtuosoData/development/Chopin/Etudes_op_10/12//Mordvinov04XP.mid\n",
      "/uusoc/exports/scratch/rtimpson/thesis/virtuosoData/development/Chopin/Etudes_op_10/12//Floril02XP.mid\n",
      "/uusoc/exports/scratch/rtimpson/thesis/virtuosoData/development/Chopin/Etudes_op_10/12//HuNY03.mid\n",
      "/uusoc/exports/scratch/rtimpson/thesis/virtuosoData/development/Chopin/Etudes_op_10/12//Mordvinov04.mid\n",
      "/uusoc/exports/scratch/rtimpson/thesis/virtuosoData/development/Chopin/Etudes_op_10/12//LuoJ08.mid\n",
      "/uusoc/exports/scratch/rtimpson/thesis/virtuosoData/development/Chopin/Etudes_op_10/12//midi_cleaned.mid\n",
      "/uusoc/exports/scratch/rtimpson/thesis/virtuosoData/development/Chopin/Etudes_op_10/12//Yarden04.mid\n",
      "/uusoc/exports/scratch/rtimpson/thesis/virtuosoData/development/Chopin/Etudes_op_10/12//Floril02.mid\n",
      "/uusoc/exports/scratch/rtimpson/thesis/virtuosoData/development/Chopin/Etudes_op_10/12//Gintov02XP.mid\n",
      "/uusoc/exports/scratch/rtimpson/thesis/virtuosoData/development/Chopin/Etudes_op_10/12//Hirata02.mid\n",
      "/uusoc/exports/scratch/rtimpson/thesis/virtuosoData/development/Chopin/Etudes_op_10/12//KimBenjamin04.mid\n",
      "/uusoc/exports/scratch/rtimpson/thesis/virtuosoData/development/Chopin/Etudes_op_10/12//Staupe02.mid\n",
      "/uusoc/exports/scratch/rtimpson/thesis/virtuosoData/development/Chopin/Etudes_op_10/12//Yarden04XP.mid\n",
      "/uusoc/exports/scratch/rtimpson/thesis/virtuosoData/development/Chopin/Etudes_op_10/12//WuuE06.mid\n",
      "/uusoc/exports/scratch/rtimpson/thesis/virtuosoData/development/Chopin/Etudes_op_10/12//Na_2006_02.mid\n",
      "/uusoc/exports/scratch/rtimpson/thesis/virtuosoData/development/Chopin/Etudes_op_10/12//Bult-ItoS04.mid\n",
      "/uusoc/exports/scratch/rtimpson/thesis/virtuosoData/development/Chopin/Etudes_op_10/12//Staupe02XP.mid\n",
      "/uusoc/exports/scratch/rtimpson/thesis/virtuosoData/development/Chopin/Etudes_op_10/12//Hirata02XP.mid\n",
      "/uusoc/exports/scratch/rtimpson/thesis/virtuosoData/development/Chopin/Etudes_op_10/12//ZhangYunling02.mid\n",
      "/uusoc/exports/scratch/rtimpson/thesis/virtuosoData/development/Chopin/Etudes_op_10/12//Na_2006_02XP.mid\n",
      "/uusoc/exports/scratch/rtimpson/thesis/virtuosoData/development/Chopin/Etudes_op_10/12//Gintov02.mid\n",
      "/uusoc/exports/scratch/rtimpson/thesis/virtuosoData/development/Chopin/Etudes_op_10/12//midi.mid\n",
      "/uusoc/exports/scratch/rtimpson/thesis/virtuosoData/development/Bach/Prelude/bwv_858//midi_cleaned.mid\n",
      "/uusoc/exports/scratch/rtimpson/thesis/virtuosoData/development/Bach/Prelude/bwv_858//Zhang01.mid\n",
      "/uusoc/exports/scratch/rtimpson/thesis/virtuosoData/development/Bach/Prelude/bwv_858//VuV01.mid\n"
     ]
    }
   ],
   "source": [
    "import os\n",
    "\n",
    "params = QualitativeEvaluatorParams\n",
    "for perf in params.performances:\n",
    "    if perf['is_dev']:\n",
    "        files = os.listdir(perf['song_path'])\n",
    "        for file in files:\n",
    "            if file.endswith('.mid'):\n",
    "                neptune_file_path = f'{perf[\"perf_name\"]}/{file}'\n",
    "                file_path = f'{perf[\"song_path\"]}/{file}'\n",
    "                print(file_path)\n",
    "                exp.log_artifact(file_path, neptune_file_path)"
   ]
  },
  {
   "cell_type": "code",
   "execution_count": null,
   "metadata": {},
   "outputs": [],
   "source": [
    "exp.log_artifact()"
   ]
  }
 ],
 "metadata": {
  "kernelspec": {
   "display_name": "Python 3",
   "language": "python",
   "name": "python3"
  },
  "language_info": {
   "codemirror_mode": {
    "name": "ipython",
    "version": 3
   },
   "file_extension": ".py",
   "mimetype": "text/x-python",
   "name": "python",
   "nbconvert_exporter": "python",
   "pygments_lexer": "ipython3",
   "version": "3.7.7"
  }
 },
 "nbformat": 4,
 "nbformat_minor": 4
}
