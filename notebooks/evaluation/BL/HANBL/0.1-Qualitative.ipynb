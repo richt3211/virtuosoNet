{
 "metadata": {
  "language_info": {
   "codemirror_mode": {
    "name": "ipython",
    "version": 3
   },
   "file_extension": ".py",
   "mimetype": "text/x-python",
   "name": "python",
   "nbconvert_exporter": "python",
   "pygments_lexer": "ipython3",
   "version": "3.8.5-final"
  },
  "orig_nbformat": 2,
  "kernelspec": {
   "name": "Python 3.8.5 64-bit (conda)",
   "display_name": "Python 3.8.5 64-bit (conda)",
   "metadata": {
    "interpreter": {
     "hash": "81dc5a356f4cb696469e5f7b2542489ba49d6f1d47415d9b5591a215c3b81bce"
    }
   }
  }
 },
 "nbformat": 4,
 "nbformat_minor": 2,
 "cells": [
  {
   "cell_type": "code",
   "execution_count": 1,
   "metadata": {},
   "outputs": [],
   "source": [
    "%load_ext autoreload\n",
    "%autoreload 2"
   ]
  },
  {
   "cell_type": "code",
   "execution_count": 8,
   "metadata": {},
   "outputs": [],
   "source": [
    "from src.evaluation.qualitative import QualitativeEvaluator\n",
    "from src.models.model_run_job import ModelJobParams\n",
    "from src.constants import PRODUCTION_DATA_DIR, CACHE_MODEL_DIR\n",
    "from src.models.BL import HANBaseline, HANBaselineHyperParams"
   ]
  },
  {
   "cell_type": "code",
   "execution_count": 11,
   "metadata": {},
   "outputs": [
    {
     "output_type": "error",
     "ename": "TypeError",
     "evalue": "__init__() missing 1 required positional argument: 'device'",
     "traceback": [
      "\u001b[0;31m---------------------------------------------------------------------------\u001b[0m",
      "\u001b[0;31mTypeError\u001b[0m                                 Traceback (most recent call last)",
      "\u001b[0;32m<ipython-input-11-2e4330a6a3fa>\u001b[0m in \u001b[0;36m<module>\u001b[0;34m\u001b[0m\n\u001b[1;32m      1\u001b[0m \u001b[0mhyper_params\u001b[0m \u001b[0;34m=\u001b[0m \u001b[0mHANBaselineHyperParams\u001b[0m\u001b[0;34m(\u001b[0m\u001b[0;34m)\u001b[0m\u001b[0;34m\u001b[0m\u001b[0;34m\u001b[0m\u001b[0m\n\u001b[0;32m----> 2\u001b[0;31m \u001b[0mmodel\u001b[0m \u001b[0;34m=\u001b[0m \u001b[0mHANBaseline\u001b[0m\u001b[0;34m(\u001b[0m\u001b[0mhyper_params\u001b[0m\u001b[0;34m)\u001b[0m\u001b[0;34m\u001b[0m\u001b[0;34m\u001b[0m\u001b[0m\n\u001b[0m",
      "\u001b[0;31mTypeError\u001b[0m: __init__() missing 1 required positional argument: 'device'"
     ]
    }
   ],
   "source": [
    "hyper_params = HANBaselineHyperParams()\n",
    "model = HANBaseline(hyper_params)"
   ]
  },
  {
   "cell_type": "code",
   "execution_count": 12,
   "metadata": {},
   "outputs": [],
   "source": [
    "params = ModelJobParams(is_dev=False)\n",
    "qualitative_evaluator = QualitativeEvaluator(params)"
   ]
  },
  {
   "cell_type": "code",
   "execution_count": 18,
   "metadata": {},
   "outputs": [
    {
     "output_type": "error",
     "ename": "TypeError",
     "evalue": "must be real number, not NoneType",
     "traceback": [
      "\u001b[0;31m---------------------------------------------------------------------------\u001b[0m",
      "\u001b[0;31mTypeError\u001b[0m                                 Traceback (most recent call last)",
      "\u001b[0;32m<ipython-input-18-a682e6fc90f6>\u001b[0m in \u001b[0;36m<module>\u001b[0;34m\u001b[0m\n\u001b[1;32m      3\u001b[0m \u001b[0mplot_file_path\u001b[0m \u001b[0;34m=\u001b[0m \u001b[0;34mf'{PRODUCTION_DATA_DIR}/output/bwv_858_fugue/han_bl.png'\u001b[0m\u001b[0;34m\u001b[0m\u001b[0;34m\u001b[0m\u001b[0m\n\u001b[1;32m      4\u001b[0m \u001b[0mmodel_path\u001b[0m \u001b[0;34m=\u001b[0m \u001b[0;34mf'{CACHE_MODEL_DIR}/BL/HAN_BL/v0.2_best.pth'\u001b[0m\u001b[0;34m\u001b[0m\u001b[0;34m\u001b[0m\u001b[0m\n\u001b[0;32m----> 5\u001b[0;31m qualitative_evaluator.generate_performance_for_file(\n\u001b[0m\u001b[1;32m      6\u001b[0m     \u001b[0mxml_file_path\u001b[0m\u001b[0;34m=\u001b[0m\u001b[0mxml_file_path\u001b[0m\u001b[0;34m,\u001b[0m\u001b[0;34m\u001b[0m\u001b[0;34m\u001b[0m\u001b[0m\n\u001b[1;32m      7\u001b[0m     \u001b[0mmidi_file_path\u001b[0m\u001b[0;34m=\u001b[0m\u001b[0mmidi_file_path\u001b[0m\u001b[0;34m,\u001b[0m\u001b[0;34m\u001b[0m\u001b[0;34m\u001b[0m\u001b[0m\n",
      "\u001b[0;32m/uusoc/exports/scratch/rtimpson/thesis/virtuosoNet/src/evaluation/qualitative.py\u001b[0m in \u001b[0;36mgenerate_performance_for_file\u001b[0;34m(self, xml_file_path, midi_file_path, plot_path, composer_name, model_path, tempo, mean_vel, pedal, disklavier)\u001b[0m\n\u001b[1;32m     30\u001b[0m         \u001b[0mmeans\u001b[0m\u001b[0;34m,\u001b[0m\u001b[0mstds\u001b[0m \u001b[0;34m=\u001b[0m \u001b[0mread_featurized_stats\u001b[0m\u001b[0;34m(\u001b[0m\u001b[0;34mf'{CACHE_DATA_DIR}/train/training_data_stat.pickle'\u001b[0m\u001b[0;34m)\u001b[0m\u001b[0;34m\u001b[0m\u001b[0;34m\u001b[0m\u001b[0m\n\u001b[1;32m     31\u001b[0m         \u001b[0mtest_x\u001b[0m\u001b[0;34m,\u001b[0m \u001b[0mxml_notes\u001b[0m\u001b[0;34m,\u001b[0m \u001b[0mxml_doc\u001b[0m\u001b[0;34m,\u001b[0m \u001b[0medges\u001b[0m\u001b[0;34m,\u001b[0m \u001b[0mnote_locations\u001b[0m \u001b[0;34m=\u001b[0m\u001b[0;31m \u001b[0m\u001b[0;31m\\\u001b[0m\u001b[0;34m\u001b[0m\u001b[0;34m\u001b[0m\u001b[0m\n\u001b[0;32m---> 32\u001b[0;31m             \u001b[0mread_single_score\u001b[0m\u001b[0;34m(\u001b[0m\u001b[0mxml_file_path\u001b[0m\u001b[0;34m,\u001b[0m \u001b[0mcomposer_name\u001b[0m\u001b[0;34m,\u001b[0m \u001b[0mmeans\u001b[0m\u001b[0;34m,\u001b[0m \u001b[0mstds\u001b[0m\u001b[0;34m,\u001b[0m \u001b[0mmean_vel\u001b[0m\u001b[0;34m,\u001b[0m \u001b[0mtempo\u001b[0m \u001b[0;34m)\u001b[0m\u001b[0;34m\u001b[0m\u001b[0;34m\u001b[0m\u001b[0m\n\u001b[0m\u001b[1;32m     33\u001b[0m \u001b[0;34m\u001b[0m\u001b[0m\n\u001b[1;32m     34\u001b[0m         \u001b[0mbatch_x\u001b[0m \u001b[0;34m=\u001b[0m \u001b[0mtorch\u001b[0m\u001b[0;34m.\u001b[0m\u001b[0mTensor\u001b[0m\u001b[0;34m(\u001b[0m\u001b[0mtest_x\u001b[0m\u001b[0;34m)\u001b[0m\u001b[0;34m\u001b[0m\u001b[0;34m\u001b[0m\u001b[0m\n",
      "\u001b[0;32m/uusoc/exports/scratch/rtimpson/thesis/virtuosoNet/src/data/data_reader/read_pre_processed.py\u001b[0m in \u001b[0;36mread_single_score\u001b[0;34m(path_name, composer, means, stds, mean_vel, start_tempo)\u001b[0m\n\u001b[1;32m     67\u001b[0m     \u001b[0;31m# vel_pair = (int(args.velocity.split(',')[0]), int(args.velocity.split(',')[1]))\u001b[0m\u001b[0;34m\u001b[0m\u001b[0;34m\u001b[0m\u001b[0;34m\u001b[0m\u001b[0m\n\u001b[1;32m     68\u001b[0m     \u001b[0mtest_x\u001b[0m\u001b[0;34m,\u001b[0m \u001b[0mxml_notes\u001b[0m\u001b[0;34m,\u001b[0m \u001b[0mxml_doc\u001b[0m\u001b[0;34m,\u001b[0m \u001b[0medges\u001b[0m\u001b[0;34m,\u001b[0m \u001b[0mnote_locations\u001b[0m \u001b[0;34m=\u001b[0m\u001b[0;31m \u001b[0m\u001b[0;31m\\\u001b[0m\u001b[0;34m\u001b[0m\u001b[0;34m\u001b[0m\u001b[0m\n\u001b[0;32m---> 69\u001b[0;31m         \u001b[0mxml_matching\u001b[0m\u001b[0;34m.\u001b[0m\u001b[0mread_xml_to_array\u001b[0m\u001b[0;34m(\u001b[0m\u001b[0mpath_name\u001b[0m\u001b[0;34m,\u001b[0m \u001b[0mmeans\u001b[0m\u001b[0;34m,\u001b[0m \u001b[0mstds\u001b[0m\u001b[0;34m,\u001b[0m\u001b[0mstart_tempo\u001b[0m\u001b[0;34m,\u001b[0m \u001b[0mcomposer\u001b[0m\u001b[0;34m,\u001b[0m\u001b[0mmean_vel\u001b[0m\u001b[0;34m)\u001b[0m\u001b[0;34m\u001b[0m\u001b[0;34m\u001b[0m\u001b[0m\n\u001b[0m\u001b[1;32m     70\u001b[0m \u001b[0;34m\u001b[0m\u001b[0m\n\u001b[1;32m     71\u001b[0m     \u001b[0;32mreturn\u001b[0m \u001b[0mtest_x\u001b[0m\u001b[0;34m,\u001b[0m \u001b[0mxml_notes\u001b[0m\u001b[0;34m,\u001b[0m \u001b[0mxml_doc\u001b[0m\u001b[0;34m,\u001b[0m \u001b[0medges\u001b[0m\u001b[0;34m,\u001b[0m \u001b[0mnote_locations\u001b[0m\u001b[0;34m\u001b[0m\u001b[0;34m\u001b[0m\u001b[0m\n",
      "\u001b[0;32m/uusoc/exports/scratch/rtimpson/thesis/virtuosoNet/pyScoreParser/xml_matching.py\u001b[0m in \u001b[0;36mread_xml_to_array\u001b[0;34m(path_name, means, stds, start_tempo, composer_name, vel_standard)\u001b[0m\n\u001b[1;32m   1800\u001b[0m     \u001b[0mbeats\u001b[0m \u001b[0;34m=\u001b[0m \u001b[0mxml_object\u001b[0m\u001b[0;34m.\u001b[0m\u001b[0mget_beat_positions\u001b[0m\u001b[0;34m(\u001b[0m\u001b[0;34m)\u001b[0m\u001b[0;34m\u001b[0m\u001b[0;34m\u001b[0m\u001b[0m\n\u001b[1;32m   1801\u001b[0m     \u001b[0mmeasure_positions\u001b[0m \u001b[0;34m=\u001b[0m \u001b[0mxml_object\u001b[0m\u001b[0;34m.\u001b[0m\u001b[0mget_measure_positions\u001b[0m\u001b[0;34m(\u001b[0m\u001b[0;34m)\u001b[0m\u001b[0;34m\u001b[0m\u001b[0;34m\u001b[0m\u001b[0m\n\u001b[0;32m-> 1802\u001b[0;31m     \u001b[0mfeatures\u001b[0m \u001b[0;34m=\u001b[0m \u001b[0mextract_score_features\u001b[0m\u001b[0;34m(\u001b[0m\u001b[0mxml_notes\u001b[0m\u001b[0;34m,\u001b[0m \u001b[0mmeasure_positions\u001b[0m\u001b[0;34m,\u001b[0m \u001b[0mbeats\u001b[0m\u001b[0;34m,\u001b[0m \u001b[0mqpm_primo\u001b[0m\u001b[0;34m=\u001b[0m\u001b[0mstart_tempo\u001b[0m\u001b[0;34m,\u001b[0m \u001b[0mvel_standard\u001b[0m\u001b[0;34m=\u001b[0m\u001b[0mvel_standard\u001b[0m\u001b[0;34m)\u001b[0m\u001b[0;34m\u001b[0m\u001b[0;34m\u001b[0m\u001b[0m\n\u001b[0m\u001b[1;32m   1803\u001b[0m     \u001b[0mfeatures\u001b[0m \u001b[0;34m=\u001b[0m \u001b[0mmake_index_continuous\u001b[0m\u001b[0;34m(\u001b[0m\u001b[0mfeatures\u001b[0m\u001b[0;34m,\u001b[0m \u001b[0mscore\u001b[0m\u001b[0;34m=\u001b[0m\u001b[0;32mTrue\u001b[0m\u001b[0;34m)\u001b[0m\u001b[0;34m\u001b[0m\u001b[0;34m\u001b[0m\u001b[0m\n\u001b[1;32m   1804\u001b[0m     \u001b[0mcomposer_vec\u001b[0m \u001b[0;34m=\u001b[0m \u001b[0mcomposer_name_to_vec\u001b[0m\u001b[0;34m(\u001b[0m\u001b[0mcomposer_name\u001b[0m\u001b[0;34m)\u001b[0m\u001b[0;34m\u001b[0m\u001b[0;34m\u001b[0m\u001b[0m\n",
      "\u001b[0;32m/uusoc/exports/scratch/rtimpson/thesis/virtuosoNet/pyScoreParser/xml_matching.py\u001b[0m in \u001b[0;36mextract_score_features\u001b[0;34m(xml_notes, measure_positions, beats, qpm_primo, vel_standard)\u001b[0m\n\u001b[1;32m    215\u001b[0m         \u001b[0;31m# feature.tempo = keyword_into_onehot(note.tempo.absolute, tempos_merged_key)\u001b[0m\u001b[0;34m\u001b[0m\u001b[0;34m\u001b[0m\u001b[0;34m\u001b[0m\u001b[0m\n\u001b[1;32m    216\u001b[0m         \u001b[0mfeature\u001b[0m\u001b[0;34m.\u001b[0m\u001b[0mnotation\u001b[0m \u001b[0;34m=\u001b[0m \u001b[0mnote_notation_to_vector\u001b[0m\u001b[0;34m(\u001b[0m\u001b[0mnote\u001b[0m\u001b[0;34m)\u001b[0m\u001b[0;34m\u001b[0m\u001b[0;34m\u001b[0m\u001b[0m\n\u001b[0;32m--> 217\u001b[0;31m         \u001b[0mfeature\u001b[0m\u001b[0;34m.\u001b[0m\u001b[0mqpm_primo\u001b[0m \u001b[0;34m=\u001b[0m \u001b[0mmath\u001b[0m\u001b[0;34m.\u001b[0m\u001b[0mlog\u001b[0m\u001b[0;34m(\u001b[0m\u001b[0mqpm_primo\u001b[0m\u001b[0;34m,\u001b[0m \u001b[0;36m10\u001b[0m\u001b[0;34m)\u001b[0m\u001b[0;34m\u001b[0m\u001b[0;34m\u001b[0m\u001b[0m\n\u001b[0m\u001b[1;32m    218\u001b[0m         \u001b[0mfeature\u001b[0m\u001b[0;34m.\u001b[0m\u001b[0mtempo_primo\u001b[0m \u001b[0;34m=\u001b[0m \u001b[0mtempo_primo\u001b[0m\u001b[0;34m\u001b[0m\u001b[0;34m\u001b[0m\u001b[0m\n\u001b[1;32m    219\u001b[0m         \u001b[0mfeature\u001b[0m\u001b[0;34m.\u001b[0m\u001b[0mnote_location\u001b[0m\u001b[0;34m.\u001b[0m\u001b[0mmeasure\u001b[0m \u001b[0;34m=\u001b[0m \u001b[0mnote\u001b[0m\u001b[0;34m.\u001b[0m\u001b[0mmeasure_number\u001b[0m\u001b[0;34m-\u001b[0m\u001b[0;36m1\u001b[0m\u001b[0;34m\u001b[0m\u001b[0;34m\u001b[0m\u001b[0m\n",
      "\u001b[0;31mTypeError\u001b[0m: must be real number, not NoneType"
     ]
    }
   ],
   "source": [
    "xml_file_path = f'{PRODUCTION_DATA_DIR}/input/bwv_858_fugue/'\n",
    "midi_file_path = f'{PRODUCTION_DATA_DIR}/output/bwv_858_fugue/han_bl.mid'\n",
    "plot_file_path = f'{PRODUCTION_DATA_DIR}/output/bwv_858_fugue/han_bl.png'\n",
    "model_path = f'{CACHE_MODEL_DIR}/BL/HAN_BL/v0.2_best.pth'\n",
    "qualitative_evaluator.generate_performance_for_file(\n",
    "    xml_file_path=xml_file_path,\n",
    "    midi_file_path=midi_file_path,\n",
    "    plot_path=plot_file_path,\n",
    "    composer_name='bach',\n",
    "    model_path=model_path\n",
    ")"
   ]
  },
  {
   "cell_type": "code",
   "execution_count": null,
   "metadata": {},
   "outputs": [],
   "source": []
  }
 ]
}