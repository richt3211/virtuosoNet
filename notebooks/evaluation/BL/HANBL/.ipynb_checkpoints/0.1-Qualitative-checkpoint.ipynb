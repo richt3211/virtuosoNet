{
 "cells": [
  {
   "cell_type": "code",
   "execution_count": 1,
   "metadata": {},
   "outputs": [],
   "source": [
    "%load_ext autoreload\n",
    "%autoreload 2"
   ]
  },
  {
   "cell_type": "code",
   "execution_count": 2,
   "metadata": {},
   "outputs": [
    {
     "name": "stdout",
     "output_type": "stream",
     "text": [
      "Data type is regression:  True\n"
     ]
    }
   ],
   "source": [
    "from src.evaluation.qualitative import QualitativeEvaluator\n",
    "from src.models.model_run_job import ModelJobParams\n",
    "from src.constants import PRODUCTION_DATA_DIR, CACHE_MODEL_DIR\n",
    "from src.models.BL import HANBaseline, HANBaselineHyperParams\n",
    "from music21 import midi"
   ]
  },
  {
   "cell_type": "code",
   "execution_count": 3,
   "metadata": {},
   "outputs": [
    {
     "data": {
      "text/plain": [
       "HANBaseline(\n",
       "  (lstm): LSTM(64, 64, num_layers=2, batch_first=True, dropout=0.1, bidirectional=True)\n",
       "  (note_fc): Sequential(\n",
       "    (0): Linear(in_features=78, out_features=64, bias=True)\n",
       "    (1): Dropout(p=0.1, inplace=False)\n",
       "    (2): ReLU()\n",
       "    (3): Linear(in_features=64, out_features=64, bias=True)\n",
       "    (4): Dropout(p=0.1, inplace=False)\n",
       "    (5): ReLU()\n",
       "    (6): Linear(in_features=64, out_features=64, bias=True)\n",
       "    (7): Dropout(p=0.1, inplace=False)\n",
       "    (8): ReLU()\n",
       "  )\n",
       "  (output_lstm): LSTM(174, 64, batch_first=True)\n",
       "  (fc): Linear(in_features=64, out_features=11, bias=True)\n",
       "  (performance_note_encoder): LSTM(32, 32, bidirectional=True)\n",
       "  (performance_measure_attention): ContextAttention(\n",
       "    (attention_net): Linear(in_features=64, out_features=64, bias=True)\n",
       "  )\n",
       "  (performance_contractor): Sequential(\n",
       "    (0): Linear(in_features=139, out_features=32, bias=True)\n",
       "    (1): Dropout(p=0.1, inplace=False)\n",
       "    (2): ReLU()\n",
       "  )\n",
       "  (performance_encoder): LSTM(64, 32, num_layers=2, batch_first=True, bidirectional=True)\n",
       "  (performance_final_attention): ContextAttention(\n",
       "    (attention_net): Linear(in_features=64, out_features=64, bias=True)\n",
       "  )\n",
       "  (performance_encoder_mean): Linear(in_features=64, out_features=16, bias=True)\n",
       "  (performance_encoder_var): Linear(in_features=64, out_features=16, bias=True)\n",
       "  (style_vector_expandor): Sequential(\n",
       "    (0): Linear(in_features=16, out_features=32, bias=True)\n",
       "    (1): Dropout(p=0.1, inplace=False)\n",
       "    (2): ReLU()\n",
       "  )\n",
       "  (softmax): Softmax(dim=0)\n",
       "  (sigmoid): Sigmoid()\n",
       ")"
      ]
     },
     "metadata": {},
     "output_type": "display_data"
    }
   ],
   "source": [
    "hyper_params = HANBaselineHyperParams()\n",
    "model = HANBaseline(hyper_params, 1)\n",
    "display(model)"
   ]
  },
  {
   "cell_type": "code",
   "execution_count": 4,
   "metadata": {},
   "outputs": [
    {
     "ename": "RuntimeError",
     "evalue": "The NVIDIA driver on your system is too old (found version 10020). Please update your GPU driver by downloading and installing a new version from the URL: http://www.nvidia.com/Download/index.aspx Alternatively, go to: https://pytorch.org to install a PyTorch version that has been compiled with your version of the CUDA driver.",
     "output_type": "error",
     "traceback": [
      "\u001b[0;31m---------------------------------------------------------------------------\u001b[0m",
      "\u001b[0;31mRuntimeError\u001b[0m                              Traceback (most recent call last)",
      "\u001b[0;32m<ipython-input-4-68e8b43c08bd>\u001b[0m in \u001b[0;36m<module>\u001b[0;34m\u001b[0m\n\u001b[0;32m----> 1\u001b[0;31m \u001b[0mparams\u001b[0m \u001b[0;34m=\u001b[0m \u001b[0mModelJobParams\u001b[0m\u001b[0;34m(\u001b[0m\u001b[0mis_dev\u001b[0m\u001b[0;34m=\u001b[0m\u001b[0;32mFalse\u001b[0m\u001b[0;34m)\u001b[0m\u001b[0;34m\u001b[0m\u001b[0;34m\u001b[0m\u001b[0m\n\u001b[0m\u001b[1;32m      2\u001b[0m \u001b[0mqualitative_evaluator\u001b[0m \u001b[0;34m=\u001b[0m \u001b[0mQualitativeEvaluator\u001b[0m\u001b[0;34m(\u001b[0m\u001b[0mparams\u001b[0m\u001b[0;34m,\u001b[0m \u001b[0mmodel\u001b[0m\u001b[0;34m)\u001b[0m\u001b[0;34m\u001b[0m\u001b[0;34m\u001b[0m\u001b[0m\n",
      "\u001b[0;32m/uusoc/exports/scratch/rtimpson/thesis/virtuosoNet/src/models/model_run_job.py\u001b[0m in \u001b[0;36m__init__\u001b[0;34m(self, is_dev)\u001b[0m\n\u001b[1;32m     35\u001b[0m \u001b[0;34m\u001b[0m\u001b[0m\n\u001b[1;32m     36\u001b[0m         \u001b[0mself\u001b[0m\u001b[0;34m.\u001b[0m\u001b[0mdevice_num\u001b[0m\u001b[0;34m=\u001b[0m\u001b[0;36m1\u001b[0m\u001b[0;34m\u001b[0m\u001b[0;34m\u001b[0m\u001b[0m\n\u001b[0;32m---> 37\u001b[0;31m         \u001b[0mtorch\u001b[0m\u001b[0;34m.\u001b[0m\u001b[0mcuda\u001b[0m\u001b[0;34m.\u001b[0m\u001b[0mset_device\u001b[0m\u001b[0;34m(\u001b[0m\u001b[0mself\u001b[0m\u001b[0;34m.\u001b[0m\u001b[0mdevice_num\u001b[0m\u001b[0;34m)\u001b[0m\u001b[0;34m\u001b[0m\u001b[0;34m\u001b[0m\u001b[0m\n\u001b[0m\u001b[1;32m     38\u001b[0m         \u001b[0mself\u001b[0m\u001b[0;34m.\u001b[0m\u001b[0mdevice\u001b[0m \u001b[0;34m=\u001b[0m \u001b[0mtorch\u001b[0m\u001b[0;34m.\u001b[0m\u001b[0mdevice\u001b[0m\u001b[0;34m(\u001b[0m\u001b[0;34m'cuda'\u001b[0m \u001b[0;32mif\u001b[0m \u001b[0mtorch\u001b[0m\u001b[0;34m.\u001b[0m\u001b[0mcuda\u001b[0m\u001b[0;34m.\u001b[0m\u001b[0mis_available\u001b[0m\u001b[0;34m(\u001b[0m\u001b[0;34m)\u001b[0m \u001b[0;32melse\u001b[0m \u001b[0;34m'cpu'\u001b[0m\u001b[0;34m)\u001b[0m\u001b[0;34m\u001b[0m\u001b[0;34m\u001b[0m\u001b[0m\n\u001b[1;32m     39\u001b[0m \u001b[0;34m\u001b[0m\u001b[0m\n",
      "\u001b[0;32m/uusoc/exports/scratch/rtimpson/thesis/virtuosoNet/env/lib/python3.7/site-packages/torch/cuda/__init__.py\u001b[0m in \u001b[0;36mset_device\u001b[0;34m(device)\u001b[0m\n\u001b[1;32m    261\u001b[0m     \u001b[0mdevice\u001b[0m \u001b[0;34m=\u001b[0m \u001b[0m_get_device_index\u001b[0m\u001b[0;34m(\u001b[0m\u001b[0mdevice\u001b[0m\u001b[0;34m)\u001b[0m\u001b[0;34m\u001b[0m\u001b[0;34m\u001b[0m\u001b[0m\n\u001b[1;32m    262\u001b[0m     \u001b[0;32mif\u001b[0m \u001b[0mdevice\u001b[0m \u001b[0;34m>=\u001b[0m \u001b[0;36m0\u001b[0m\u001b[0;34m:\u001b[0m\u001b[0;34m\u001b[0m\u001b[0;34m\u001b[0m\u001b[0m\n\u001b[0;32m--> 263\u001b[0;31m         \u001b[0mtorch\u001b[0m\u001b[0;34m.\u001b[0m\u001b[0m_C\u001b[0m\u001b[0;34m.\u001b[0m\u001b[0m_cuda_setDevice\u001b[0m\u001b[0;34m(\u001b[0m\u001b[0mdevice\u001b[0m\u001b[0;34m)\u001b[0m\u001b[0;34m\u001b[0m\u001b[0;34m\u001b[0m\u001b[0m\n\u001b[0m\u001b[1;32m    264\u001b[0m \u001b[0;34m\u001b[0m\u001b[0m\n\u001b[1;32m    265\u001b[0m \u001b[0;34m\u001b[0m\u001b[0m\n",
      "\u001b[0;32m/uusoc/exports/scratch/rtimpson/thesis/virtuosoNet/env/lib/python3.7/site-packages/torch/cuda/__init__.py\u001b[0m in \u001b[0;36m_lazy_init\u001b[0;34m()\u001b[0m\n\u001b[1;32m    170\u001b[0m         \u001b[0;31m# This function throws if there's a driver initialization error, no GPUs\u001b[0m\u001b[0;34m\u001b[0m\u001b[0;34m\u001b[0m\u001b[0;34m\u001b[0m\u001b[0m\n\u001b[1;32m    171\u001b[0m         \u001b[0;31m# are found or any other error occurs\u001b[0m\u001b[0;34m\u001b[0m\u001b[0;34m\u001b[0m\u001b[0;34m\u001b[0m\u001b[0m\n\u001b[0;32m--> 172\u001b[0;31m         \u001b[0mtorch\u001b[0m\u001b[0;34m.\u001b[0m\u001b[0m_C\u001b[0m\u001b[0;34m.\u001b[0m\u001b[0m_cuda_init\u001b[0m\u001b[0;34m(\u001b[0m\u001b[0;34m)\u001b[0m\u001b[0;34m\u001b[0m\u001b[0;34m\u001b[0m\u001b[0m\n\u001b[0m\u001b[1;32m    173\u001b[0m         \u001b[0;31m# Some of the queued calls may reentrantly call _lazy_init();\u001b[0m\u001b[0;34m\u001b[0m\u001b[0;34m\u001b[0m\u001b[0;34m\u001b[0m\u001b[0m\n\u001b[1;32m    174\u001b[0m         \u001b[0;31m# we need to just return without initializing in that case.\u001b[0m\u001b[0;34m\u001b[0m\u001b[0;34m\u001b[0m\u001b[0;34m\u001b[0m\u001b[0m\n",
      "\u001b[0;31mRuntimeError\u001b[0m: The NVIDIA driver on your system is too old (found version 10020). Please update your GPU driver by downloading and installing a new version from the URL: http://www.nvidia.com/Download/index.aspx Alternatively, go to: https://pytorch.org to install a PyTorch version that has been compiled with your version of the CUDA driver."
     ]
    }
   ],
   "source": [
    "params = ModelJobParams(is_dev=False)\n",
    "qualitative_evaluator = QualitativeEvaluator(params, model)"
   ]
  },
  {
   "cell_type": "code",
   "execution_count": 5,
   "metadata": {
    "tags": []
   },
   "outputs": [
    {
     "name": "stdout",
     "output_type": "stream",
     "text": [
      "Saving midi performance to /uusoc/exports/scratch/rtimpson/thesis/virtuosoData/production/output/bwv_858_fugue/han_bl.mid\n"
     ]
    }
   ],
   "source": [
    "xml_file_path = f'{PRODUCTION_DATA_DIR}/input/bwv_858_fugue/'\n",
    "midi_file_path = f'{PRODUCTION_DATA_DIR}/output/bwv_858_fugue/han_bl.mid'\n",
    "plot_file_path = f'{PRODUCTION_DATA_DIR}/output/bwv_858_fugue/han_bl.png'\n",
    "model_path = f'{CACHE_MODEL_DIR}/BL/HAN_BL/v0.2_best.pth'\n",
    "qualitative_evaluator.generate_performance_for_file(\n",
    "    xml_file_path=xml_file_path,\n",
    "    midi_file_path=midi_file_path,\n",
    "    plot_path=plot_file_path,\n",
    "    composer_name='Bach',\n",
    "    model_path=model_path\n",
    ")"
   ]
  },
  {
   "cell_type": "code",
   "execution_count": 6,
   "metadata": {},
   "outputs": [],
   "source": [
    "def playMidi(filename):\n",
    "    mf = midi.MidiFile()\n",
    "    mf.open(filename)\n",
    "    mf.read()\n",
    "    mf.close()\n",
    "    s = midi.translate.midiFileToStream(mf)\n",
    "    s.show('midi')"
   ]
  },
  {
   "cell_type": "code",
   "execution_count": 7,
   "metadata": {},
   "outputs": [
    {
     "data": {
      "text/html": [
       "\n",
       "                <div id='midiPlayerDiv8518'></div>\n",
       "                <link rel=\"stylesheet\" href=\"//cuthbertLab.github.io/music21j/css/m21.css\"\n",
       "                    type=\"text/css\" />\n",
       "                <script>\n",
       "                require.config({\n",
       "                    paths: {'music21': '//cuthbertLab.github.io/music21j/src/music21'}\n",
       "                });\n",
       "                require(['music21'], function() {\n",
       "                               mp = new music21.miditools.MidiPlayer();\n",
       "                               mp.addPlayer('#midiPlayerDiv8518');\n",
       "                               mp.base64Load('data:audio/midi;base64,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');\n",
       "                        });\n",
       "                </script>"
      ],
      "text/plain": [
       "<IPython.core.display.HTML object>"
      ]
     },
     "metadata": {},
     "output_type": "display_data"
    }
   ],
   "source": [
    "playMidi(midi_file_path)"
   ]
  },
  {
   "cell_type": "code",
   "execution_count": null,
   "metadata": {},
   "outputs": [],
   "source": []
  }
 ],
 "metadata": {
  "kernelspec": {
   "display_name": "Python 3",
   "language": "python",
   "name": "python3"
  },
  "language_info": {
   "codemirror_mode": {
    "name": "ipython",
    "version": 3
   },
   "file_extension": ".py",
   "mimetype": "text/x-python",
   "name": "python",
   "nbconvert_exporter": "python",
   "pygments_lexer": "ipython3",
   "version": "3.7.8"
  }
 },
 "nbformat": 4,
 "nbformat_minor": 2
}
