{
 "cells": [
  {
   "cell_type": "code",
   "execution_count": 4,
   "metadata": {},
   "outputs": [
    {
     "name": "stdout",
     "output_type": "stream",
     "text": [
      "The autoreload extension is already loaded. To reload it, use:\n",
      "  %reload_ext autoreload\n"
     ]
    }
   ],
   "source": [
    "%load_ext autoreload\n",
    "%autoreload 2"
   ]
  },
  {
   "cell_type": "code",
   "execution_count": 11,
   "metadata": {},
   "outputs": [],
   "source": [
    "from src.evaluation.quantitative import LSTMBaselineQuantitativeEvaluator\n",
    "from src.neptune import init_evaluation\n",
    "from src.data.data_reader.read_featurized_cache import read_featurized_test"
   ]
  },
  {
   "cell_type": "code",
   "execution_count": null,
   "metadata": {},
   "outputs": [],
   "source": [
    "test_data = read_featurized_test(file_path, None)"
   ]
  },
  {
   "cell_type": "code",
   "execution_count": 9,
   "metadata": {},
   "outputs": [
    {
     "name": "stderr",
     "output_type": "stream",
     "text": [
      "WARNING: There is a new version of neptune-client 0.4.130 (installed: 0.4.126).\n",
      "WARNING: There is a new version of neptune-client 0.4.130 (installed: 0.4.126).\n"
     ]
    }
   ],
   "source": [
    "model_name = 'model_best.pth'\n",
    "params = 'params.pickle'\n",
    "artifacts = [model_name, params]\n",
    "exp = init_evaluation('THESIS-123', artifacts)"
   ]
  },
  {
   "cell_type": "code",
   "execution_count": 10,
   "metadata": {},
   "outputs": [
    {
     "name": "stdout",
     "output_type": "stream",
     "text": [
      "2021-01-12 13:44:02 - Running test set evaluation\n",
      "2021-01-12 13:44:02 - Reading in model\n",
      "2021-01-12 13:44:02 - Reading in test data\n",
      "2021-01-12 13:45:11 - Running evaluation\n",
      "2021-01-12 13:45:37 - Invalid metric value: nan for channel test kld loss. Metrics with nan or +/-inf values will not be sent to server\n",
      "2021-01-12 13:45:37 - test total loss: 1.079915467915403tempo loss: 0.8387099791654173, vel loss: 1.3530433499396628, dev loss: 1.0178702664297221, articul loss: 1.1067559519102133, pedal loss: 1.0803843192224767, trill loss: 0.0, kld loss: nan, \n"
     ]
    }
   ],
   "source": [
    "model_path = f'artifacts/{model_name}'\n",
    "quantitative_evaluator = LSTMBaselineQuantitativeEvaluator(exp=exp, is_dynamic_source=False)\n",
    "quantitative_evaluator.run_quantitative_evaluation_on_test_set(model_path, test_data)"
   ]
  },
  {
   "cell_type": "code",
   "execution_count": null,
   "metadata": {},
   "outputs": [],
   "source": []
  }
 ],
 "metadata": {
  "kernelspec": {
   "display_name": "Python 3",
   "language": "python",
   "name": "python3"
  },
  "language_info": {
   "codemirror_mode": {
    "name": "ipython",
    "version": 3
   },
   "file_extension": ".py",
   "mimetype": "text/x-python",
   "name": "python",
   "nbconvert_exporter": "python",
   "pygments_lexer": "ipython3",
   "version": "3.7.7"
  }
 },
 "nbformat": 4,
 "nbformat_minor": 4
}
