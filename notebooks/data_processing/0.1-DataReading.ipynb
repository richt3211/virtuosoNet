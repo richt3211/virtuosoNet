{
 "cells": [
  {
   "cell_type": "code",
   "execution_count": 23,
   "metadata": {
    "tags": []
   },
   "outputs": [
    {
     "name": "stdout",
     "output_type": "stream",
     "text": [
      "The autoreload extension is already loaded. To reload it, use:\n",
      "  %reload_ext autoreload\n"
     ]
    }
   ],
   "source": [
    "from pyScoreParser.data_generation import load_entire_subfolder, load_limited_subfolder, get_train_val_test_lists, convert_features_to_vector, save_features_as_vector\n",
    "import pickle\n",
    "%load_ext autoreload\n",
    "%autoreload 2\n",
    "\n"
   ]
  },
  {
   "cell_type": "code",
   "execution_count": 2,
   "metadata": {
    "tags": []
   },
   "outputs": [
    {
     "name": "stdout",
     "output_type": "stream",
     "text": [
      "../../../chopin_cleaned/Mozart/Piano_Sonatas/8-1/\n",
      "Number of non matched pairs: 0\n",
      "performance name is Bogdanovitch01\n",
      "Number of non matched pairs: 71\n",
      "Number of mismatched notes:  60\n",
      "check trill pitch - detected pitch:  77  trill note pitch:  76 expected up trill pitch:  78 time: 73.38667875 measure:  42\n",
      "Number of Matched Notes: 3140, unmatched notes: 107\n",
      "performance name is LEE_J03\n",
      "Number of non matched pairs: 52\n",
      "Number of mismatched notes:  20\n",
      "check trill pitch - detected pitch:  77  trill note pitch:  76 expected up trill pitch:  78 time: 76.53304312499999 measure:  42\n",
      "check trill pitch - detected pitch:  77  trill note pitch:  76 expected up trill pitch:  78 time: 76.64735925 measure:  42\n",
      "Number of Matched Notes: 3191, unmatched notes: 56\n",
      "performance name is Lo01\n",
      "Number of non matched pairs: 48\n",
      "Number of mismatched notes:  68\n",
      "check trill pitch - detected pitch:  77  trill note pitch:  76 expected up trill pitch:  78 time: 80.7290859375 measure:  42\n",
      "check trill pitch - detected pitch:  77  trill note pitch:  76 expected up trill pitch:  78 time: 80.86129734375001 measure:  42\n",
      "Number of Matched Notes: 3159, unmatched notes: 88\n",
      "performance name is Rozanski02\n",
      "Number of non matched pairs: 24\n",
      "Number of mismatched notes:  77\n",
      "check trill pitch - detected pitch:  77  trill note pitch:  76 expected up trill pitch:  78 time: 81.76407421875001 measure:  42\n",
      "Number of Matched Notes: 3173, unmatched notes: 74\n",
      "performance name is Jia01\n",
      "Number of non matched pairs: 46\n",
      "Number of mismatched notes:  60\n",
      "check trill pitch - detected pitch:  77  trill note pitch:  76 expected up trill pitch:  78 time: 75.475351875 measure:  42\n",
      "check trill pitch - detected pitch:  77  trill note pitch:  76 expected up trill pitch:  78 time: 75.8252446875 measure:  42\n",
      "Number of Matched Notes: 3157, unmatched notes: 90\n",
      "../../../chopin_cleaned/Bach/Fugue/bwv_874/\n",
      "Number of non matched pairs: 0\n",
      "performance name is Kurz01\n",
      "Number of non matched pairs: 7\n",
      "Number of mismatched notes:  0\n",
      "Number of Matched Notes: 868, unmatched notes: 7\n",
      "performance name is WongWY01\n",
      "Number of non matched pairs: 3\n",
      "Number of mismatched notes:  0\n",
      "Number of Matched Notes: 872, unmatched notes: 3\n",
      "performance name is BianF01\n",
      "Number of non matched pairs: 2\n",
      "Number of mismatched notes:  0\n",
      "Number of Matched Notes: 873, unmatched notes: 2\n",
      "../../../chopin_cleaned/Liszt/Transcendental_Etudes/5/\n",
      "Number of non matched pairs: 2\n",
      "performance name is Huangci01\n",
      "Number of non matched pairs: 309\n",
      "Number of mismatched notes:  74\n",
      "Number of Matched Notes: 4165, unmatched notes: 380\n",
      "performance name is Min03\n",
      "Number of non matched pairs: 344\n",
      "Number of mismatched notes:  28\n",
      "Number of Matched Notes: 4174, unmatched notes: 371\n",
      "performance name is LiuY06\n",
      "Number of non matched pairs: 273\n",
      "Number of mismatched notes:  36\n",
      "Number of Matched Notes: 4239, unmatched notes: 306\n",
      "performance name is Gryaznov02\n",
      "Number of non matched pairs: 227\n",
      "Number of mismatched notes:  35\n",
      "Number of Matched Notes: 4283, unmatched notes: 262\n",
      "performance name is Huang16\n",
      "Number of non matched pairs: 313\n",
      "Number of mismatched notes:  38\n",
      "Number of Matched Notes: 4197, unmatched notes: 348\n",
      "performance name is Wang06\n",
      "Number of non matched pairs: 202\n",
      "Number of mismatched notes:  42\n",
      "Number of Matched Notes: 4303, unmatched notes: 242\n",
      "performance name is Sun09\n",
      "Number of non matched pairs: 164\n",
      "Number of mismatched notes:  17\n",
      "Number of Matched Notes: 4367, unmatched notes: 178\n",
      "performance name is Park03\n",
      "Number of non matched pairs: 389\n",
      "Number of mismatched notes:  30\n",
      "Number of Matched Notes: 4128, unmatched notes: 417\n",
      "performance name is WangY02\n",
      "Number of non matched pairs: 622\n",
      "Number of mismatched notes:  56\n",
      "Number of Matched Notes: 3873, unmatched notes: 672\n",
      "performance name is KIM_W02\n",
      "Number of non matched pairs: 195\n",
      "Number of mismatched notes:  17\n",
      "Number of Matched Notes: 4333, unmatched notes: 212\n",
      "performance name is HUAN_B03\n",
      "Number of non matched pairs: 359\n",
      "Number of mismatched notes:  126\n",
      "Number of Matched Notes: 4081, unmatched notes: 464\n",
      "Number of train pairs:  5 valid pairs:  3 test pairs:  11\n"
     ]
    }
   ],
   "source": [
    "# train_list = ['']\n",
    "# test_list = ['']\n",
    "train_list = ['Mozart/Piano_Sonatas/8-1/']\n",
    "valid_list = ['Bach/Fugue/bwv_874/']\n",
    "test_list = ['Liszt/Transcendental_Etudes/5/']\n",
    "\n",
    "chopin_pairs, num_train_pairs, num_valid_pairs, num_test_pairs = load_limited_subfolder('../../../chopin_cleaned', train_list, valid_list, test_list, 2)\n",
    "# save_features_as_vector(chopin_pairs, num_train_pairs, num_valid_pairs, 'perform_style_set_5')"
   ]
  },
  {
   "cell_type": "code",
   "execution_count": 3,
   "metadata": {
    "tags": []
   },
   "outputs": [
    {
     "name": "stdout",
     "output_type": "stream",
     "text": [
      "Total data point is  0\n",
      "Number of total piece is  3  and total performance is  19\n",
      "Number of training perform is  5  number of valid perform is 3  and test performance is  11\n",
      "68855\n",
      "[65, 0.125, 1, 2.0, 1.952611921727238, 0.0, 0.0, 0.5, 0.25, 0.001890359168241966, 0, 0, 0, 0.0, 0, 0, 0, 0, 0, 1, 0, 0, 0, 0, 0, 0, 0.3, 0, 0, 0, 0, -0.4, 0, 0, 0, 0, 1, 0, 0, 0, 0, 0, 1, 0, 0, 1, 0, 0, 1, 0, 0, 0, 0, 0, 0, 0, 0, 0, 0, 1, 0, 0, 0, 0, 0, 0, 0, 0, 0, 0, 0, 0, 0, 0, 0, 0, 0.3, 0]\n",
      "[1.9338497850921805, 41, 0.0, -0.15661290565983105, 0, 0, 0, 0, 5, 0, 0, 1.9338497850921805, 44.5, 1.9622032810860177, 54.583333333333336, 0, 0, 0, 0, 0]\n",
      "[[69.87897756154237, 0.2909901241739889, 1.060416817950766, 2.5435044659066155, 1.992364748267935, 0.03240505409919396, 29.18734478251398, 108.7290483625009], [1.9290315296568104, 64.29832256190545, 0.0027532427873908525, -0.3406356580560922, 0.021720763189537317, 0.3555575204939937, 55.198024834797764, 57.98585433156634, 43.044964054897974, 53.29961513325104, 51.49948442378912, 1.9290315296568104, 64.21614715602416, 1.9261210172182706, 64.21957289013237, 8.347552673689338, 0.9111950877841588, 0.6484417343967995, 1.9429048097335868], []]\n",
      "[[12.72194638535415, 0.3217724703384345, 1.2937439388772685, 0.8965674330699468, 0.07682444143077449, 0.23477269657081692, 32.58442475236884, 133.0421492877668], [0.13239642826039225, 15.24699039444318, 0.052211738726989435, 0.3119557363505264, 0.10065337180314972, 5.360688090781936, 51.85975694230675, 52.48603456443594, 56.61053852660265, 51.62806818145837, 51.13178545124165, 0.13239642826039225, 10.570797086779772, 0.12757316082356918, 9.915632390023074, 2.2684933667332126, 0.155894889204628, 0.3192903672338196, 0.854967130923716], []]\n"
     ]
    }
   ],
   "source": [
    "features = convert_features_to_vector(chopin_pairs, num_train_pairs, num_valid_pairs)"
   ]
  },
  {
   "cell_type": "code",
   "execution_count": 13,
   "metadata": {},
   "outputs": [
    {
     "data": {
      "text/plain": [
       "78"
      ]
     },
     "metadata": {},
     "output_type": "display_data"
    },
    {
     "data": {
      "text/plain": [
       "20"
      ]
     },
     "metadata": {},
     "output_type": "display_data"
    },
    {
     "data": {
      "text/plain": [
       "3247"
      ]
     },
     "metadata": {},
     "output_type": "display_data"
    },
    {
     "data": {
      "text/plain": [
       "3247"
      ]
     },
     "metadata": {},
     "output_type": "display_data"
    },
    {
     "data": {
      "text/plain": [
       "78"
      ]
     },
     "metadata": {},
     "output_type": "display_data"
    },
    {
     "data": {
      "text/plain": [
       "20"
      ]
     },
     "metadata": {},
     "output_type": "display_data"
    },
    {
     "data": {
      "text/plain": [
       "3247"
      ]
     },
     "metadata": {},
     "output_type": "display_data"
    },
    {
     "data": {
      "text/plain": [
       "3247"
      ]
     },
     "metadata": {},
     "output_type": "display_data"
    },
    {
     "data": {
      "text/plain": [
       "78"
      ]
     },
     "metadata": {},
     "output_type": "display_data"
    },
    {
     "data": {
      "text/plain": [
       "20"
      ]
     },
     "metadata": {},
     "output_type": "display_data"
    },
    {
     "data": {
      "text/plain": [
       "3247"
      ]
     },
     "metadata": {},
     "output_type": "display_data"
    },
    {
     "data": {
      "text/plain": [
       "3247"
      ]
     },
     "metadata": {},
     "output_type": "display_data"
    },
    {
     "data": {
      "text/plain": [
       "78"
      ]
     },
     "metadata": {},
     "output_type": "display_data"
    },
    {
     "data": {
      "text/plain": [
       "20"
      ]
     },
     "metadata": {},
     "output_type": "display_data"
    },
    {
     "data": {
      "text/plain": [
       "3247"
      ]
     },
     "metadata": {},
     "output_type": "display_data"
    },
    {
     "data": {
      "text/plain": [
       "3247"
      ]
     },
     "metadata": {},
     "output_type": "display_data"
    },
    {
     "data": {
      "text/plain": [
       "78"
      ]
     },
     "metadata": {},
     "output_type": "display_data"
    },
    {
     "data": {
      "text/plain": [
       "20"
      ]
     },
     "metadata": {},
     "output_type": "display_data"
    },
    {
     "data": {
      "text/plain": [
       "3247"
      ]
     },
     "metadata": {},
     "output_type": "display_data"
    },
    {
     "data": {
      "text/plain": [
       "3247"
      ]
     },
     "metadata": {},
     "output_type": "display_data"
    }
   ],
   "source": [
    "# type(features)\n",
    "# features['train']\n",
    "for xy_tuple in features['train']:\n",
    "    train = xy_tuple[0]\n",
    "    display(len(train[0]))\n",
    "    test = xy_tuple[1]\n",
    "    display(len(test[0]))\n",
    "    align_matched = xy_tuple[3]\n",
    "    display(len(align_matched))\n",
    "    pedal_status = xy_tuple[4]\n",
    "    display(len(pedal_status))\n",
    "    edges = xy_tuple[5]\n",
    "\n"
   ]
  },
  {
   "cell_type": "code",
   "execution_count": 20,
   "metadata": {
    "tags": []
   },
   "outputs": [
    {
     "name": "stdout",
     "output_type": "stream",
     "text": [
      "/uusoc/exports/scratch/rtimpson/virtuosoNet/data/train/training_data_development\n"
     ]
    }
   ],
   "source": [
    "save_name = \"../../data/train/training_data_development\"\n",
    "save_features_as_vector(features, \"../../data/train/training_data_development\")"
   ]
  },
  {
   "cell_type": "code",
   "execution_count": 24,
   "metadata": {
    "tags": []
   },
   "outputs": [
    {
     "name": "stdout",
     "output_type": "stream",
     "text": [
      "/uusoc/exports/scratch/rtimpson/virtuosoNet/data/train/training_data_development\n"
     ]
    }
   ],
   "source": [
    "print(os.path.abspath(save_name))\n",
    "save_obj = features\n",
    "with open(save_name + \".dat\", \"wb\") as f:\n",
    "    pickle.dump({'train': save_obj['train'], 'valid': save_obj['valid']}, f, protocol=2)\n",
    "with open(save_name + \"_test.dat\", \"wb\") as f:\n",
    "    pickle.dump(save_obj['test'], f, protocol=2)"
   ]
  },
  {
   "cell_type": "markdown",
   "metadata": {},
   "source": [
    "Need to change all .MID files to .mid"
   ]
  },
  {
   "cell_type": "code",
   "execution_count": null,
   "metadata": {
    "tags": []
   },
   "outputs": [],
   "source": [
    "path = \"../../../chopin_cleaned\"\n",
    "midi_list = []\n",
    "if path[len(path)-1] != \"/\":\n",
    "    path = f'{path}/'\n",
    "for dp,_,filenames in os.walk(path):\n",
    "    # print(dp)\n",
    "    for f in filenames:\n",
    "        if f[-4:] == \".MID\":\n",
    "            path = os.path.join(dp,f)\n",
    "            new_path = path.replace(\".MID\", \".mid\")\n",
    "            print(path)\n",
    "            print(new_path)\n",
    "            # os.rename(path, new_path)"
   ]
  },
  {
   "cell_type": "code",
   "execution_count": null,
   "metadata": {},
   "outputs": [],
   "source": []
  }
 ],
 "metadata": {
  "kernelspec": {
   "display_name": "Python 3",
   "language": "python",
   "name": "python3"
  },
  "language_info": {
   "codemirror_mode": {
    "name": "ipython",
    "version": 3
   },
   "file_extension": ".py",
   "mimetype": "text/x-python",
   "name": "python",
   "nbconvert_exporter": "python",
   "pygments_lexer": "ipython3",
   "version": "3.7.7"
  }
 },
 "nbformat": 4,
 "nbformat_minor": 4
}
