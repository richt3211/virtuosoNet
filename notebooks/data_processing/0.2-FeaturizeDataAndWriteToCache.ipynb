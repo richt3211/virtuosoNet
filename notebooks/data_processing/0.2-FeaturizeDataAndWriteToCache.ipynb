{
 "metadata": {
  "language_info": {
   "codemirror_mode": {
    "name": "ipython",
    "version": 3
   },
   "file_extension": ".py",
   "mimetype": "text/x-python",
   "name": "python",
   "nbconvert_exporter": "python",
   "pygments_lexer": "ipython3",
   "version": "3.8.5-final"
  },
  "orig_nbformat": 2,
  "kernelspec": {
   "name": "Python 3.8.5 64-bit (conda)",
   "display_name": "Python 3.8.5 64-bit (conda)",
   "metadata": {
    "interpreter": {
     "hash": "81dc5a356f4cb696469e5f7b2542489ba49d6f1d47415d9b5591a215c3b81bce"
    }
   }
  }
 },
 "nbformat": 4,
 "nbformat_minor": 2,
 "cells": [
  {
   "cell_type": "code",
   "execution_count": 1,
   "metadata": {},
   "outputs": [],
   "source": [
    "import pretty_midi"
   ]
  },
  {
   "cell_type": "code",
   "execution_count": 2,
   "metadata": {
    "tags": []
   },
   "outputs": [
    {
     "output_type": "stream",
     "name": "stdout",
     "text": "Data type is regression:  True\n"
    }
   ],
   "source": [
    "import src \n",
    "from src.data.data_reader.read_pre_processed import read_pre_processed\n",
    "from src.data.pre_processing import featurize_pre_processed\n",
    "from src.data.data_writer.data_writer import write_featurized_form_to_cache\n",
    "%load_ext autoreload\n",
    "%autoreload 2"
   ]
  },
  {
   "cell_type": "code",
   "execution_count": 3,
   "metadata": {},
   "outputs": [],
   "source": [
    "DATA_DIR = \"../../../virtuosoData/development\"\n",
    "DATA_CACHE_DIR = \"../../data/train\""
   ]
  },
  {
   "cell_type": "code",
   "execution_count": 11,
   "metadata": {
    "tags": []
   },
   "outputs": [
    {
     "output_type": "stream",
     "name": "stdout",
     "text": "Length of training list: 203\nLength of training list: 203\ngetting the training list\n../../../virtuosoData/development/Chopin/Sonata_2/3rd/\nNumber of non matched pairs: 4\nperformance name is KaszoS15\nNumber of non matched pairs: 121\nNumber of mismatched notes:  36\nNumber of Matched Notes: 1762, unmatched notes: 149\nperformance name is Giltburg02\nNumber of non matched pairs: 156\nNumber of mismatched notes:  20\n\nError reading the training data\n\nTraceback (most recent call last):\n  File &quot;/uusoc/exports/scratch/rtimpson/thesis/virtuosoNet/src/data/data_reader/read_pre_processed.py&quot;, line 44, in load_lists\n    (entire_pairs, num_train_pairs) = get_piece_pairs(train_list, minimum_perform_limit, entire_pairs)\n  File &quot;/uusoc/exports/scratch/rtimpson/thesis/virtuosoNet/pyScoreParser/data_generation.py&quot;, line 267, in get_piece_pairs\n    piece_pairs = xml_matching.load_pairs_from_folder(foldername)\n  File &quot;/uusoc/exports/scratch/rtimpson/thesis/virtuosoNet/pyScoreParser/xml_matching.py&quot;, line 726, in load_pairs_from_folder\n    perform_features = extract_perform_features(XMLDocument, xml_notes, perform_pairs, perf_midi_notes, measure_positions)\n  File &quot;/uusoc/exports/scratch/rtimpson/thesis/virtuosoNet/pyScoreParser/xml_matching.py&quot;, line 309, in extract_perform_features\n    feature.articulation = cal_articulation_with_tempo(pairs, i, tempo.qpm, trill_length)\n  File &quot;/uusoc/exports/scratch/rtimpson/thesis/virtuosoNet/pyScoreParser/xml_matching.py&quot;, line 582, in cal_articulation_with_tempo\n    articulation = math.log(articulation, 10)\nValueError: math domain error\n"
    },
    {
     "output_type": "error",
     "ename": "UnboundLocalError",
     "evalue": "local variable &#39;num_train_pairs&#39; referenced before assignment",
     "traceback": [
      "\u001b[0;31m---------------------------------------------------------------------------\u001b[0m",
      "\u001b[0;31mUnboundLocalError\u001b[0m                         Traceback (most recent call last)",
      "\u001b[0;32m&lt;ipython-input-11-caf000d35f3b&gt;\u001b[0m in \u001b[0;36m&lt;module&gt;\u001b[0;34m\u001b[0m\n\u001b[0;32m----&gt; 1\u001b[0;31m \u001b[0mchopin_pairs\u001b[0m\u001b[0;34m,\u001b[0m \u001b[0mnum_train_pairs\u001b[0m\u001b[0;34m,\u001b[0m \u001b[0mnum_valid_pairs\u001b[0m\u001b[0;34m,\u001b[0m \u001b[0mnum_test_pairs\u001b[0m \u001b[0;34m=\u001b[0m \u001b[0mread_pre_processed\u001b[0m\u001b[0;34m(\u001b[0m\u001b[0mDATA_DIR\u001b[0m\u001b[0;34m)\u001b[0m\u001b[0;34m\u001b[0m\u001b[0;34m\u001b[0m\u001b[0m\n\u001b[0m",
      "\u001b[0;32m/uusoc/exports/scratch/rtimpson/thesis/virtuosoNet/src/data/data_reader/read_pre_processed.py\u001b[0m in \u001b[0;36mread_pre_processed\u001b[0;34m(folder_path, data_split)\u001b[0m\n\u001b[1;32m     61\u001b[0m         \u001b[0;32mreturn\u001b[0m \u001b[0mload_limited_subfolder\u001b[0m\u001b[0;34m(\u001b[0m\u001b[0mfolder_path\u001b[0m\u001b[0;34m,\u001b[0m \u001b[0mdata_split\u001b[0m\u001b[0;34m,\u001b[0m \u001b[0;36m2\u001b[0m\u001b[0;34m)\u001b[0m\u001b[0;34m\u001b[0m\u001b[0;34m\u001b[0m\u001b[0m\n\u001b[1;32m     62\u001b[0m     \u001b[0;32melse\u001b[0m\u001b[0;34m:\u001b[0m\u001b[0;34m\u001b[0m\u001b[0;34m\u001b[0m\u001b[0m\n\u001b[0;32m---&gt; 63\u001b[0;31m         \u001b[0;32mreturn\u001b[0m \u001b[0mload_entire_subfolder\u001b[0m\u001b[0;34m(\u001b[0m\u001b[0mfolder_path\u001b[0m\u001b[0;34m,\u001b[0m \u001b[0;36m2\u001b[0m\u001b[0;34m)\u001b[0m\u001b[0;34m\u001b[0m\u001b[0;34m\u001b[0m\u001b[0m\n\u001b[0m",
      "\u001b[0;32m/uusoc/exports/scratch/rtimpson/thesis/virtuosoNet/src/data/data_reader/read_pre_processed.py\u001b[0m in \u001b[0;36mload_entire_subfolder\u001b[0;34m(path, minimum_perform_limit)\u001b[0m\n\u001b[1;32m     35\u001b[0m     \u001b[0;34m(\u001b[0m\u001b[0mtrain_list\u001b[0m\u001b[0;34m,\u001b[0m \u001b[0mvalid_list\u001b[0m\u001b[0;34m,\u001b[0m \u001b[0mtest_list\u001b[0m\u001b[0;34m)\u001b[0m \u001b[0;34m=\u001b[0m \u001b[0mget_train_val_test_lists\u001b[0m\u001b[0;34m(\u001b[0m\u001b[0mpath\u001b[0m\u001b[0;34m)\u001b[0m\u001b[0;34m\u001b[0m\u001b[0;34m\u001b[0m\u001b[0m\n\u001b[1;32m     36\u001b[0m     \u001b[0mprint\u001b[0m\u001b[0;34m(\u001b[0m\u001b[0;34mf&#39;Length of training list: {len(train_list)}&#39;\u001b[0m\u001b[0;34m)\u001b[0m\u001b[0;34m\u001b[0m\u001b[0;34m\u001b[0m\u001b[0m\n\u001b[0;32m---&gt; 37\u001b[0;31m     \u001b[0;32mreturn\u001b[0m \u001b[0mload_lists\u001b[0m\u001b[0;34m(\u001b[0m\u001b[0mtrain_list\u001b[0m\u001b[0;34m,\u001b[0m \u001b[0mvalid_list\u001b[0m\u001b[0;34m,\u001b[0m \u001b[0mtest_list\u001b[0m\u001b[0;34m,\u001b[0m \u001b[0mminimum_perform_limit\u001b[0m\u001b[0;34m)\u001b[0m\u001b[0;34m\u001b[0m\u001b[0;34m\u001b[0m\u001b[0m\n\u001b[0m\u001b[1;32m     38\u001b[0m \u001b[0;34m\u001b[0m\u001b[0m\n\u001b[1;32m     39\u001b[0m \u001b[0;32mdef\u001b[0m \u001b[0mload_lists\u001b[0m\u001b[0;34m(\u001b[0m\u001b[0mtrain_list\u001b[0m\u001b[0;34m,\u001b[0m \u001b[0mvalid_list\u001b[0m\u001b[0;34m,\u001b[0m \u001b[0mtest_list\u001b[0m\u001b[0;34m,\u001b[0m \u001b[0mminimum_perform_limit\u001b[0m\u001b[0;34m)\u001b[0m\u001b[0;34m:\u001b[0m\u001b[0;34m\u001b[0m\u001b[0;34m\u001b[0m\u001b[0m\n",
      "\u001b[0;32m/uusoc/exports/scratch/rtimpson/thesis/virtuosoNet/src/data/data_reader/read_pre_processed.py\u001b[0m in \u001b[0;36mload_lists\u001b[0;34m(train_list, valid_list, test_list, minimum_perform_limit)\u001b[0m\n\u001b[1;32m     53\u001b[0m             \u001b[0mprint\u001b[0m\u001b[0;34m(\u001b[0m\u001b[0;34m)\u001b[0m\u001b[0;34m\u001b[0m\u001b[0;34m\u001b[0m\u001b[0m\n\u001b[1;32m     54\u001b[0m \u001b[0;34m\u001b[0m\u001b[0m\n\u001b[0;32m---&gt; 55\u001b[0;31m     \u001b[0mprint\u001b[0m\u001b[0;34m(\u001b[0m\u001b[0;34m&#39;Number of train pairs: &#39;\u001b[0m\u001b[0;34m,\u001b[0m \u001b[0mnum_train_pairs\u001b[0m\u001b[0;34m,\u001b[0m \u001b[0;34m&#39;valid pairs: &#39;\u001b[0m\u001b[0;34m,\u001b[0m \u001b[0mnum_valid_pairs\u001b[0m\u001b[0;34m,\u001b[0m \u001b[0;34m&#39;test pairs: &#39;\u001b[0m\u001b[0;34m,\u001b[0m \u001b[0mnum_test_pairs\u001b[0m\u001b[0;34m)\u001b[0m\u001b[0;34m\u001b[0m\u001b[0;34m\u001b[0m\u001b[0m\n\u001b[0m\u001b[1;32m     56\u001b[0m     \u001b[0;31m# print(&#39;Number of total score notes, performance notes, non matched notes, excluded notes: &#39;, NUM_SCORE_NOTES, NUM_PERF_NOTES, NUM_NON_MATCHED_NOTES, NUM_EXCLUDED_NOTES)\u001b[0m\u001b[0;34m\u001b[0m\u001b[0;34m\u001b[0m\u001b[0;34m\u001b[0m\u001b[0m\n\u001b[1;32m     57\u001b[0m     \u001b[0;32mreturn\u001b[0m \u001b[0mentire_pairs\u001b[0m\u001b[0;34m,\u001b[0m \u001b[0mnum_train_pairs\u001b[0m\u001b[0;34m,\u001b[0m \u001b[0mnum_valid_pairs\u001b[0m\u001b[0;34m,\u001b[0m \u001b[0mnum_test_pairs\u001b[0m\u001b[0;34m\u001b[0m\u001b[0;34m\u001b[0m\u001b[0m\n",
      "\u001b[0;31mUnboundLocalError\u001b[0m: local variable &#39;num_train_pairs&#39; referenced before assignment"
     ]
    }
   ],
   "source": [
    "chopin_pairs, num_train_pairs, num_valid_pairs, num_test_pairs = read_pre_processed(DATA_DIR)"
   ]
  },
  {
   "cell_type": "code",
   "execution_count": 11,
   "metadata": {},
   "outputs": [
    {
     "output_type": "execute_result",
     "data": {
      "text/plain": "0"
     },
     "metadata": {},
     "execution_count": 11
    }
   ],
   "source": [
    "display(num_train_pairs)\n",
    "display(num_valid_pairs)\n",
    "display(num_test_pairs)"
   ]
  },
  {
   "cell_type": "code",
   "execution_count": 5,
   "metadata": {
    "tags": []
   },
   "outputs": [
    {
     "output_type": "stream",
     "name": "stdout",
     "text": "Total data point is  0\nNumber of total piece is  31  and total performance is  190\nNumber of training perform is  0  number of valid perform is 82  and test performance is  108\n554741\n[81, 0.5, 4, 2.0, 2.11558138558781, 0.375, 0.0, 0.0, 0.0, 0.0, 0, 0, 0, 0.25, 0, 0, 0, 0, 0, 0, 0, 0, 0, 1, 0, 0, 0.8, 0, 0, 0, 0, -0.4, 0, 0, 0, 0, 1, 0, 0, 0, 0, 0, 1, 0, 0, 0, 0, 0, 0, 0, 0, 0, 0, 0, 0, 0, 0, 0, 0, 1, 0, 0, 0, 0, 0, 0, 0, 0, 0, 0, 0, 0, 1, 0, 0, 0, 0.8, 0]\n[2.0336852625168342, 92, 0.10042092603728227, -0.8554042643286178, 0, 1.2758620689655131, 114, 117, 0, 114, 108, 2.0336852625168342, 59.333333333333336, 2.09681862568949, 60.0, 0, 0, 0, 0, 0]\n[[64.0592060078487, 0.6665164576793913, 1.480448533640023, 3.6646480069077283, 2.174302995210073, 0.10678323307634909, 25.430826659798957, 176.75360631883888], [2.151146567820459, 65.33357909366714, -0.0016155079677281827, -0.243778321234547, 0.03418210613293914, 0.29936918207652874, 77.53084592629713, 81.85894318249417, 30.21249736363456, 73.6399599092189, 72.7151968215798, 2.151146567820459, 65.38373699917385, 2.148643599848742, 65.41229677076795, 8.79581407079244, 0.996490669253876, 1.1178392903751977, 2.068991998740654], []]\n[[13.519748544389907, 0.9279413952415837, 1.4669889044547575, 1.7165262185447674, 0.19513032327906607, 0.5912496473364646, 34.64606474113597, 223.59614754141518], [0.23657539991949794, 17.496653868459365, 0.10398945272324121, 0.3233939273152453, 0.12645037877244994, 3.030144926352001, 52.40364625654388, 51.727919983501444, 52.11308505720356, 53.2516095537823, 53.31329393176652, 0.23657539991949794, 14.399229844278814, 0.23160330788709563, 13.476888819898278, 3.297022476594535, 0.2726527383124669, 1.1071625998112546, 1.647023397484041], []]\n"
    }
   ],
   "source": [
    "data, stats = featurize_pre_processed(chopin_pairs, num_train_pairs, num_valid_pairs)"
   ]
  },
  {
   "cell_type": "code",
   "execution_count": 10,
   "metadata": {},
   "outputs": [
    {
     "output_type": "display_data",
     "data": {
      "text/plain": "list"
     },
     "metadata": {}
    },
    {
     "output_type": "display_data",
     "data": {
      "text/plain": "0"
     },
     "metadata": {}
    }
   ],
   "source": [
    "display(type(data['train']))\n",
    "display(len(data['train']))\n"
   ]
  },
  {
   "cell_type": "code",
   "execution_count": 6,
   "metadata": {
    "tags": []
   },
   "outputs": [
    {
     "output_type": "stream",
     "name": "stdout",
     "text": "/uusoc/exports/scratch/rtimpson/thesis/virtuosoNet/data/train/training_data\n"
    }
   ],
   "source": [
    "file_path = f'{DATA_CACHE_DIR}/training_data'\n",
    "write_featurized_form_to_cache(data, stats, file_path)"
   ]
  },
  {
   "cell_type": "code",
   "execution_count": null,
   "metadata": {},
   "outputs": [],
   "source": []
  }
 ]
}