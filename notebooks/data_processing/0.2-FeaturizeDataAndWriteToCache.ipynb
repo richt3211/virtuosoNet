{
 "metadata": {
  "language_info": {
   "codemirror_mode": {
    "name": "ipython",
    "version": 3
   },
   "file_extension": ".py",
   "mimetype": "text/x-python",
   "name": "python",
   "nbconvert_exporter": "python",
   "pygments_lexer": "ipython3",
   "version": "3.8.5-final"
  },
  "orig_nbformat": 2,
  "kernelspec": {
   "name": "Python 3.8.5 64-bit (conda)",
   "display_name": "Python 3.8.5 64-bit (conda)",
   "metadata": {
    "interpreter": {
     "hash": "81dc5a356f4cb696469e5f7b2542489ba49d6f1d47415d9b5591a215c3b81bce"
    }
   }
  }
 },
 "nbformat": 4,
 "nbformat_minor": 2,
 "cells": [
  {
   "cell_type": "code",
   "execution_count": 1,
   "metadata": {},
   "outputs": [],
   "source": [
    "import pretty_midi"
   ]
  },
  {
   "cell_type": "code",
   "execution_count": 2,
   "metadata": {
    "tags": []
   },
   "outputs": [
    {
     "output_type": "stream",
     "name": "stdout",
     "text": [
      "Data type is regression:  True\n"
     ]
    }
   ],
   "source": [
    "import src \n",
    "from src.data.data_reader.read_pre_processed import read_pre_processed\n",
    "from src.data.pre_processing import featurize_pre_processed\n",
    "from src.data.data_writer.data_writer import write_featurized_form_to_cache\n",
    "%load_ext autoreload\n",
    "%autoreload 2"
   ]
  },
  {
   "cell_type": "code",
   "execution_count": 3,
   "metadata": {},
   "outputs": [],
   "source": [
    "DATA_DIR = \"../../../virtuosoData/development\"\n",
    "DATA_CACHE_DIR = \"../../data/train\""
   ]
  },
  {
   "cell_type": "code",
   "execution_count": 4,
   "metadata": {
    "tags": [
     "outputPrepend"
    ]
   },
   "outputs": [
    {
     "output_type": "stream",
     "name": "stdout",
     "text": [
      "\n",
      "check: articulation is 6.610395379831259\n",
      "check: articulation is 6.971677559913152\n",
      "Number of Matched Notes: 2603, unmatched notes: 70\n",
      "performance name is WuuE10\n",
      "Number of non matched pairs: 45\n",
      "Number of mismatched notes:  14\n",
      "check: articulation is 6.478416035199116\n",
      "check: articulation is 6.415708274895318\n",
      "Number of Matched Notes: 2617, unmatched notes: 56\n",
      "performance name is Hou06\n",
      "Number of non matched pairs: 56\n",
      "Number of mismatched notes:  24\n",
      "check: articulation is 8.354066985645906\n",
      "check: articulation is 6.636959370904399\n",
      "check: articulation is 7.131129676716377\n",
      "check: articulation is 6.118787878787912\n",
      "check: articulation is 7.839344262295244\n",
      "check: articulation is 6.152584085315914\n",
      "check: articulation is 6.606108065779179\n",
      "check: articulation is 6.7778327560614935\n",
      "check: articulation is 6.808750882144973\n",
      "check: articulation is 6.056872037914681\n",
      "check: articulation is 6.962722852512678\n",
      "check: articulation is 8.402027027027328\n",
      "check: articulation is 6.01772525849335\n",
      "check: articulation is 7.742026266416688\n",
      "check: articulation is 24.67760494353321\n",
      "Number of Matched Notes: 2599, unmatched notes: 74\n",
      "performance name is Woo10\n",
      "Number of non matched pairs: 87\n",
      "Number of mismatched notes:  22\n",
      "check: articulation is 7.529481834425382\n",
      "check: articulation is 8.098814229249252\n",
      "check: articulation is 6.321070234113442\n",
      "Number of Matched Notes: 2567, unmatched notes: 106\n",
      "performance name is ZhangW07\n",
      "Number of non matched pairs: 40\n",
      "Number of mismatched notes:  18\n",
      "check: articulation is 8.728575694237202\n",
      "check: articulation is 19.481481481481598\n",
      "check: articulation is 6.271276595744721\n",
      "Number of Matched Notes: 2620, unmatched notes: 53\n",
      "performance name is Kociuban10\n",
      "Number of non matched pairs: 228\n",
      "Number of mismatched notes:  14\n",
      "check: articulation is 6.234442836468851\n",
      "check: articulation is 6.529567519858815\n",
      "check: articulation is 6.179640718562757\n",
      "Number of Matched Notes: 2435, unmatched notes: 238\n",
      "../../../virtuosoData/development/Schubert/Piano_Sonatas/664-1/\n",
      "Number of non matched pairs: 0\n",
      "performance name is BuiJL06\n",
      "Number of non matched pairs: 87\n",
      "Number of mismatched notes:  2\n",
      "check: articulation is 7.967588179218198\n",
      "Number of Matched Notes: 2352, unmatched notes: 89\n",
      "performance name is KabuliL10\n",
      "Number of non matched pairs: 56\n",
      "Number of mismatched notes:  12\n",
      "check: articulation is 9.174959871589683\n",
      "check: articulation is 6.2365234698954195\n",
      "Number of Matched Notes: 2375, unmatched notes: 66\n",
      "performance name is Mo10\n",
      "Number of non matched pairs: 91\n",
      "Number of mismatched notes:  11\n",
      "check: articulation is 8.6801393728229\n",
      "Number of Matched Notes: 2340, unmatched notes: 101\n",
      "performance name is Lin07\n",
      "Number of non matched pairs: 32\n",
      "Number of mismatched notes:  7\n",
      "check: articulation is 8.542046063202775\n",
      "Number of Matched Notes: 2402, unmatched notes: 39\n",
      "../../../virtuosoData/development/Liszt/Transcendental_Etudes/5/\n",
      "Number of non matched pairs: 2\n",
      "performance name is Huangci01\n",
      "Number of non matched pairs: 309\n",
      "Number of mismatched notes:  74\n",
      "Number of Matched Notes: 4165, unmatched notes: 380\n",
      "performance name is Min03\n",
      "Number of non matched pairs: 344\n",
      "Number of mismatched notes:  28\n",
      "Number of Matched Notes: 4174, unmatched notes: 371\n",
      "performance name is LiuY06\n",
      "Number of non matched pairs: 273\n",
      "Number of mismatched notes:  36\n",
      "Number of Matched Notes: 4239, unmatched notes: 306\n",
      "performance name is Gryaznov02\n",
      "Number of non matched pairs: 227\n",
      "Number of mismatched notes:  35\n",
      "Number of Matched Notes: 4283, unmatched notes: 262\n",
      "performance name is Huang16\n",
      "Number of non matched pairs: 313\n",
      "Number of mismatched notes:  38\n",
      "Number of Matched Notes: 4197, unmatched notes: 348\n",
      "performance name is Wang06\n",
      "Number of non matched pairs: 202\n",
      "Number of mismatched notes:  42\n",
      "Number of Matched Notes: 4303, unmatched notes: 242\n",
      "performance name is Sun09\n",
      "Number of non matched pairs: 164\n",
      "Number of mismatched notes:  17\n",
      "Number of Matched Notes: 4367, unmatched notes: 178\n",
      "performance name is Park03\n",
      "Number of non matched pairs: 389\n",
      "Number of mismatched notes:  30\n",
      "Number of Matched Notes: 4128, unmatched notes: 417\n",
      "performance name is WangY02\n",
      "Number of non matched pairs: 622\n",
      "Number of mismatched notes:  56\n",
      "Number of Matched Notes: 3873, unmatched notes: 672\n",
      "performance name is KIM_W02\n",
      "Number of non matched pairs: 195\n",
      "Number of mismatched notes:  17\n",
      "Number of Matched Notes: 4333, unmatched notes: 212\n",
      "performance name is HUAN_B03\n",
      "Number of non matched pairs: 359\n",
      "Number of mismatched notes:  126\n",
      "Number of Matched Notes: 4081, unmatched notes: 464\n",
      "../../../virtuosoData/development/Liszt/Transcendental_Etudes/9/\n",
      "Number of non matched pairs: 0\n",
      "performance name is ADIG07\n",
      "Number of non matched pairs: 178\n",
      "Number of mismatched notes:  106\n",
      "check: articulation is 11.310208126858289\n",
      "check: articulation is 13.68880079286424\n",
      "check trill pitch - detected pitch:  73  trill note pitch:  70 expected up trill pitch:  72 time: 114.92830387499998 measure:  25\n",
      "check: articulation is 6.517154811715374\n",
      "check trill pitch - detected pitch:  74  trill note pitch:  73 expected up trill pitch:  75 time: 301.560595875 measure:  69\n",
      "check trill pitch - detected pitch:  74  trill note pitch:  73 expected up trill pitch:  75 time: 301.729399125 measure:  69\n",
      "check trill pitch - detected pitch:  74  trill note pitch:  73 expected up trill pitch:  75 time: 301.89927074999997 measure:  69\n",
      "check trill pitch - detected pitch:  78  trill note pitch:  76 expected up trill pitch:  77 time: 304.72832774999995 measure:  70\n",
      "check trill pitch - detected pitch:  81  trill note pitch:  79 expected up trill pitch:  80 time: 308.137512375 measure:  71\n",
      "check trill pitch - detected pitch:  81  trill note pitch:  79 expected up trill pitch:  80 time: 308.28067462499996 measure:  71\n",
      "check trill pitch - detected pitch:  73  trill note pitch:  70 expected up trill pitch:  72 time: 361.7389545 measure:  82\n",
      "check trill pitch - detected pitch:  72  trill note pitch:  70 expected up trill pitch:  71 time: 379.91521837499994 measure:  86\n",
      "check trill pitch - detected pitch:  72  trill note pitch:  70 expected up trill pitch:  71 time: 380.059449 measure:  86\n",
      "check trill pitch - detected pitch:  72  trill note pitch:  70 expected up trill pitch:  71 time: 380.18444887499993 measure:  86\n",
      "check trill pitch - detected pitch:  72  trill note pitch:  70 expected up trill pitch:  71 time: 380.30197012499997 measure:  86\n",
      "check trill pitch - detected pitch:  72  trill note pitch:  70 expected up trill pitch:  71 time: 380.43551699999995 measure:  86\n",
      "check trill pitch - detected pitch:  72  trill note pitch:  70 expected up trill pitch:  71 time: 380.58188437499996 measure:  86\n",
      "check trill pitch - detected pitch:  72  trill note pitch:  70 expected up trill pitch:  71 time: 380.76137137499995 measure:  86\n",
      "check trill pitch - detected pitch:  72  trill note pitch:  70 expected up trill pitch:  71 time: 380.90346524999995 measure:  86\n",
      "check trill pitch - detected pitch:  72  trill note pitch:  70 expected up trill pitch:  71 time: 381.07333687499994 measure:  86\n",
      "check trill pitch - detected pitch:  72  trill note pitch:  70 expected up trill pitch:  71 time: 381.22504612499995 measure:  86\n",
      "check trill pitch - detected pitch:  72  trill note pitch:  70 expected up trill pitch:  71 time: 381.38743912499996 measure:  86\n",
      "check trill pitch - detected pitch:  72  trill note pitch:  70 expected up trill pitch:  71 time: 381.54235349999993 measure:  86\n",
      "check: articulation is 6.027691316947319\n",
      "Number of Matched Notes: 4597, unmatched notes: 261\n",
      "performance name is WongDoe02_2006\n",
      "Number of non matched pairs: 402\n",
      "Number of mismatched notes:  259\n",
      "check trill pitch - detected pitch:  73  trill note pitch:  70 expected up trill pitch:  72 time: 275.18134875000004 measure:  54\n",
      "check trill pitch - detected pitch:  74  trill note pitch:  73 expected up trill pitch:  75 time: 336.709065 measure:  69\n",
      "check trill pitch - detected pitch:  74  trill note pitch:  73 expected up trill pitch:  75 time: 336.85463109375 measure:  69\n",
      "check trill pitch - detected pitch:  78  trill note pitch:  76 expected up trill pitch:  77 time: 339.22375265625004 measure:  70\n",
      "check trill pitch - detected pitch:  78  trill note pitch:  76 expected up trill pitch:  77 time: 339.38935078125 measure:  70\n",
      "check trill pitch - detected pitch:  78  trill note pitch:  76 expected up trill pitch:  77 time: 339.7192115625 measure:  70\n",
      "check trill pitch - detected pitch:  81  trill note pitch:  79 expected up trill pitch:  80 time: 342.02423062500003 measure:  71\n",
      "check trill pitch - detected pitch:  81  trill note pitch:  79 expected up trill pitch:  80 time: 342.173803125 measure:  71\n",
      "check trill pitch - detected pitch:  81  trill note pitch:  79 expected up trill pitch:  80 time: 342.32471109375 measure:  71\n",
      "check trill pitch - detected pitch:  81  trill note pitch:  79 expected up trill pitch:  80 time: 342.43154859375 measure:  71\n",
      "check trill pitch - detected pitch:  72  trill note pitch:  70 expected up trill pitch:  71 time: 414.90076031250004 measure:  86\n",
      "check trill pitch - detected pitch:  72  trill note pitch:  70 expected up trill pitch:  71 time: 415.07570671875004 measure:  86\n",
      "check trill pitch - detected pitch:  72  trill note pitch:  70 expected up trill pitch:  71 time: 415.23996937500004 measure:  86\n",
      "check trill pitch - detected pitch:  72  trill note pitch:  70 expected up trill pitch:  71 time: 415.4402896875 measure:  86\n",
      "check trill pitch - detected pitch:  72  trill note pitch:  70 expected up trill pitch:  71 time: 415.58986218750005 measure:  86\n",
      "check trill pitch - detected pitch:  72  trill note pitch:  70 expected up trill pitch:  71 time: 415.774156875 measure:  86\n",
      "check trill pitch - detected pitch:  72  trill note pitch:  70 expected up trill pitch:  71 time: 415.89702 measure:  86\n",
      "check trill pitch - detected pitch:  72  trill note pitch:  70 expected up trill pitch:  71 time: 416.06395359375 measure:  86\n",
      "check trill pitch - detected pitch:  72  trill note pitch:  70 expected up trill pitch:  71 time: 416.2389 measure:  86\n",
      "check trill pitch - detected pitch:  72  trill note pitch:  70 expected up trill pitch:  71 time: 416.37645328125 measure:  86\n",
      "check trill pitch - detected pitch:  72  trill note pitch:  70 expected up trill pitch:  71 time: 416.77175203125 measure:  86\n",
      "check trill pitch - detected pitch:  73  trill note pitch:  70 expected up trill pitch:  71 time: 416.8184934375 measure:  86\n",
      "check: articulation is 8.53129931614947\n",
      "Number of Matched Notes: 4247, unmatched notes: 611\n",
      "performance name is WongDoe02_2009\n",
      "Number of non matched pairs: 364\n",
      "Number of mismatched notes:  310\n",
      "check trill pitch - detected pitch:  73  trill note pitch:  70 expected up trill pitch:  72 time: 113.34256828125001 measure:  21\n",
      "check trill pitch - detected pitch:  73  trill note pitch:  70 expected up trill pitch:  72 time: 269.6765465625 measure:  54\n",
      "check trill pitch - detected pitch:  50  trill note pitch:  48 expected up trill pitch:  49 time: 317.37548390625 measure:  65\n",
      "check trill pitch - detected pitch:  74  trill note pitch:  73 expected up trill pitch:  75 time: 329.438773125 measure:  69\n",
      "check trill pitch - detected pitch:  74  trill note pitch:  73 expected up trill pitch:  75 time: 329.62707421875 measure:  69\n",
      "check trill pitch - detected pitch:  74  trill note pitch:  73 expected up trill pitch:  75 time: 329.7726403125 measure:  69\n",
      "check trill pitch - detected pitch:  76  trill note pitch:  75 expected up trill pitch:  77 time: 331.64363203125004 measure:  70\n",
      "check trill pitch - detected pitch:  78  trill note pitch:  76 expected up trill pitch:  77 time: 332.23658015625 measure:  70\n",
      "check trill pitch - detected pitch:  78  trill note pitch:  76 expected up trill pitch:  77 time: 332.355436875 measure:  70\n",
      "check trill pitch - detected pitch:  79  trill note pitch:  77 expected up trill pitch:  78 time: 333.5546878125 measure:  70\n",
      "check trill pitch - detected pitch:  79  trill note pitch:  78 expected up trill pitch:  80 time: 334.919536875 measure:  71\n",
      "check trill pitch - detected pitch:  81  trill note pitch:  79 expected up trill pitch:  80 time: 335.41366031250004 measure:  71\n",
      "check trill pitch - detected pitch:  81  trill note pitch:  79 expected up trill pitch:  80 time: 335.59929046875004 measure:  71\n",
      "check trill pitch - detected pitch:  81  trill note pitch:  79 expected up trill pitch:  80 time: 335.70879890625 measure:  71\n",
      "check trill pitch - detected pitch:  72  trill note pitch:  70 expected up trill pitch:  71 time: 403.11257765625004 measure:  86\n",
      "check trill pitch - detected pitch:  72  trill note pitch:  70 expected up trill pitch:  71 time: 403.28752406250004 measure:  86\n",
      "check trill pitch - detected pitch:  72  trill note pitch:  70 expected up trill pitch:  71 time: 403.4744896875 measure:  86\n",
      "check trill pitch - detected pitch:  72  trill note pitch:  70 expected up trill pitch:  71 time: 403.69350656250003 measure:  86\n",
      "check trill pitch - detected pitch:  72  trill note pitch:  70 expected up trill pitch:  71 time: 403.8858140625 measure:  86\n",
      "check trill pitch - detected pitch:  72  trill note pitch:  70 expected up trill pitch:  71 time: 404.08479890625 measure:  86\n",
      "check trill pitch - detected pitch:  72  trill note pitch:  70 expected up trill pitch:  71 time: 404.2917965625 measure:  86\n",
      "check trill pitch - detected pitch:  72  trill note pitch:  70 expected up trill pitch:  71 time: 404.502800625 measure:  86\n",
      "check trill pitch - detected pitch:  72  trill note pitch:  70 expected up trill pitch:  71 time: 404.71647562500004 measure:  86\n",
      "check: articulation is 6.981882981883281\n",
      "Number of Matched Notes: 4241, unmatched notes: 617\n",
      "../../../virtuosoData/development/Liszt/Gran_Etudes_de_Paganini/6_Theme_and_Variations/\n",
      "Number of non matched pairs: 7\n",
      "performance name is Krasnitsky03\n",
      "Number of non matched pairs: 200\n",
      "Number of mismatched notes:  217\n",
      "Number of Matched Notes: 4050, unmatched notes: 388\n",
      "performance name is WangA01\n",
      "Number of non matched pairs: 141\n",
      "Number of mismatched notes:  209\n",
      "check trill pitch - detected pitch:  46  trill note pitch:  45 expected up trill pitch:  47 time: 292.5077203125 measure:  219\n",
      "check trill pitch - detected pitch:  46  trill note pitch:  45 expected up trill pitch:  47 time: 292.73875640625 measure:  219\n",
      "check trill pitch - detected pitch:  46  trill note pitch:  45 expected up trill pitch:  47 time: 292.932399375 measure:  219\n",
      "check trill pitch - detected pitch:  46  trill note pitch:  45 expected up trill pitch:  47 time: 293.11268765625 measure:  219\n",
      "check trill pitch - detected pitch:  34  trill note pitch:  33 expected up trill pitch:  35 time: 292.52241046875 measure:  219\n",
      "check trill pitch - detected pitch:  34  trill note pitch:  33 expected up trill pitch:  35 time: 292.74409828125 measure:  219\n",
      "check trill pitch - detected pitch:  34  trill note pitch:  33 expected up trill pitch:  35 time: 292.93106390625 measure:  219\n",
      "check trill pitch - detected pitch:  34  trill note pitch:  33 expected up trill pitch:  35 time: 293.1327196875 measure:  219\n",
      "check trill pitch - detected pitch:  34  trill note pitch:  33 expected up trill pitch:  35 time: 293.284963125 measure:  219\n",
      "Number of Matched Notes: 4101, unmatched notes: 337\n",
      "performance name is Yu04\n",
      "Number of non matched pairs: 135\n",
      "Number of mismatched notes:  177\n",
      "check: articulation is 12.977349397590622\n",
      "check trill pitch - detected pitch:  46  trill note pitch:  45 expected up trill pitch:  47 time: 289.32529828125 measure:  219\n",
      "check trill pitch - detected pitch:  46  trill note pitch:  45 expected up trill pitch:  47 time: 289.5322959375 measure:  219\n",
      "check trill pitch - detected pitch:  46  trill note pitch:  45 expected up trill pitch:  47 time: 289.69789406250004 measure:  219\n",
      "check trill pitch - detected pitch:  46  trill note pitch:  45 expected up trill pitch:  47 time: 289.8581503125 measure:  219\n",
      "check trill pitch - detected pitch:  46  trill note pitch:  45 expected up trill pitch:  47 time: 290.037103125 measure:  219\n",
      "check trill pitch - detected pitch:  46  trill note pitch:  45 expected up trill pitch:  47 time: 290.208043125 measure:  219\n",
      "check trill pitch - detected pitch:  34  trill note pitch:  33 expected up trill pitch:  35 time: 289.35067218750004 measure:  219\n",
      "check trill pitch - detected pitch:  34  trill note pitch:  33 expected up trill pitch:  35 time: 289.5429796875 measure:  219\n",
      "check trill pitch - detected pitch:  34  trill note pitch:  33 expected up trill pitch:  35 time: 289.71391968750004 measure:  219\n",
      "check trill pitch - detected pitch:  34  trill note pitch:  33 expected up trill pitch:  35 time: 289.8848596875 measure:  219\n",
      "check trill pitch - detected pitch:  34  trill note pitch:  33 expected up trill pitch:  35 time: 290.0397740625 measure:  219\n",
      "check trill pitch - detected pitch:  34  trill note pitch:  33 expected up trill pitch:  35 time: 290.24410078125004 measure:  219\n",
      "Number of Matched Notes: 4139, unmatched notes: 299\n",
      "performance name is KanM09\n",
      "Number of non matched pairs: 315\n",
      "Number of mismatched notes:  213\n",
      "check trill pitch - detected pitch:  46  trill note pitch:  45 expected up trill pitch:  47 time: 335.945176875 measure:  219\n",
      "check trill pitch - detected pitch:  46  trill note pitch:  45 expected up trill pitch:  47 time: 336.08005921875 measure:  219\n",
      "check trill pitch - detected pitch:  46  trill note pitch:  45 expected up trill pitch:  47 time: 336.2363090625 measure:  219\n",
      "check trill pitch - detected pitch:  46  trill note pitch:  45 expected up trill pitch:  47 time: 336.3858815625 measure:  219\n",
      "check trill pitch - detected pitch:  46  trill note pitch:  45 expected up trill pitch:  47 time: 336.53545406250004 measure:  219\n",
      "check trill pitch - detected pitch:  46  trill note pitch:  45 expected up trill pitch:  47 time: 336.725090625 measure:  219\n",
      "check trill pitch - detected pitch:  34  trill note pitch:  33 expected up trill pitch:  35 time: 335.95051875 measure:  219\n",
      "check trill pitch - detected pitch:  34  trill note pitch:  33 expected up trill pitch:  35 time: 336.09341390625 measure:  219\n",
      "check trill pitch - detected pitch:  34  trill note pitch:  33 expected up trill pitch:  35 time: 336.244321875 measure:  219\n",
      "check trill pitch - detected pitch:  34  trill note pitch:  33 expected up trill pitch:  35 time: 336.415261875 measure:  219\n",
      "check trill pitch - detected pitch:  34  trill note pitch:  33 expected up trill pitch:  35 time: 336.58486640625 measure:  219\n",
      "check trill pitch - detected pitch:  34  trill note pitch:  33 expected up trill pitch:  35 time: 336.83593453125 measure:  219\n",
      "Number of Matched Notes: 3921, unmatched notes: 517\n",
      "performance name is WangA07\n",
      "Number of non matched pairs: 198\n",
      "Number of mismatched notes:  270\n",
      "check trill pitch - detected pitch:  46  trill note pitch:  45 expected up trill pitch:  47 time: 276.33252281250003 measure:  219\n",
      "check trill pitch - detected pitch:  46  trill note pitch:  45 expected up trill pitch:  47 time: 276.5301721875 measure:  219\n",
      "check trill pitch - detected pitch:  46  trill note pitch:  45 expected up trill pitch:  47 time: 276.714466875 measure:  219\n",
      "check trill pitch - detected pitch:  46  trill note pitch:  45 expected up trill pitch:  47 time: 276.8827359375 measure:  219\n",
      "check trill pitch - detected pitch:  36  trill note pitch:  33 expected up trill pitch:  35 time: 276.094809375 measure:  219\n",
      "check trill pitch - detected pitch:  34  trill note pitch:  33 expected up trill pitch:  35 time: 276.34721296875 measure:  219\n",
      "check trill pitch - detected pitch:  34  trill note pitch:  33 expected up trill pitch:  35 time: 276.53150765625 measure:  219\n",
      "check trill pitch - detected pitch:  34  trill note pitch:  33 expected up trill pitch:  35 time: 276.71580234375 measure:  219\n",
      "check trill pitch - detected pitch:  34  trill note pitch:  33 expected up trill pitch:  35 time: 276.874723125 measure:  219\n",
      "check trill pitch - detected pitch:  34  trill note pitch:  33 expected up trill pitch:  35 time: 277.06569515625 measure:  219\n",
      "Number of Matched Notes: 3989, unmatched notes: 449\n",
      "Number of train pairs:  709 valid pairs:  82 test pairs:  108\n"
     ]
    }
   ],
   "source": [
    "chopin_pairs, num_train_pairs, num_valid_pairs, num_test_pairs = read_pre_processed(DATA_DIR)"
   ]
  },
  {
   "cell_type": "code",
   "execution_count": 5,
   "metadata": {},
   "outputs": [
    {
     "output_type": "display_data",
     "data": {
      "text/plain": "709"
     },
     "metadata": {}
    },
    {
     "output_type": "display_data",
     "data": {
      "text/plain": "82"
     },
     "metadata": {}
    },
    {
     "output_type": "display_data",
     "data": {
      "text/plain": "108"
     },
     "metadata": {}
    }
   ],
   "source": [
    "display(num_train_pairs)\n",
    "display(num_valid_pairs)\n",
    "display(num_test_pairs)"
   ]
  },
  {
   "cell_type": "code",
   "execution_count": 6,
   "metadata": {
    "tags": []
   },
   "outputs": [
    {
     "output_type": "stream",
     "name": "stdout",
     "text": [
      "Total data point is  0\n",
      "Number of total piece is  123  and total performance is  899\n",
      "Number of training perform is  709  number of valid perform is 82  and test performance is  108\n",
      "3192410\n",
      "[81, 0.5, 4, 2.0, 2.11558138558781, 0.375, 0.0, 0.0, 0.0, 0.0, 0, 0, 0, 0.25, 0, 0, 0, 0, 0, 0, 0, 0, 0, 1, 0, 0, 0.8, 0, 0, 0, 0, -0.4, 0, 0, 0, 0, 1, 0, 0, 0, 0, 0, 1, 0, 0, 0, 0, 0, 0, 0, 0, 0, 0, 0, 0, 0, 0, 0, 0, 1, 0, 0, 0, 0, 0, 0, 0, 0, 0, 0, 0, 0, 1, 0, 0, 0, 0.8, 0]\n",
      "[2.0336852625168342, 92, 0.10042092603728227, -0.8554042643286178, 0, 1.2758620689655131, 114, 117, 0, 114, 108, 2.0336852625168342, 59.333333333333336, 2.09681862568949, 60.0, 0, 0, 0, 0, 0]\n",
      "[[64.76710604214371, 0.5477543056535303, 1.3525402438909788, 3.5701624321437677, 2.026397961831007, 0.08552367046630512, 24.617801468435015, 178.68140006685397], [2.083422465877366, 66.01003849756141, -0.0039175161676306145, -0.27868622520278163, 0.02892248889211827, 0.31537803153908267, 82.5847507055798, 86.65718814312697, 33.14237456968247, 79.23766558806669, 78.18326969280261, 2.083422465877366, 66.08454680443356, 2.0803217103994234, 66.08957361853774, 8.759102014404807, 1.0251509507687435, 1.1253364854947037, 1.8723292360573447], []]\n",
      "[[14.66101013507621, 0.7108515278255155, 1.4158025723667214, 3.118639451362862, 0.24841475504818752, 1.7943096869355906, 39.835780711089484, 246.73171182854145], [0.23314158948300018, 18.397870690219364, 0.11928223720060611, 0.3304728329780823, 0.11669325445291263, 8.592598349567758, 51.05629328134598, 50.09682087677621, 53.82036428053111, 52.11113452826524, 52.29803652005417, 0.23314158948300018, 15.152464961156015, 0.22772926644799554, 14.325203656420443, 6.822624760386866, 0.4066424481804005, 1.1232571762282741, 9.30431617465704], []]\n"
     ]
    }
   ],
   "source": [
    "data, stats = featurize_pre_processed(chopin_pairs, num_train_pairs, num_valid_pairs)"
   ]
  },
  {
   "cell_type": "code",
   "execution_count": 7,
   "metadata": {},
   "outputs": [
    {
     "output_type": "display_data",
     "data": {
      "text/plain": "list"
     },
     "metadata": {}
    },
    {
     "output_type": "display_data",
     "data": {
      "text/plain": "709"
     },
     "metadata": {}
    }
   ],
   "source": [
    "display(type(data['train']))\n",
    "display(len(data['train']))\n"
   ]
  },
  {
   "cell_type": "code",
   "execution_count": 8,
   "metadata": {
    "tags": []
   },
   "outputs": [
    {
     "output_type": "stream",
     "name": "stdout",
     "text": [
      "/uusoc/exports/scratch/rtimpson/thesis/virtuosoNet/data/train/training_data\n"
     ]
    }
   ],
   "source": [
    "file_path = f'{DATA_CACHE_DIR}/training_data'\n",
    "write_featurized_form_to_cache(data, stats, file_path)"
   ]
  },
  {
   "source": [
    "# Dev Data Set"
   ],
   "cell_type": "markdown",
   "metadata": {}
  },
  {
   "cell_type": "code",
   "execution_count": 9,
   "metadata": {},
   "outputs": [
    {
     "output_type": "stream",
     "name": "stdout",
     "text": [
      "Length of training list: 1\n",
      "getting the training list\n",
      "../../../virtuosoData/development/Mozart/Piano_Sonatas/8-1/\n",
      "Number of non matched pairs: 0\n",
      "performance name is Bogdanovitch01\n",
      "Number of non matched pairs: 71\n",
      "Number of mismatched notes:  60\n",
      "check trill pitch - detected pitch:  77  trill note pitch:  76 expected up trill pitch:  78 time: 73.38667875 measure:  42\n",
      "Number of Matched Notes: 3140, unmatched notes: 107\n",
      "performance name is LEE_J03\n",
      "Number of non matched pairs: 52\n",
      "Number of mismatched notes:  20\n",
      "check trill pitch - detected pitch:  77  trill note pitch:  76 expected up trill pitch:  78 time: 76.53304312499999 measure:  42\n",
      "check trill pitch - detected pitch:  77  trill note pitch:  76 expected up trill pitch:  78 time: 76.64735925 measure:  42\n",
      "Number of Matched Notes: 3191, unmatched notes: 56\n",
      "performance name is Lo01\n",
      "Number of non matched pairs: 48\n",
      "Number of mismatched notes:  68\n",
      "check trill pitch - detected pitch:  77  trill note pitch:  76 expected up trill pitch:  78 time: 80.7290859375 measure:  42\n",
      "check trill pitch - detected pitch:  77  trill note pitch:  76 expected up trill pitch:  78 time: 80.86129734375001 measure:  42\n",
      "Number of Matched Notes: 3159, unmatched notes: 88\n",
      "performance name is Rozanski02\n",
      "Number of non matched pairs: 24\n",
      "Number of mismatched notes:  77\n",
      "check trill pitch - detected pitch:  77  trill note pitch:  76 expected up trill pitch:  78 time: 81.76407421875001 measure:  42\n",
      "Number of Matched Notes: 3173, unmatched notes: 74\n",
      "performance name is Jia01\n",
      "Number of non matched pairs: 46\n",
      "Number of mismatched notes:  60\n",
      "check trill pitch - detected pitch:  77  trill note pitch:  76 expected up trill pitch:  78 time: 75.475351875 measure:  42\n",
      "check trill pitch - detected pitch:  77  trill note pitch:  76 expected up trill pitch:  78 time: 75.8252446875 measure:  42\n",
      "Number of Matched Notes: 3157, unmatched notes: 90\n",
      "getting the validation list\n",
      "../../../virtuosoData/development/Bach/Fugue/bwv_874/\n",
      "Number of non matched pairs: 0\n",
      "performance name is Kurz01\n",
      "Number of non matched pairs: 7\n",
      "Number of mismatched notes:  0\n",
      "Number of Matched Notes: 868, unmatched notes: 7\n",
      "performance name is WongWY01\n",
      "Number of non matched pairs: 3\n",
      "Number of mismatched notes:  0\n",
      "Number of Matched Notes: 872, unmatched notes: 3\n",
      "performance name is BianF01\n",
      "Number of non matched pairs: 2\n",
      "Number of mismatched notes:  0\n",
      "Number of Matched Notes: 873, unmatched notes: 2\n",
      "getting the test list\n",
      "../../../virtuosoData/development/Liszt/Transcendental_Etudes/5/\n",
      "Number of non matched pairs: 2\n",
      "performance name is Huangci01\n",
      "Number of non matched pairs: 309\n",
      "Number of mismatched notes:  74\n",
      "Number of Matched Notes: 4165, unmatched notes: 380\n",
      "performance name is Min03\n",
      "Number of non matched pairs: 344\n",
      "Number of mismatched notes:  28\n",
      "Number of Matched Notes: 4174, unmatched notes: 371\n",
      "performance name is LiuY06\n",
      "Number of non matched pairs: 273\n",
      "Number of mismatched notes:  36\n",
      "Number of Matched Notes: 4239, unmatched notes: 306\n",
      "performance name is Gryaznov02\n",
      "Number of non matched pairs: 227\n",
      "Number of mismatched notes:  35\n",
      "Number of Matched Notes: 4283, unmatched notes: 262\n",
      "performance name is Huang16\n",
      "Number of non matched pairs: 313\n",
      "Number of mismatched notes:  38\n",
      "Number of Matched Notes: 4197, unmatched notes: 348\n",
      "performance name is Wang06\n",
      "Number of non matched pairs: 202\n",
      "Number of mismatched notes:  42\n",
      "Number of Matched Notes: 4303, unmatched notes: 242\n",
      "performance name is Sun09\n",
      "Number of non matched pairs: 164\n",
      "Number of mismatched notes:  17\n",
      "Number of Matched Notes: 4367, unmatched notes: 178\n",
      "performance name is Park03\n",
      "Number of non matched pairs: 389\n",
      "Number of mismatched notes:  30\n",
      "Number of Matched Notes: 4128, unmatched notes: 417\n",
      "performance name is WangY02\n",
      "Number of non matched pairs: 622\n",
      "Number of mismatched notes:  56\n",
      "Number of Matched Notes: 3873, unmatched notes: 672\n",
      "performance name is KIM_W02\n",
      "Number of non matched pairs: 195\n",
      "Number of mismatched notes:  17\n",
      "Number of Matched Notes: 4333, unmatched notes: 212\n",
      "performance name is HUAN_B03\n",
      "Number of non matched pairs: 359\n",
      "Number of mismatched notes:  126\n",
      "Number of Matched Notes: 4081, unmatched notes: 464\n",
      "Number of train pairs:  5 valid pairs:  3 test pairs:  11\n"
     ]
    }
   ],
   "source": [
    "train_list = ['Mozart/Piano_Sonatas/8-1/']\n",
    "valid_list = ['Bach/Fugue/bwv_874/']\n",
    "test_list = ['Liszt/Transcendental_Etudes/5/']\n",
    "\n",
    "data_split = {\n",
    "    'train': train_list,\n",
    "    'valid': valid_list,\n",
    "    'test': test_list\n",
    "}\n",
    "chopin_pairs, num_train_pairs, num_valid_pairs, num_test_pairs = read_pre_processed(DATA_DIR, data_split)"
   ]
  },
  {
   "cell_type": "code",
   "execution_count": 11,
   "metadata": {},
   "outputs": [
    {
     "output_type": "stream",
     "name": "stdout",
     "text": [
      "Total data point is  0\n",
      "Number of total piece is  3  and total performance is  19\n",
      "Number of training perform is  5  number of valid perform is 3  and test performance is  11\n",
      "68855\n",
      "[65, 0.125, 1, 2.0, 1.952611921727238, 0.0, 0.0, 0.5, 0.25, 0.001890359168241966, 0, 0, 0, 0.0, 0, 0, 0, 0, 0, 1, 0, 0, 0, 0, 0, 0, 0.3, 0, 0, 0, 0, -0.4, 0, 0, 0, 0, 1, 0, 0, 0, 0, 0, 1, 0, 0, 1, 0, 0, 1, 0, 0, 0, 0, 0, 0, 0, 0, 0, 0, 1, 0, 0, 0, 0, 0, 0, 0, 0, 0, 0, 0, 0, 0, 0, 0, 0, 0.3, 0]\n",
      "[1.9338497850921805, 41, 0.0, -0.15661290565983105, 0, 0, 0, 0, 5, 0, 0, 1.9338497850921805, 44.5, 1.9622032810860177, 54.583333333333336, 0, 0, 0, 0, 0]\n",
      "[[69.87897756154237, 0.2909901241739889, 1.060416817950766, 2.5435044659066155, 1.992364748267935, 0.03240505409919396, 29.18734478251398, 108.7290483625009], [1.9290315296568104, 64.29832256190545, 0.0027532427873908525, -0.3406356580560922, 0.021720763189537317, 0.3555575204939937, 55.198024834797764, 57.98585433156634, 43.044964054897974, 53.29961513325104, 51.49948442378912, 1.9290315296568104, 64.21614715602416, 1.9261210172182706, 64.21957289013237, 8.347552673689338, 0.9111950877841588, 0.6484417343967995, 1.9429048097335868], []]\n",
      "[[12.72194638535415, 0.3217724703384345, 1.2937439388772685, 0.8965674330699468, 0.07682444143077449, 0.23477269657081692, 32.58442475236884, 133.0421492877668], [0.13239642826039225, 15.24699039444318, 0.052211738726989435, 0.3119557363505264, 0.10065337180314972, 5.360688090781936, 51.85975694230675, 52.48603456443594, 56.61053852660265, 51.62806818145837, 51.13178545124165, 0.13239642826039225, 10.570797086779772, 0.12757316082356918, 9.915632390023074, 2.2684933667332126, 0.155894889204628, 0.3192903672338196, 0.854967130923716], []]\n"
     ]
    }
   ],
   "source": [
    "dev_data, stats = featurize_pre_processed(chopin_pairs, num_train_pairs, num_valid_pairs)"
   ]
  },
  {
   "cell_type": "code",
   "execution_count": 12,
   "metadata": {},
   "outputs": [
    {
     "output_type": "display_data",
     "data": {
      "text/plain": "5"
     },
     "metadata": {}
    },
    {
     "output_type": "display_data",
     "data": {
      "text/plain": "3"
     },
     "metadata": {}
    },
    {
     "output_type": "display_data",
     "data": {
      "text/plain": "11"
     },
     "metadata": {}
    },
    {
     "output_type": "display_data",
     "data": {
      "text/plain": "list"
     },
     "metadata": {}
    },
    {
     "output_type": "display_data",
     "data": {
      "text/plain": "5"
     },
     "metadata": {}
    }
   ],
   "source": [
    "display(num_train_pairs)\n",
    "display(num_valid_pairs)\n",
    "display(num_test_pairs)\n",
    "display(type(dev_data['train']))\n",
    "display(len(dev_data['train']))"
   ]
  },
  {
   "cell_type": "code",
   "execution_count": null,
   "metadata": {},
   "outputs": [],
   "source": []
  }
 ]
}