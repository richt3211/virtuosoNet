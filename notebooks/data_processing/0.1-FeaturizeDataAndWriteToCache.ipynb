{
 "metadata": {
  "language_info": {
   "codemirror_mode": {
    "name": "ipython",
    "version": 3
   },
   "file_extension": ".py",
   "mimetype": "text/x-python",
   "name": "python",
   "nbconvert_exporter": "python",
   "pygments_lexer": "ipython3",
   "version": "3.8.5-final"
  },
  "orig_nbformat": 2,
  "kernelspec": {
   "name": "Python 3.8.5 64-bit",
   "display_name": "Python 3.8.5 64-bit",
   "metadata": {
    "interpreter": {
     "hash": "2baf5f25fee22ffc6966e9f588aafc0be4592d6bffddcd717ea556e03a500686"
    }
   }
  }
 },
 "nbformat": 4,
 "nbformat_minor": 2,
 "cells": [
  {
   "cell_type": "code",
   "execution_count": 1,
   "metadata": {
    "tags": []
   },
   "outputs": [
    {
     "output_type": "stream",
     "name": "stdout",
     "text": "Data type is regression:  True\n"
    }
   ],
   "source": [
    "from src.data.data_reader.read_pre_processed import read_pre_processed\n",
    "%load_ext autoreload\n",
    "%autoreload 2"
   ]
  },
  {
   "cell_type": "code",
   "execution_count": 2,
   "metadata": {},
   "outputs": [],
   "source": [
    "DATA_DIR = \"../../../virtuosoData/development\""
   ]
  },
  {
   "cell_type": "code",
   "execution_count": 6,
   "metadata": {
    "tags": []
   },
   "outputs": [
    {
     "output_type": "stream",
     "name": "stdout",
     "text": "../../../virtuosoData/development/Mozart/Piano_Sonatas/8-1/\nNumber of non matched pairs: 0\nperformance name is Bogdanovitch01\nNumber of non matched pairs: 71\nNumber of mismatched notes:  60\ncheck trill pitch - detected pitch:  77  trill note pitch:  76 expected up trill pitch:  78 time: 73.38667875 measure:  42\nNumber of Matched Notes: 3140, unmatched notes: 107\nperformance name is LEE_J03\nNumber of non matched pairs: 52\nNumber of mismatched notes:  20\ncheck trill pitch - detected pitch:  77  trill note pitch:  76 expected up trill pitch:  78 time: 76.53304312499999 measure:  42\ncheck trill pitch - detected pitch:  77  trill note pitch:  76 expected up trill pitch:  78 time: 76.64735925 measure:  42\nNumber of Matched Notes: 3191, unmatched notes: 56\nperformance name is Lo01\nNumber of non matched pairs: 48\nNumber of mismatched notes:  68\ncheck trill pitch - detected pitch:  77  trill note pitch:  76 expected up trill pitch:  78 time: 80.7290859375 measure:  42\ncheck trill pitch - detected pitch:  77  trill note pitch:  76 expected up trill pitch:  78 time: 80.86129734375001 measure:  42\nNumber of Matched Notes: 3159, unmatched notes: 88\nperformance name is Rozanski02\nNumber of non matched pairs: 24\nNumber of mismatched notes:  77\ncheck trill pitch - detected pitch:  77  trill note pitch:  76 expected up trill pitch:  78 time: 81.76407421875001 measure:  42\nNumber of Matched Notes: 3173, unmatched notes: 74\nperformance name is Jia01\nNumber of non matched pairs: 46\nNumber of mismatched notes:  60\ncheck trill pitch - detected pitch:  77  trill note pitch:  76 expected up trill pitch:  78 time: 75.475351875 measure:  42\ncheck trill pitch - detected pitch:  77  trill note pitch:  76 expected up trill pitch:  78 time: 75.8252446875 measure:  42\nNumber of Matched Notes: 3157, unmatched notes: 90\n../../../virtuosoData/development/Bach/Fugue/bwv_874/\nNumber of non matched pairs: 0\nperformance name is Kurz01\nNumber of non matched pairs: 7\nNumber of mismatched notes:  0\nNumber of Matched Notes: 868, unmatched notes: 7\nperformance name is WongWY01\nNumber of non matched pairs: 3\nNumber of mismatched notes:  0\nNumber of Matched Notes: 872, unmatched notes: 3\nperformance name is BianF01\nNumber of non matched pairs: 2\nNumber of mismatched notes:  0\nNumber of Matched Notes: 873, unmatched notes: 2\n../../../virtuosoData/development/Liszt/Transcendental_Etudes/5/\nNumber of non matched pairs: 2\nperformance name is Huangci01\nNumber of non matched pairs: 309\nNumber of mismatched notes:  74\nNumber of Matched Notes: 4165, unmatched notes: 380\nperformance name is Min03\nNumber of non matched pairs: 344\nNumber of mismatched notes:  28\nNumber of Matched Notes: 4174, unmatched notes: 371\nperformance name is LiuY06\nNumber of non matched pairs: 273\nNumber of mismatched notes:  36\nNumber of Matched Notes: 4239, unmatched notes: 306\nperformance name is Gryaznov02\nNumber of non matched pairs: 227\nNumber of mismatched notes:  35\nNumber of Matched Notes: 4283, unmatched notes: 262\nperformance name is Huang16\nNumber of non matched pairs: 313\nNumber of mismatched notes:  38\nNumber of Matched Notes: 4197, unmatched notes: 348\nperformance name is Wang06\nNumber of non matched pairs: 202\nNumber of mismatched notes:  42\nNumber of Matched Notes: 4303, unmatched notes: 242\nperformance name is Sun09\nNumber of non matched pairs: 164\nNumber of mismatched notes:  17\nNumber of Matched Notes: 4367, unmatched notes: 178\nperformance name is Park03\nNumber of non matched pairs: 389\nNumber of mismatched notes:  30\nNumber of Matched Notes: 4128, unmatched notes: 417\nperformance name is WangY02\nNumber of non matched pairs: 622\nNumber of mismatched notes:  56\nNumber of Matched Notes: 3873, unmatched notes: 672\nperformance name is KIM_W02\nNumber of non matched pairs: 195\nNumber of mismatched notes:  17\nNumber of Matched Notes: 4333, unmatched notes: 212\nperformance name is HUAN_B03\nNumber of non matched pairs: 359\nNumber of mismatched notes:  126\nNumber of Matched Notes: 4081, unmatched notes: 464\nNumber of train pairs:  5 valid pairs:  3 test pairs:  11\n"
    }
   ],
   "source": [
    "train_list = ['Mozart/Piano_Sonatas/8-1/']\n",
    "valid_list = ['Bach/Fugue/bwv_874/']\n",
    "test_list = ['Liszt/Transcendental_Etudes/5/']\n",
    "\n",
    "data_split = {\n",
    "    'train': train_list,\n",
    "    'valid': valid_list,\n",
    "    'test': test_list\n",
    "}\n",
    "chopin_pairs, num_train_pairs, num_valid_pairs, num_test_pairs = read_pre_processed(DATA_DIR, data_split)\n"
   ]
  },
  {
   "cell_type": "code",
   "execution_count": null,
   "metadata": {},
   "outputs": [],
   "source": []
  },
  {
   "cell_type": "code",
   "execution_count": null,
   "metadata": {},
   "outputs": [],
   "source": []
  },
  {
   "cell_type": "code",
   "execution_count": null,
   "metadata": {},
   "outputs": [],
   "source": []
  },
  {
   "cell_type": "code",
   "execution_count": null,
   "metadata": {},
   "outputs": [],
   "source": []
  },
  {
   "source": [
    "Change all .MID to .mid"
   ],
   "cell_type": "markdown",
   "metadata": {}
  },
  {
   "cell_type": "code",
   "execution_count": 5,
   "metadata": {
    "tags": [
     "outputPrepend"
    ]
   },
   "outputs": [
    {
     "output_type": "stream",
     "name": "stdout",
     "text": "irtuosoData/development/Schumann/Kreisleriana/4/JohannsonP05.MID\n../../../virtuosoData/development/Schumann/Kreisleriana/4/JohannsonP05.mid\n../../../virtuosoData/development/Schumann/Kreisleriana/1_no_first_repeat/JohannsonP02.MID\n../../../virtuosoData/development/Schumann/Kreisleriana/1_no_first_repeat/JohannsonP02.mid\n../../../virtuosoData/development/Schumann/Kreisleriana/6/JohannsonP07.MID\n../../../virtuosoData/development/Schumann/Kreisleriana/6/JohannsonP07.mid\n../../../virtuosoData/development/Schumann/Kreisleriana/6/ParkJH09.MID\n../../../virtuosoData/development/Schumann/Kreisleriana/6/ParkJH09.mid\n../../../virtuosoData/development/Schumann/Kreisleriana/3/ParkJH06.MID\n../../../virtuosoData/development/Schumann/Kreisleriana/3/ParkJH06.mid\n../../../virtuosoData/development/Schumann/Kreisleriana/3/JohannsonP04.MID\n../../../virtuosoData/development/Schumann/Kreisleriana/3/JohannsonP04.mid\n../../../virtuosoData/development/Schumann/Kreisleriana/2/ParkJH05.MID\n../../../virtuosoData/development/Schumann/Kreisleriana/2/ParkJH05.mid\n../../../virtuosoData/development/Schumann/Kreisleriana/2/JohannsonP03.MID\n../../../virtuosoData/development/Schumann/Kreisleriana/2/JohannsonP03.mid\n../../../virtuosoData/development/Schumann/Kreisleriana/7/JohannsonP08.MID\n../../../virtuosoData/development/Schumann/Kreisleriana/7/JohannsonP08.mid\n../../../virtuosoData/development/Schumann/Kreisleriana/7/ParkJH10.MID\n../../../virtuosoData/development/Schumann/Kreisleriana/7/ParkJH10.mid\n../../../virtuosoData/development/Schumann/Kreisleriana/8/JohannsonP09.MID\n../../../virtuosoData/development/Schumann/Kreisleriana/8/JohannsonP09.mid\n../../../virtuosoData/development/Schumann/Kreisleriana/8/ParkJH11.MID\n../../../virtuosoData/development/Schumann/Kreisleriana/8/ParkJH11.mid\n../../../virtuosoData/development/Schumann/Kreisleriana/1/ParkJH04.MID\n../../../virtuosoData/development/Schumann/Kreisleriana/1/ParkJH04.mid\n../../../virtuosoData/development/Ravel/Pavane/Zhdanov08.MID\n../../../virtuosoData/development/Ravel/Pavane/Zhdanov08.mid\n../../../virtuosoData/development/Ravel/Gaspard_de_la_Nuit/1_Ondine/FaB10.MID\n../../../virtuosoData/development/Ravel/Gaspard_de_la_Nuit/1_Ondine/FaB10.mid\n../../../virtuosoData/development/Ravel/Gaspard_de_la_Nuit/1_Ondine/LiYZ08.MID\n../../../virtuosoData/development/Ravel/Gaspard_de_la_Nuit/1_Ondine/LiYZ08.mid\n../../../virtuosoData/development/Ravel/Gaspard_de_la_Nuit/1_Ondine/GarritsonL05.MID\n../../../virtuosoData/development/Ravel/Gaspard_de_la_Nuit/1_Ondine/GarritsonL05.mid\n../../../virtuosoData/development/Ravel/Gaspard_de_la_Nuit/1_Ondine/ChernovA21.MID\n../../../virtuosoData/development/Ravel/Gaspard_de_la_Nuit/1_Ondine/ChernovA21.mid\n../../../virtuosoData/development/Ravel/Gaspard_de_la_Nuit/1_Ondine/WangY09.MID\n../../../virtuosoData/development/Ravel/Gaspard_de_la_Nuit/1_Ondine/WangY09.mid\n../../../virtuosoData/development/Ravel/Gaspard_de_la_Nuit/1_Ondine/Lisiecki15.MID\n../../../virtuosoData/development/Ravel/Gaspard_de_la_Nuit/1_Ondine/Lisiecki15.mid\n../../../virtuosoData/development/Ravel/Gaspard_de_la_Nuit/1_Ondine/LeeS10.MID\n../../../virtuosoData/development/Ravel/Gaspard_de_la_Nuit/1_Ondine/LeeS10.mid\n../../../virtuosoData/development/Ravel/Gaspard_de_la_Nuit/1_Ondine/Albright01.MID\n../../../virtuosoData/development/Ravel/Gaspard_de_la_Nuit/1_Ondine/Albright01.mid\n../../../virtuosoData/development/Ravel/Gaspard_de_la_Nuit/1_Ondine/HamSY07.MID\n../../../virtuosoData/development/Ravel/Gaspard_de_la_Nuit/1_Ondine/HamSY07.mid\n../../../virtuosoData/development/Ravel/Gaspard_de_la_Nuit/1_Ondine/KotysV11.MID\n../../../virtuosoData/development/Ravel/Gaspard_de_la_Nuit/1_Ondine/KotysV11.mid\n../../../virtuosoData/development/Ravel/Gaspard_de_la_Nuit/1_Ondine/KiselevaD02.MID\n../../../virtuosoData/development/Ravel/Gaspard_de_la_Nuit/1_Ondine/KiselevaD02.mid\n../../../virtuosoData/development/Ravel/Gaspard_de_la_Nuit/1_Ondine/KharselM09.MID\n../../../virtuosoData/development/Ravel/Gaspard_de_la_Nuit/1_Ondine/KharselM09.mid\n../../../virtuosoData/development/Ravel/Gaspard_de_la_Nuit/1_Ondine/Ladid03.MID\n../../../virtuosoData/development/Ravel/Gaspard_de_la_Nuit/1_Ondine/Ladid03.mid\n../../../virtuosoData/development/Ravel/Gaspard_de_la_Nuit/1_Ondine/YeF04.MID\n../../../virtuosoData/development/Ravel/Gaspard_de_la_Nuit/1_Ondine/YeF04.mid\n../../../virtuosoData/development/Ravel/Gaspard_de_la_Nuit/1_Ondine/CaoJ04.MID\n../../../virtuosoData/development/Ravel/Gaspard_de_la_Nuit/1_Ondine/CaoJ04.mid\n../../../virtuosoData/development/Ravel/Miroirs/4_Alborada_del_gracioso/Shamray08.MID\n../../../virtuosoData/development/Ravel/Miroirs/4_Alborada_del_gracioso/Shamray08.mid\n../../../virtuosoData/development/Ravel/Miroirs/4_Alborada_del_gracioso/DupreeF21.MID\n../../../virtuosoData/development/Ravel/Miroirs/4_Alborada_del_gracioso/DupreeF21.mid\n../../../virtuosoData/development/Ravel/Miroirs/4_Alborada_del_gracioso/ShevchenkoO08.MID\n../../../virtuosoData/development/Ravel/Miroirs/4_Alborada_del_gracioso/ShevchenkoO08.mid\n../../../virtuosoData/development/Ravel/Miroirs/4_Alborada_del_gracioso/LeeN11.MID\n../../../virtuosoData/development/Ravel/Miroirs/4_Alborada_del_gracioso/LeeN11.mid\n../../../virtuosoData/development/Ravel/Miroirs/4_Alborada_del_gracioso/Zhdanov09.MID\n../../../virtuosoData/development/Ravel/Miroirs/4_Alborada_del_gracioso/Zhdanov09.mid\n../../../virtuosoData/development/Ravel/Miroirs/4_Alborada_del_gracioso/KimHJ09.MID\n../../../virtuosoData/development/Ravel/Miroirs/4_Alborada_del_gracioso/KimHJ09.mid\n../../../virtuosoData/development/Ravel/Miroirs/3_Une_Barque/ShevchenkoO07.MID\n../../../virtuosoData/development/Ravel/Miroirs/3_Une_Barque/ShevchenkoO07.mid\n../../../virtuosoData/development/Ravel/Miroirs/3_Une_Barque/KimHJ08.MID\n../../../virtuosoData/development/Ravel/Miroirs/3_Une_Barque/KimHJ08.mid\n../../../virtuosoData/development/Ravel/Miroirs/3_Une_Barque/DupreeF20.MID\n../../../virtuosoData/development/Ravel/Miroirs/3_Une_Barque/DupreeF20.mid\n../../../virtuosoData/development/Ravel/Jeux_deau/Wang09.MID\n../../../virtuosoData/development/Ravel/Jeux_deau/Wang09.mid\n../../../virtuosoData/development/Ravel/Jeux_deau/Jia07.MID\n../../../virtuosoData/development/Ravel/Jeux_deau/Jia07.mid\n../../../virtuosoData/development/Ravel/Jeux_deau/Zhdanov07.MID\n../../../virtuosoData/development/Ravel/Jeux_deau/Zhdanov07.mid\n../../../virtuosoData/development/Ravel/Jeux_deau/Narumi04.MID\n../../../virtuosoData/development/Ravel/Jeux_deau/Narumi04.mid\n../../../virtuosoData/development/Ravel/La_valse/Falzone03.MID\n../../../virtuosoData/development/Ravel/La_valse/Falzone03.mid\n../../../virtuosoData/development/Ravel/La_valse/Knoll11.MID\n../../../virtuosoData/development/Ravel/La_valse/Knoll11.mid\n../../../virtuosoData/development/Ravel/La_valse/ShevchenkoO10.MID\n../../../virtuosoData/development/Ravel/La_valse/ShevchenkoO10.mid\n../../../virtuosoData/development/Rachmaninoff/Sonata/2-1/ParkH03.MID\n../../../virtuosoData/development/Rachmaninoff/Sonata/2-1/ParkH03.mid\n../../../virtuosoData/development/Rachmaninoff/Sonata/2-1/Staupe04.MID\n../../../virtuosoData/development/Rachmaninoff/Sonata/2-1/Staupe04.mid\n../../../virtuosoData/development/Rachmaninoff/Preludes_op_23/4/WuuE07.MID\n../../../virtuosoData/development/Rachmaninoff/Preludes_op_23/4/WuuE07.mid\n../../../virtuosoData/development/Rachmaninoff/Preludes_op_23/4/MorozovS09.MID\n../../../virtuosoData/development/Rachmaninoff/Preludes_op_23/4/MorozovS09.mid\n../../../virtuosoData/development/Rachmaninoff/Preludes_op_23/4/ChenGuang12.MID\n../../../virtuosoData/development/Rachmaninoff/Preludes_op_23/4/ChenGuang12.mid\n../../../virtuosoData/development/Rachmaninoff/Preludes_op_23/6/Nikiforov14.MID\n../../../virtuosoData/development/Rachmaninoff/Preludes_op_23/6/Nikiforov14.mid\n../../../virtuosoData/development/Rachmaninoff/Preludes_op_32/5/Namirovsky06.MID\n../../../virtuosoData/development/Rachmaninoff/Preludes_op_32/5/Namirovsky06.mid\n../../../virtuosoData/development/Rachmaninoff/Preludes_op_32/10/Floril03.MID\n../../../virtuosoData/development/Rachmaninoff/Preludes_op_32/10/Floril03.mid\n../../../virtuosoData/development/Balakirev/Islamey/Gorucan03.MID\n../../../virtuosoData/development/Balakirev/Islamey/Gorucan03.mid\n../../../virtuosoData/development/Balakirev/Islamey/Na08.MID\n../../../virtuosoData/development/Balakirev/Islamey/Na08.mid\n../../../virtuosoData/development/Balakirev/Islamey/Verbaite04.MID\n../../../virtuosoData/development/Balakirev/Islamey/Verbaite04.mid\n../../../virtuosoData/development/Balakirev/Islamey/Shi11.MID\n../../../virtuosoData/development/Balakirev/Islamey/Shi11.mid\n../../../virtuosoData/development/Balakirev/Islamey/Yi04.MID\n../../../virtuosoData/development/Balakirev/Islamey/Yi04.mid\n../../../virtuosoData/development/Debussy/Pour_le_Piano/1/MunA12.MID\n../../../virtuosoData/development/Debussy/Pour_le_Piano/1/MunA12.mid\n../../../virtuosoData/development/Debussy/Images_Book_1/1_Reflets_dans_lEau/ParkJH13.MID\n../../../virtuosoData/development/Debussy/Images_Book_1/1_Reflets_dans_lEau/ParkJH13.mid\n../../../virtuosoData/development/Debussy/Images_Book_1/1_Reflets_dans_lEau/Kleisen11.MID\n../../../virtuosoData/development/Debussy/Images_Book_1/1_Reflets_dans_lEau/Kleisen11.mid\n../../../virtuosoData/development/Scriabin/Sonatas/5/Ko07.MID\n../../../virtuosoData/development/Scriabin/Sonatas/5/Ko07.mid\n../../../virtuosoData/development/Scriabin/Sonatas/5/Yeletskiy07.MID\n../../../virtuosoData/development/Scriabin/Sonatas/5/Yeletskiy07.mid\n../../../virtuosoData/development/Scriabin/Sonatas/5/Na03.MID\n../../../virtuosoData/development/Scriabin/Sonatas/5/Na03.mid\n../../../virtuosoData/development/Scriabin/Sonatas/5/GarritsonL06.MID\n../../../virtuosoData/development/Scriabin/Sonatas/5/GarritsonL06.mid\n../../../virtuosoData/development/Scriabin/Sonatas/5/ChernovA06.MID\n../../../virtuosoData/development/Scriabin/Sonatas/5/ChernovA06.mid\n../../../virtuosoData/development/Scriabin/Sonatas/5/Na07.MID\n../../../virtuosoData/development/Scriabin/Sonatas/5/Na07.mid\n../../../virtuosoData/development/Scriabin/Sonatas/5/FaB05.MID\n../../../virtuosoData/development/Scriabin/Sonatas/5/FaB05.mid\n../../../virtuosoData/development/Scriabin/Sonatas/5/Yeletskiy02.MID\n../../../virtuosoData/development/Scriabin/Sonatas/5/Yeletskiy02.mid\n../../../virtuosoData/development/Scriabin/Etudes_op_8/11/YeF09.MID\n../../../virtuosoData/development/Scriabin/Etudes_op_8/11/YeF09.mid\n../../../virtuosoData/development/Liszt/Mephisto_Waltz/Duepree03.MID\n../../../virtuosoData/development/Liszt/Mephisto_Waltz/Duepree03.mid\n../../../virtuosoData/development/Liszt/Mephisto_Waltz/Avdeeva07.MID\n../../../virtuosoData/development/Liszt/Mephisto_Waltz/Avdeeva07.mid\n../../../virtuosoData/development/Liszt/Mephisto_Waltz/ChenGuang24.MID\n../../../virtuosoData/development/Liszt/Mephisto_Waltz/ChenGuang24.mid\n../../../virtuosoData/development/Liszt/Mephisto_Waltz/WangV03.MID\n../../../virtuosoData/development/Liszt/Mephisto_Waltz/WangV03.mid\n../../../virtuosoData/development/Liszt/Mephisto_Waltz/ChernovA04.MID\n../../../virtuosoData/development/Liszt/Mephisto_Waltz/ChernovA04.mid\n../../../virtuosoData/development/Liszt/Mephisto_Waltz/Duepree10.MID\n../../../virtuosoData/development/Liszt/Mephisto_Waltz/Duepree10.mid\n../../../virtuosoData/development/Liszt/Mephisto_Waltz/Tysman07.MID\n../../../virtuosoData/development/Liszt/Mephisto_Waltz/Tysman07.mid\n../../../virtuosoData/development/Liszt/Sonata/Dulu07.MID\n../../../virtuosoData/development/Liszt/Sonata/Dulu07.mid\n../../../virtuosoData/development/Liszt/Sonata/GiacomelliN11.MID\n../../../virtuosoData/development/Liszt/Sonata/GiacomelliN11.mid\n../../../virtuosoData/development/Liszt/Sonata/Gasanov06.MID\n../../../virtuosoData/development/Liszt/Sonata/Gasanov06.mid\n../../../virtuosoData/development/Liszt/Sonata/Yeletskiy05.MID\n../../../virtuosoData/development/Liszt/Sonata/Yeletskiy05.mid\n../../../virtuosoData/development/Liszt/Sonata/Zuber07.MID\n../../../virtuosoData/development/Liszt/Sonata/Zuber07.mid\n../../../virtuosoData/development/Liszt/Ballade_2/GarritsonL04.MID\n../../../virtuosoData/development/Liszt/Ballade_2/GarritsonL04.mid\n../../../virtuosoData/development/Liszt/Ballade_2/Broberg03.MID\n../../../virtuosoData/development/Liszt/Ballade_2/Broberg03.mid\n../../../virtuosoData/development/Liszt/Ballade_2/Min06.MID\n../../../virtuosoData/development/Liszt/Ballade_2/Min06.mid\n../../../virtuosoData/development/Liszt/Ballade_2/Sham05.MID\n../../../virtuosoData/development/Liszt/Ballade_2/Sham05.mid\n../../../virtuosoData/development/Liszt/Ballade_2/Jin07.MID\n../../../virtuosoData/development/Liszt/Ballade_2/Jin07.mid\n../../../virtuosoData/development/Liszt/Hungarian_Rhapsodies/6/KaiRuiR04.MID\n../../../virtuosoData/development/Liszt/Hungarian_Rhapsodies/6/KaiRuiR04.mid\n../../../virtuosoData/development/Liszt/Hungarian_Rhapsodies/6/Ye04.MID\n../../../virtuosoData/development/Liszt/Hungarian_Rhapsodies/6/Ye04.mid\n../../../virtuosoData/development/Liszt/Hungarian_Rhapsodies/6/LiA09.MID\n../../../virtuosoData/development/Liszt/Hungarian_Rhapsodies/6/LiA09.mid\n../../../virtuosoData/development/Liszt/Hungarian_Rhapsodies/12/Shi09.MID\n../../../virtuosoData/development/Liszt/Hungarian_Rhapsodies/12/Shi09.mid\n../../../virtuosoData/development/Liszt/Hungarian_Rhapsodies/12/Ozaki05.MID\n../../../virtuosoData/development/Liszt/Hungarian_Rhapsodies/12/Ozaki05.mid\n../../../virtuosoData/development/Liszt/Concert_Etude_S145/2/Lu03.MID\n../../../virtuosoData/development/Liszt/Concert_Etude_S145/2/Lu03.mid\n../../../virtuosoData/development/Liszt/Concert_Etude_S145/2/ZhangX03.MID\n../../../virtuosoData/development/Liszt/Concert_Etude_S145/2/ZhangX03.mid\n../../../virtuosoData/development/Liszt/Concert_Etude_S145/2/Lo02.MID\n../../../virtuosoData/development/Liszt/Concert_Etude_S145/2/Lo02.mid\n../../../virtuosoData/development/Liszt/Concert_Etude_S145/2/Tario06.MID\n../../../virtuosoData/development/Liszt/Concert_Etude_S145/2/Tario06.mid\n../../../virtuosoData/development/Liszt/Concert_Etude_S145/1/Woo02.MID\n../../../virtuosoData/development/Liszt/Concert_Etude_S145/1/Woo02.mid\n../../../virtuosoData/development/Liszt/Concert_Etude_S145/1/Kleisen03.MID\n../../../virtuosoData/development/Liszt/Concert_Etude_S145/1/Kleisen03.mid\n../../../virtuosoData/development/Liszt/Concert_Etude_S145/1/Kleisen06.MID\n../../../virtuosoData/development/Liszt/Concert_Etude_S145/1/Kleisen06.mid\n../../../virtuosoData/development/Liszt/Concert_Etude_S145/1/Woo06.MID\n../../../virtuosoData/development/Liszt/Concert_Etude_S145/1/Woo06.mid\n../../../virtuosoData/development/Liszt/Concert_Etude_S145/1/Lai02.MID\n../../../virtuosoData/development/Liszt/Concert_Etude_S145/1/Lai02.mid\n../../../virtuosoData/development/Liszt/Transcendental_Etudes/11/Huang18.MID\n../../../virtuosoData/development/Liszt/Transcendental_Etudes/11/Huang18.mid\n../../../virtuosoData/development/Liszt/Transcendental_Etudes/5/WangY02.MID\n../../../virtuosoData/development/Liszt/Transcendental_Etudes/5/WangY02.mid\n../../../virtuosoData/development/Liszt/Transcendental_Etudes/5/Min03.MID\n../../../virtuosoData/development/Liszt/Transcendental_Etudes/5/Min03.mid\n../../../virtuosoData/development/Liszt/Transcendental_Etudes/5/Wang06.MID\n../../../virtuosoData/development/Liszt/Transcendental_Etudes/5/Wang06.mid\n../../../virtuosoData/development/Liszt/Transcendental_Etudes/5/Gryaznov02.MID\n../../../virtuosoData/development/Liszt/Transcendental_Etudes/5/Gryaznov02.mid\n../../../virtuosoData/development/Liszt/Transcendental_Etudes/5/LiuY06.MID\n../../../virtuosoData/development/Liszt/Transcendental_Etudes/5/LiuY06.mid\n../../../virtuosoData/development/Liszt/Transcendental_Etudes/5/Huang16.MID\n../../../virtuosoData/development/Liszt/Transcendental_Etudes/5/Huang16.mid\n../../../virtuosoData/development/Liszt/Transcendental_Etudes/5/Park03.MID\n../../../virtuosoData/development/Liszt/Transcendental_Etudes/5/Park03.mid\n../../../virtuosoData/development/Liszt/Transcendental_Etudes/4/Falzone02.MID\n../../../virtuosoData/development/Liszt/Transcendental_Etudes/4/Falzone02.mid\n../../../virtuosoData/development/Liszt/Transcendental_Etudes/4/LiuC04.MID\n../../../virtuosoData/development/Liszt/Transcendental_Etudes/4/LiuC04.mid\n../../../virtuosoData/development/Liszt/Transcendental_Etudes/4/Huang15.MID\n../../../virtuosoData/development/Liszt/Transcendental_Etudes/4/Huang15.mid\n../../../virtuosoData/development/Liszt/Transcendental_Etudes/4/GuoE03.MID\n../../../virtuosoData/development/Liszt/Transcendental_Etudes/4/GuoE03.mid\n../../../virtuosoData/development/Liszt/Transcendental_Etudes/4/Travinskyy03.MID\n../../../virtuosoData/development/Liszt/Transcendental_Etudes/4/Travinskyy03.mid\n../../../virtuosoData/development/Liszt/Transcendental_Etudes/4/LeeE04.MID\n../../../virtuosoData/development/Liszt/Transcendental_Etudes/4/LeeE04.mid\n../../../virtuosoData/development/Liszt/Transcendental_Etudes/9/WongDoe02_2009.MID\n../../../virtuosoData/development/Liszt/Transcendental_Etudes/9/WongDoe02_2009.mid\n../../../virtuosoData/development/Liszt/Transcendental_Etudes/3/Huang14.MID\n../../../virtuosoData/development/Liszt/Transcendental_Etudes/3/Huang14.mid\n../../../virtuosoData/development/Liszt/Transcendental_Etudes/10/Uiasiuk03.MID\n../../../virtuosoData/development/Liszt/Transcendental_Etudes/10/Uiasiuk03.mid\n../../../virtuosoData/development/Liszt/Transcendental_Etudes/10/Yeletskiy03.MID\n../../../virtuosoData/development/Liszt/Transcendental_Etudes/10/Yeletskiy03.mid\n../../../virtuosoData/development/Liszt/Transcendental_Etudes/10/Huang17.MID\n../../../virtuosoData/development/Liszt/Transcendental_Etudes/10/Huang17.mid\n../../../virtuosoData/development/Liszt/Transcendental_Etudes/10/Qin03.MID\n../../../virtuosoData/development/Liszt/Transcendental_Etudes/10/Qin03.mid\n../../../virtuosoData/development/Liszt/Transcendental_Etudes/10/Ladid02.MID\n../../../virtuosoData/development/Liszt/Transcendental_Etudes/10/Ladid02.mid\n../../../virtuosoData/development/Liszt/Transcendental_Etudes/10/Tran02.MID\n../../../virtuosoData/development/Liszt/Transcendental_Etudes/10/Tran02.mid\n../../../virtuosoData/development/Liszt/Transcendental_Etudes/10/LeungM06.MID\n../../../virtuosoData/development/Liszt/Transcendental_Etudes/10/LeungM06.mid\n../../../virtuosoData/development/Liszt/Transcendental_Etudes/10/CaoJ03.MID\n../../../virtuosoData/development/Liszt/Transcendental_Etudes/10/CaoJ03.mid\n../../../virtuosoData/development/Liszt/Transcendental_Etudes/12/Ko02.MID\n../../../virtuosoData/development/Liszt/Transcendental_Etudes/12/Ko02.mid\n../../../virtuosoData/development/Liszt/Transcendental_Etudes/12/Ko06.MID\n../../../virtuosoData/development/Liszt/Transcendental_Etudes/12/Ko06.mid\n../../../virtuosoData/development/Liszt/Transcendental_Etudes/12/KabuliL03.MID\n../../../virtuosoData/development/Liszt/Transcendental_Etudes/12/KabuliL03.mid\n../../../virtuosoData/development/Liszt/Transcendental_Etudes/12/KotysV07.MID\n../../../virtuosoData/development/Liszt/Transcendental_Etudes/12/KotysV07.mid\n../../../virtuosoData/development/Liszt/Transcendental_Etudes/8/Ahfat03.MID\n../../../virtuosoData/development/Liszt/Transcendental_Etudes/8/Ahfat03.mid\n../../../virtuosoData/development/Liszt/Transcendental_Etudes/8/Tsianos04.MID\n../../../virtuosoData/development/Liszt/Transcendental_Etudes/8/Tsianos04.mid\n../../../virtuosoData/development/Liszt/Transcendental_Etudes/8/Eras04.MID\n../../../virtuosoData/development/Liszt/Transcendental_Etudes/8/Eras04.mid\n../../../virtuosoData/development/Liszt/Transcendental_Etudes/8/Garritson02.MID\n../../../virtuosoData/development/Liszt/Transcendental_Etudes/8/Garritson02.mid\n../../../virtuosoData/development/Liszt/Transcendental_Etudes/8/Huang02.MID\n../../../virtuosoData/development/Liszt/Transcendental_Etudes/8/Huang02.mid\n../../../virtuosoData/development/Liszt/Transcendental_Etudes/1/LuoJ05.MID\n../../../virtuosoData/development/Liszt/Transcendental_Etudes/1/LuoJ05.mid\n../../../virtuosoData/development/Liszt/Transcendental_Etudes/1/Huang13.MID\n../../../virtuosoData/development/Liszt/Transcendental_Etudes/1/Huang13.mid\n"
    }
   ],
   "source": [
    "path = \"../../../virtuosoData/development\"\n",
    "midi_list = []\n",
    "if path[len(path)-1] != \"/\":\n",
    "    path = f'{path}/'\n",
    "for dp,_,filenames in os.walk(path):\n",
    "    # print(dp)\n",
    "    for f in filenames:\n",
    "        if f[-4:] == \".MID\":\n",
    "            path = os.path.join(dp,f)\n",
    "            new_path = path.replace(\".MID\", \".mid\")\n",
    "            print(path)\n",
    "            print(new_path)\n",
    "            os.rename(path, new_path)"
   ]
  },
  {
   "cell_type": "code",
   "execution_count": null,
   "metadata": {},
   "outputs": [],
   "source": []
  }
 ]
}