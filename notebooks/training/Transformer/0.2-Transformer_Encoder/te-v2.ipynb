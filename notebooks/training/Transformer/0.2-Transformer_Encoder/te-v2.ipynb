{
 "cells": [
  {
   "cell_type": "code",
   "execution_count": 1,
   "metadata": {},
   "outputs": [],
   "source": [
    "%load_ext autoreload\n",
    "%autoreload 2"
   ]
  },
  {
   "cell_type": "code",
   "execution_count": 2,
   "metadata": {},
   "outputs": [],
   "source": [
    "from src.logger import init_logger"
   ]
  },
  {
   "cell_type": "code",
   "execution_count": 7,
   "metadata": {},
   "outputs": [],
   "source": [
    "from src.constants import CACHE_DATA_DIR\n",
    "from src.data.data_reader.read_featurized_cache import read_featurized\n",
    "from src.experiments.training.Transformer.TransformerEncoder_training import TransformerEncoderJob\n",
    "from src.models.model_run_job import ModelJobParams"
   ]
  },
  {
   "cell_type": "code",
   "execution_count": null,
   "metadata": {},
   "outputs": [],
   "source": [
    "logger_path = 'logs/run_dev_data_0.1.log'\n",
    "init_logger(logger_path)"
   ]
  },
  {
   "cell_type": "code",
   "execution_count": 15,
   "metadata": {},
   "outputs": [
    {
     "name": "stdout",
     "output_type": "stream",
     "text": [
      "2020-10-28 20:00:07 - Loading the training data\n",
      "2020-10-28 20:00:12 - number of train performances: 5 number of valid perf: 3\n",
      "2020-10-28 20:00:12 - training sample example: [0.40253450874098085, -0.9043350534864922, 2.272152234854334, 1.6245242470007877, 1.2609703359796316, -0.13802735400033747, -0.8957452833471335, -0.8172526447037678, 0.0, 0.0, -1, 0, 0, 0.25, 0, 0, 0, 1, 0, 0, 0, 0, 0, 0, 0, 0, 0.5, 0, 0, 0, 0, 0.4, 0, 0, 0, 0, 1, 0, 1, 0, 0, 0, 1, 0, 0, 0, 0, 0, 0, 0, 0, 0, 0, 0, 0, 0, 0, 0, 0, 0, 1, 0, 0, 0, 0, 0, 0, 0, 0, 0, 0, 0, 0, 0, 0, 0, 0.5, 0]\n"
     ]
    }
   ],
   "source": [
    "path = f'{CACHE_DATA_DIR}/train/training_data_development.pickle'\n",
    "dev_data = read_featurized(path)"
   ]
  },
  {
   "cell_type": "code",
   "execution_count": 16,
   "metadata": {},
   "outputs": [
    {
     "name": "stdout",
     "output_type": "stream",
     "text": [
      "2020-10-28 20:00:24 - STARTING TRANSFORMER ENCODER ONLY TRAINING VERSION 0.2 JOB AT 15 EPOCHS FOR DEV DATA SET\n",
      "2020-10-28 20:00:24 - Training Epoch 1\n",
      "2020-10-28 20:00:24 - \n",
      "2020-10-28 20:00:29 - Training Loss\n",
      "2020-10-28 20:00:29 - Total Loss: 2.2380988932139165\n",
      "2020-10-28 20:00:29 - \ttempo: 1.649 vel: 2.456 dev: 2.008 articul: 2.324 pedal: 2.312 trill: 0.0 kld: nan \n",
      "2020-10-28 20:00:29 - \n",
      "2020-10-28 20:00:29 - Validation loss\n",
      "2020-10-28 20:00:29 - Total Loss: 1.623871902624766\n",
      "2020-10-28 20:00:29 - \ttempo: 5.82 vel: 1.116 dev: 0.7577 articul: 0.5828 pedal: 1.369 trill: 0.0 kld: nan \n",
      "2020-10-28 20:00:29 - \n",
      "2020-10-28 20:00:29 - \n"
     ]
    },
    {
     "name": "stderr",
     "output_type": "stream",
     "text": [
      "/uusoc/exports/scratch/rtimpson/thesis/virtuosoNet/env/lib/python3.7/site-packages/numpy/core/fromnumeric.py:3373: RuntimeWarning: Mean of empty slice.\n",
      "  out=out, **kwargs)\n",
      "/uusoc/exports/scratch/rtimpson/thesis/virtuosoNet/env/lib/python3.7/site-packages/numpy/core/_methods.py:170: RuntimeWarning: invalid value encountered in double_scalars\n",
      "  ret = ret.dtype.type(ret / rcount)\n"
     ]
    },
    {
     "name": "stdout",
     "output_type": "stream",
     "text": [
      "2020-10-28 20:00:30 - Training Epoch 2\n",
      "2020-10-28 20:00:30 - \n",
      "2020-10-28 20:00:34 - Training Loss\n",
      "2020-10-28 20:00:34 - Total Loss: 0.9072564335969778\n",
      "2020-10-28 20:00:34 - \ttempo: 0.1268 vel: 0.9896 dev: 0.7229 articul: 0.9871 pedal: 1.022 trill: 0.0 kld: nan \n",
      "2020-10-28 20:00:34 - \n",
      "2020-10-28 20:00:34 - Validation loss\n",
      "2020-10-28 20:00:34 - Total Loss: 1.7663268446922302\n",
      "2020-10-28 20:00:34 - \ttempo: 6.765 vel: 1.451 dev: 0.8345 articul: 1.376 pedal: 1.286 trill: 0.0 kld: nan \n",
      "2020-10-28 20:00:34 - \n",
      "2020-10-28 20:00:34 - \n",
      "2020-10-28 20:00:35 - Training Epoch 3\n",
      "2020-10-28 20:00:35 - \n",
      "2020-10-28 20:00:39 - Training Loss\n",
      "2020-10-28 20:00:39 - Total Loss: 0.8826423075638319\n",
      "2020-10-28 20:00:39 - \ttempo: 0.1486 vel: 0.9461 dev: 0.7412 articul: 0.9529 pedal: 0.9886 trill: 0.0 kld: nan \n",
      "2020-10-28 20:00:39 - \n",
      "2020-10-28 20:00:39 - Validation loss\n",
      "2020-10-28 20:00:39 - Total Loss: 1.5516602198282878\n",
      "2020-10-28 20:00:39 - \ttempo: 4.776 vel: 1.098 dev: 0.8451 articul: 0.5712 pedal: 1.397 trill: 0.0 kld: nan \n",
      "2020-10-28 20:00:39 - \n",
      "2020-10-28 20:00:39 - \n",
      "2020-10-28 20:00:39 - Training Epoch 4\n",
      "2020-10-28 20:00:39 - \n",
      "2020-10-28 20:00:44 - Training Loss\n",
      "2020-10-28 20:00:44 - Total Loss: 0.9006305514155207\n",
      "2020-10-28 20:00:44 - \ttempo: 0.1429 vel: 0.9565 dev: 0.7315 articul: 0.9323 pedal: 1.021 trill: 0.0 kld: nan \n",
      "2020-10-28 20:00:44 - \n",
      "2020-10-28 20:00:44 - Validation loss\n",
      "2020-10-28 20:00:44 - Total Loss: 1.742848515510559\n",
      "2020-10-28 20:00:44 - \ttempo: 3.798 vel: 1.055 dev: 0.7546 articul: 0.9705 pedal: 1.799 trill: 0.0 kld: nan \n",
      "2020-10-28 20:00:44 - \n",
      "2020-10-28 20:00:44 - \n",
      "2020-10-28 20:00:44 - Training Epoch 5\n",
      "2020-10-28 20:00:44 - \n",
      "2020-10-28 20:00:48 - Training Loss\n",
      "2020-10-28 20:00:48 - Total Loss: 0.9161939383358568\n",
      "2020-10-28 20:00:48 - \ttempo: 0.1244 vel: 0.9799 dev: 0.7385 articul: 0.9186 pedal: 1.045 trill: 0.0 kld: nan \n",
      "2020-10-28 20:00:48 - \n",
      "2020-10-28 20:00:49 - Validation loss\n",
      "2020-10-28 20:00:49 - Total Loss: 1.8875138362248738\n",
      "2020-10-28 20:00:49 - \ttempo: 4.248 vel: 0.9799 dev: 0.9325 articul: 1.319 pedal: 1.897 trill: 0.0 kld: nan \n",
      "2020-10-28 20:00:49 - \n",
      "2020-10-28 20:00:49 - \n",
      "2020-10-28 20:00:49 - Training Epoch 6\n",
      "2020-10-28 20:00:49 - \n",
      "2020-10-28 20:00:53 - Training Loss\n",
      "2020-10-28 20:00:53 - Total Loss: 0.9111252816518148\n",
      "2020-10-28 20:00:53 - \ttempo: 0.1192 vel: 0.9344 dev: 0.7415 articul: 0.9573 pedal: 1.039 trill: 0.0 kld: nan \n",
      "2020-10-28 20:00:53 - \n",
      "2020-10-28 20:00:53 - Validation loss\n",
      "2020-10-28 20:00:53 - Total Loss: 1.6097121238708496\n",
      "2020-10-28 20:00:53 - \ttempo: 4.861 vel: 1.149 dev: 0.7595 articul: 0.6712 pedal: 1.467 trill: 0.0 kld: nan \n",
      "2020-10-28 20:00:53 - \n",
      "2020-10-28 20:00:53 - \n",
      "2020-10-28 20:00:54 - Training Epoch 7\n",
      "2020-10-28 20:00:54 - \n",
      "2020-10-28 20:00:58 - Training Loss\n",
      "2020-10-28 20:00:58 - Total Loss: 0.9462795813341398\n",
      "2020-10-28 20:00:58 - \ttempo: 0.1505 vel: 0.9785 dev: 0.7419 articul: 0.9357 pedal: 1.086 trill: 0.0 kld: nan \n",
      "2020-10-28 20:00:58 - \n",
      "2020-10-28 20:00:58 - Validation loss\n",
      "2020-10-28 20:00:58 - Total Loss: 2.5332560539245605\n",
      "2020-10-28 20:00:58 - \ttempo: 9.139 vel: 1.074 dev: 0.7653 articul: 1.044 pedal: 2.263 trill: 0.0 kld: nan \n",
      "2020-10-28 20:00:58 - \n",
      "2020-10-28 20:00:58 - \n",
      "2020-10-28 20:00:58 - Training Epoch 8\n",
      "2020-10-28 20:00:58 - \n",
      "2020-10-28 20:01:02 - Training Loss\n",
      "2020-10-28 20:01:02 - Total Loss: 0.9284730182118612\n",
      "2020-10-28 20:01:02 - \ttempo: 0.1849 vel: 0.9385 dev: 0.7687 articul: 0.9931 pedal: 1.047 trill: 0.0 kld: nan \n",
      "2020-10-28 20:01:02 - \n",
      "2020-10-28 20:01:03 - Validation loss\n",
      "2020-10-28 20:01:03 - Total Loss: 1.4105987350145976\n",
      "2020-10-28 20:01:03 - \ttempo: 4.234 vel: 1.115 dev: 0.7618 articul: 0.778 pedal: 1.233 trill: 0.0 kld: nan \n",
      "2020-10-28 20:01:03 - \n",
      "2020-10-28 20:01:03 - \n",
      "2020-10-28 20:01:03 - Training Epoch 9\n",
      "2020-10-28 20:01:03 - \n",
      "2020-10-28 20:01:07 - Training Loss\n",
      "2020-10-28 20:01:07 - Total Loss: 0.8841636165594443\n",
      "2020-10-28 20:01:07 - \ttempo: 0.1337 vel: 0.9852 dev: 0.6888 articul: 0.9301 pedal: 0.9983 trill: 0.0 kld: nan \n",
      "2020-10-28 20:01:07 - \n",
      "2020-10-28 20:01:07 - Validation loss\n",
      "2020-10-28 20:01:07 - Total Loss: 1.6906437873840332\n",
      "2020-10-28 20:01:07 - \ttempo: 4.423 vel: 1.117 dev: 0.758 articul: 0.7267 pedal: 1.653 trill: 0.0 kld: nan \n",
      "2020-10-28 20:01:07 - \n",
      "2020-10-28 20:01:07 - \n",
      "2020-10-28 20:01:07 - Training Epoch 10\n",
      "2020-10-28 20:01:07 - \n",
      "2020-10-28 20:01:12 - Training Loss\n",
      "2020-10-28 20:01:12 - Total Loss: 0.8830984214941661\n",
      "2020-10-28 20:01:12 - \ttempo: 0.122 vel: 0.9152 dev: 0.7037 articul: 0.9228 pedal: 1.007 trill: 0.0 kld: nan \n",
      "2020-10-28 20:01:12 - \n",
      "2020-10-28 20:01:12 - Validation loss\n",
      "2020-10-28 20:01:12 - Total Loss: 1.5964712699254353\n",
      "2020-10-28 20:01:12 - \ttempo: 4.044 vel: 0.9809 dev: 0.7824 articul: 0.8162 pedal: 1.562 trill: 0.0 kld: nan \n",
      "2020-10-28 20:01:12 - \n",
      "2020-10-28 20:01:12 - \n",
      "2020-10-28 20:01:12 - Training Epoch 11\n",
      "2020-10-28 20:01:12 - \n",
      "2020-10-28 20:01:16 - Training Loss\n",
      "2020-10-28 20:01:16 - Total Loss: 0.886388981664503\n",
      "2020-10-28 20:01:16 - \ttempo: 0.2124 vel: 0.8961 dev: 0.7294 articul: 0.9233 pedal: 0.9985 trill: 0.0 kld: nan \n",
      "2020-10-28 20:01:16 - \n",
      "2020-10-28 20:01:16 - Validation loss\n",
      "2020-10-28 20:01:16 - Total Loss: 1.4966381589571636\n",
      "2020-10-28 20:01:16 - \ttempo: 1.69 vel: 1.141 dev: 0.7589 articul: 1.478 pedal: 1.628 trill: 0.0 kld: nan \n",
      "2020-10-28 20:01:16 - \n",
      "2020-10-28 20:01:16 - \n",
      "2020-10-28 20:01:17 - Training Epoch 12\n",
      "2020-10-28 20:01:17 - \n",
      "2020-10-28 20:01:21 - Training Loss\n",
      "2020-10-28 20:01:21 - Total Loss: 0.8908016387621561\n",
      "2020-10-28 20:01:21 - \ttempo: 0.139 vel: 0.9359 dev: 0.7255 articul: 0.9065 pedal: 1.013 trill: 0.0 kld: nan \n",
      "2020-10-28 20:01:21 - \n",
      "2020-10-28 20:01:21 - Validation loss\n",
      "2020-10-28 20:01:21 - Total Loss: 1.5226768255233765\n",
      "2020-10-28 20:01:21 - \ttempo: 5.41 vel: 1.026 dev: 0.7591 articul: 0.9124 pedal: 1.235 trill: 0.0 kld: nan \n",
      "2020-10-28 20:01:21 - \n",
      "2020-10-28 20:01:21 - \n",
      "2020-10-28 20:01:21 - Training Epoch 13\n",
      "2020-10-28 20:01:21 - \n",
      "2020-10-28 20:01:25 - Training Loss\n",
      "2020-10-28 20:01:25 - Total Loss: 0.9261219399432613\n",
      "2020-10-28 20:01:25 - \ttempo: 0.149 vel: 0.9313 dev: 0.7792 articul: 0.9108 pedal: 1.06 trill: 0.0 kld: nan \n",
      "2020-10-28 20:01:25 - \n",
      "2020-10-28 20:01:25 - Validation loss\n",
      "2020-10-28 20:01:25 - Total Loss: 1.719168782234192\n",
      "2020-10-28 20:01:25 - \ttempo: 4.457 vel: 1.062 dev: 0.756 articul: 0.5079 pedal: 1.733 trill: 0.0 kld: nan \n",
      "2020-10-28 20:01:25 - \n",
      "2020-10-28 20:01:25 - \n",
      "2020-10-28 20:01:25 - Training Epoch 14\n",
      "2020-10-28 20:01:25 - \n",
      "2020-10-28 20:01:30 - Training Loss\n",
      "2020-10-28 20:01:30 - Total Loss: 0.8773173842775194\n",
      "2020-10-28 20:01:30 - \ttempo: 0.1405 vel: 0.9306 dev: 0.7273 articul: 0.9098 pedal: 0.9918 trill: 0.0 kld: nan \n",
      "2020-10-28 20:01:30 - \n",
      "2020-10-28 20:01:30 - Validation loss\n",
      "2020-10-28 20:01:30 - Total Loss: 1.4283721049626668\n",
      "2020-10-28 20:01:30 - \ttempo: 4.826 vel: 1.114 dev: 0.7664 articul: 0.678 pedal: 1.19 trill: 0.0 kld: nan \n",
      "2020-10-28 20:01:30 - \n",
      "2020-10-28 20:01:30 - \n",
      "2020-10-28 20:01:30 - Training Epoch 15\n",
      "2020-10-28 20:01:30 - \n",
      "2020-10-28 20:01:35 - Training Loss\n",
      "2020-10-28 20:01:35 - Total Loss: 0.9712950006707922\n",
      "2020-10-28 20:01:35 - \ttempo: 0.1331 vel: 0.933 dev: 0.8068 articul: 0.9105 pedal: 1.129 trill: 0.0 kld: nan \n",
      "2020-10-28 20:01:35 - \n",
      "2020-10-28 20:01:35 - Validation loss\n",
      "2020-10-28 20:01:35 - Total Loss: 1.4860961039861043\n",
      "2020-10-28 20:01:35 - \ttempo: 5.872 vel: 1.095 dev: 0.811 articul: 0.6698 pedal: 1.128 trill: 0.0 kld: nan \n",
      "2020-10-28 20:01:35 - \n",
      "2020-10-28 20:01:35 - \n",
      "2020-10-28 20:01:35 - FINISHED TRANSFORMER ENCODER ONLY VERSION 0.2 TRAINING JOB AT 15 EPOCHS FOR DEV DATA SET\n"
     ]
    }
   ],
   "source": [
    "num_epochs = 15\n",
    "run_params = ModelJobParams(is_dev=True)\n",
    "training_job = TransformerEncoderJob(run_params)\n",
    "training_job.run_job(dev_data, num_epochs, version=0.2)"
   ]
  },
  {
   "cell_type": "code",
   "execution_count": 17,
   "metadata": {},
   "outputs": [],
   "source": [
    "logger_path = 'logs/run_full_data_0.1.log'\n",
    "init_logger(logger_path)"
   ]
  },
  {
   "cell_type": "code",
   "execution_count": 10,
   "metadata": {},
   "outputs": [
    {
     "name": "stdout",
     "output_type": "stream",
     "text": [
      "2020-10-28 19:45:47 - Loading the training data\n",
      "2020-10-28 19:57:04 - number of train performances: 709 number of valid perf: 82\n",
      "2020-10-28 19:57:04 - training sample example: [-1.962150341422854, -0.06717901528552674, 1.8699356872077189, 0.13782855458600415, 0.5691738323041352, -0.0476638292090852, -0.6179821514476284, -0.7241930870686905, 0.0, 0.0, 0, 0, 0, -0.5, 1, 0, 0, 0, 0, 0, 0, 0, 0, 0, 0, 0, 0.5, 0, 0, 0, 0, -0.7, 0, 0, 0.3, 0, 1, 0, 1, 0, 0, 0, 1, 0, 0, 0, 0, 0, 1, 0, 0, 0, 0, 1, 0, 0, 0, 0, 0, 0, 0, 0, 0, 0, 0, 0, 0, 0, 0, 0, 0, 0, 0, 0, 0, 0, 0.5, 0]\n"
     ]
    }
   ],
   "source": [
    "path = f'{CACHE_DATA_DIR}/train/training_data.pickle'\n",
    "data = read_featurized(path)"
   ]
  },
  {
   "cell_type": "code",
   "execution_count": 14,
   "metadata": {},
   "outputs": [
    {
     "ename": "KeyboardInterrupt",
     "evalue": "",
     "output_type": "error",
     "traceback": [
      "\u001b[0;31m---------------------------------------------------------------------------\u001b[0m",
      "\u001b[0;31mKeyboardInterrupt\u001b[0m                         Traceback (most recent call last)",
      "\u001b[0;32m<ipython-input-14-ac2bc04c17f4>\u001b[0m in \u001b[0;36m<module>\u001b[0;34m\u001b[0m\n\u001b[1;32m      1\u001b[0m \u001b[0mnum_epochs\u001b[0m \u001b[0;34m=\u001b[0m \u001b[0;36m50\u001b[0m\u001b[0;34m\u001b[0m\u001b[0;34m\u001b[0m\u001b[0m\n\u001b[1;32m      2\u001b[0m \u001b[0mrun_params\u001b[0m \u001b[0;34m=\u001b[0m \u001b[0mModelJobParams\u001b[0m\u001b[0;34m(\u001b[0m\u001b[0mis_dev\u001b[0m\u001b[0;34m=\u001b[0m\u001b[0;32mTrue\u001b[0m\u001b[0;34m)\u001b[0m\u001b[0;34m\u001b[0m\u001b[0;34m\u001b[0m\u001b[0m\n\u001b[0;32m----> 3\u001b[0;31m \u001b[0mtraining_job\u001b[0m \u001b[0;34m=\u001b[0m \u001b[0mTransformerEncoderJob\u001b[0m\u001b[0;34m(\u001b[0m\u001b[0mrun_params\u001b[0m\u001b[0;34m)\u001b[0m\u001b[0;34m\u001b[0m\u001b[0;34m\u001b[0m\u001b[0m\n\u001b[0m\u001b[1;32m      4\u001b[0m \u001b[0mtraining_job\u001b[0m\u001b[0;34m.\u001b[0m\u001b[0mrun_job\u001b[0m\u001b[0;34m(\u001b[0m\u001b[0mdata\u001b[0m\u001b[0;34m,\u001b[0m \u001b[0mnum_epochs\u001b[0m\u001b[0;34m,\u001b[0m \u001b[0mversion\u001b[0m\u001b[0;34m=\u001b[0m\u001b[0;36m0.2\u001b[0m\u001b[0;34m)\u001b[0m\u001b[0;34m\u001b[0m\u001b[0;34m\u001b[0m\u001b[0m\n",
      "\u001b[0;32m/uusoc/exports/scratch/rtimpson/thesis/virtuosoNet/src/experiments/training/Transformer/TransformerEncoder_training.py\u001b[0m in \u001b[0;36m__init__\u001b[0;34m(self, params)\u001b[0m\n\u001b[1;32m     13\u001b[0m         \u001b[0mself\u001b[0m\u001b[0;34m.\u001b[0m\u001b[0mgrad_clip\u001b[0m \u001b[0;34m=\u001b[0m \u001b[0;36m0.5\u001b[0m\u001b[0;34m\u001b[0m\u001b[0;34m\u001b[0m\u001b[0m\n\u001b[1;32m     14\u001b[0m         \u001b[0mhyper_params\u001b[0m \u001b[0;34m=\u001b[0m \u001b[0mTransformerEncoderHyperParams\u001b[0m\u001b[0;34m(\u001b[0m\u001b[0;34m)\u001b[0m\u001b[0;34m\u001b[0m\u001b[0;34m\u001b[0m\u001b[0m\n\u001b[0;32m---> 15\u001b[0;31m         \u001b[0mself\u001b[0m\u001b[0;34m.\u001b[0m\u001b[0mmodel\u001b[0m \u001b[0;34m=\u001b[0m \u001b[0mTransformerEncoder\u001b[0m\u001b[0;34m(\u001b[0m\u001b[0mhyper_params\u001b[0m\u001b[0;34m)\u001b[0m\u001b[0;34m.\u001b[0m\u001b[0mto\u001b[0m\u001b[0;34m(\u001b[0m\u001b[0mself\u001b[0m\u001b[0;34m.\u001b[0m\u001b[0mparams\u001b[0m\u001b[0;34m.\u001b[0m\u001b[0mdevice\u001b[0m\u001b[0;34m)\u001b[0m\u001b[0;34m\u001b[0m\u001b[0;34m\u001b[0m\u001b[0m\n\u001b[0m\u001b[1;32m     16\u001b[0m         \u001b[0mself\u001b[0m\u001b[0;34m.\u001b[0m\u001b[0mmodel_name\u001b[0m \u001b[0;34m=\u001b[0m \u001b[0;34m'TRANSFORMER ENCODER ONLY'\u001b[0m\u001b[0;34m\u001b[0m\u001b[0;34m\u001b[0m\u001b[0m\n\u001b[1;32m     17\u001b[0m \u001b[0;34m\u001b[0m\u001b[0m\n",
      "\u001b[0;32m/uusoc/exports/scratch/rtimpson/thesis/virtuosoNet/env/lib/python3.7/site-packages/torch/nn/modules/module.py\u001b[0m in \u001b[0;36mto\u001b[0;34m(self, *args, **kwargs)\u001b[0m\n\u001b[1;32m    610\u001b[0m             \u001b[0;32mreturn\u001b[0m \u001b[0mt\u001b[0m\u001b[0;34m.\u001b[0m\u001b[0mto\u001b[0m\u001b[0;34m(\u001b[0m\u001b[0mdevice\u001b[0m\u001b[0;34m,\u001b[0m \u001b[0mdtype\u001b[0m \u001b[0;32mif\u001b[0m \u001b[0mt\u001b[0m\u001b[0;34m.\u001b[0m\u001b[0mis_floating_point\u001b[0m\u001b[0;34m(\u001b[0m\u001b[0;34m)\u001b[0m \u001b[0;32melse\u001b[0m \u001b[0;32mNone\u001b[0m\u001b[0;34m,\u001b[0m \u001b[0mnon_blocking\u001b[0m\u001b[0;34m)\u001b[0m\u001b[0;34m\u001b[0m\u001b[0;34m\u001b[0m\u001b[0m\n\u001b[1;32m    611\u001b[0m \u001b[0;34m\u001b[0m\u001b[0m\n\u001b[0;32m--> 612\u001b[0;31m         \u001b[0;32mreturn\u001b[0m \u001b[0mself\u001b[0m\u001b[0;34m.\u001b[0m\u001b[0m_apply\u001b[0m\u001b[0;34m(\u001b[0m\u001b[0mconvert\u001b[0m\u001b[0;34m)\u001b[0m\u001b[0;34m\u001b[0m\u001b[0;34m\u001b[0m\u001b[0m\n\u001b[0m\u001b[1;32m    613\u001b[0m \u001b[0;34m\u001b[0m\u001b[0m\n\u001b[1;32m    614\u001b[0m     def register_backward_hook(\n",
      "\u001b[0;32m/uusoc/exports/scratch/rtimpson/thesis/virtuosoNet/env/lib/python3.7/site-packages/torch/nn/modules/module.py\u001b[0m in \u001b[0;36m_apply\u001b[0;34m(self, fn)\u001b[0m\n\u001b[1;32m    357\u001b[0m     \u001b[0;32mdef\u001b[0m \u001b[0m_apply\u001b[0m\u001b[0;34m(\u001b[0m\u001b[0mself\u001b[0m\u001b[0;34m,\u001b[0m \u001b[0mfn\u001b[0m\u001b[0;34m)\u001b[0m\u001b[0;34m:\u001b[0m\u001b[0;34m\u001b[0m\u001b[0;34m\u001b[0m\u001b[0m\n\u001b[1;32m    358\u001b[0m         \u001b[0;32mfor\u001b[0m \u001b[0mmodule\u001b[0m \u001b[0;32min\u001b[0m \u001b[0mself\u001b[0m\u001b[0;34m.\u001b[0m\u001b[0mchildren\u001b[0m\u001b[0;34m(\u001b[0m\u001b[0;34m)\u001b[0m\u001b[0;34m:\u001b[0m\u001b[0;34m\u001b[0m\u001b[0;34m\u001b[0m\u001b[0m\n\u001b[0;32m--> 359\u001b[0;31m             \u001b[0mmodule\u001b[0m\u001b[0;34m.\u001b[0m\u001b[0m_apply\u001b[0m\u001b[0;34m(\u001b[0m\u001b[0mfn\u001b[0m\u001b[0;34m)\u001b[0m\u001b[0;34m\u001b[0m\u001b[0;34m\u001b[0m\u001b[0m\n\u001b[0m\u001b[1;32m    360\u001b[0m \u001b[0;34m\u001b[0m\u001b[0m\n\u001b[1;32m    361\u001b[0m         \u001b[0;32mdef\u001b[0m \u001b[0mcompute_should_use_set_data\u001b[0m\u001b[0;34m(\u001b[0m\u001b[0mtensor\u001b[0m\u001b[0;34m,\u001b[0m \u001b[0mtensor_applied\u001b[0m\u001b[0;34m)\u001b[0m\u001b[0;34m:\u001b[0m\u001b[0;34m\u001b[0m\u001b[0;34m\u001b[0m\u001b[0m\n",
      "\u001b[0;32m/uusoc/exports/scratch/rtimpson/thesis/virtuosoNet/env/lib/python3.7/site-packages/torch/nn/modules/module.py\u001b[0m in \u001b[0;36m_apply\u001b[0;34m(self, fn)\u001b[0m\n\u001b[1;32m    400\u001b[0m         \u001b[0;32mfor\u001b[0m \u001b[0mkey\u001b[0m\u001b[0;34m,\u001b[0m \u001b[0mbuf\u001b[0m \u001b[0;32min\u001b[0m \u001b[0mself\u001b[0m\u001b[0;34m.\u001b[0m\u001b[0m_buffers\u001b[0m\u001b[0;34m.\u001b[0m\u001b[0mitems\u001b[0m\u001b[0;34m(\u001b[0m\u001b[0;34m)\u001b[0m\u001b[0;34m:\u001b[0m\u001b[0;34m\u001b[0m\u001b[0;34m\u001b[0m\u001b[0m\n\u001b[1;32m    401\u001b[0m             \u001b[0;32mif\u001b[0m \u001b[0mbuf\u001b[0m \u001b[0;32mis\u001b[0m \u001b[0;32mnot\u001b[0m \u001b[0;32mNone\u001b[0m\u001b[0;34m:\u001b[0m\u001b[0;34m\u001b[0m\u001b[0;34m\u001b[0m\u001b[0m\n\u001b[0;32m--> 402\u001b[0;31m                 \u001b[0mself\u001b[0m\u001b[0;34m.\u001b[0m\u001b[0m_buffers\u001b[0m\u001b[0;34m[\u001b[0m\u001b[0mkey\u001b[0m\u001b[0;34m]\u001b[0m \u001b[0;34m=\u001b[0m \u001b[0mfn\u001b[0m\u001b[0;34m(\u001b[0m\u001b[0mbuf\u001b[0m\u001b[0;34m)\u001b[0m\u001b[0;34m\u001b[0m\u001b[0;34m\u001b[0m\u001b[0m\n\u001b[0m\u001b[1;32m    403\u001b[0m \u001b[0;34m\u001b[0m\u001b[0m\n\u001b[1;32m    404\u001b[0m         \u001b[0;32mreturn\u001b[0m \u001b[0mself\u001b[0m\u001b[0;34m\u001b[0m\u001b[0;34m\u001b[0m\u001b[0m\n",
      "\u001b[0;32m/uusoc/exports/scratch/rtimpson/thesis/virtuosoNet/env/lib/python3.7/site-packages/torch/nn/modules/module.py\u001b[0m in \u001b[0;36mconvert\u001b[0;34m(t)\u001b[0m\n\u001b[1;32m    608\u001b[0m             \u001b[0;32mif\u001b[0m \u001b[0mconvert_to_format\u001b[0m \u001b[0;32mis\u001b[0m \u001b[0;32mnot\u001b[0m \u001b[0;32mNone\u001b[0m \u001b[0;32mand\u001b[0m \u001b[0mt\u001b[0m\u001b[0;34m.\u001b[0m\u001b[0mdim\u001b[0m\u001b[0;34m(\u001b[0m\u001b[0;34m)\u001b[0m \u001b[0;34m==\u001b[0m \u001b[0;36m4\u001b[0m\u001b[0;34m:\u001b[0m\u001b[0;34m\u001b[0m\u001b[0;34m\u001b[0m\u001b[0m\n\u001b[1;32m    609\u001b[0m                 \u001b[0;32mreturn\u001b[0m \u001b[0mt\u001b[0m\u001b[0;34m.\u001b[0m\u001b[0mto\u001b[0m\u001b[0;34m(\u001b[0m\u001b[0mdevice\u001b[0m\u001b[0;34m,\u001b[0m \u001b[0mdtype\u001b[0m \u001b[0;32mif\u001b[0m \u001b[0mt\u001b[0m\u001b[0;34m.\u001b[0m\u001b[0mis_floating_point\u001b[0m\u001b[0;34m(\u001b[0m\u001b[0;34m)\u001b[0m \u001b[0;32melse\u001b[0m \u001b[0;32mNone\u001b[0m\u001b[0;34m,\u001b[0m \u001b[0mnon_blocking\u001b[0m\u001b[0;34m,\u001b[0m \u001b[0mmemory_format\u001b[0m\u001b[0;34m=\u001b[0m\u001b[0mconvert_to_format\u001b[0m\u001b[0;34m)\u001b[0m\u001b[0;34m\u001b[0m\u001b[0;34m\u001b[0m\u001b[0m\n\u001b[0;32m--> 610\u001b[0;31m             \u001b[0;32mreturn\u001b[0m \u001b[0mt\u001b[0m\u001b[0;34m.\u001b[0m\u001b[0mto\u001b[0m\u001b[0;34m(\u001b[0m\u001b[0mdevice\u001b[0m\u001b[0;34m,\u001b[0m \u001b[0mdtype\u001b[0m \u001b[0;32mif\u001b[0m \u001b[0mt\u001b[0m\u001b[0;34m.\u001b[0m\u001b[0mis_floating_point\u001b[0m\u001b[0;34m(\u001b[0m\u001b[0;34m)\u001b[0m \u001b[0;32melse\u001b[0m \u001b[0;32mNone\u001b[0m\u001b[0;34m,\u001b[0m \u001b[0mnon_blocking\u001b[0m\u001b[0;34m)\u001b[0m\u001b[0;34m\u001b[0m\u001b[0;34m\u001b[0m\u001b[0m\n\u001b[0m\u001b[1;32m    611\u001b[0m \u001b[0;34m\u001b[0m\u001b[0m\n\u001b[1;32m    612\u001b[0m         \u001b[0;32mreturn\u001b[0m \u001b[0mself\u001b[0m\u001b[0;34m.\u001b[0m\u001b[0m_apply\u001b[0m\u001b[0;34m(\u001b[0m\u001b[0mconvert\u001b[0m\u001b[0;34m)\u001b[0m\u001b[0;34m\u001b[0m\u001b[0;34m\u001b[0m\u001b[0m\n",
      "\u001b[0;31mKeyboardInterrupt\u001b[0m: "
     ]
    }
   ],
   "source": [
    "num_epochs = 50\n",
    "run_params = ModelJobParams(is_dev=True)\n",
    "training_job = TransformerEncoderJob(run_params)\n",
    "training_job.run_job(data, num_epochs, version=0.2)"
   ]
  },
  {
   "cell_type": "code",
   "execution_count": null,
   "metadata": {},
   "outputs": [],
   "source": []
  }
 ],
 "metadata": {
  "kernelspec": {
   "display_name": "Python 3",
   "language": "python",
   "name": "python3"
  },
  "language_info": {
   "codemirror_mode": {
    "name": "ipython",
    "version": 3
   },
   "file_extension": ".py",
   "mimetype": "text/x-python",
   "name": "python",
   "nbconvert_exporter": "python",
   "pygments_lexer": "ipython3",
   "version": "3.7.8"
  }
 },
 "nbformat": 4,
 "nbformat_minor": 4
}
