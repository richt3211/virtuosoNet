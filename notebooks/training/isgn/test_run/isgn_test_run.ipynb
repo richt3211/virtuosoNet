{
 "cells": [
  {
   "cell_type": "code",
   "execution_count": 3,
   "metadata": {},
   "outputs": [
    {
     "name": "stdout",
     "output_type": "stream",
     "text": [
      "The autoreload extension is already loaded. To reload it, use:\n",
      "  %reload_ext autoreload\n"
     ]
    }
   ],
   "source": [
    "%load_ext autoreload\n",
    "%autoreload 2"
   ]
  },
  {
   "cell_type": "code",
   "execution_count": 4,
   "metadata": {},
   "outputs": [],
   "source": [
    "from src.constants import CACHE_DATA_DIR, CACHE_MODEL_DIR\n",
    "from src.experiments.training.training import legacy_training_run_str"
   ]
  },
  {
   "cell_type": "markdown",
   "metadata": {},
   "source": [
    "# Full data"
   ]
  },
  {
   "cell_type": "code",
   "execution_count": 7,
   "metadata": {},
   "outputs": [
    {
     "name": "stdout",
     "output_type": "stream",
     "text": [
      "../../../../src/old/model_run.py -mode=train -code=isgn -data=/uusoc/exports/scratch/rtimpson/thesis/virtuosoNet/data/train/training_data -run_folder=first_run -model_name=\"isgn full\" -model_folder=legacy/isgn -is_dev=false -run_description=\"Running isgn in jupyter notebook through the command line\"\n"
     ]
    }
   ],
   "source": [
    "model_folder = f'legacy/isgn'\n",
    "model_name = '\"isgn full\"'\n",
    "model_code = 'isgn'\n",
    "run_description = '\"Running isgn in jupyter notebook through the command line\"'\n",
    "is_dev = 'false'\n",
    "run_folder = 'first_run'\n",
    "run_str = legacy_training_run_str(\n",
    "    run_folder=run_folder, \n",
    "    model_folder=model_folder, \n",
    "    model_name=model_name, \n",
    "    model_code=model_code, \n",
    "    description=run_description, \n",
    "    is_dev=is_dev\n",
    ")\n",
    "print(run_str)"
   ]
  },
  {
   "cell_type": "code",
   "execution_count": null,
   "metadata": {},
   "outputs": [
    {
     "name": "stdout",
     "output_type": "stream",
     "text": [
      "Namespace(boolPedal=False, composer='Beethoven', dataName='/uusoc/exports/scratch/rtimpson/thesis/virtuosoNet/data/train/training_data', deltaLoss=False, device=1, disklavier=True, hierCode='han_ar_measure', intermediateLoss=True, is_dev=False, latent=0, modelCode='isgn', model_folder='legacy/isgn', model_name='isgn full', multi_instruments=False, perfName='Anger_sub1', randomTrain=True, resume='_best.pth.tar', resumeTraining=False, run_description='Running isgn in jupyter notebook through the command line', run_folder='first_run', sessMode='train', slurEdge=False, startTempo=0, testPath='./test_pieces/bps_5_1/', trainTrill=False, trainingLoss='MSE', trillCode='trill_default', velocity='50,65', voiceEdge=True)\n",
      "Learning Rate: 0.0003, Time_steps: 500, Delta weight: 2, Weight decay: 1e-05, Grad clip: 5, KLD max: 0.01, KLD sig step: 200000.0\n",
      "2020-11-17 19:06:19 - Starting training job for model isgn full\n",
      "2020-11-17 19:06:19 - Running isgn in jupyter notebook through the command line\n",
      "2020-11-17 19:06:19 - Starting training job at 11/17/20 07:06:19\n",
      "2020-11-17 19:06:19 - Number of Network Parameters is 6443185\n",
      "2020-11-17 19:06:19 - Loading the training data...\n",
      "2020-11-17 19:14:32 - number of train performances: 709 number of valid perf: 82\n",
      "2020-11-17 19:14:32 - training sample example [-1.962150341422854, -0.06717901528552674, 1.8699356872077189, 0.13782855458600415, 0.5691738323041352, -0.0476638292090852, -0.6179821514476284, -0.7241930870686905, 0.0, 0.0, 0, 0, 0, -0.5, 1, 0, 0, 0, 0, 0, 0, 0, 0, 0, 0, 0, 0.5, 0, 0, 0, 0, -0.7, 0, 0, 0.3, 0, 1, 0, 1, 0, 0, 0, 1, 0, 0, 0, 0, 0, 1, 0, 0, 0, 0, 1, 0, 0, 0, 0, 0, 0, 0, 0, 0, 0, 0, 0, 0, 0, 0, 0, 0, 0, 0, 0, 0, 0, 0.5, 0]\n",
      "2020-11-17 19:14:32 - current training step is 0\n",
      "2020-11-17 21:34:32 - Epoch [1/100], Loss: 0.9347, Tempo: 0.4975, Vel: 0.7471, Deviation: 2.4683, Articulation: 0.7467, Pedal: 0.8317, Trill: 0.0000, KLD: 12.4868\n",
      "2020-11-17 21:38:54 - Valid Loss= 0.7320 , Tempo: 0.6466, Vel: 0.7200, Deviation: 0.4882, Articulation: 0.7951, Pedal: 0.7718, Trill: 0.0000\n",
      "2020-11-17 21:38:55 - current training step is 12308\n"
     ]
    },
    {
     "name": "stderr",
     "output_type": "stream",
     "text": [
      "/uusoc/exports/scratch/rtimpson/thesis/virtuosoNet/env/lib/python3.7/site-packages/torch/nn/functional.py:1628: UserWarning: nn.functional.tanh is deprecated. Use torch.tanh instead.\n",
      "  warnings.warn(\"nn.functional.tanh is deprecated. Use torch.tanh instead.\")\n"
     ]
    },
    {
     "name": "stdout",
     "output_type": "stream",
     "text": [
      "2020-11-18 00:04:46 - Epoch [2/100], Loss: 0.7997, Tempo: 0.2500, Vel: 0.5819, Deviation: 2.3598, Articulation: 0.6317, Pedal: 0.7105, Trill: 0.0000, KLD: 22.8247\n",
      "2020-11-18 00:09:06 - Valid Loss= 0.7015 , Tempo: 0.5716, Vel: 0.5970, Deviation: 0.4840, Articulation: 0.8813, Pedal: 0.7404, Trill: 0.0000\n",
      "2020-11-18 00:09:06 - current training step is 24636\n"
     ]
    },
    {
     "name": "stderr",
     "output_type": "stream",
     "text": [
      "/uusoc/exports/scratch/rtimpson/thesis/virtuosoNet/env/lib/python3.7/site-packages/torch/nn/functional.py:1628: UserWarning: nn.functional.tanh is deprecated. Use torch.tanh instead.\n",
      "  warnings.warn(\"nn.functional.tanh is deprecated. Use torch.tanh instead.\")\n"
     ]
    },
    {
     "name": "stdout",
     "output_type": "stream",
     "text": [
      "2020-11-18 02:35:29 - Epoch [3/100], Loss: 0.6988, Tempo: 0.2100, Vel: 0.5302, Deviation: 1.5820, Articulation: 0.5834, Pedal: 0.6831, Trill: 0.0000, KLD: 20.1202\n",
      "2020-11-18 02:39:54 - Valid Loss= 0.6900 , Tempo: 0.5967, Vel: 0.6165, Deviation: 0.4936, Articulation: 0.8517, Pedal: 0.7187, Trill: 0.0000\n",
      "2020-11-18 02:39:54 - current training step is 36936\n"
     ]
    },
    {
     "name": "stderr",
     "output_type": "stream",
     "text": [
      "/uusoc/exports/scratch/rtimpson/thesis/virtuosoNet/env/lib/python3.7/site-packages/torch/nn/functional.py:1628: UserWarning: nn.functional.tanh is deprecated. Use torch.tanh instead.\n",
      "  warnings.warn(\"nn.functional.tanh is deprecated. Use torch.tanh instead.\")\n"
     ]
    },
    {
     "name": "stdout",
     "output_type": "stream",
     "text": [
      "2020-11-18 04:55:38 - Epoch [4/100], Loss: 0.6487, Tempo: 0.1951, Vel: 0.5064, Deviation: 1.2923, Articulation: 0.5572, Pedal: 0.6549, Trill: 0.0000, KLD: 20.4496\n",
      "2020-11-18 04:59:11 - Valid Loss= 0.6358 , Tempo: 0.4324, Vel: 0.6542, Deviation: 0.4936, Articulation: 0.7829, Pedal: 0.6614, Trill: 0.0000\n",
      "2020-11-18 04:59:12 - current training step is 49218\n"
     ]
    },
    {
     "name": "stderr",
     "output_type": "stream",
     "text": [
      "/uusoc/exports/scratch/rtimpson/thesis/virtuosoNet/env/lib/python3.7/site-packages/torch/nn/functional.py:1628: UserWarning: nn.functional.tanh is deprecated. Use torch.tanh instead.\n",
      "  warnings.warn(\"nn.functional.tanh is deprecated. Use torch.tanh instead.\")\n"
     ]
    },
    {
     "name": "stdout",
     "output_type": "stream",
     "text": [
      "2020-11-18 07:11:55 - Epoch [5/100], Loss: 0.6475, Tempo: 0.1805, Vel: 0.4879, Deviation: 1.5493, Articulation: 0.5352, Pedal: 0.6242, Trill: 0.0000, KLD: 22.7436\n",
      "2020-11-18 07:15:25 - Valid Loss= 0.6547 , Tempo: 0.4385, Vel: 0.6309, Deviation: 0.4758, Articulation: 0.8034, Pedal: 0.6932, Trill: 0.0000\n",
      "2020-11-18 07:15:26 - current training step is 61494\n"
     ]
    },
    {
     "name": "stderr",
     "output_type": "stream",
     "text": [
      "/uusoc/exports/scratch/rtimpson/thesis/virtuosoNet/env/lib/python3.7/site-packages/torch/nn/functional.py:1628: UserWarning: nn.functional.tanh is deprecated. Use torch.tanh instead.\n",
      "  warnings.warn(\"nn.functional.tanh is deprecated. Use torch.tanh instead.\")\n"
     ]
    },
    {
     "name": "stdout",
     "output_type": "stream",
     "text": [
      "2020-11-18 09:27:35 - Epoch [6/100], Loss: 0.6360, Tempo: 0.1709, Vel: 0.4762, Deviation: 1.5226, Articulation: 0.5215, Pedal: 0.6150, Trill: 0.0000, KLD: 19.1780\n",
      "2020-11-18 09:31:02 - Valid Loss= 0.6271 , Tempo: 0.3842, Vel: 0.6591, Deviation: 0.4846, Articulation: 0.7672, Pedal: 0.6575, Trill: 0.0000\n",
      "2020-11-18 09:31:03 - current training step is 73788\n"
     ]
    },
    {
     "name": "stderr",
     "output_type": "stream",
     "text": [
      "/uusoc/exports/scratch/rtimpson/thesis/virtuosoNet/env/lib/python3.7/site-packages/torch/nn/functional.py:1628: UserWarning: nn.functional.tanh is deprecated. Use torch.tanh instead.\n",
      "  warnings.warn(\"nn.functional.tanh is deprecated. Use torch.tanh instead.\")\n"
     ]
    },
    {
     "name": "stdout",
     "output_type": "stream",
     "text": [
      "2020-11-18 11:43:26 - Epoch [7/100], Loss: 0.6632, Tempo: 0.1652, Vel: 0.4670, Deviation: 1.8998, Articulation: 0.5097, Pedal: 0.6075, Trill: 0.0000, KLD: 14.5191\n",
      "2020-11-18 11:47:01 - Valid Loss= 0.6209 , Tempo: 0.4652, Vel: 0.6025, Deviation: 0.4745, Articulation: 0.7810, Pedal: 0.6438, Trill: 0.0000\n",
      "2020-11-18 11:47:02 - current training step is 86058\n"
     ]
    },
    {
     "name": "stderr",
     "output_type": "stream",
     "text": [
      "/uusoc/exports/scratch/rtimpson/thesis/virtuosoNet/env/lib/python3.7/site-packages/torch/nn/functional.py:1628: UserWarning: nn.functional.tanh is deprecated. Use torch.tanh instead.\n",
      "  warnings.warn(\"nn.functional.tanh is deprecated. Use torch.tanh instead.\")\n"
     ]
    },
    {
     "name": "stdout",
     "output_type": "stream",
     "text": [
      "2020-11-18 13:57:34 - Epoch [8/100], Loss: 0.6590, Tempo: 0.1625, Vel: 0.4636, Deviation: 1.9031, Articulation: 0.5024, Pedal: 0.6024, Trill: 0.0000, KLD: 10.4724\n",
      "2020-11-18 14:01:02 - Valid Loss= 0.6155 , Tempo: 0.4525, Vel: 0.5995, Deviation: 0.4775, Articulation: 0.7708, Pedal: 0.6384, Trill: 0.0000\n",
      "2020-11-18 14:01:02 - current training step is 98420\n"
     ]
    },
    {
     "name": "stderr",
     "output_type": "stream",
     "text": [
      "/uusoc/exports/scratch/rtimpson/thesis/virtuosoNet/env/lib/python3.7/site-packages/torch/nn/functional.py:1628: UserWarning: nn.functional.tanh is deprecated. Use torch.tanh instead.\n",
      "  warnings.warn(\"nn.functional.tanh is deprecated. Use torch.tanh instead.\")\n"
     ]
    }
   ],
   "source": [
    " %run {run_str}"
   ]
  },
  {
   "cell_type": "code",
   "execution_count": null,
   "metadata": {},
   "outputs": [],
   "source": []
  },
  {
   "cell_type": "markdown",
   "metadata": {},
   "source": [
    "# Dev Data"
   ]
  },
  {
   "cell_type": "code",
   "execution_count": 31,
   "metadata": {},
   "outputs": [],
   "source": [
    "model_folder = f'legacy/isgn'\n",
    "model_name = 'isgn_test'\n",
    "model_code = 'isgn'\n",
    "run_description = '\"Running isgn in jupyter notebook through the command line\"'\n",
    "is_dev = 'true'\n",
    "run_str = legacy_training_run_str(\n",
    "    run_folder='first_run', \n",
    "    model_folder=model_folder, \n",
    "    model_name=model_name, \n",
    "    model_code=model_code, \n",
    "    description=run_description, \n",
    "    is_dev=is_dev\n",
    ")"
   ]
  },
  {
   "cell_type": "code",
   "execution_count": 33,
   "metadata": {
    "tags": [
     "outputPrepend"
    ]
   },
   "outputs": [
    {
     "name": "stdout",
     "output_type": "stream",
     "text": [
      "01:29 - current training step is 822\n",
      "2020-11-17 18:02:11 - Epoch [12/100], Loss: 0.6406, Tempo: 0.1116, Vel: 0.4211, Deviation: 0.5040, Articulation: 0.4063, Pedal: 0.8006, Trill: 0.0000, KLD: 3.8233\n",
      "2020-11-17 18:02:12 - Valid Loss= 1.2490 , Tempo: 3.9372, Vel: 1.6361, Deviation: 1.0537, Articulation: 0.6899, Pedal: 0.9175, Trill: 0.0000\n",
      "2020-11-17 18:02:13 - current training step is 898\n",
      "2020-11-17 18:02:53 - Epoch [13/100], Loss: 0.6200, Tempo: 0.1162, Vel: 0.4217, Deviation: 0.4872, Articulation: 0.3879, Pedal: 0.7724, Trill: 0.0000, KLD: 5.5000\n",
      "2020-11-17 18:02:55 - Valid Loss= 1.2486 , Tempo: 4.0616, Vel: 1.5376, Deviation: 1.0413, Articulation: 0.8442, Pedal: 0.8928, Trill: 0.0000\n",
      "2020-11-17 18:02:55 - current training step is 972\n",
      "2020-11-17 18:03:37 - Epoch [14/100], Loss: 0.6384, Tempo: 0.1030, Vel: 0.4334, Deviation: 0.4872, Articulation: 0.3892, Pedal: 0.8013, Trill: 0.0000, KLD: 5.8457\n",
      "2020-11-17 18:03:38 - Valid Loss= 1.2089 , Tempo: 3.8053, Vel: 1.3796, Deviation: 1.0784, Articulation: 0.7288, Pedal: 0.9008, Trill: 0.0000\n",
      "2020-11-17 18:03:39 - current training step is 1048\n",
      "2020-11-17 18:04:19 - Epoch [15/100], Loss: 0.6184, Tempo: 0.1106, Vel: 0.4162, Deviation: 0.4578, Articulation: 0.3798, Pedal: 0.7768, Trill: 0.0000, KLD: 6.4218\n",
      "2020-11-17 18:04:21 - Valid Loss= 1.2084 , Tempo: 3.5963, Vel: 1.4799, Deviation: 1.0330, Articulation: 0.8066, Pedal: 0.9110, Trill: 0.0000\n",
      "2020-11-17 18:04:21 - current training step is 1122\n",
      "2020-11-17 18:05:00 - Epoch [16/100], Loss: 0.5921, Tempo: 0.1011, Vel: 0.3766, Deviation: 0.4356, Articulation: 0.3661, Pedal: 0.7478, Trill: 0.0000, KLD: 7.7372\n",
      "2020-11-17 18:05:01 - Valid Loss= 1.3185 , Tempo: 3.8714, Vel: 1.6690, Deviation: 0.9906, Articulation: 1.0339, Pedal: 0.9912, Trill: 0.0000\n",
      "2020-11-17 18:05:01 - current training step is 1198\n",
      "2020-11-17 18:05:37 - Epoch [17/100], Loss: 0.6015, Tempo: 0.1020, Vel: 0.3853, Deviation: 0.4458, Articulation: 0.3753, Pedal: 0.7583, Trill: 0.0000, KLD: 7.2793\n",
      "2020-11-17 18:05:39 - Valid Loss= 1.2524 , Tempo: 3.9356, Vel: 1.6333, Deviation: 0.9362, Articulation: 0.8703, Pedal: 0.9145, Trill: 0.0000\n",
      "2020-11-17 18:05:39 - current training step is 1270\n",
      "2020-11-17 18:06:18 - Epoch [18/100], Loss: 0.5843, Tempo: 0.0991, Vel: 0.3833, Deviation: 0.4318, Articulation: 0.3676, Pedal: 0.7351, Trill: 0.0000, KLD: 6.9210\n",
      "2020-11-17 18:06:19 - Valid Loss= 1.2672 , Tempo: 3.8437, Vel: 1.3738, Deviation: 1.0443, Articulation: 1.0202, Pedal: 0.9510, Trill: 0.0000\n",
      "2020-11-17 18:06:20 - current training step is 1346\n",
      "2020-11-17 18:06:56 - Epoch [19/100], Loss: 0.5978, Tempo: 0.1005, Vel: 0.3825, Deviation: 0.4316, Articulation: 0.3606, Pedal: 0.7573, Trill: 0.0000, KLD: 8.3078\n",
      "2020-11-17 18:06:57 - Valid Loss= 1.2961 , Tempo: 4.1155, Vel: 1.5884, Deviation: 1.1404, Articulation: 0.8200, Pedal: 0.9418, Trill: 0.0000\n",
      "2020-11-17 18:06:58 - current training step is 1418\n",
      "2020-11-17 18:07:36 - Epoch [20/100], Loss: 0.5787, Tempo: 0.0993, Vel: 0.3753, Deviation: 0.4463, Articulation: 0.3487, Pedal: 0.7280, Trill: 0.0000, KLD: 8.3823\n",
      "2020-11-17 18:07:37 - Valid Loss= 1.2522 , Tempo: 3.8154, Vel: 1.4923, Deviation: 1.1074, Articulation: 0.8210, Pedal: 0.9340, Trill: 0.0000\n",
      "2020-11-17 18:07:37 - current training step is 1494\n",
      "2020-11-17 18:08:15 - Epoch [21/100], Loss: 0.5809, Tempo: 0.1048, Vel: 0.3720, Deviation: 0.4148, Articulation: 0.3427, Pedal: 0.7364, Trill: 0.0000, KLD: 8.0941\n",
      "2020-11-17 18:08:16 - Valid Loss= 1.3053 , Tempo: 4.1870, Vel: 1.2343, Deviation: 0.9864, Articulation: 0.9548, Pedal: 0.9993, Trill: 0.0000\n",
      "2020-11-17 18:08:17 - current training step is 1570\n",
      "2020-11-17 18:08:54 - Epoch [22/100], Loss: 0.5917, Tempo: 0.0945, Vel: 0.3733, Deviation: 0.4144, Articulation: 0.3427, Pedal: 0.7548, Trill: 0.0000, KLD: 5.1639\n",
      "2020-11-17 18:08:56 - Valid Loss= 1.2970 , Tempo: 3.6934, Vel: 1.7586, Deviation: 1.0671, Articulation: 1.0262, Pedal: 0.9603, Trill: 0.0000\n",
      "2020-11-17 18:08:56 - current training step is 1646\n",
      "2020-11-17 18:09:35 - Epoch [23/100], Loss: 0.5735, Tempo: 0.0949, Vel: 0.3637, Deviation: 0.4087, Articulation: 0.3394, Pedal: 0.7289, Trill: 0.0000, KLD: 8.9541\n",
      "2020-11-17 18:09:36 - Valid Loss= 1.2985 , Tempo: 4.1937, Vel: 1.5342, Deviation: 1.1176, Articulation: 0.8424, Pedal: 0.9422, Trill: 0.0000\n",
      "2020-11-17 18:09:37 - current training step is 1722\n",
      "2020-11-17 18:10:13 - Epoch [24/100], Loss: 0.5670, Tempo: 0.0996, Vel: 0.3583, Deviation: 0.4006, Articulation: 0.3239, Pedal: 0.7221, Trill: 0.0000, KLD: 7.4961\n",
      "2020-11-17 18:10:15 - Valid Loss= 1.2724 , Tempo: 3.9384, Vel: 1.5621, Deviation: 1.0446, Articulation: 0.8844, Pedal: 0.9382, Trill: 0.0000\n",
      "2020-11-17 18:10:15 - current training step is 1796\n",
      "2020-11-17 18:10:54 - Epoch [25/100], Loss: 0.5675, Tempo: 0.0897, Vel: 0.3523, Deviation: 0.3907, Articulation: 0.3209, Pedal: 0.7271, Trill: 0.0000, KLD: 8.7902\n",
      "2020-11-17 18:10:55 - Valid Loss= 1.2584 , Tempo: 3.5496, Vel: 1.6742, Deviation: 1.0061, Articulation: 0.8612, Pedal: 0.9644, Trill: 0.0000\n",
      "2020-11-17 18:10:56 - current training step is 1872\n",
      "2020-11-17 18:11:32 - Epoch [26/100], Loss: 0.5730, Tempo: 0.0905, Vel: 0.3555, Deviation: 0.3964, Articulation: 0.3260, Pedal: 0.7335, Trill: 0.0000, KLD: 8.2684\n",
      "2020-11-17 18:11:34 - Valid Loss= 1.2604 , Tempo: 3.9333, Vel: 1.6383, Deviation: 1.0964, Articulation: 0.7641, Pedal: 0.9189, Trill: 0.0000\n",
      "2020-11-17 18:11:34 - current training step is 1946\n",
      "2020-11-17 18:12:11 - Epoch [27/100], Loss: 0.5573, Tempo: 0.0907, Vel: 0.3535, Deviation: 0.3899, Articulation: 0.3293, Pedal: 0.7096, Trill: 0.0000, KLD: 8.5206\n",
      "2020-11-17 18:12:12 - Valid Loss= 1.2330 , Tempo: 3.6201, Vel: 1.3818, Deviation: 1.0147, Articulation: 0.9005, Pedal: 0.9493, Trill: 0.0000\n",
      "2020-11-17 18:12:13 - current training step is 2018\n",
      "2020-11-17 18:12:51 - Epoch [28/100], Loss: 0.5574, Tempo: 0.0897, Vel: 0.3541, Deviation: 0.3887, Articulation: 0.3164, Pedal: 0.7118, Trill: 0.0000, KLD: 7.7857\n",
      "2020-11-17 18:12:52 - Valid Loss= 1.2724 , Tempo: 3.7696, Vel: 1.5328, Deviation: 1.0129, Articulation: 0.9153, Pedal: 0.9666, Trill: 0.0000\n",
      "2020-11-17 18:12:52 - current training step is 2094\n",
      "2020-11-17 18:13:30 - Epoch [29/100], Loss: 0.5543, Tempo: 0.0877, Vel: 0.3457, Deviation: 0.3905, Articulation: 0.3242, Pedal: 0.7070, Trill: 0.0000, KLD: 7.3528\n",
      "2020-11-17 18:13:32 - Valid Loss= 1.2362 , Tempo: 3.2936, Vel: 1.4309, Deviation: 0.9591, Articulation: 1.0211, Pedal: 0.9847, Trill: 0.0000\n",
      "2020-11-17 18:13:32 - current training step is 2170\n",
      "2020-11-17 18:14:09 - Epoch [30/100], Loss: 0.5582, Tempo: 0.0880, Vel: 0.3554, Deviation: 0.3898, Articulation: 0.3214, Pedal: 0.7123, Trill: 0.0000, KLD: 8.2930\n",
      "2020-11-17 18:14:11 - Valid Loss= 1.2392 , Tempo: 3.7349, Vel: 1.4550, Deviation: 0.9606, Articulation: 0.8544, Pedal: 0.9465, Trill: 0.0000\n",
      "2020-11-17 18:14:11 - current training step is 2244\n",
      "2020-11-17 18:14:48 - Epoch [31/100], Loss: 0.5496, Tempo: 0.0862, Vel: 0.3560, Deviation: 0.3881, Articulation: 0.3101, Pedal: 0.7008, Trill: 0.0000, KLD: 10.1332\n",
      "2020-11-17 18:14:49 - Valid Loss= 1.2881 , Tempo: 3.6393, Vel: 1.3657, Deviation: 0.9721, Articulation: 1.1469, Pedal: 1.0065, Trill: 0.0000\n",
      "2020-11-17 18:14:50 - current training step is 2318\n",
      "2020-11-17 18:15:27 - Epoch [32/100], Loss: 0.5424, Tempo: 0.0898, Vel: 0.3455, Deviation: 0.3799, Articulation: 0.3150, Pedal: 0.6909, Trill: 0.0000, KLD: 9.4617\n",
      "2020-11-17 18:15:29 - Valid Loss= 1.2679 , Tempo: 3.7573, Vel: 1.4333, Deviation: 0.9614, Articulation: 1.0245, Pedal: 0.9672, Trill: 0.0000\n",
      "2020-11-17 18:15:29 - current training step is 2392\n",
      "2020-11-17 18:16:06 - Epoch [33/100], Loss: 0.5551, Tempo: 0.0815, Vel: 0.3487, Deviation: 0.3831, Articulation: 0.3143, Pedal: 0.7113, Trill: 0.0000, KLD: 9.7673\n",
      "2020-11-17 18:16:08 - Valid Loss= 1.2478 , Tempo: 3.1600, Vel: 1.6868, Deviation: 0.9592, Articulation: 0.9001, Pedal: 1.0029, Trill: 0.0000\n",
      "2020-11-17 18:16:08 - current training step is 2466\n",
      "2020-11-17 18:16:46 - Epoch [34/100], Loss: 0.5455, Tempo: 0.0870, Vel: 0.3448, Deviation: 0.3871, Articulation: 0.3096, Pedal: 0.6960, Trill: 0.0000, KLD: 9.4895\n",
      "2020-11-17 18:16:47 - Valid Loss= 1.2170 , Tempo: 3.2220, Vel: 1.5398, Deviation: 0.9974, Articulation: 0.8786, Pedal: 0.9642, Trill: 0.0000\n",
      "2020-11-17 18:16:48 - current training step is 2540\n",
      "2020-11-17 18:17:25 - Epoch [35/100], Loss: 0.5298, Tempo: 0.0837, Vel: 0.3434, Deviation: 0.3860, Articulation: 0.3113, Pedal: 0.6719, Trill: 0.0000, KLD: 10.3902\n",
      "2020-11-17 18:17:26 - Valid Loss= 1.2795 , Tempo: 3.1565, Vel: 1.6032, Deviation: 0.9584, Articulation: 1.0222, Pedal: 1.0478, Trill: 0.0000\n",
      "2020-11-17 18:17:26 - current training step is 2614\n",
      "2020-11-17 18:18:02 - Epoch [36/100], Loss: 0.5318, Tempo: 0.0807, Vel: 0.3399, Deviation: 0.3769, Articulation: 0.2987, Pedal: 0.6790, Trill: 0.0000, KLD: 10.4476\n",
      "2020-11-17 18:18:03 - Valid Loss= 1.2718 , Tempo: 3.4698, Vel: 1.5881, Deviation: 1.1210, Articulation: 0.9707, Pedal: 0.9772, Trill: 0.0000\n",
      "2020-11-17 18:18:04 - current training step is 2686\n",
      "2020-11-17 18:18:40 - Epoch [37/100], Loss: 0.5190, Tempo: 0.0822, Vel: 0.3408, Deviation: 0.3741, Articulation: 0.3027, Pedal: 0.6585, Trill: 0.0000, KLD: 11.0433\n",
      "2020-11-17 18:18:42 - Valid Loss= 1.3104 , Tempo: 3.2385, Vel: 1.6092, Deviation: 1.0315, Articulation: 0.8588, Pedal: 1.0966, Trill: 0.0000\n",
      "2020-11-17 18:18:42 - current training step is 2760\n",
      "2020-11-17 18:19:19 - Epoch [38/100], Loss: 0.5137, Tempo: 0.0821, Vel: 0.3424, Deviation: 0.3675, Articulation: 0.3074, Pedal: 0.6502, Trill: 0.0000, KLD: 10.2883\n",
      "2020-11-17 18:19:21 - Valid Loss= 1.3323 , Tempo: 3.6267, Vel: 1.7834, Deviation: 1.0116, Articulation: 0.7687, Pedal: 1.0665, Trill: 0.0000\n",
      "2020-11-17 18:19:21 - current training step is 2834\n",
      "2020-11-17 18:19:57 - Epoch [39/100], Loss: 0.5596, Tempo: 0.0774, Vel: 0.3421, Deviation: 0.3784, Articulation: 0.3068, Pedal: 0.7215, Trill: 0.0000, KLD: 11.2761\n",
      "2020-11-17 18:19:58 - Valid Loss= 1.2377 , Tempo: 3.1016, Vel: 1.4940, Deviation: 0.9040, Articulation: 0.8492, Pedal: 1.0380, Trill: 0.0000\n",
      "2020-11-17 18:19:59 - current training step is 2906\n",
      "2020-11-17 18:20:35 - Epoch [40/100], Loss: 0.5215, Tempo: 0.0829, Vel: 0.3410, Deviation: 0.3799, Articulation: 0.2946, Pedal: 0.6625, Trill: 0.0000, KLD: 12.8881\n",
      "2020-11-17 18:20:36 - Valid Loss= 1.2717 , Tempo: 3.2339, Vel: 1.4064, Deviation: 0.9456, Articulation: 0.7733, Pedal: 1.0900, Trill: 0.0000\n",
      "2020-11-17 18:20:37 - current training step is 2978\n",
      "2020-11-17 18:21:13 - Epoch [41/100], Loss: 0.5167, Tempo: 0.0856, Vel: 0.3472, Deviation: 0.3745, Articulation: 0.2980, Pedal: 0.6540, Trill: 0.0000, KLD: 12.8280\n",
      "2020-11-17 18:21:14 - Valid Loss= 1.2910 , Tempo: 3.0946, Vel: 1.4092, Deviation: 0.9448, Articulation: 0.8872, Pedal: 1.1235, Trill: 0.0000\n",
      "2020-11-17 18:21:14 - current training step is 3054\n",
      "2020-11-17 18:21:49 - Epoch [42/100], Loss: 0.5185, Tempo: 0.0766, Vel: 0.3390, Deviation: 0.3736, Articulation: 0.2974, Pedal: 0.6596, Trill: 0.0000, KLD: 12.1516\n",
      "2020-11-17 18:21:50 - Valid Loss= 1.3034 , Tempo: 3.2069, Vel: 1.4859, Deviation: 0.9469, Articulation: 1.0653, Pedal: 1.0904, Trill: 0.0000\n",
      "2020-11-17 18:21:51 - current training step is 3124\n",
      "2020-11-17 18:22:24 - Epoch [43/100], Loss: 0.5004, Tempo: 0.0805, Vel: 0.3364, Deviation: 0.3989, Articulation: 0.2923, Pedal: 0.6280, Trill: 0.0000, KLD: 12.4248\n",
      "2020-11-17 18:22:25 - Valid Loss= 1.4034 , Tempo: 3.2905, Vel: 1.5472, Deviation: 0.9692, Articulation: 1.0548, Pedal: 1.2250, Trill: 0.0000\n",
      "2020-11-17 18:22:26 - current training step is 3194\n",
      "2020-11-17 18:23:05 - Epoch [44/100], Loss: 0.5047, Tempo: 0.0834, Vel: 0.3285, Deviation: 0.3927, Articulation: 0.2983, Pedal: 0.6355, Trill: 0.0000, KLD: 12.1072\n",
      "2020-11-17 18:23:06 - Valid Loss= 1.2655 , Tempo: 3.5267, Vel: 1.6663, Deviation: 0.9688, Articulation: 0.8853, Pedal: 0.9819, Trill: 0.0000\n",
      "2020-11-17 18:23:07 - current training step is 3272\n",
      "2020-11-17 18:23:43 - Epoch [45/100], Loss: 0.5244, Tempo: 0.0831, Vel: 0.3397, Deviation: 0.3978, Articulation: 0.2951, Pedal: 0.6647, Trill: 0.0000, KLD: 11.5926\n",
      "2020-11-17 18:23:45 - Valid Loss= 1.3690 , Tempo: 3.3013, Vel: 1.4303, Deviation: 0.9976, Articulation: 0.9038, Pedal: 1.2037, Trill: 0.0000\n",
      "2020-11-17 18:23:45 - current training step is 3346\n",
      "2020-11-17 18:24:22 - Epoch [46/100], Loss: 0.4971, Tempo: 0.0805, Vel: 0.3414, Deviation: 0.3814, Articulation: 0.2988, Pedal: 0.6237, Trill: 0.0000, KLD: 11.1057\n",
      "2020-11-17 18:24:23 - Valid Loss= 1.2512 , Tempo: 3.1072, Vel: 1.4127, Deviation: 0.9606, Articulation: 0.9098, Pedal: 1.0533, Trill: 0.0000\n",
      "2020-11-17 18:24:24 - current training step is 3420\n",
      "2020-11-17 18:25:03 - Epoch [47/100], Loss: 0.4804, Tempo: 0.0802, Vel: 0.3378, Deviation: 0.3679, Articulation: 0.2987, Pedal: 0.5999, Trill: 0.0000, KLD: 12.8143\n",
      "2020-11-17 18:25:04 - Valid Loss= 1.4398 , Tempo: 3.8522, Vel: 1.5216, Deviation: 0.8725, Articulation: 0.8185, Pedal: 1.2532, Trill: 0.0000\n",
      "2020-11-17 18:25:05 - current training step is 3498\n",
      "2020-11-17 18:25:43 - Epoch [48/100], Loss: 0.5160, Tempo: 0.0796, Vel: 0.3308, Deviation: 0.3696, Articulation: 0.2999, Pedal: 0.6566, Trill: 0.0000, KLD: 13.9698\n",
      "2020-11-17 18:25:44 - Valid Loss= 1.3422 , Tempo: 3.1966, Vel: 1.4362, Deviation: 0.9243, Articulation: 1.0917, Pedal: 1.1594, Trill: 0.0000\n",
      "2020-11-17 18:25:44 - current training step is 3574\n",
      "2020-11-17 18:26:19 - Epoch [49/100], Loss: 0.4991, Tempo: 0.0784, Vel: 0.3281, Deviation: 0.3675, Articulation: 0.2919, Pedal: 0.6321, Trill: 0.0000, KLD: 13.8949\n",
      "2020-11-17 18:26:21 - Valid Loss= 1.2703 , Tempo: 3.2376, Vel: 1.5345, Deviation: 0.9410, Articulation: 0.8773, Pedal: 1.0547, Trill: 0.0000\n",
      "2020-11-17 18:26:21 - current training step is 3644\n",
      "2020-11-17 18:27:00 - Epoch [50/100], Loss: 0.4908, Tempo: 0.0785, Vel: 0.3243, Deviation: 0.3645, Articulation: 0.2920, Pedal: 0.6199, Trill: 0.0000, KLD: 14.8942\n",
      "2020-11-17 18:27:01 - Valid Loss= 1.2475 , Tempo: 3.5183, Vel: 1.4719, Deviation: 0.9397, Articulation: 0.7991, Pedal: 0.9991, Trill: 0.0000\n",
      "2020-11-17 18:27:02 - current training step is 3720\n",
      "2020-11-17 18:27:40 - Epoch [51/100], Loss: 0.4853, Tempo: 0.0747, Vel: 0.3223, Deviation: 0.3722, Articulation: 0.2821, Pedal: 0.6124, Trill: 0.0000, KLD: 14.7506\n",
      "2020-11-17 18:27:41 - Valid Loss= 1.3318 , Tempo: 3.0847, Vel: 1.4064, Deviation: 0.9569, Articulation: 0.9994, Pedal: 1.1718, Trill: 0.0000\n",
      "2020-11-17 18:27:42 - current training step is 3796\n",
      "2020-11-17 18:28:20 - Epoch [52/100], Loss: 0.4898, Tempo: 0.0744, Vel: 0.3221, Deviation: 0.3502, Articulation: 0.2772, Pedal: 0.6234, Trill: 0.0000, KLD: 15.1947\n",
      "2020-11-17 18:28:21 - Valid Loss= 1.2673 , Tempo: 3.1555, Vel: 1.3994, Deviation: 0.9541, Articulation: 0.8207, Pedal: 1.0873, Trill: 0.0000\n",
      "2020-11-17 18:28:22 - current training step is 3874\n",
      "2020-11-17 18:28:59 - Epoch [53/100], Loss: 0.4733, Tempo: 0.0719, Vel: 0.3287, Deviation: 0.3510, Articulation: 0.2758, Pedal: 0.5970, Trill: 0.0000, KLD: 15.4730\n",
      "2020-11-17 18:29:01 - Valid Loss= 1.3101 , Tempo: 3.0517, Vel: 1.4793, Deviation: 0.9411, Articulation: 0.8637, Pedal: 1.1536, Trill: 0.0000\n",
      "2020-11-17 18:29:01 - current training step is 3950\n",
      "2020-11-17 18:29:39 - Epoch [54/100], Loss: 0.4929, Tempo: 0.0787, Vel: 0.3189, Deviation: 0.3600, Articulation: 0.2820, Pedal: 0.6260, Trill: 0.0000, KLD: 7.4081\n",
      "2020-11-17 18:29:40 - Valid Loss= 1.2565 , Tempo: 3.2268, Vel: 1.5400, Deviation: 0.9804, Articulation: 0.8580, Pedal: 1.0308, Trill: 0.0000\n",
      "2020-11-17 18:29:41 - current training step is 4026\n",
      "2020-11-17 18:30:17 - Epoch [55/100], Loss: 0.4799, Tempo: 0.0755, Vel: 0.3230, Deviation: 0.3579, Articulation: 0.2729, Pedal: 0.6071, Trill: 0.0000, KLD: 17.0758\n",
      "2020-11-17 18:30:18 - Valid Loss= 1.2876 , Tempo: 3.1410, Vel: 1.6435, Deviation: 0.9649, Articulation: 0.8850, Pedal: 1.0757, Trill: 0.0000\n",
      "2020-11-17 18:30:19 - current training step is 4098\n",
      "2020-11-17 18:30:56 - Epoch [56/100], Loss: 0.4597, Tempo: 0.0718, Vel: 0.3114, Deviation: 0.3367, Articulation: 0.2666, Pedal: 0.5814, Trill: 0.0000, KLD: 13.4604\n",
      "2020-11-17 18:30:57 - Valid Loss= 1.3217 , Tempo: 3.1711, Vel: 1.4758, Deviation: 0.9222, Articulation: 0.9285, Pedal: 1.1488, Trill: 0.0000\n",
      "2020-11-17 18:30:57 - current training step is 4172\n",
      "2020-11-17 18:31:35 - Epoch [57/100], Loss: 0.4763, Tempo: 0.0738, Vel: 0.3153, Deviation: 0.3447, Articulation: 0.2730, Pedal: 0.6046, Trill: 0.0000, KLD: 14.3727\n",
      "2020-11-17 18:31:36 - Valid Loss= 1.2219 , Tempo: 3.1648, Vel: 1.3521, Deviation: 0.9604, Articulation: 0.8144, Pedal: 1.0214, Trill: 0.0000\n",
      "2020-11-17 18:31:37 - current training step is 4248\n",
      "2020-11-17 18:32:16 - Epoch [58/100], Loss: 0.4633, Tempo: 0.0759, Vel: 0.3099, Deviation: 0.3398, Articulation: 0.2675, Pedal: 0.5862, Trill: 0.0000, KLD: 8.1821\n",
      "2020-11-17 18:32:17 - Valid Loss= 1.2458 , Tempo: 3.1058, Vel: 1.5541, Deviation: 0.9985, Articulation: 0.8080, Pedal: 1.0339, Trill: 0.0000\n",
      "2020-11-17 18:32:18 - current training step is 4326\n",
      "2020-11-17 18:32:57 - Epoch [59/100], Loss: 0.4591, Tempo: 0.0767, Vel: 0.3124, Deviation: 0.3496, Articulation: 0.2764, Pedal: 0.5764, Trill: 0.0000, KLD: 9.1598\n",
      "2020-11-17 18:32:58 - Valid Loss= 1.3071 , Tempo: 3.2371, Vel: 1.5082, Deviation: 0.9705, Articulation: 1.0062, Pedal: 1.0937, Trill: 0.0000\n",
      "2020-11-17 18:32:59 - current training step is 4404\n",
      "2020-11-17 18:33:35 - Epoch [60/100], Loss: 0.4629, Tempo: 0.0723, Vel: 0.3134, Deviation: 0.3449, Articulation: 0.2732, Pedal: 0.5840, Trill: 0.0000, KLD: 9.3816\n",
      "2020-11-17 18:33:36 - Valid Loss= 1.3111 , Tempo: 3.4583, Vel: 1.5815, Deviation: 1.0359, Articulation: 0.7748, Pedal: 1.0816, Trill: 0.0000\n",
      "2020-11-17 18:33:37 - current training step is 4476\n",
      "2020-11-17 18:34:13 - Epoch [61/100], Loss: 0.4544, Tempo: 0.0714, Vel: 0.3076, Deviation: 0.3489, Articulation: 0.2631, Pedal: 0.5725, Trill: 0.0000, KLD: 13.3099\n",
      "2020-11-17 18:34:14 - Valid Loss= 1.2697 , Tempo: 3.0975, Vel: 1.5720, Deviation: 1.0244, Articulation: 0.8804, Pedal: 1.0560, Trill: 0.0000\n",
      "2020-11-17 18:34:15 - current training step is 4550\n",
      "2020-11-17 18:34:51 - Epoch [62/100], Loss: 0.4387, Tempo: 0.0706, Vel: 0.3088, Deviation: 0.3416, Articulation: 0.2603, Pedal: 0.5492, Trill: 0.0000, KLD: 13.0855\n",
      "2020-11-17 18:34:53 - Valid Loss= 1.2909 , Tempo: 3.3548, Vel: 1.4735, Deviation: 0.9283, Articulation: 0.8448, Pedal: 1.0856, Trill: 0.0000\n",
      "2020-11-17 18:34:53 - current training step is 4622\n",
      "2020-11-17 18:35:31 - Epoch [63/100], Loss: 0.4487, Tempo: 0.0706, Vel: 0.3095, Deviation: 0.3380, Articulation: 0.2712, Pedal: 0.5638, Trill: 0.0000, KLD: 14.7649\n",
      "2020-11-17 18:35:32 - Valid Loss= 1.3428 , Tempo: 3.2358, Vel: 1.5734, Deviation: 0.9874, Articulation: 0.8495, Pedal: 1.1606, Trill: 0.0000\n",
      "2020-11-17 18:35:33 - current training step is 4696\n",
      "2020-11-17 18:36:10 - Epoch [64/100], Loss: 0.4544, Tempo: 0.0733, Vel: 0.3089, Deviation: 0.3492, Articulation: 0.2582, Pedal: 0.5728, Trill: 0.0000, KLD: 8.4881\n",
      "2020-11-17 18:36:11 - Valid Loss= 1.2886 , Tempo: 3.1718, Vel: 1.4384, Deviation: 0.9592, Articulation: 0.7568, Pedal: 1.1212, Trill: 0.0000\n",
      "2020-11-17 18:36:11 - current training step is 4770\n",
      "2020-11-17 18:36:48 - Epoch [65/100], Loss: 0.4535, Tempo: 0.0703, Vel: 0.3060, Deviation: 0.3387, Articulation: 0.2700, Pedal: 0.5719, Trill: 0.0000, KLD: 12.5865\n",
      "2020-11-17 18:36:49 - Valid Loss= 1.2973 , Tempo: 3.3936, Vel: 1.5203, Deviation: 0.9386, Articulation: 0.8016, Pedal: 1.0879, Trill: 0.0000\n",
      "2020-11-17 18:36:50 - current training step is 4842\n",
      "2020-11-17 18:37:26 - Epoch [66/100], Loss: 0.4620, Tempo: 0.0696, Vel: 0.3021, Deviation: 0.3252, Articulation: 0.2612, Pedal: 0.5890, Trill: 0.0000, KLD: 16.8379\n",
      "2020-11-17 18:37:28 - Valid Loss= 1.2801 , Tempo: 3.2819, Vel: 1.4715, Deviation: 0.9487, Articulation: 0.8361, Pedal: 1.0775, Trill: 0.0000\n",
      "2020-11-17 18:37:28 - current training step is 4916\n",
      "2020-11-17 18:38:07 - Epoch [67/100], Loss: 0.4570, Tempo: 0.0735, Vel: 0.3045, Deviation: 0.3407, Articulation: 0.2644, Pedal: 0.5777, Trill: 0.0000, KLD: 14.6567\n",
      "2020-11-17 18:38:09 - Valid Loss= 1.2901 , Tempo: 3.0786, Vel: 1.3668, Deviation: 0.9862, Articulation: 0.8160, Pedal: 1.1347, Trill: 0.0000\n",
      "2020-11-17 18:38:09 - current training step is 4992\n"
     ]
    },
    {
     "ename": "KeyboardInterrupt",
     "evalue": "",
     "output_type": "error",
     "traceback": [
      "\u001b[0;31m---------------------------------------------------------------------------\u001b[0m",
      "\u001b[0;31mKeyboardInterrupt\u001b[0m                         Traceback (most recent call last)",
      "\u001b[0;32m/uusoc/exports/scratch/rtimpson/thesis/virtuosoNet/src/old/model_run.py\u001b[0m in \u001b[0;36m<module>\u001b[0;34m\u001b[0m\n\u001b[1;32m    864\u001b[0m \u001b[0;34m\u001b[0m\u001b[0m\n\u001b[1;32m    865\u001b[0m                     \u001b[0mtempo_loss\u001b[0m\u001b[0;34m,\u001b[0m \u001b[0mvel_loss\u001b[0m\u001b[0;34m,\u001b[0m \u001b[0mdev_loss\u001b[0m\u001b[0;34m,\u001b[0m \u001b[0marticul_loss\u001b[0m\u001b[0;34m,\u001b[0m \u001b[0mpedal_loss\u001b[0m\u001b[0;34m,\u001b[0m \u001b[0mtrill_loss\u001b[0m\u001b[0;34m,\u001b[0m \u001b[0mkld\u001b[0m \u001b[0;34m=\u001b[0m\u001b[0;31m \u001b[0m\u001b[0;31m\\\u001b[0m\u001b[0;34m\u001b[0m\u001b[0;34m\u001b[0m\u001b[0m\n\u001b[0;32m--> 866\u001b[0;31m                         \u001b[0mbatch_time_step_run\u001b[0m\u001b[0;34m(\u001b[0m\u001b[0mtraining_data\u001b[0m\u001b[0;34m,\u001b[0m \u001b[0mmodel\u001b[0m\u001b[0;34m=\u001b[0m\u001b[0mtrain_model\u001b[0m\u001b[0;34m)\u001b[0m\u001b[0;34m\u001b[0m\u001b[0;34m\u001b[0m\u001b[0m\n\u001b[0m\u001b[1;32m    867\u001b[0m                     \u001b[0mtempo_loss_total\u001b[0m\u001b[0;34m.\u001b[0m\u001b[0mappend\u001b[0m\u001b[0;34m(\u001b[0m\u001b[0mtempo_loss\u001b[0m\u001b[0;34m.\u001b[0m\u001b[0mitem\u001b[0m\u001b[0;34m(\u001b[0m\u001b[0;34m)\u001b[0m\u001b[0;34m)\u001b[0m\u001b[0;34m\u001b[0m\u001b[0;34m\u001b[0m\u001b[0m\n\u001b[1;32m    868\u001b[0m                     \u001b[0mvel_loss_total\u001b[0m\u001b[0;34m.\u001b[0m\u001b[0mappend\u001b[0m\u001b[0;34m(\u001b[0m\u001b[0mvel_loss\u001b[0m\u001b[0;34m.\u001b[0m\u001b[0mitem\u001b[0m\u001b[0;34m(\u001b[0m\u001b[0;34m)\u001b[0m\u001b[0;34m)\u001b[0m\u001b[0;34m\u001b[0m\u001b[0;34m\u001b[0m\u001b[0m\n",
      "\u001b[0;32m/uusoc/exports/scratch/rtimpson/thesis/virtuosoNet/src/old/model_run.py\u001b[0m in \u001b[0;36mbatch_time_step_run\u001b[0;34m(data, model, batch_size)\u001b[0m\n\u001b[1;32m    587\u001b[0m     \u001b[0mmodel_train\u001b[0m \u001b[0;34m=\u001b[0m \u001b[0mmodel\u001b[0m\u001b[0;34m.\u001b[0m\u001b[0mtrain\u001b[0m\u001b[0;34m(\u001b[0m\u001b[0;34m)\u001b[0m\u001b[0;34m\u001b[0m\u001b[0;34m\u001b[0m\u001b[0m\n\u001b[1;32m    588\u001b[0m     \u001b[0moutputs\u001b[0m\u001b[0;34m,\u001b[0m \u001b[0mperform_mu\u001b[0m\u001b[0;34m,\u001b[0m \u001b[0mperform_var\u001b[0m\u001b[0;34m,\u001b[0m \u001b[0mtotal_out_list\u001b[0m\u001b[0;31m \u001b[0m\u001b[0;31m\\\u001b[0m\u001b[0;34m\u001b[0m\u001b[0;34m\u001b[0m\u001b[0m\n\u001b[0;32m--> 589\u001b[0;31m         \u001b[0;34m=\u001b[0m \u001b[0mmodel_train\u001b[0m\u001b[0;34m(\u001b[0m\u001b[0mprime_batch_x\u001b[0m\u001b[0;34m,\u001b[0m \u001b[0mprime_batch_y\u001b[0m\u001b[0;34m,\u001b[0m \u001b[0medges\u001b[0m\u001b[0;34m,\u001b[0m \u001b[0mnote_locations\u001b[0m\u001b[0;34m,\u001b[0m \u001b[0mbatch_start\u001b[0m\u001b[0;34m)\u001b[0m\u001b[0;34m\u001b[0m\u001b[0;34m\u001b[0m\u001b[0m\n\u001b[0m\u001b[1;32m    590\u001b[0m \u001b[0;34m\u001b[0m\u001b[0m\n\u001b[1;32m    591\u001b[0m     \u001b[0;32mif\u001b[0m \u001b[0mHIERARCHY\u001b[0m\u001b[0;34m:\u001b[0m\u001b[0;34m\u001b[0m\u001b[0;34m\u001b[0m\u001b[0m\n",
      "\u001b[0;32m/uusoc/exports/scratch/rtimpson/thesis/virtuosoNet/env/lib/python3.7/site-packages/torch/nn/modules/module.py\u001b[0m in \u001b[0;36m_call_impl\u001b[0;34m(self, *input, **kwargs)\u001b[0m\n\u001b[1;32m    725\u001b[0m             \u001b[0mresult\u001b[0m \u001b[0;34m=\u001b[0m \u001b[0mself\u001b[0m\u001b[0;34m.\u001b[0m\u001b[0m_slow_forward\u001b[0m\u001b[0;34m(\u001b[0m\u001b[0;34m*\u001b[0m\u001b[0minput\u001b[0m\u001b[0;34m,\u001b[0m \u001b[0;34m**\u001b[0m\u001b[0mkwargs\u001b[0m\u001b[0;34m)\u001b[0m\u001b[0;34m\u001b[0m\u001b[0;34m\u001b[0m\u001b[0m\n\u001b[1;32m    726\u001b[0m         \u001b[0;32melse\u001b[0m\u001b[0;34m:\u001b[0m\u001b[0;34m\u001b[0m\u001b[0;34m\u001b[0m\u001b[0m\n\u001b[0;32m--> 727\u001b[0;31m             \u001b[0mresult\u001b[0m \u001b[0;34m=\u001b[0m \u001b[0mself\u001b[0m\u001b[0;34m.\u001b[0m\u001b[0mforward\u001b[0m\u001b[0;34m(\u001b[0m\u001b[0;34m*\u001b[0m\u001b[0minput\u001b[0m\u001b[0;34m,\u001b[0m \u001b[0;34m**\u001b[0m\u001b[0mkwargs\u001b[0m\u001b[0;34m)\u001b[0m\u001b[0;34m\u001b[0m\u001b[0;34m\u001b[0m\u001b[0m\n\u001b[0m\u001b[1;32m    728\u001b[0m         for hook in itertools.chain(\n\u001b[1;32m    729\u001b[0m                 \u001b[0m_global_forward_hooks\u001b[0m\u001b[0;34m.\u001b[0m\u001b[0mvalues\u001b[0m\u001b[0;34m(\u001b[0m\u001b[0;34m)\u001b[0m\u001b[0;34m,\u001b[0m\u001b[0;34m\u001b[0m\u001b[0;34m\u001b[0m\u001b[0m\n",
      "\u001b[0;32m/uusoc/exports/scratch/rtimpson/thesis/virtuosoNet/src/old/nnModel.py\u001b[0m in \u001b[0;36mforward\u001b[0;34m(self, x, y, edges, note_locations, start_index, initial_z, return_z)\u001b[0m\n\u001b[1;32m    388\u001b[0m                                                  measure_numbers, start_index, lower_is_note=True)\n\u001b[1;32m    389\u001b[0m                 out_in_measure = self.make_higher_node(initial_out, self.final_measure_attention, measure_numbers,\n\u001b[0;32m--> 390\u001b[0;31m                                                  measure_numbers, start_index, lower_is_note=True)\n\u001b[0m\u001b[1;32m    391\u001b[0m \u001b[0;34m\u001b[0m\u001b[0m\n\u001b[1;32m    392\u001b[0m                 \u001b[0mout_measure_cat\u001b[0m \u001b[0;34m=\u001b[0m \u001b[0mtorch\u001b[0m\u001b[0;34m.\u001b[0m\u001b[0mcat\u001b[0m\u001b[0;34m(\u001b[0m\u001b[0;34m(\u001b[0m\u001b[0mmargin_in_measure\u001b[0m\u001b[0;34m,\u001b[0m \u001b[0mout_in_measure\u001b[0m\u001b[0;34m)\u001b[0m\u001b[0;34m,\u001b[0m \u001b[0;36m2\u001b[0m\u001b[0;34m)\u001b[0m\u001b[0;34m\u001b[0m\u001b[0;34m\u001b[0m\u001b[0m\n",
      "\u001b[0;32m/uusoc/exports/scratch/rtimpson/thesis/virtuosoNet/src/old/nnModel.py\u001b[0m in \u001b[0;36mmake_higher_node\u001b[0;34m(self, lower_out, attention_weights, lower_indexes, higher_indexes, start_index, lower_is_note)\u001b[0m\n\u001b[1;32m    502\u001b[0m                 \u001b[0mlower_node_end\u001b[0m \u001b[0;34m=\u001b[0m \u001b[0mlow_index\u001b[0m\u001b[0;34m\u001b[0m\u001b[0;34m\u001b[0m\u001b[0m\n\u001b[1;32m    503\u001b[0m                 \u001b[0mcorresp_lower_out\u001b[0m \u001b[0;34m=\u001b[0m \u001b[0mlower_out\u001b[0m\u001b[0;34m[\u001b[0m\u001b[0;34m:\u001b[0m\u001b[0;34m,\u001b[0m \u001b[0mlower_node_start\u001b[0m\u001b[0;34m:\u001b[0m\u001b[0mlower_node_end\u001b[0m\u001b[0;34m,\u001b[0m \u001b[0;34m:\u001b[0m\u001b[0;34m]\u001b[0m\u001b[0;34m\u001b[0m\u001b[0;34m\u001b[0m\u001b[0m\n\u001b[0;32m--> 504\u001b[0;31m                 \u001b[0mhigher\u001b[0m \u001b[0;34m=\u001b[0m \u001b[0mattention_weights\u001b[0m\u001b[0;34m(\u001b[0m\u001b[0mcorresp_lower_out\u001b[0m\u001b[0;34m)\u001b[0m\u001b[0;34m\u001b[0m\u001b[0;34m\u001b[0m\u001b[0m\n\u001b[0m\u001b[1;32m    505\u001b[0m                 \u001b[0mhigher_nodes\u001b[0m\u001b[0;34m.\u001b[0m\u001b[0mappend\u001b[0m\u001b[0;34m(\u001b[0m\u001b[0mhigher\u001b[0m\u001b[0;34m)\u001b[0m\u001b[0;34m\u001b[0m\u001b[0;34m\u001b[0m\u001b[0m\n\u001b[1;32m    506\u001b[0m \u001b[0;34m\u001b[0m\u001b[0m\n",
      "\u001b[0;32m/uusoc/exports/scratch/rtimpson/thesis/virtuosoNet/env/lib/python3.7/site-packages/torch/nn/modules/module.py\u001b[0m in \u001b[0;36m_call_impl\u001b[0;34m(self, *input, **kwargs)\u001b[0m\n\u001b[1;32m    725\u001b[0m             \u001b[0mresult\u001b[0m \u001b[0;34m=\u001b[0m \u001b[0mself\u001b[0m\u001b[0;34m.\u001b[0m\u001b[0m_slow_forward\u001b[0m\u001b[0;34m(\u001b[0m\u001b[0;34m*\u001b[0m\u001b[0minput\u001b[0m\u001b[0;34m,\u001b[0m \u001b[0;34m**\u001b[0m\u001b[0mkwargs\u001b[0m\u001b[0;34m)\u001b[0m\u001b[0;34m\u001b[0m\u001b[0;34m\u001b[0m\u001b[0m\n\u001b[1;32m    726\u001b[0m         \u001b[0;32melse\u001b[0m\u001b[0;34m:\u001b[0m\u001b[0;34m\u001b[0m\u001b[0;34m\u001b[0m\u001b[0m\n\u001b[0;32m--> 727\u001b[0;31m             \u001b[0mresult\u001b[0m \u001b[0;34m=\u001b[0m \u001b[0mself\u001b[0m\u001b[0;34m.\u001b[0m\u001b[0mforward\u001b[0m\u001b[0;34m(\u001b[0m\u001b[0;34m*\u001b[0m\u001b[0minput\u001b[0m\u001b[0;34m,\u001b[0m \u001b[0;34m**\u001b[0m\u001b[0mkwargs\u001b[0m\u001b[0;34m)\u001b[0m\u001b[0;34m\u001b[0m\u001b[0;34m\u001b[0m\u001b[0m\n\u001b[0m\u001b[1;32m    728\u001b[0m         for hook in itertools.chain(\n\u001b[1;32m    729\u001b[0m                 \u001b[0m_global_forward_hooks\u001b[0m\u001b[0;34m.\u001b[0m\u001b[0mvalues\u001b[0m\u001b[0;34m(\u001b[0m\u001b[0;34m)\u001b[0m\u001b[0;34m,\u001b[0m\u001b[0;34m\u001b[0m\u001b[0;34m\u001b[0m\u001b[0m\n",
      "\u001b[0;32m/uusoc/exports/scratch/rtimpson/thesis/virtuosoNet/src/old/nnModel.py\u001b[0m in \u001b[0;36mforward\u001b[0;34m(self, x)\u001b[0m\n\u001b[1;32m    131\u001b[0m \u001b[0;34m\u001b[0m\u001b[0m\n\u001b[1;32m    132\u001b[0m     \u001b[0;32mdef\u001b[0m \u001b[0mforward\u001b[0m\u001b[0;34m(\u001b[0m\u001b[0mself\u001b[0m\u001b[0;34m,\u001b[0m \u001b[0mx\u001b[0m\u001b[0;34m)\u001b[0m\u001b[0;34m:\u001b[0m\u001b[0;34m\u001b[0m\u001b[0;34m\u001b[0m\u001b[0m\n\u001b[0;32m--> 133\u001b[0;31m         \u001b[0mattention\u001b[0m \u001b[0;34m=\u001b[0m \u001b[0mself\u001b[0m\u001b[0;34m.\u001b[0m\u001b[0mattention_net\u001b[0m\u001b[0;34m(\u001b[0m\u001b[0mx\u001b[0m\u001b[0;34m)\u001b[0m\u001b[0;34m\u001b[0m\u001b[0;34m\u001b[0m\u001b[0m\n\u001b[0m\u001b[1;32m    134\u001b[0m         \u001b[0mattention_tanh\u001b[0m \u001b[0;34m=\u001b[0m \u001b[0mF\u001b[0m\u001b[0;34m.\u001b[0m\u001b[0mtanh\u001b[0m\u001b[0;34m(\u001b[0m\u001b[0mattention\u001b[0m\u001b[0;34m)\u001b[0m\u001b[0;34m\u001b[0m\u001b[0;34m\u001b[0m\u001b[0m\n\u001b[1;32m    135\u001b[0m         \u001b[0;32mif\u001b[0m \u001b[0mself\u001b[0m\u001b[0;34m.\u001b[0m\u001b[0mhead_size\u001b[0m \u001b[0;34m!=\u001b[0m \u001b[0;36m1\u001b[0m\u001b[0;34m:\u001b[0m\u001b[0;34m\u001b[0m\u001b[0;34m\u001b[0m\u001b[0m\n",
      "\u001b[0;32m/uusoc/exports/scratch/rtimpson/thesis/virtuosoNet/env/lib/python3.7/site-packages/torch/nn/modules/module.py\u001b[0m in \u001b[0;36m_call_impl\u001b[0;34m(self, *input, **kwargs)\u001b[0m\n\u001b[1;32m    725\u001b[0m             \u001b[0mresult\u001b[0m \u001b[0;34m=\u001b[0m \u001b[0mself\u001b[0m\u001b[0;34m.\u001b[0m\u001b[0m_slow_forward\u001b[0m\u001b[0;34m(\u001b[0m\u001b[0;34m*\u001b[0m\u001b[0minput\u001b[0m\u001b[0;34m,\u001b[0m \u001b[0;34m**\u001b[0m\u001b[0mkwargs\u001b[0m\u001b[0;34m)\u001b[0m\u001b[0;34m\u001b[0m\u001b[0;34m\u001b[0m\u001b[0m\n\u001b[1;32m    726\u001b[0m         \u001b[0;32melse\u001b[0m\u001b[0;34m:\u001b[0m\u001b[0;34m\u001b[0m\u001b[0;34m\u001b[0m\u001b[0m\n\u001b[0;32m--> 727\u001b[0;31m             \u001b[0mresult\u001b[0m \u001b[0;34m=\u001b[0m \u001b[0mself\u001b[0m\u001b[0;34m.\u001b[0m\u001b[0mforward\u001b[0m\u001b[0;34m(\u001b[0m\u001b[0;34m*\u001b[0m\u001b[0minput\u001b[0m\u001b[0;34m,\u001b[0m \u001b[0;34m**\u001b[0m\u001b[0mkwargs\u001b[0m\u001b[0;34m)\u001b[0m\u001b[0;34m\u001b[0m\u001b[0;34m\u001b[0m\u001b[0m\n\u001b[0m\u001b[1;32m    728\u001b[0m         for hook in itertools.chain(\n\u001b[1;32m    729\u001b[0m                 \u001b[0m_global_forward_hooks\u001b[0m\u001b[0;34m.\u001b[0m\u001b[0mvalues\u001b[0m\u001b[0;34m(\u001b[0m\u001b[0;34m)\u001b[0m\u001b[0;34m,\u001b[0m\u001b[0;34m\u001b[0m\u001b[0;34m\u001b[0m\u001b[0m\n",
      "\u001b[0;32m/uusoc/exports/scratch/rtimpson/thesis/virtuosoNet/env/lib/python3.7/site-packages/torch/nn/modules/linear.py\u001b[0m in \u001b[0;36mforward\u001b[0;34m(self, input)\u001b[0m\n\u001b[1;32m     91\u001b[0m \u001b[0;34m\u001b[0m\u001b[0m\n\u001b[1;32m     92\u001b[0m     \u001b[0;32mdef\u001b[0m \u001b[0mforward\u001b[0m\u001b[0;34m(\u001b[0m\u001b[0mself\u001b[0m\u001b[0;34m,\u001b[0m \u001b[0minput\u001b[0m\u001b[0;34m:\u001b[0m \u001b[0mTensor\u001b[0m\u001b[0;34m)\u001b[0m \u001b[0;34m->\u001b[0m \u001b[0mTensor\u001b[0m\u001b[0;34m:\u001b[0m\u001b[0;34m\u001b[0m\u001b[0;34m\u001b[0m\u001b[0m\n\u001b[0;32m---> 93\u001b[0;31m         \u001b[0;32mreturn\u001b[0m \u001b[0mF\u001b[0m\u001b[0;34m.\u001b[0m\u001b[0mlinear\u001b[0m\u001b[0;34m(\u001b[0m\u001b[0minput\u001b[0m\u001b[0;34m,\u001b[0m \u001b[0mself\u001b[0m\u001b[0;34m.\u001b[0m\u001b[0mweight\u001b[0m\u001b[0;34m,\u001b[0m \u001b[0mself\u001b[0m\u001b[0;34m.\u001b[0m\u001b[0mbias\u001b[0m\u001b[0;34m)\u001b[0m\u001b[0;34m\u001b[0m\u001b[0;34m\u001b[0m\u001b[0m\n\u001b[0m\u001b[1;32m     94\u001b[0m \u001b[0;34m\u001b[0m\u001b[0m\n\u001b[1;32m     95\u001b[0m     \u001b[0;32mdef\u001b[0m \u001b[0mextra_repr\u001b[0m\u001b[0;34m(\u001b[0m\u001b[0mself\u001b[0m\u001b[0;34m)\u001b[0m \u001b[0;34m->\u001b[0m \u001b[0mstr\u001b[0m\u001b[0;34m:\u001b[0m\u001b[0;34m\u001b[0m\u001b[0;34m\u001b[0m\u001b[0m\n",
      "\u001b[0;32m/uusoc/exports/scratch/rtimpson/thesis/virtuosoNet/env/lib/python3.7/site-packages/torch/nn/functional.py\u001b[0m in \u001b[0;36mlinear\u001b[0;34m(input, weight, bias)\u001b[0m\n\u001b[1;32m   1690\u001b[0m         \u001b[0mret\u001b[0m \u001b[0;34m=\u001b[0m \u001b[0mtorch\u001b[0m\u001b[0;34m.\u001b[0m\u001b[0maddmm\u001b[0m\u001b[0;34m(\u001b[0m\u001b[0mbias\u001b[0m\u001b[0;34m,\u001b[0m \u001b[0minput\u001b[0m\u001b[0;34m,\u001b[0m \u001b[0mweight\u001b[0m\u001b[0;34m.\u001b[0m\u001b[0mt\u001b[0m\u001b[0;34m(\u001b[0m\u001b[0;34m)\u001b[0m\u001b[0;34m)\u001b[0m\u001b[0;34m\u001b[0m\u001b[0;34m\u001b[0m\u001b[0m\n\u001b[1;32m   1691\u001b[0m     \u001b[0;32melse\u001b[0m\u001b[0;34m:\u001b[0m\u001b[0;34m\u001b[0m\u001b[0;34m\u001b[0m\u001b[0m\n\u001b[0;32m-> 1692\u001b[0;31m         \u001b[0moutput\u001b[0m \u001b[0;34m=\u001b[0m \u001b[0minput\u001b[0m\u001b[0;34m.\u001b[0m\u001b[0mmatmul\u001b[0m\u001b[0;34m(\u001b[0m\u001b[0mweight\u001b[0m\u001b[0;34m.\u001b[0m\u001b[0mt\u001b[0m\u001b[0;34m(\u001b[0m\u001b[0;34m)\u001b[0m\u001b[0;34m)\u001b[0m\u001b[0;34m\u001b[0m\u001b[0;34m\u001b[0m\u001b[0m\n\u001b[0m\u001b[1;32m   1693\u001b[0m         \u001b[0;32mif\u001b[0m \u001b[0mbias\u001b[0m \u001b[0;32mis\u001b[0m \u001b[0;32mnot\u001b[0m \u001b[0;32mNone\u001b[0m\u001b[0;34m:\u001b[0m\u001b[0;34m\u001b[0m\u001b[0;34m\u001b[0m\u001b[0m\n\u001b[1;32m   1694\u001b[0m             \u001b[0moutput\u001b[0m \u001b[0;34m+=\u001b[0m \u001b[0mbias\u001b[0m\u001b[0;34m\u001b[0m\u001b[0;34m\u001b[0m\u001b[0m\n",
      "\u001b[0;31mKeyboardInterrupt\u001b[0m: "
     ]
    }
   ],
   "source": [
    " %run {run_str}"
   ]
  }
 ],
 "metadata": {
  "kernelspec": {
   "display_name": "Python 3",
   "language": "python",
   "name": "python3"
  },
  "language_info": {
   "codemirror_mode": {
    "name": "ipython",
    "version": 3
   },
   "file_extension": ".py",
   "mimetype": "text/x-python",
   "name": "python",
   "nbconvert_exporter": "python",
   "pygments_lexer": "ipython3",
   "version": "3.7.7"
  }
 },
 "nbformat": 4,
 "nbformat_minor": 4
}
