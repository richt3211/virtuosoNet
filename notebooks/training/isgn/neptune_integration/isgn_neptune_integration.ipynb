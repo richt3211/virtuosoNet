{
 "cells": [
  {
   "cell_type": "code",
   "execution_count": 2,
   "metadata": {},
   "outputs": [],
   "source": [
    "%load_ext autoreload\n",
    "%autoreload 2"
   ]
  },
  {
   "cell_type": "code",
   "execution_count": 3,
   "metadata": {},
   "outputs": [],
   "source": [
    "from src.constants import CACHE_DATA_DIR, CACHE_MODEL_DIR\n",
    "from src.experiments.training.training import legacy_training_run_str"
   ]
  },
  {
   "cell_type": "markdown",
   "metadata": {},
   "source": [
    "# Full"
   ]
  },
  {
   "cell_type": "code",
   "execution_count": 4,
   "metadata": {},
   "outputs": [
    {
     "name": "stdout",
     "output_type": "stream",
     "text": [
      "/uusoc/exports/scratch/rtimpson/thesis/virtuosoNet/src/old/model_run.py -mode=train -code=isgn -data=/uusoc/exports/scratch/rtimpson/thesis/virtuosoNet/data/train/training_data -model_name=\"isgn full\"  -is_dev=false -exp_name=\"Full isgn\" -exp_description=\"Running isgn with neptune integration\" -tags=isgn\n"
     ]
    }
   ],
   "source": [
    "model_name = '\"isgn full\"'\n",
    "model_code = 'isgn'\n",
    "exp_name = '\"Full isgn\"'\n",
    "exp_description = '\"Running isgn with neptune integration\"'\n",
    "is_dev = 'false'\n",
    "tags = ['isgn']\n",
    "run_str = legacy_training_run_str(\n",
    "    model_name=model_name, \n",
    "    model_code=model_code, \n",
    "    exp_description=exp_description, \n",
    "    exp_name=exp_name,\n",
    "    is_dev=is_dev, \n",
    "    tags=tags\n",
    ")\n",
    "print(run_str)"
   ]
  },
  {
   "cell_type": "code",
   "execution_count": null,
   "metadata": {},
   "outputs": [
    {
     "name": "stdout",
     "output_type": "stream",
     "text": [
      "Namespace(boolPedal=False, composer='Beethoven', dataName='/uusoc/exports/scratch/rtimpson/thesis/virtuosoNet/data/train/training_data', deltaLoss=False, device=1, disklavier=True, exp_description='Running isgn with neptune integration', exp_name='Full isgn', exp_tags='isgn', hierCode='han_ar_measure', intermediateLoss=True, is_dev=False, latent=0, modelCode='isgn', model_folder='legacy', model_name='isgn full', multi_instruments=False, num_epochs=100, perfName='Anger_sub1', randomTrain=True, resume='_best.pth.tar', resumeTraining=False, run_description='Running Model', run_folder='default_run_folder', sessMode='train', slurEdge=False, startTempo=0, testPath='./test_pieces/bps_5_1/', trainTrill=False, trainingLoss='MSE', trillCode='trill_default', velocity='50,65', voiceEdge=True)\n",
      "Learning Rate: 0.0003, Time_steps: 500, Delta weight: 2, Weight decay: 1e-05, Grad clip: 5, KLD max: 0.01, KLD sig step: 200000.0\n",
      "https://ui.neptune.ai/richt3211/thesis/e/THESIS-69\n",
      "2020-11-23 12:25:55 - Starting experiment\n",
      "2020-11-23 12:25:56 - Starting training job at 11/23/20 12:25:56\n",
      "2020-11-23 12:25:56 - Number of Network Parameters is 6443185\n",
      "2020-11-23 12:25:56 - ISGN(\n",
      "  (note_fc): Sequential(\n",
      "    (0): Linear(in_features=78, out_features=128, bias=True)\n",
      "    (1): Dropout(p=0.1, inplace=False)\n",
      "    (2): ReLU()\n",
      "    (3): Linear(in_features=128, out_features=128, bias=True)\n",
      "    (4): Dropout(p=0.1, inplace=False)\n",
      "    (5): ReLU()\n",
      "    (6): Linear(in_features=128, out_features=128, bias=True)\n",
      "    (7): Dropout(p=0.1, inplace=False)\n",
      "    (8): ReLU()\n",
      "  )\n",
      "  (graph_1st): GatedGraph(\n",
      "    (sigmoid): Sigmoid()\n",
      "    (tanh): Tanh()\n",
      "  )\n",
      "  (graph_between): Sequential(\n",
      "    (0): Linear(in_features=256, out_features=256, bias=True)\n",
      "    (1): Dropout(p=0.1, inplace=False)\n",
      "    (2): ReLU()\n",
      "  )\n",
      "  (graph_2nd): GatedGraph(\n",
      "    (sigmoid): Sigmoid()\n",
      "    (tanh): Tanh()\n",
      "  )\n",
      "  (measure_attention): ContextAttention(\n",
      "    (attention_net): Linear(in_features=256, out_features=256, bias=True)\n",
      "  )\n",
      "  (measure_rnn): LSTM(256, 64, num_layers=2, batch_first=True, bidirectional=True)\n",
      "  (performance_contractor): Sequential(\n",
      "    (0): Linear(in_features=523, out_features=128, bias=True)\n",
      "    (1): Dropout(p=0.1, inplace=False)\n",
      "    (2): ReLU()\n",
      "    (3): Linear(in_features=128, out_features=128, bias=True)\n",
      "    (4): Dropout(p=0.1, inplace=False)\n",
      "    (5): ReLU()\n",
      "  )\n",
      "  (performance_graph_encoder): GatedGraph(\n",
      "    (sigmoid): Sigmoid()\n",
      "    (tanh): Tanh()\n",
      "  )\n",
      "  (performance_measure_attention): ContextAttention(\n",
      "    (attention_net): Linear(in_features=128, out_features=128, bias=True)\n",
      "  )\n",
      "  (performance_encoder): LSTM(128, 128, num_layers=2, batch_first=True, bidirectional=True)\n",
      "  (performance_final_attention): ContextAttention(\n",
      "    (attention_net): Linear(in_features=256, out_features=256, bias=True)\n",
      "  )\n",
      "  (performance_encoder_mean): Linear(in_features=256, out_features=16, bias=True)\n",
      "  (performance_encoder_var): Linear(in_features=256, out_features=16, bias=True)\n",
      "  (beat_tempo_contractor): Sequential(\n",
      "    (0): Linear(in_features=691, out_features=32, bias=True)\n",
      "    (1): Dropout(p=0.1, inplace=False)\n",
      "    (2): ReLU()\n",
      "  )\n",
      "  (style_vector_expandor): Sequential(\n",
      "    (0): Linear(in_features=16, out_features=128, bias=True)\n",
      "    (1): Dropout(p=0.1, inplace=False)\n",
      "    (2): ReLU()\n",
      "  )\n",
      "  (perform_style_to_measure): LSTM(256, 128)\n",
      "  (initial_result_fc): Sequential(\n",
      "    (0): Linear(in_features=512, out_features=128, bias=True)\n",
      "    (1): Dropout(p=0.1, inplace=False)\n",
      "    (2): ReLU()\n",
      "    (3): Linear(in_features=128, out_features=11, bias=True)\n",
      "    (4): ReLU()\n",
      "  )\n",
      "  (final_graph): GatedGraph(\n",
      "    (sigmoid): Sigmoid()\n",
      "    (tanh): Tanh()\n",
      "  )\n",
      "  (tempo_rnn): LSTM(43, 32, num_layers=2, batch_first=True, bidirectional=True)\n",
      "  (final_measure_attention): ContextAttention(\n",
      "    (attention_net): Linear(in_features=11, out_features=11, bias=True)\n",
      "  )\n",
      "  (final_margin_attention): ContextAttention(\n",
      "    (attention_net): Linear(in_features=32, out_features=32, bias=True)\n",
      "  )\n",
      "  (fc): Sequential(\n",
      "    (0): Linear(in_features=755, out_features=32, bias=True)\n",
      "    (1): Dropout(p=0.1, inplace=False)\n",
      "    (2): ReLU()\n",
      "    (3): Linear(in_features=32, out_features=11, bias=True)\n",
      "  )\n",
      "  (softmax): Softmax(dim=0)\n",
      "  (sigmoid): Sigmoid()\n",
      "  (tanh): Tanh()\n",
      ")\n",
      "2020-11-23 12:25:56 - Loading the training data...\n",
      "2020-11-23 12:38:31 - number of train performances: 709 number of valid perf: 82\n",
      "2020-11-23 12:38:31 - training sample example [-1.962150341422854, -0.06717901528552674, 1.8699356872077189, 0.13782855458600415, 0.5691738323041352, -0.0476638292090852, -0.6179821514476284, -0.7241930870686905, 0.0, 0.0, 0, 0, 0, -0.5, 1, 0, 0, 0, 0, 0, 0, 0, 0, 0, 0, 0, 0.5, 0, 0, 0, 0, -0.7, 0, 0, 0.3, 0, 1, 0, 1, 0, 0, 0, 1, 0, 0, 0, 0, 0, 1, 0, 0, 0, 0, 1, 0, 0, 0, 0, 0, 0, 0, 0, 0, 0, 0, 0, 0, 0, 0, 0, 0, 0, 0, 0, 0, 0, 0.5, 0]\n",
      "2020-11-23 12:38:31 - current training step is 0\n"
     ]
    },
    {
     "name": "stderr",
     "output_type": "stream",
     "text": [
      "/uusoc/exports/scratch/rtimpson/thesis/virtuosoNet/env/lib/python3.7/site-packages/torch/nn/functional.py:1628: UserWarning: nn.functional.tanh is deprecated. Use torch.tanh instead.\n",
      "  warnings.warn(\"nn.functional.tanh is deprecated. Use torch.tanh instead.\")\n"
     ]
    },
    {
     "name": "stdout",
     "output_type": "stream",
     "text": [
      "2020-11-23 15:04:19 - Epoch [1/100], Loss: 0.9340, Tempo: 0.4853, Vel: 0.7398, Deviation: 2.4690, Articulation: 0.7285, Pedal: 0.8360, Trill: 0.0000, KLD: 9.7164\n",
      "2020-11-23 15:08:15 - Valid Loss= 0.7877 , Tempo: 0.5500, Vel: 0.8226, Deviation: 0.4908, Articulation: 0.8154, Pedal: 0.8552, Trill: 0.0000\n",
      "2020-11-23 15:09:54 - current training step is 12308\n",
      "2020-11-23 17:37:23 - Epoch [2/100], Loss: 0.8284, Tempo: 0.2489, Vel: 0.5747, Deviation: 2.3901, Articulation: 0.6150, Pedal: 0.7548, Trill: 0.0000, KLD: 16.3906\n",
      "2020-11-23 17:41:25 - Valid Loss= 0.7668 , Tempo: 0.4466, Vel: 0.6382, Deviation: 0.4799, Articulation: 0.8639, Pedal: 0.8580, Trill: 0.0000\n",
      "2020-11-23 17:42:36 - current training step is 24636\n"
     ]
    }
   ],
   "source": [
    " %run {run_str}"
   ]
  },
  {
   "cell_type": "code",
   "execution_count": null,
   "metadata": {},
   "outputs": [],
   "source": []
  },
  {
   "cell_type": "markdown",
   "metadata": {},
   "source": [
    "# Dev"
   ]
  },
  {
   "cell_type": "code",
   "execution_count": null,
   "metadata": {},
   "outputs": [],
   "source": [
    "model_name = '\"isgn full\"'\n",
    "model_code = 'isgn'\n",
    "exp_name = '\"Full isgn\"'\n",
    "exp_description = '\"Running isgn with neptune integration\"'\n",
    "is_dev = 'true'\n",
    "tags = ['isgn']\n",
    "run_str = legacy_training_run_str(\n",
    "    model_name=model_name, \n",
    "    model_code=model_code, \n",
    "    exp_description=exp_description, \n",
    "    exp_name=exp_name,\n",
    "    is_dev=is_dev, \n",
    "    tags=tags\n",
    ")\n",
    "print(run_str)"
   ]
  },
  {
   "cell_type": "code",
   "execution_count": null,
   "metadata": {},
   "outputs": [],
   "source": [
    " %run {run_str}"
   ]
  },
  {
   "cell_type": "code",
   "execution_count": null,
   "metadata": {},
   "outputs": [],
   "source": []
  }
 ],
 "metadata": {
  "kernelspec": {
   "display_name": "Python 3",
   "language": "python",
   "name": "python3"
  },
  "language_info": {
   "codemirror_mode": {
    "name": "ipython",
    "version": 3
   },
   "file_extension": ".py",
   "mimetype": "text/x-python",
   "name": "python",
   "nbconvert_exporter": "python",
   "pygments_lexer": "ipython3",
   "version": "3.7.7"
  },
  "neptune": {
   "notebookId": "5800fb7e-e5a1-4df9-b8fa-4a19bbf177b4"
  }
 },
 "nbformat": 4,
 "nbformat_minor": 4
}
