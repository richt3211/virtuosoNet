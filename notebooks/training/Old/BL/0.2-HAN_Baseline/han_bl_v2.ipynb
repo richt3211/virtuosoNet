{
 "cells": [
  {
   "cell_type": "code",
   "execution_count": 1,
   "metadata": {},
   "outputs": [],
   "source": [
    "%load_ext autoreload\n",
    "%autoreload 2"
   ]
  },
  {
   "cell_type": "code",
   "execution_count": 2,
   "metadata": {},
   "outputs": [],
   "source": [
    "from src.logger import init_logger"
   ]
  },
  {
   "cell_type": "code",
   "execution_count": 3,
   "metadata": {},
   "outputs": [],
   "source": [
    "from src.constants import CACHE_DATA_DIR\n",
    "from src.data.data_reader.read_featurized_cache import read_featurized\n",
    "from src.experiments.training.BL.HANBaseline_training import run_han_bl_job\n",
    "\n",
    "import logging"
   ]
  },
  {
   "cell_type": "code",
   "execution_count": 4,
   "metadata": {},
   "outputs": [],
   "source": [
    "logger_path = 'logs/run_dev_data_0.1.log'\n",
    "init_logger(logger_path)"
   ]
  },
  {
   "cell_type": "code",
   "execution_count": 5,
   "metadata": {},
   "outputs": [
    {
     "output_type": "stream",
     "name": "stdout",
     "text": [
      "2020-11-02 18:57:20 - Loading the training data\n",
      "2020-11-02 18:57:24 - number of train performances: 5 number of valid perf: 3\n",
      "2020-11-02 18:57:24 - training sample example: [0.40253450874098085, -0.9043350534864922, 2.272152234854334, 1.6245242470007877, 1.2609703359796316, -0.13802735400033747, -0.8957452833471335, -0.8172526447037678, 0.0, 0.0, -1, 0, 0, 0.25, 0, 0, 0, 1, 0, 0, 0, 0, 0, 0, 0, 0, 0.5, 0, 0, 0, 0, 0.4, 0, 0, 0, 0, 1, 0, 1, 0, 0, 0, 1, 0, 0, 0, 0, 0, 0, 0, 0, 0, 0, 0, 0, 0, 0, 0, 0, 0, 1, 0, 0, 0, 0, 0, 0, 0, 0, 0, 0, 0, 0, 0, 0, 0, 0.5, 0]\n"
     ]
    }
   ],
   "source": [
    "path = f'{CACHE_DATA_DIR}/train/training_data_development.pickle'\n",
    "dev_data = read_featurized(path)"
   ]
  },
  {
   "cell_type": "code",
   "execution_count": 6,
   "metadata": {},
   "outputs": [
    {
     "output_type": "stream",
     "name": "stdout",
     "text": [
      "2020-11-02 18:57:27 - STARTING HAN BL TRAINING VERSION 0.2 JOB AT 5 EPOCHS FOR DEV DATA SET\n",
      "2020-11-02 18:57:30 - Starting training job at 11/02/20 06:57:30\n",
      "2020-11-02 18:57:30 - Training Epoch 1\n",
      "2020-11-02 18:57:30 - \n",
      "2020-11-02 18:58:28 - Training Loss\n",
      "2020-11-02 18:58:28 - Total Loss: 0.8327326474587122\n",
      "2020-11-02 18:58:28 - \ttempo: 0.172 vel: 0.8629 dev: 0.6768 articul: 0.8702 pedal: 0.9397 trill: 0.0 kld: 0.3374 \n",
      "2020-11-02 18:58:28 - \n",
      "2020-11-02 18:58:30 - Validation loss\n",
      "2020-11-02 18:58:30 - Total Loss: 1.4524367252985637\n",
      "2020-11-02 18:58:30 - \ttempo: 5.199 vel: 1.044 dev: 0.8376 articul: 0.9315 pedal: 1.138 trill: 0.0 kld: 1.008 \n",
      "2020-11-02 18:58:30 - \n",
      "2020-11-02 18:58:30 - \n",
      "2020-11-02 18:58:30 - Training Epoch 2\n",
      "2020-11-02 18:58:30 - \n",
      "2020-11-02 18:59:36 - Training Loss\n",
      "2020-11-02 18:59:36 - Total Loss: 0.8479298699546505\n",
      "2020-11-02 18:59:36 - \ttempo: 0.1247 vel: 0.8712 dev: 0.6902 articul: 0.8625 pedal: 0.9684 trill: 0.0 kld: 0.425 \n",
      "2020-11-02 18:59:36 - \n",
      "2020-11-02 18:59:37 - Validation loss\n",
      "2020-11-02 18:59:37 - Total Loss: 1.4317296743392944\n",
      "2020-11-02 18:59:37 - \ttempo: 6.301 vel: 1.061 dev: 0.8699 articul: 1.131 pedal: 0.9124 trill: 0.0 kld: 0.9242 \n",
      "2020-11-02 18:59:37 - \n",
      "2020-11-02 18:59:37 - \n",
      "2020-11-02 18:59:37 - Training Epoch 3\n",
      "2020-11-02 18:59:37 - \n",
      "2020-11-02 19:00:42 - Training Loss\n",
      "2020-11-02 19:00:42 - Total Loss: 0.8154600928356122\n",
      "2020-11-02 19:00:42 - \ttempo: 0.1146 vel: 0.8632 dev: 0.6678 articul: 0.8584 pedal: 0.9237 trill: 0.0 kld: 0.2159 \n",
      "2020-11-02 19:00:42 - \n",
      "2020-11-02 19:00:44 - Validation loss\n",
      "2020-11-02 19:00:44 - Total Loss: 1.4623586336771648\n",
      "2020-11-02 19:00:44 - \ttempo: 5.21 vel: 1.035 dev: 0.8516 articul: 0.8579 pedal: 1.162 trill: 0.0 kld: 0.5849 \n",
      "2020-11-02 19:00:44 - \n",
      "2020-11-02 19:00:44 - \n",
      "2020-11-02 19:00:44 - Training Epoch 4\n",
      "2020-11-02 19:00:44 - \n",
      "2020-11-02 19:01:36 - Training Loss\n",
      "2020-11-02 19:01:36 - Total Loss: 0.8241774185498556\n",
      "2020-11-02 19:01:36 - \ttempo: 0.09152 vel: 0.8701 dev: 0.6702 articul: 0.8608 pedal: 0.939 trill: 0.0 kld: 5.255 \n",
      "2020-11-02 19:01:36 - \n",
      "2020-11-02 19:01:37 - Validation loss\n",
      "2020-11-02 19:01:37 - Total Loss: 1.4289768934249878\n",
      "2020-11-02 19:01:37 - \ttempo: 6.133 vel: 1.067 dev: 0.8773 articul: 1.099 pedal: 0.9346 trill: 0.0 kld: 56.62 \n",
      "2020-11-02 19:01:37 - \n",
      "2020-11-02 19:01:37 - \n",
      "2020-11-02 19:01:37 - Training Epoch 5\n",
      "2020-11-02 19:01:37 - \n",
      "2020-11-02 19:02:33 - Training Loss\n",
      "2020-11-02 19:02:33 - Total Loss: 0.8462281188407501\n",
      "2020-11-02 19:02:33 - \ttempo: 0.1043 vel: 0.8707 dev: 0.6635 articul: 0.8607 pedal: 0.9727 trill: 0.0 kld: 77.5 \n",
      "2020-11-02 19:02:33 - \n",
      "2020-11-02 19:02:35 - Validation loss\n",
      "2020-11-02 19:02:35 - Total Loss: 1.4007002512613933\n",
      "2020-11-02 19:02:35 - \ttempo: 6.005 vel: 1.171 dev: 0.8847 articul: 1.094 pedal: 0.8934 trill: 0.0 kld: 12.11 \n",
      "2020-11-02 19:02:35 - \n",
      "2020-11-02 19:02:35 - \n",
      "2020-11-02 19:02:35 - FINISHED HAN BL VERSION 0.2 TRAINING JOB AT 5 EPOCHS FOR DEV DATA SET\n"
     ]
    }
   ],
   "source": [
    "num_epochs = 5\n",
    "run_han_bl_job(dev_data, num_epochs, version=0.2, is_dev=True)"
   ]
  },
  {
   "cell_type": "code",
   "execution_count": 12,
   "metadata": {},
   "outputs": [],
   "source": [
    "logger_path = 'logs/run_full_data_0.1.log'\n",
    "init_logger(logger_path)"
   ]
  },
  {
   "cell_type": "code",
   "execution_count": 13,
   "metadata": {},
   "outputs": [
    {
     "name": "stdout",
     "output_type": "stream",
     "text": [
      "2020-10-17 14:44:15 - Loading the training data\n",
      "2020-10-17 14:44:15 - Loading the training data\n",
      "2020-10-17 14:53:39 - number of train performances: 709 number of valid perf: 82\n",
      "2020-10-17 14:53:39 - number of train performances: 709 number of valid perf: 82\n",
      "2020-10-17 14:53:39 - training sample example: [0.6979665018697635, -0.06717901528552674, -0.24900381647255815, -0.18282409397938054, -0.28513258251543067, -0.0476638292090852, -0.6054306213640016, -0.722166594420889, 0.16666666666666666, 0.0011402508551881414, 0, 0, 0, 0.25, 0, 0, 0, 1, 0, 0, 0, 0, 0, 0, 0, 0, 0.3, 0, 0, 0, 0, -0.4, 0, 0, 0, 0, 1, 0, 0, 1, 0, 0, 0, 1, 0, 0, 0, 0, 1, 0, 1, 0, 0, 0, 0, 0, 0, 0, 0, 1, 0, 0, 0, 0, 0, 0, 0, 0, 0, 0, 0, 0, 0, 0, 0, 0, 0.3, 0]\n",
      "2020-10-17 14:53:39 - training sample example: [0.6979665018697635, -0.06717901528552674, -0.24900381647255815, -0.18282409397938054, -0.28513258251543067, -0.0476638292090852, -0.6054306213640016, -0.722166594420889, 0.16666666666666666, 0.0011402508551881414, 0, 0, 0, 0.25, 0, 0, 0, 1, 0, 0, 0, 0, 0, 0, 0, 0, 0.3, 0, 0, 0, 0, -0.4, 0, 0, 0, 0, 1, 0, 0, 1, 0, 0, 0, 1, 0, 0, 0, 0, 1, 0, 1, 0, 0, 0, 0, 0, 0, 0, 0, 1, 0, 0, 0, 0, 0, 0, 0, 0, 0, 0, 0, 0, 0, 0, 0, 0, 0.3, 0]\n"
     ]
    }
   ],
   "source": [
    "path = f'{CACHE_DATA_DIR}/train/training_data.pickle'\n",
    "data = read_featurized(path)"
   ]
  },
  {
   "cell_type": "code",
   "execution_count": null,
   "metadata": {},
   "outputs": [
    {
     "name": "stdout",
     "output_type": "stream",
     "text": [
      "2020-10-17 14:53:42 - STARTING HAN BL TRAINING VERSION 0.2 JOB AT 100 EPOCHS FOR  DATA SET\n",
      "2020-10-17 14:53:42 - STARTING HAN BL TRAINING VERSION 0.2 JOB AT 100 EPOCHS FOR  DATA SET\n",
      "2020-10-17 14:53:42 - Starting training job at 10/17/20 02:53:42\n",
      "2020-10-17 14:53:42 - Starting training job at 10/17/20 02:53:42\n",
      "2020-10-17 14:53:42 - Training Epoch 1\n",
      "2020-10-17 14:53:42 - Training Epoch 1\n",
      "2020-10-17 14:53:42 - \n",
      "2020-10-17 14:53:42 - \n"
     ]
    }
   ],
   "source": [
    "num_epochs = 100\n",
    "run_han_bl_job(data, num_epochs, version=0.2, is_dev=False)"
   ]
  },
  {
   "cell_type": "code",
   "execution_count": null,
   "metadata": {},
   "outputs": [],
   "source": []
  }
 ],
 "metadata": {
  "kernelspec": {
   "display_name": "Python 3",
   "language": "python",
   "name": "python3"
  },
  "language_info": {
   "codemirror_mode": {
    "name": "ipython",
    "version": 3
   },
   "file_extension": ".py",
   "mimetype": "text/x-python",
   "name": "python",
   "nbconvert_exporter": "python",
   "pygments_lexer": "ipython3",
   "version": "3.7.8-final"
  }
 },
 "nbformat": 4,
 "nbformat_minor": 4
}