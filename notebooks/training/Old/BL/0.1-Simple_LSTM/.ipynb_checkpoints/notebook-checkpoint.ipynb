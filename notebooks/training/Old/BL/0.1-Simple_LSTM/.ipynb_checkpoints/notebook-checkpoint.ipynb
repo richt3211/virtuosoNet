{
 "cells": [
  {
   "cell_type": "code",
   "execution_count": 1,
   "metadata": {},
   "outputs": [],
   "source": [
    "from src.logger import init_logger"
   ]
  },
  {
   "cell_type": "code",
   "execution_count": 2,
   "metadata": {},
   "outputs": [],
   "source": [
    "import logging\n",
    "\n",
    "from src.data.data_reader.read_featurized_cache import read_featurized\n",
    "%load_ext autoreload\n",
    "%autoreload 2\n"
   ]
  },
  {
   "cell_type": "code",
   "execution_count": 3,
   "metadata": {},
   "outputs": [],
   "source": [
    "init_logger('logs/test_log_1.log')"
   ]
  },
  {
   "cell_type": "markdown",
   "metadata": {},
   "source": [
    "# Training for very small dev data set"
   ]
  },
  {
   "cell_type": "code",
   "execution_count": null,
   "metadata": {},
   "outputs": [],
   "source": []
  },
  {
   "cell_type": "code",
   "execution_count": 4,
   "metadata": {},
   "outputs": [],
   "source": [
    "DATA_DIR = \"/uusoc/exports/scratch/rtimpson/thesis/virtuosoNet/data\""
   ]
  },
  {
   "cell_type": "code",
   "execution_count": 5,
   "metadata": {},
   "outputs": [],
   "source": [
    "path = f'{DATA_DIR}/train/training_data_development.pickle'"
   ]
  },
  {
   "cell_type": "code",
   "execution_count": 6,
   "metadata": {
    "tags": []
   },
   "outputs": [
    {
     "name": "stdout",
     "output_type": "stream",
     "text": [
      "2020-10-13 23:07:44 - Loading the training data\n",
      "2020-10-13 23:07:48 - number of train performances: 5 number of valid perf: 3\n",
      "2020-10-13 23:07:48 - training sample example: [0.40253450874098085, -0.9043350534864922, 2.272152234854334, 1.6245242470007877, 1.2609703359796316, -0.13802735400033747, -0.8957452833471335, -0.8172526447037678, 0.0, 0.0, -1, 0, 0, 0.25, 0, 0, 0, 1, 0, 0, 0, 0, 0, 0, 0, 0, 0.5, 0, 0, 0, 0, 0.4, 0, 0, 0, 0, 1, 0, 1, 0, 0, 0, 1, 0, 0, 0, 0, 0, 0, 0, 0, 0, 0, 0, 0, 0, 0, 0, 0, 0, 1, 0, 0, 0, 0, 0, 0, 0, 0, 0, 0, 0, 0, 0, 0, 0, 0.5, 0]\n"
     ]
    }
   ],
   "source": [
    "dev_data = read_featurized(path)"
   ]
  },
  {
   "cell_type": "code",
   "execution_count": 7,
   "metadata": {},
   "outputs": [
    {
     "name": "stdout",
     "output_type": "stream",
     "text": [
      "The autoreload extension is already loaded. To reload it, use:\n",
      "  %reload_ext autoreload\n"
     ]
    }
   ],
   "source": [
    "import torch\n",
    "from src.models.BL import LSTMBaseline\n",
    "from src.experiments.training.BL.LSTMSimple_training import train_model\n",
    "%load_ext autoreload\n",
    "%autoreload 2\n"
   ]
  },
  {
   "cell_type": "code",
   "execution_count": 8,
   "metadata": {},
   "outputs": [],
   "source": [
    "BL = LSTMBaseline()"
   ]
  },
  {
   "cell_type": "code",
   "execution_count": 9,
   "metadata": {},
   "outputs": [
    {
     "name": "stdout",
     "output_type": "stream",
     "text": [
      "2020-10-13 23:07:52 - Training on small dev data set\n",
      "2020-10-13 23:07:52 - \n",
      "2020-10-13 23:07:52 - Training for epoch 1/10\n",
      "2020-10-13 23:07:52 - \n",
      "2020-10-13 23:07:56 - Training Loss\n",
      "2020-10-13 23:07:56 - Total Loss: 1.1576729774475099\n",
      "2020-10-13 23:07:56 - \ttempo: 2.786 vel: 1.069 dev: 0.9346 articul: 1.112 pedal: 1.001 \n",
      "2020-10-13 23:07:56 - \n",
      "2020-10-13 23:07:56 - Validation Loss and Evaluation\n",
      "2020-10-13 23:07:56 - Total Loss: 1.0190982818603516\n",
      "2020-10-13 23:07:56 - \ttempo: 0.5849 vel: 1.343 dev: 1.094 articul: 1.377 pedal: 1.013 \n",
      "2020-10-13 23:07:56 - \n",
      "2020-10-13 23:07:56 - \n",
      "2020-10-13 23:07:56 - Training for epoch 2/10\n",
      "2020-10-13 23:07:56 - \n",
      "2020-10-13 23:08:01 - Training Loss\n",
      "2020-10-13 23:08:01 - Total Loss: 1.1020135879516602\n",
      "2020-10-13 23:08:01 - \ttempo: 2.515 vel: 0.9985 dev: 0.8592 articul: 0.9854 pedal: 0.9844 \n",
      "2020-10-13 23:08:01 - \n",
      "2020-10-13 23:08:01 - Validation Loss and Evaluation\n",
      "2020-10-13 23:08:01 - Total Loss: 0.9998875359694163\n",
      "2020-10-13 23:08:01 - \ttempo: 0.6561 vel: 1.274 dev: 1.073 articul: 1.335 pedal: 0.9889 \n",
      "2020-10-13 23:08:01 - \n",
      "2020-10-13 23:08:01 - \n",
      "2020-10-13 23:08:01 - Training for epoch 3/10\n",
      "2020-10-13 23:08:01 - \n",
      "2020-10-13 23:08:05 - Training Loss\n",
      "2020-10-13 23:08:05 - Total Loss: 1.0725178162256876\n",
      "2020-10-13 23:08:05 - \ttempo: 2.384 vel: 0.968 dev: 0.8235 articul: 0.9318 pedal: 0.9712 \n",
      "2020-10-13 23:08:05 - \n",
      "2020-10-13 23:08:05 - Validation Loss and Evaluation\n",
      "2020-10-13 23:08:05 - Total Loss: 0.9832511610454984\n",
      "2020-10-13 23:08:05 - \ttempo: 0.684 vel: 1.225 dev: 1.061 articul: 1.31 pedal: 0.9694 \n",
      "2020-10-13 23:08:05 - \n",
      "2020-10-13 23:08:05 - \n",
      "2020-10-13 23:08:05 - Training for epoch 4/10\n",
      "2020-10-13 23:08:05 - \n",
      "2020-10-13 23:08:10 - Training Loss\n",
      "2020-10-13 23:08:10 - Total Loss: 1.0546094089746476\n",
      "2020-10-13 23:08:10 - \ttempo: 2.318 vel: 0.9457 dev: 0.8048 articul: 0.9077 pedal: 0.961 \n",
      "2020-10-13 23:08:10 - \n",
      "2020-10-13 23:08:10 - Validation Loss and Evaluation\n",
      "2020-10-13 23:08:10 - Total Loss: 0.9709378679593405\n",
      "2020-10-13 23:08:10 - \ttempo: 0.6886 vel: 1.195 dev: 1.052 articul: 1.294 pedal: 0.956 \n",
      "2020-10-13 23:08:10 - \n",
      "2020-10-13 23:08:10 - \n",
      "2020-10-13 23:08:10 - Training for epoch 5/10\n",
      "2020-10-13 23:08:10 - \n",
      "2020-10-13 23:08:14 - Training Loss\n",
      "2020-10-13 23:08:14 - Total Loss: 1.04313129901886\n",
      "2020-10-13 23:08:14 - \ttempo: 2.279 vel: 0.9304 dev: 0.7932 articul: 0.8942 pedal: 0.9541 \n",
      "2020-10-13 23:08:14 - \n",
      "2020-10-13 23:08:14 - Validation Loss and Evaluation\n",
      "2020-10-13 23:08:14 - Total Loss: 0.9620314796765645\n",
      "2020-10-13 23:08:14 - \ttempo: 0.6852 vel: 1.177 dev: 1.047 articul: 1.283 pedal: 0.9466 \n",
      "2020-10-13 23:08:14 - \n",
      "2020-10-13 23:08:14 - \n",
      "2020-10-13 23:08:14 - Training for epoch 6/10\n",
      "2020-10-13 23:08:14 - \n",
      "2020-10-13 23:08:18 - Training Loss\n",
      "2020-10-13 23:08:18 - Total Loss: 1.0355253120263417\n",
      "2020-10-13 23:08:18 - \ttempo: 2.253 vel: 0.9208 dev: 0.7856 articul: 0.8853 pedal: 0.9494 \n",
      "2020-10-13 23:08:18 - \n",
      "2020-10-13 23:08:18 - Validation Loss and Evaluation\n",
      "2020-10-13 23:08:18 - Total Loss: 0.9553926951355405\n",
      "2020-10-13 23:08:18 - \ttempo: 0.68 vel: 1.167 dev: 1.042 articul: 1.274 pedal: 0.9397 \n",
      "2020-10-13 23:08:18 - \n",
      "2020-10-13 23:08:18 - \n",
      "2020-10-13 23:08:18 - Training for epoch 7/10\n",
      "2020-10-13 23:08:18 - \n",
      "2020-10-13 23:08:22 - Training Loss\n",
      "2020-10-13 23:08:22 - Total Loss: 1.030145992551531\n",
      "2020-10-13 23:08:22 - \ttempo: 2.234 vel: 0.9147 dev: 0.7803 articul: 0.8782 pedal: 0.946 \n",
      "2020-10-13 23:08:22 - \n",
      "2020-10-13 23:08:22 - Validation Loss and Evaluation\n",
      "2020-10-13 23:08:22 - Total Loss: 0.9502853864715213\n",
      "2020-10-13 23:08:22 - \ttempo: 0.6747 vel: 1.16 dev: 1.038 articul: 1.267 pedal: 0.9345 \n",
      "2020-10-13 23:08:22 - \n",
      "2020-10-13 23:08:22 - \n",
      "2020-10-13 23:08:22 - Training for epoch 8/10\n",
      "2020-10-13 23:08:22 - \n",
      "2020-10-13 23:08:26 - Training Loss\n",
      "2020-10-13 23:08:26 - Total Loss: 1.0259383514523506\n",
      "2020-10-13 23:08:26 - \ttempo: 2.22 vel: 0.9106 dev: 0.776 articul: 0.8714 pedal: 0.9432 \n",
      "2020-10-13 23:08:26 - \n",
      "2020-10-13 23:08:26 - Validation Loss and Evaluation\n",
      "2020-10-13 23:08:26 - Total Loss: 0.9461739833156267\n",
      "2020-10-13 23:08:26 - \ttempo: 0.6699 vel: 1.156 dev: 1.035 articul: 1.26 pedal: 0.9304 \n",
      "2020-10-13 23:08:26 - \n",
      "2020-10-13 23:08:26 - \n",
      "2020-10-13 23:08:26 - Training for epoch 9/10\n",
      "2020-10-13 23:08:26 - \n",
      "2020-10-13 23:08:30 - Training Loss\n",
      "2020-10-13 23:08:30 - Total Loss: 1.0222437938054403\n",
      "2020-10-13 23:08:30 - \ttempo: 2.209 vel: 0.9078 dev: 0.772 articul: 0.8642 pedal: 0.9405 \n",
      "2020-10-13 23:08:30 - \n",
      "2020-10-13 23:08:31 - Validation Loss and Evaluation\n",
      "2020-10-13 23:08:31 - Total Loss: 0.9427021587336505\n",
      "2020-10-13 23:08:31 - \ttempo: 0.6658 vel: 1.153 dev: 1.031 articul: 1.253 pedal: 0.927 \n",
      "2020-10-13 23:08:31 - \n",
      "2020-10-13 23:08:31 - \n",
      "2020-10-13 23:08:31 - Training for epoch 10/10\n",
      "2020-10-13 23:08:31 - \n",
      "2020-10-13 23:08:35 - Training Loss\n",
      "2020-10-13 23:08:35 - Total Loss: 1.0187186396121979\n",
      "2020-10-13 23:08:35 - \ttempo: 2.2 vel: 0.9058 dev: 0.768 articul: 0.8564 pedal: 0.9377 \n",
      "2020-10-13 23:08:35 - \n",
      "2020-10-13 23:08:35 - Validation Loss and Evaluation\n",
      "2020-10-13 23:08:35 - Total Loss: 0.9396844287713368\n",
      "2020-10-13 23:08:35 - \ttempo: 0.6623 vel: 1.152 dev: 1.027 articul: 1.245 pedal: 0.9241 \n",
      "2020-10-13 23:08:35 - \n",
      "2020-10-13 23:08:35 - \n"
     ]
    },
    {
     "data": {
      "text/plain": [
       "LSTMBaseline(\n",
       "  (lstm): LSTM(78, 11)\n",
       ")"
      ]
     },
     "execution_count": 9,
     "metadata": {},
     "output_type": "execute_result"
    }
   ],
   "source": [
    "logging.info(\"Training on small dev data set\")\n",
    "logging.info(\"\")\n",
    "train_model(dev_data, BL, 10)"
   ]
  },
  {
   "cell_type": "markdown",
   "metadata": {},
   "source": [
    "# Training on full data set"
   ]
  },
  {
   "cell_type": "code",
   "execution_count": null,
   "metadata": {},
   "outputs": [
    {
     "name": "stdout",
     "output_type": "stream",
     "text": [
      "2020-10-13 23:08:35 - READING FULL DATA SET\n",
      "2020-10-13 23:08:35 - \n",
      "2020-10-13 23:08:35 - Loading the training data\n"
     ]
    }
   ],
   "source": [
    "import logging \n",
    "logging.info(\"READING FULL DATA SET\")\n",
    "logging.info(\"\")\n",
    "path = f'{DATA_DIR}/train/training_data.pickle'\n",
    "data = read_featurized(path)"
   ]
  },
  {
   "cell_type": "code",
   "execution_count": null,
   "metadata": {},
   "outputs": [],
   "source": [
    "import torch\n",
    "from src.models.BL import LSTMBaseline\n",
    "from src.experiments.training.BL.LSTMSimple_training import train_model\n",
    "%load_ext autoreload\n",
    "%autoreload 2"
   ]
  },
  {
   "cell_type": "code",
   "execution_count": null,
   "metadata": {},
   "outputs": [],
   "source": [
    "BL = LSTMBaseline()"
   ]
  },
  {
   "cell_type": "code",
   "execution_count": null,
   "metadata": {},
   "outputs": [],
   "source": [
    "import logging\n",
    "logging.info(\"TRAINING ON FULL DATA SET\")\n",
    "logging.info(\"\")\n",
    "train_model(data, BL, 10)"
   ]
  },
  {
   "cell_type": "code",
   "execution_count": null,
   "metadata": {},
   "outputs": [],
   "source": [
    "type(data)"
   ]
  },
  {
   "cell_type": "code",
   "execution_count": null,
   "metadata": {},
   "outputs": [],
   "source": [
    "data.keys()"
   ]
  },
  {
   "cell_type": "code",
   "execution_count": null,
   "metadata": {},
   "outputs": [],
   "source": [
    "type(data['train'])"
   ]
  },
  {
   "cell_type": "code",
   "execution_count": null,
   "metadata": {},
   "outputs": [],
   "source": [
    "len(data['train'])"
   ]
  },
  {
   "cell_type": "code",
   "execution_count": null,
   "metadata": {},
   "outputs": [],
   "source": [
    "len(data['valid'])"
   ]
  },
  {
   "cell_type": "code",
   "execution_count": null,
   "metadata": {},
   "outputs": [],
   "source": []
  }
 ],
 "metadata": {
  "kernelspec": {
   "display_name": "Python 3",
   "language": "python",
   "name": "python3"
  },
  "language_info": {
   "codemirror_mode": {
    "name": "ipython",
    "version": 3
   },
   "file_extension": ".py",
   "mimetype": "text/x-python",
   "name": "python",
   "nbconvert_exporter": "python",
   "pygments_lexer": "ipython3",
   "version": "3.8.5"
  }
 },
 "nbformat": 4,
 "nbformat_minor": 2
}
