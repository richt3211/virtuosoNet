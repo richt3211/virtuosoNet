{
 "cells": [
  {
   "cell_type": "markdown",
   "metadata": {},
   "source": [
    "# Running for dev data set"
   ]
  },
  {
   "cell_type": "code",
   "execution_count": 1,
   "metadata": {},
   "outputs": [],
   "source": [
    "%load_ext autoreload\n",
    "%autoreload 2"
   ]
  },
  {
   "cell_type": "code",
   "execution_count": 2,
   "metadata": {},
   "outputs": [],
   "source": [
    "from src.logger import init_logger"
   ]
  },
  {
   "cell_type": "code",
   "execution_count": 3,
   "metadata": {},
   "outputs": [],
   "source": [
    "from constants import CACHE_DATA_DIR\n",
    "from src.data.data_reader.read_featurized_cache import read_featurized\n",
    "from src.experiments.training.BL.HANBaseline_training import run_han_bl_job\n",
    "\n",
    "import logging"
   ]
  },
  {
   "cell_type": "code",
   "execution_count": null,
   "metadata": {},
   "outputs": [],
   "source": [
    "logger_path = 'logs/run_dev_data_0.1.log'\n",
    "init_logger(logger_path)"
   ]
  },
  {
   "cell_type": "code",
   "execution_count": null,
   "metadata": {},
   "outputs": [],
   "source": [
    "path = f'{CACHE_DATA_DIR}/train/training_data_development.pickle'\n",
    "dev_data = read_featurized(path)"
   ]
  },
  {
   "cell_type": "code",
   "execution_count": null,
   "metadata": {},
   "outputs": [],
   "source": [
    "num_epochs = 5\n",
    "dataset_type = \"DEV\"\n",
    "\n",
    "run_han_bl_job(dev_data, num_epochs, dataset_type)"
   ]
  },
  {
   "cell_type": "markdown",
   "metadata": {},
   "source": [
    "# Training on full data set"
   ]
  },
  {
   "cell_type": "code",
   "execution_count": 4,
   "metadata": {},
   "outputs": [],
   "source": [
    "logger_path = 'logs/run_full_data_0.1.log'\n",
    "init_logger(logger_path)"
   ]
  },
  {
   "cell_type": "code",
   "execution_count": 5,
   "metadata": {},
   "outputs": [
    {
     "name": "stdout",
     "output_type": "stream",
     "text": [
      "2020-10-16 23:01:26 - Loading the training data\n",
      "2020-10-16 23:10:58 - number of train performances: 709 number of valid perf: 82\n",
      "2020-10-16 23:10:58 - training sample example: [0.6979665018697635, -0.06717901528552674, -0.24900381647255815, -0.18282409397938054, -0.28513258251543067, -0.0476638292090852, -0.6054306213640016, -0.722166594420889, 0.16666666666666666, 0.0011402508551881414, 0, 0, 0, 0.25, 0, 0, 0, 1, 0, 0, 0, 0, 0, 0, 0, 0, 0.3, 0, 0, 0, 0, -0.4, 0, 0, 0, 0, 1, 0, 0, 1, 0, 0, 0, 1, 0, 0, 0, 0, 1, 0, 1, 0, 0, 0, 0, 0, 0, 0, 0, 1, 0, 0, 0, 0, 0, 0, 0, 0, 0, 0, 0, 0, 0, 0, 0, 0, 0.3, 0]\n"
     ]
    }
   ],
   "source": [
    "path = f'{CACHE_DATA_DIR}/train/training_data.pickle'\n",
    "data = read_featurized(path)"
   ]
  },
  {
   "cell_type": "code",
   "execution_count": null,
   "metadata": {},
   "outputs": [
    {
     "name": "stdout",
     "output_type": "stream",
     "text": [
      "2020-10-16 23:11:02 - STARTING TRAINING JOB AT 100 EPOCHS FOR FULL DATA SET\n",
      "2020-10-16 23:11:05 - Starting training job at 10/16/20 11:11:05\n",
      "2020-10-16 23:11:05 - Training Epoch 1\n",
      "2020-10-16 23:11:05 - \n"
     ]
    },
    {
     "name": "stderr",
     "output_type": "stream",
     "text": [
      "/uusoc/exports/scratch/rtimpson/thesis/virtuosoNet/env/lib/python3.8/site-packages/torch/nn/functional.py:1614: UserWarning: nn.functional.tanh is deprecated. Use torch.tanh instead.\n",
      "  warnings.warn(\"nn.functional.tanh is deprecated. Use torch.tanh instead.\")\n"
     ]
    }
   ],
   "source": [
    "num_epochs = 100\n",
    "dataset_type = \"FULL\"\n",
    "run_han_bl_job(data, num_epochs, dataset_type)"
   ]
  },
  {
   "cell_type": "code",
   "execution_count": null,
   "metadata": {},
   "outputs": [],
   "source": []
  }
 ],
 "metadata": {
  "kernelspec": {
   "display_name": "Python 3",
   "language": "python",
   "name": "python3"
  },
  "language_info": {
   "codemirror_mode": {
    "name": "ipython",
    "version": 3
   },
   "file_extension": ".py",
   "mimetype": "text/x-python",
   "name": "python",
   "nbconvert_exporter": "python",
   "pygments_lexer": "ipython3",
   "version": "3.8.5"
  }
 },
 "nbformat": 4,
 "nbformat_minor": 2
}
