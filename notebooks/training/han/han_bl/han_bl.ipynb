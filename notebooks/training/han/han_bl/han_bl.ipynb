{
 "cells": [
  {
   "cell_type": "code",
   "execution_count": 1,
   "metadata": {},
   "outputs": [],
   "source": [
    "%load_ext autoreload\n",
    "%autoreload 2"
   ]
  },
  {
   "cell_type": "code",
   "execution_count": 2,
   "metadata": {},
   "outputs": [],
   "source": [
    "from src.constants import CACHE_DATA_DIR, CACHE_MODEL_DIR\n",
    "from src.experiments.training.training import legacy_training_run_str"
   ]
  },
  {
   "cell_type": "markdown",
   "metadata": {},
   "source": [
    "# Full"
   ]
  },
  {
   "cell_type": "code",
   "execution_count": 3,
   "metadata": {},
   "outputs": [
    {
     "name": "stdout",
     "output_type": "stream",
     "text": [
      "../../../../src/old/model_run.py -mode=train -code=han_ar_baseline -data=/uusoc/exports/scratch/rtimpson/thesis/virtuosoNet/data/train/training_data -run_folder=first_run -model_name=\"HAN BL\" -model_folder=legacy/han -is_dev=false -run_description=\"Running han bl for full data set\"\n"
     ]
    }
   ],
   "source": [
    "model_folder = f'legacy/han'\n",
    "model_name = '\"HAN BL\"'\n",
    "model_code = 'han_ar_baseline'\n",
    "run_description = '\"Running han bl for full data set\"'\n",
    "is_dev = 'false'\n",
    "run_folder = 'first_run'\n",
    "run_str = legacy_training_run_str(\n",
    "    run_folder=run_folder, \n",
    "    model_folder=model_folder, \n",
    "    model_name=model_name, \n",
    "    model_code=model_code, \n",
    "    description=run_description, \n",
    "    is_dev=is_dev\n",
    ")\n",
    "\n",
    "print(run_str)"
   ]
  },
  {
   "cell_type": "code",
   "execution_count": null,
   "metadata": {},
   "outputs": [
    {
     "name": "stdout",
     "output_type": "stream",
     "text": [
      "Namespace(boolPedal=False, composer='Beethoven', dataName='/uusoc/exports/scratch/rtimpson/thesis/virtuosoNet/data/train/training_data', deltaLoss=False, device=1, disklavier=True, hierCode='han_ar_measure', intermediateLoss=True, is_dev=False, latent=0, modelCode='han_ar_baseline', model_folder='legacy/han', model_name='HAN BL', multi_instruments=False, perfName='Anger_sub1', randomTrain=True, resume='_best.pth.tar', resumeTraining=False, run_description='Running han bl for full data set', run_folder='first_run', sessMode='train', slurEdge=False, startTempo=0, testPath='./test_pieces/bps_5_1/', trainTrill=False, trainingLoss='MSE', trillCode='trill_default', velocity='50,65', voiceEdge=True)\n",
      "Learning Rate: 0.0003, Time_steps: 500, Delta weight: 2, Weight decay: 1e-05, Grad clip: 5, KLD max: 0.01, KLD sig step: 200000.0\n",
      "2020-11-17 19:11:09 - Starting training job for model HAN BL\n",
      "2020-11-17 19:11:09 - Running han bl for full data set\n",
      "2020-11-17 19:11:09 - Starting training job at 11/17/20 07:11:09\n",
      "2020-11-17 19:11:09 - Number of Network Parameters is 324043\n",
      "2020-11-17 19:11:09 - Loading the training data...\n",
      "2020-11-17 19:19:25 - number of train performances: 709 number of valid perf: 82\n",
      "2020-11-17 19:19:25 - training sample example [-1.962150341422854, -0.06717901528552674, 1.8699356872077189, 0.13782855458600415, 0.5691738323041352, -0.0476638292090852, -0.6179821514476284, -0.7241930870686905, 0.0, 0.0, 0, 0, 0, -0.5, 1, 0, 0, 0, 0, 0, 0, 0, 0, 0, 0, 0, 0.5, 0, 0, 0, 0, -0.7, 0, 0, 0.3, 0, 1, 0, 1, 0, 0, 0, 1, 0, 0, 0, 0, 0, 1, 0, 0, 0, 0, 1, 0, 0, 0, 0, 0, 0, 0, 0, 0, 0, 0, 0, 0, 0, 0, 0, 0, 0, 0, 0, 0, 0, 0.5, 0]\n",
      "2020-11-17 19:19:25 - current training step is 0\n"
     ]
    },
    {
     "name": "stderr",
     "output_type": "stream",
     "text": [
      "/uusoc/exports/scratch/rtimpson/thesis/virtuosoNet/env/lib/python3.7/site-packages/torch/nn/functional.py:1628: UserWarning: nn.functional.tanh is deprecated. Use torch.tanh instead.\n",
      "  warnings.warn(\"nn.functional.tanh is deprecated. Use torch.tanh instead.\")\n"
     ]
    },
    {
     "name": "stdout",
     "output_type": "stream",
     "text": [
      "2020-11-17 22:21:01 - Epoch [1/100], Loss: 0.9042, Tempo: 0.3862, Vel: 0.7180, Deviation: 2.4915, Articulation: 0.9161, Pedal: 0.7763, Trill: 0.0000, KLD: 22.4489\n",
      "2020-11-17 22:23:21 - Valid Loss= 0.7036 , Tempo: 0.7109, Vel: 0.6982, Deviation: 0.4817, Articulation: 0.8717, Pedal: 0.7110, Trill: 0.0000\n",
      "2020-11-17 22:23:21 - current training step is 12308\n"
     ]
    },
    {
     "name": "stderr",
     "output_type": "stream",
     "text": [
      "/uusoc/exports/scratch/rtimpson/thesis/virtuosoNet/env/lib/python3.7/site-packages/torch/nn/functional.py:1628: UserWarning: nn.functional.tanh is deprecated. Use torch.tanh instead.\n",
      "  warnings.warn(\"nn.functional.tanh is deprecated. Use torch.tanh instead.\")\n"
     ]
    },
    {
     "name": "stdout",
     "output_type": "stream",
     "text": [
      "2020-11-18 01:26:26 - Epoch [2/100], Loss: 0.8170, Tempo: 0.2560, Vel: 0.6051, Deviation: 2.4971, Articulation: 0.7029, Pedal: 0.7037, Trill: 0.0000, KLD: 31.5496\n",
      "2020-11-18 01:28:45 - Valid Loss= 0.6369 , Tempo: 0.4220, Vel: 0.6075, Deviation: 0.4877, Articulation: 0.8027, Pedal: 0.6694, Trill: 0.0000\n",
      "2020-11-18 01:28:46 - current training step is 24636\n"
     ]
    },
    {
     "name": "stderr",
     "output_type": "stream",
     "text": [
      "/uusoc/exports/scratch/rtimpson/thesis/virtuosoNet/env/lib/python3.7/site-packages/torch/nn/functional.py:1628: UserWarning: nn.functional.tanh is deprecated. Use torch.tanh instead.\n",
      "  warnings.warn(\"nn.functional.tanh is deprecated. Use torch.tanh instead.\")\n"
     ]
    },
    {
     "name": "stdout",
     "output_type": "stream",
     "text": [
      "2020-11-18 04:30:48 - Epoch [3/100], Loss: 0.7077, Tempo: 0.2126, Vel: 0.5479, Deviation: 1.7625, Articulation: 0.6284, Pedal: 0.6618, Trill: 0.0000, KLD: 35.3678\n",
      "2020-11-18 04:32:58 - Valid Loss= 0.6308 , Tempo: 0.4403, Vel: 0.5768, Deviation: 0.4751, Articulation: 0.8257, Pedal: 0.6601, Trill: 0.0000\n",
      "2020-11-18 04:32:58 - current training step is 36936\n"
     ]
    },
    {
     "name": "stderr",
     "output_type": "stream",
     "text": [
      "/uusoc/exports/scratch/rtimpson/thesis/virtuosoNet/env/lib/python3.7/site-packages/torch/nn/functional.py:1628: UserWarning: nn.functional.tanh is deprecated. Use torch.tanh instead.\n",
      "  warnings.warn(\"nn.functional.tanh is deprecated. Use torch.tanh instead.\")\n"
     ]
    },
    {
     "name": "stdout",
     "output_type": "stream",
     "text": [
      "2020-11-18 07:22:18 - Epoch [4/100], Loss: 0.6541, Tempo: 0.1853, Vel: 0.5187, Deviation: 1.4067, Articulation: 0.5937, Pedal: 0.6415, Trill: 0.0000, KLD: 34.7423\n",
      "2020-11-18 07:24:30 - Valid Loss= 0.6134 , Tempo: 0.3053, Vel: 0.5839, Deviation: 0.4686, Articulation: 0.7660, Pedal: 0.6605, Trill: 0.0000\n",
      "2020-11-18 07:24:30 - current training step is 49218\n"
     ]
    },
    {
     "name": "stderr",
     "output_type": "stream",
     "text": [
      "/uusoc/exports/scratch/rtimpson/thesis/virtuosoNet/env/lib/python3.7/site-packages/torch/nn/functional.py:1628: UserWarning: nn.functional.tanh is deprecated. Use torch.tanh instead.\n",
      "  warnings.warn(\"nn.functional.tanh is deprecated. Use torch.tanh instead.\")\n"
     ]
    },
    {
     "name": "stdout",
     "output_type": "stream",
     "text": [
      "2020-11-18 10:13:59 - Epoch [5/100], Loss: 0.6780, Tempo: 0.1688, Vel: 0.4975, Deviation: 1.8104, Articulation: 0.5699, Pedal: 0.6301, Trill: 0.0000, KLD: 33.0978\n",
      "2020-11-18 10:16:11 - Valid Loss= 0.6069 , Tempo: 0.2708, Vel: 0.5579, Deviation: 0.4788, Articulation: 0.8328, Pedal: 0.6479, Trill: 0.0000\n",
      "2020-11-18 10:16:11 - current training step is 61494\n"
     ]
    },
    {
     "name": "stderr",
     "output_type": "stream",
     "text": [
      "/uusoc/exports/scratch/rtimpson/thesis/virtuosoNet/env/lib/python3.7/site-packages/torch/nn/functional.py:1628: UserWarning: nn.functional.tanh is deprecated. Use torch.tanh instead.\n",
      "  warnings.warn(\"nn.functional.tanh is deprecated. Use torch.tanh instead.\")\n"
     ]
    },
    {
     "name": "stdout",
     "output_type": "stream",
     "text": [
      "2020-11-18 13:05:39 - Epoch [6/100], Loss: 0.6583, Tempo: 0.1564, Vel: 0.4820, Deviation: 1.6966, Articulation: 0.5518, Pedal: 0.6220, Trill: 0.0000, KLD: 31.0912\n",
      "2020-11-18 13:07:52 - Valid Loss= 0.6056 , Tempo: 0.3056, Vel: 0.5555, Deviation: 0.4975, Articulation: 0.7759, Pedal: 0.6467, Trill: 0.0000\n",
      "2020-11-18 13:07:52 - current training step is 73788\n"
     ]
    },
    {
     "name": "stderr",
     "output_type": "stream",
     "text": [
      "/uusoc/exports/scratch/rtimpson/thesis/virtuosoNet/env/lib/python3.7/site-packages/torch/nn/functional.py:1628: UserWarning: nn.functional.tanh is deprecated. Use torch.tanh instead.\n",
      "  warnings.warn(\"nn.functional.tanh is deprecated. Use torch.tanh instead.\")\n"
     ]
    },
    {
     "name": "stdout",
     "output_type": "stream",
     "text": [
      "2020-11-18 16:01:57 - Epoch [7/100], Loss: 0.6886, Tempo: 0.1495, Vel: 0.4691, Deviation: 2.1281, Articulation: 0.5379, Pedal: 0.6127, Trill: 0.0000, KLD: 27.7063\n",
      "2020-11-18 16:04:14 - Valid Loss= 0.6139 , Tempo: 0.3059, Vel: 0.5792, Deviation: 0.4977, Articulation: 0.7534, Pedal: 0.6594, Trill: 0.0000\n",
      "2020-11-18 16:04:14 - current training step is 86058\n"
     ]
    },
    {
     "name": "stderr",
     "output_type": "stream",
     "text": [
      "/uusoc/exports/scratch/rtimpson/thesis/virtuosoNet/env/lib/python3.7/site-packages/torch/nn/functional.py:1628: UserWarning: nn.functional.tanh is deprecated. Use torch.tanh instead.\n",
      "  warnings.warn(\"nn.functional.tanh is deprecated. Use torch.tanh instead.\")\n"
     ]
    }
   ],
   "source": [
    "%run {run_str}"
   ]
  },
  {
   "cell_type": "markdown",
   "metadata": {},
   "source": [
    "# Dev"
   ]
  },
  {
   "cell_type": "code",
   "execution_count": 7,
   "metadata": {},
   "outputs": [
    {
     "name": "stdout",
     "output_type": "stream",
     "text": [
      "../../../../src/old/model_run.py -mode=train -code=han_ar_baseline -data=/uusoc/exports/scratch/rtimpson/thesis/virtuosoNet/data/train/training_data_development -run_folder=first_run -model_name=\"HAN BL\" -model_folder=legacy/han -is_dev=true -run_description=\"Running han bl\"\n"
     ]
    }
   ],
   "source": [
    "model_folder = f'legacy/han'\n",
    "model_name = '\"HAN BL\"'\n",
    "model_code = 'han_ar_baseline'\n",
    "run_description = '\"Running han bl\"'\n",
    "is_dev = 'true'\n",
    "run_folder = 'first_run'\n",
    "run_str = legacy_training_run_str(\n",
    "    run_folder=run_folder, \n",
    "    model_folder=model_folder, \n",
    "    model_name=model_name, \n",
    "    model_code=model_code, \n",
    "    description=run_description, \n",
    "    is_dev=is_dev\n",
    ")\n",
    "\n",
    "print(run_str)"
   ]
  },
  {
   "cell_type": "code",
   "execution_count": 8,
   "metadata": {},
   "outputs": [
    {
     "name": "stdout",
     "output_type": "stream",
     "text": [
      "Namespace(boolPedal=False, composer='Beethoven', dataName='/uusoc/exports/scratch/rtimpson/thesis/virtuosoNet/data/train/training_data_development', deltaLoss=False, device=1, disklavier=True, hierCode='han_ar_measure', intermediateLoss=True, is_dev=True, latent=0, modelCode='han_ar_baseline', model_folder='legacy/han', model_name='HAN BL', multi_instruments=False, perfName='Anger_sub1', randomTrain=True, resume='_best.pth.tar', resumeTraining=False, run_description='Running han bl', run_folder='first_run', sessMode='train', slurEdge=False, startTempo=0, testPath='./test_pieces/bps_5_1/', trainTrill=False, trainingLoss='MSE', trillCode='trill_default', velocity='50,65', voiceEdge=True)\n",
      "Learning Rate: 0.0003, Time_steps: 500, Delta weight: 2, Weight decay: 1e-05, Grad clip: 5, KLD max: 0.01, KLD sig step: 200000.0\n",
      "2020-11-17 19:04:35 - Starting training job for model HAN BL\n",
      "2020-11-17 19:04:35 - Running han bl\n",
      "2020-11-17 19:04:35 - Starting training job at 11/17/20 07:04:35\n",
      "2020-11-17 19:04:35 - Number of Network Parameters is 324043\n",
      "2020-11-17 19:04:35 - Loading the training data...\n",
      "2020-11-17 19:04:38 - number of train performances: 5 number of valid perf: 3\n",
      "2020-11-17 19:04:38 - training sample example [0.40253450874098085, -0.9043350534864922, 2.272152234854334, 1.6245242470007877, 1.2609703359796316, -0.13802735400033747, -0.8957452833471335, -0.8172526447037678, 0.0, 0.0, -1, 0, 0, 0.25, 0, 0, 0, 1, 0, 0, 0, 0, 0, 0, 0, 0, 0.5, 0, 0, 0, 0, 0.4, 0, 0, 0, 0, 1, 0, 1, 0, 0, 0, 1, 0, 0, 0, 0, 0, 0, 0, 0, 0, 0, 0, 0, 0, 0, 0, 0, 0, 1, 0, 0, 0, 0, 0, 0, 0, 0, 0, 0, 0, 0, 0, 0, 0, 0.5, 0]\n",
      "2020-11-17 19:04:38 - current training step is 0\n",
      "2020-11-17 19:05:35 - Epoch [1/100], Loss: 0.9067, Tempo: 0.6879, Vel: 0.8755, Deviation: 0.7147, Articulation: 0.8887, Pedal: 0.9724, Trill: 0.0000, KLD: 0.1125\n",
      "2020-11-17 19:05:37 - Valid Loss= 1.2744 , Tempo: 4.7912, Vel: 1.1251, Deviation: 0.8399, Articulation: 1.2167, Pedal: 0.8637, Trill: 0.0000\n",
      "2020-11-17 19:05:37 - current training step is 74\n",
      "2020-11-17 19:06:35 - Epoch [2/100], Loss: 0.8345, Tempo: 0.0958, Vel: 0.8728, Deviation: 0.7061, Articulation: 0.8595, Pedal: 0.9493, Trill: 0.0000, KLD: 0.1443\n",
      "2020-11-17 19:06:36 - Valid Loss= 1.1816 , Tempo: 3.6636, Vel: 1.1475, Deviation: 0.8384, Articulation: 1.0324, Pedal: 0.9023, Trill: 0.0000\n",
      "2020-11-17 19:06:36 - current training step is 148\n",
      "2020-11-17 19:07:32 - Epoch [3/100], Loss: 0.8283, Tempo: 0.0872, Vel: 0.8648, Deviation: 0.6745, Articulation: 0.8543, Pedal: 0.9472, Trill: 0.0000, KLD: 0.1445\n",
      "2020-11-17 19:07:33 - Valid Loss= 1.1539 , Tempo: 3.4997, Vel: 1.1906, Deviation: 0.8379, Articulation: 1.0213, Pedal: 0.8776, Trill: 0.0000\n",
      "2020-11-17 19:07:34 - current training step is 222\n",
      "2020-11-17 19:08:34 - Epoch [4/100], Loss: 0.8210, Tempo: 0.0884, Vel: 0.8532, Deviation: 0.6942, Articulation: 0.8466, Pedal: 0.9355, Trill: 0.0000, KLD: 0.1191\n",
      "2020-11-17 19:08:36 - Valid Loss= 1.1104 , Tempo: 2.8129, Vel: 1.1051, Deviation: 0.8485, Articulation: 1.2025, Pedal: 0.8923, Trill: 0.0000\n",
      "2020-11-17 19:08:36 - current training step is 302\n",
      "2020-11-17 19:09:30 - Epoch [5/100], Loss: 0.8191, Tempo: 0.0983, Vel: 0.8743, Deviation: 0.6770, Articulation: 0.8321, Pedal: 0.9326, Trill: 0.0000, KLD: 0.1044\n",
      "2020-11-17 19:09:32 - Valid Loss= 1.0945 , Tempo: 2.3813, Vel: 1.1310, Deviation: 0.8291, Articulation: 1.2876, Pedal: 0.9158, Trill: 0.0000\n",
      "2020-11-17 19:09:32 - current training step is 374\n"
     ]
    },
    {
     "ename": "KeyboardInterrupt",
     "evalue": "",
     "output_type": "error",
     "traceback": [
      "\u001b[0;31m---------------------------------------------------------------------------\u001b[0m",
      "\u001b[0;31mKeyboardInterrupt\u001b[0m                         Traceback (most recent call last)",
      "\u001b[0;32m/uusoc/exports/scratch/rtimpson/thesis/virtuosoNet/src/old/model_run.py\u001b[0m in \u001b[0;36m<module>\u001b[0;34m\u001b[0m\n\u001b[1;32m    864\u001b[0m \u001b[0;34m\u001b[0m\u001b[0m\n\u001b[1;32m    865\u001b[0m                     \u001b[0mtempo_loss\u001b[0m\u001b[0;34m,\u001b[0m \u001b[0mvel_loss\u001b[0m\u001b[0;34m,\u001b[0m \u001b[0mdev_loss\u001b[0m\u001b[0;34m,\u001b[0m \u001b[0marticul_loss\u001b[0m\u001b[0;34m,\u001b[0m \u001b[0mpedal_loss\u001b[0m\u001b[0;34m,\u001b[0m \u001b[0mtrill_loss\u001b[0m\u001b[0;34m,\u001b[0m \u001b[0mkld\u001b[0m \u001b[0;34m=\u001b[0m\u001b[0;31m \u001b[0m\u001b[0;31m\\\u001b[0m\u001b[0;34m\u001b[0m\u001b[0;34m\u001b[0m\u001b[0m\n\u001b[0;32m--> 866\u001b[0;31m                         \u001b[0mbatch_time_step_run\u001b[0m\u001b[0;34m(\u001b[0m\u001b[0mtraining_data\u001b[0m\u001b[0;34m,\u001b[0m \u001b[0mmodel\u001b[0m\u001b[0;34m=\u001b[0m\u001b[0mtrain_model\u001b[0m\u001b[0;34m)\u001b[0m\u001b[0;34m\u001b[0m\u001b[0;34m\u001b[0m\u001b[0m\n\u001b[0m\u001b[1;32m    867\u001b[0m                     \u001b[0mtempo_loss_total\u001b[0m\u001b[0;34m.\u001b[0m\u001b[0mappend\u001b[0m\u001b[0;34m(\u001b[0m\u001b[0mtempo_loss\u001b[0m\u001b[0;34m.\u001b[0m\u001b[0mitem\u001b[0m\u001b[0;34m(\u001b[0m\u001b[0;34m)\u001b[0m\u001b[0;34m)\u001b[0m\u001b[0;34m\u001b[0m\u001b[0;34m\u001b[0m\u001b[0m\n\u001b[1;32m    868\u001b[0m                     \u001b[0mvel_loss_total\u001b[0m\u001b[0;34m.\u001b[0m\u001b[0mappend\u001b[0m\u001b[0;34m(\u001b[0m\u001b[0mvel_loss\u001b[0m\u001b[0;34m.\u001b[0m\u001b[0mitem\u001b[0m\u001b[0;34m(\u001b[0m\u001b[0;34m)\u001b[0m\u001b[0;34m)\u001b[0m\u001b[0;34m\u001b[0m\u001b[0;34m\u001b[0m\u001b[0m\n",
      "\u001b[0;32m/uusoc/exports/scratch/rtimpson/thesis/virtuosoNet/src/old/model_run.py\u001b[0m in \u001b[0;36mbatch_time_step_run\u001b[0;34m(data, model, batch_size)\u001b[0m\n\u001b[1;32m    587\u001b[0m     \u001b[0mmodel_train\u001b[0m \u001b[0;34m=\u001b[0m \u001b[0mmodel\u001b[0m\u001b[0;34m.\u001b[0m\u001b[0mtrain\u001b[0m\u001b[0;34m(\u001b[0m\u001b[0;34m)\u001b[0m\u001b[0;34m\u001b[0m\u001b[0;34m\u001b[0m\u001b[0m\n\u001b[1;32m    588\u001b[0m     \u001b[0moutputs\u001b[0m\u001b[0;34m,\u001b[0m \u001b[0mperform_mu\u001b[0m\u001b[0;34m,\u001b[0m \u001b[0mperform_var\u001b[0m\u001b[0;34m,\u001b[0m \u001b[0mtotal_out_list\u001b[0m\u001b[0;31m \u001b[0m\u001b[0;31m\\\u001b[0m\u001b[0;34m\u001b[0m\u001b[0;34m\u001b[0m\u001b[0m\n\u001b[0;32m--> 589\u001b[0;31m         \u001b[0;34m=\u001b[0m \u001b[0mmodel_train\u001b[0m\u001b[0;34m(\u001b[0m\u001b[0mprime_batch_x\u001b[0m\u001b[0;34m,\u001b[0m \u001b[0mprime_batch_y\u001b[0m\u001b[0;34m,\u001b[0m \u001b[0medges\u001b[0m\u001b[0;34m,\u001b[0m \u001b[0mnote_locations\u001b[0m\u001b[0;34m,\u001b[0m \u001b[0mbatch_start\u001b[0m\u001b[0;34m)\u001b[0m\u001b[0;34m\u001b[0m\u001b[0;34m\u001b[0m\u001b[0m\n\u001b[0m\u001b[1;32m    590\u001b[0m \u001b[0;34m\u001b[0m\u001b[0m\n\u001b[1;32m    591\u001b[0m     \u001b[0;32mif\u001b[0m \u001b[0mHIERARCHY\u001b[0m\u001b[0;34m:\u001b[0m\u001b[0;34m\u001b[0m\u001b[0;34m\u001b[0m\u001b[0m\n",
      "\u001b[0;32m/uusoc/exports/scratch/rtimpson/thesis/virtuosoNet/env/lib/python3.7/site-packages/torch/nn/modules/module.py\u001b[0m in \u001b[0;36m_call_impl\u001b[0;34m(self, *input, **kwargs)\u001b[0m\n\u001b[1;32m    725\u001b[0m             \u001b[0mresult\u001b[0m \u001b[0;34m=\u001b[0m \u001b[0mself\u001b[0m\u001b[0;34m.\u001b[0m\u001b[0m_slow_forward\u001b[0m\u001b[0;34m(\u001b[0m\u001b[0;34m*\u001b[0m\u001b[0minput\u001b[0m\u001b[0;34m,\u001b[0m \u001b[0;34m**\u001b[0m\u001b[0mkwargs\u001b[0m\u001b[0;34m)\u001b[0m\u001b[0;34m\u001b[0m\u001b[0;34m\u001b[0m\u001b[0m\n\u001b[1;32m    726\u001b[0m         \u001b[0;32melse\u001b[0m\u001b[0;34m:\u001b[0m\u001b[0;34m\u001b[0m\u001b[0;34m\u001b[0m\u001b[0m\n\u001b[0;32m--> 727\u001b[0;31m             \u001b[0mresult\u001b[0m \u001b[0;34m=\u001b[0m \u001b[0mself\u001b[0m\u001b[0;34m.\u001b[0m\u001b[0mforward\u001b[0m\u001b[0;34m(\u001b[0m\u001b[0;34m*\u001b[0m\u001b[0minput\u001b[0m\u001b[0;34m,\u001b[0m \u001b[0;34m**\u001b[0m\u001b[0mkwargs\u001b[0m\u001b[0;34m)\u001b[0m\u001b[0;34m\u001b[0m\u001b[0;34m\u001b[0m\u001b[0m\n\u001b[0m\u001b[1;32m    728\u001b[0m         for hook in itertools.chain(\n\u001b[1;32m    729\u001b[0m                 \u001b[0m_global_forward_hooks\u001b[0m\u001b[0;34m.\u001b[0m\u001b[0mvalues\u001b[0m\u001b[0;34m(\u001b[0m\u001b[0;34m)\u001b[0m\u001b[0;34m,\u001b[0m\u001b[0;34m\u001b[0m\u001b[0;34m\u001b[0m\u001b[0m\n",
      "\u001b[0;32m/uusoc/exports/scratch/rtimpson/thesis/virtuosoNet/src/old/nnModel.py\u001b[0m in \u001b[0;36mforward\u001b[0;34m(self, x, y, edges, note_locations, start_index, initial_z, rand_threshold, return_z)\u001b[0m\n\u001b[1;32m    804\u001b[0m                 \u001b[0;32mif\u001b[0m \u001b[0mself\u001b[0m\u001b[0;34m.\u001b[0m\u001b[0mis_baseline\u001b[0m\u001b[0;34m:\u001b[0m\u001b[0;34m\u001b[0m\u001b[0;34m\u001b[0m\u001b[0m\n\u001b[1;32m    805\u001b[0m                     \u001b[0;32mfor\u001b[0m \u001b[0mi\u001b[0m \u001b[0;32min\u001b[0m \u001b[0mrange\u001b[0m\u001b[0;34m(\u001b[0m\u001b[0mnum_notes\u001b[0m\u001b[0;34m)\u001b[0m\u001b[0;34m:\u001b[0m\u001b[0;34m\u001b[0m\u001b[0;34m\u001b[0m\u001b[0m\n\u001b[0;32m--> 806\u001b[0;31m                         \u001b[0mout_combined\u001b[0m \u001b[0;34m=\u001b[0m \u001b[0mtorch\u001b[0m\u001b[0;34m.\u001b[0m\u001b[0mcat\u001b[0m\u001b[0;34m(\u001b[0m\u001b[0;34m(\u001b[0m\u001b[0mnote_out\u001b[0m\u001b[0;34m[\u001b[0m\u001b[0;36m0\u001b[0m\u001b[0;34m,\u001b[0m \u001b[0mi\u001b[0m\u001b[0;34m,\u001b[0m \u001b[0;34m:\u001b[0m\u001b[0;34m]\u001b[0m\u001b[0;34m,\u001b[0m \u001b[0mprev_out\u001b[0m\u001b[0;34m,\u001b[0m \u001b[0mqpm_primo\u001b[0m\u001b[0;34m,\u001b[0m \u001b[0mtempo_primo\u001b[0m\u001b[0;34m,\u001b[0m \u001b[0mperform_z\u001b[0m\u001b[0;34m)\u001b[0m\u001b[0;34m)\u001b[0m\u001b[0;34m.\u001b[0m\u001b[0mview\u001b[0m\u001b[0;34m(\u001b[0m\u001b[0;36m1\u001b[0m\u001b[0;34m,\u001b[0m \u001b[0;36m1\u001b[0m\u001b[0;34m,\u001b[0m \u001b[0;34m-\u001b[0m\u001b[0;36m1\u001b[0m\u001b[0;34m)\u001b[0m\u001b[0;34m\u001b[0m\u001b[0;34m\u001b[0m\u001b[0m\n\u001b[0m\u001b[1;32m    807\u001b[0m                         \u001b[0mout\u001b[0m\u001b[0;34m,\u001b[0m \u001b[0mfinal_hidden\u001b[0m \u001b[0;34m=\u001b[0m \u001b[0mself\u001b[0m\u001b[0;34m.\u001b[0m\u001b[0moutput_lstm\u001b[0m\u001b[0;34m(\u001b[0m\u001b[0mout_combined\u001b[0m\u001b[0;34m,\u001b[0m \u001b[0mfinal_hidden\u001b[0m\u001b[0;34m)\u001b[0m\u001b[0;34m\u001b[0m\u001b[0;34m\u001b[0m\u001b[0m\n\u001b[1;32m    808\u001b[0m \u001b[0;34m\u001b[0m\u001b[0m\n",
      "\u001b[0;31mKeyboardInterrupt\u001b[0m: "
     ]
    }
   ],
   "source": [
    "%run {run_str}"
   ]
  },
  {
   "cell_type": "code",
   "execution_count": null,
   "metadata": {},
   "outputs": [],
   "source": []
  }
 ],
 "metadata": {
  "kernelspec": {
   "display_name": "Python 3",
   "language": "python",
   "name": "python3"
  },
  "language_info": {
   "codemirror_mode": {
    "name": "ipython",
    "version": 3
   },
   "file_extension": ".py",
   "mimetype": "text/x-python",
   "name": "python",
   "nbconvert_exporter": "python",
   "pygments_lexer": "ipython3",
   "version": "3.7.8"
  }
 },
 "nbformat": 4,
 "nbformat_minor": 2
}
