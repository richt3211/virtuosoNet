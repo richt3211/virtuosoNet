{
 "cells": [
  {
   "cell_type": "code",
   "execution_count": 3,
   "metadata": {},
   "outputs": [],
   "source": [
    "%load_ext autoreload\n",
    "%autoreload 2"
   ]
  },
  {
   "cell_type": "code",
   "execution_count": 4,
   "metadata": {},
   "outputs": [],
   "source": [
    "from src.constants import CACHE_DATA_DIR, CACHE_MODEL_DIR\n",
    "from src.experiments.training.training import legacy_training_run_str"
   ]
  },
  {
   "cell_type": "code",
   "execution_count": 5,
   "metadata": {},
   "outputs": [
    {
     "name": "stdout",
     "output_type": "stream",
     "text": [
      "/uusoc/exports/scratch/rtimpson/thesis/virtuosoNet/src/old/model_run.py -mode=train -code=han_ar_baseline -data=/uusoc/exports/scratch/rtimpson/thesis/virtuosoNet/data/train/training_data -model_name=\"han baseline full\"  -is_dev=false -exp_name=\"Full Han Baseline\" -exp_description=\"Running HAN Basline with full data on neptune integration\" -tags=han_ar_baseline\n"
     ]
    }
   ],
   "source": [
    "model_name = '\"han baseline full\"'\n",
    "model_code = 'han_ar_baseline'\n",
    "exp_name = '\"Full Han Baseline\"'\n",
    "exp_description = '\"Running HAN Basline with full data on neptune integration\"'\n",
    "is_dev = 'false'\n",
    "tags = ['han_ar_baseline']\n",
    "run_str = legacy_training_run_str(\n",
    "    model_name=model_name, \n",
    "    model_code=model_code, \n",
    "    exp_description=exp_description, \n",
    "    exp_name=exp_name,\n",
    "    is_dev=is_dev, \n",
    "    tags=tags\n",
    ")\n",
    "print(run_str)"
   ]
  },
  {
   "cell_type": "code",
   "execution_count": null,
   "metadata": {},
   "outputs": [
    {
     "name": "stdout",
     "output_type": "stream",
     "text": [
      "Namespace(boolPedal=False, composer='Beethoven', dataName='/uusoc/exports/scratch/rtimpson/thesis/virtuosoNet/data/train/training_data', deltaLoss=False, device=1, disklavier=True, exp_description='Running HAN Basline with full data on neptune integration', exp_name='Full Han Baseline', exp_tags='han_ar_baseline', hierCode='han_ar_measure', intermediateLoss=True, is_dev=False, latent=0, modelCode='han_ar_baseline', model_folder='legacy', model_name='han baseline full', multi_instruments=False, num_epochs=100, perfName='Anger_sub1', randomTrain=True, resume='_best.pth.tar', resumeTraining=False, run_description='Running Model', run_folder='default_run_folder', sessMode='train', slurEdge=False, startTempo=0, testPath='./test_pieces/bps_5_1/', trainTrill=False, trainingLoss='MSE', trillCode='trill_default', velocity='50,65', voiceEdge=True)\n",
      "Learning Rate: 0.0003, Time_steps: 500, Delta weight: 2, Weight decay: 1e-05, Grad clip: 5, KLD max: 0.01, KLD sig step: 200000.0\n",
      "https://ui.neptune.ai/richt3211/thesis/e/THESIS-73\n",
      "2020-11-23 12:54:48 - Starting experiment\n",
      "2020-11-23 12:54:48 - Starting training job at 11/23/20 12:54:48\n",
      "2020-11-23 12:54:49 - Number of Network Parameters is 324043\n",
      "2020-11-23 12:54:49 - HAN_Integrated(\n",
      "  (lstm): LSTM(64, 64, num_layers=2, batch_first=True, dropout=0.1, bidirectional=True)\n",
      "  (note_fc): Sequential(\n",
      "    (0): Linear(in_features=78, out_features=64, bias=True)\n",
      "    (1): Dropout(p=0.1, inplace=False)\n",
      "    (2): ReLU()\n",
      "    (3): Linear(in_features=64, out_features=64, bias=True)\n",
      "    (4): Dropout(p=0.1, inplace=False)\n",
      "    (5): ReLU()\n",
      "    (6): Linear(in_features=64, out_features=64, bias=True)\n",
      "    (7): Dropout(p=0.1, inplace=False)\n",
      "    (8): ReLU()\n",
      "  )\n",
      "  (output_lstm): LSTM(174, 64, batch_first=True)\n",
      "  (fc): Linear(in_features=64, out_features=11, bias=True)\n",
      "  (performance_note_encoder): LSTM(32, 32, bidirectional=True)\n",
      "  (performance_measure_attention): ContextAttention(\n",
      "    (attention_net): Linear(in_features=64, out_features=64, bias=True)\n",
      "  )\n",
      "  (performance_contractor): Sequential(\n",
      "    (0): Linear(in_features=139, out_features=32, bias=True)\n",
      "    (1): Dropout(p=0.1, inplace=False)\n",
      "    (2): ReLU()\n",
      "  )\n",
      "  (performance_encoder): LSTM(64, 32, num_layers=2, batch_first=True, bidirectional=True)\n",
      "  (performance_final_attention): ContextAttention(\n",
      "    (attention_net): Linear(in_features=64, out_features=64, bias=True)\n",
      "  )\n",
      "  (performance_encoder_mean): Linear(in_features=64, out_features=16, bias=True)\n",
      "  (performance_encoder_var): Linear(in_features=64, out_features=16, bias=True)\n",
      "  (style_vector_expandor): Sequential(\n",
      "    (0): Linear(in_features=16, out_features=32, bias=True)\n",
      "    (1): Dropout(p=0.1, inplace=False)\n",
      "    (2): ReLU()\n",
      "  )\n",
      "  (softmax): Softmax(dim=0)\n",
      "  (sigmoid): Sigmoid()\n",
      ")\n",
      "2020-11-23 12:54:49 - Loading the training data...\n",
      "2020-11-23 13:06:40 - number of train performances: 709 number of valid perf: 82\n",
      "2020-11-23 13:06:40 - training sample example [-1.962150341422854, -0.06717901528552674, 1.8699356872077189, 0.13782855458600415, 0.5691738323041352, -0.0476638292090852, -0.6179821514476284, -0.7241930870686905, 0.0, 0.0, 0, 0, 0, -0.5, 1, 0, 0, 0, 0, 0, 0, 0, 0, 0, 0, 0, 0.5, 0, 0, 0, 0, -0.7, 0, 0, 0.3, 0, 1, 0, 1, 0, 0, 0, 1, 0, 0, 0, 0, 0, 1, 0, 0, 0, 0, 1, 0, 0, 0, 0, 0, 0, 0, 0, 0, 0, 0, 0, 0, 0, 0, 0, 0, 0, 0, 0, 0, 0, 0.5, 0]\n",
      "2020-11-23 13:06:40 - current training step is 0\n"
     ]
    },
    {
     "name": "stderr",
     "output_type": "stream",
     "text": [
      "/uusoc/exports/scratch/rtimpson/thesis/virtuosoNet/env/lib/python3.7/site-packages/torch/nn/functional.py:1628: UserWarning: nn.functional.tanh is deprecated. Use torch.tanh instead.\n",
      "  warnings.warn(\"nn.functional.tanh is deprecated. Use torch.tanh instead.\")\n"
     ]
    },
    {
     "name": "stdout",
     "output_type": "stream",
     "text": [
      "2020-11-23 16:46:33 - Epoch [1/100], Loss: 0.9055, Tempo: 0.3778, Vel: 0.7150, Deviation: 2.4986, Articulation: 0.9144, Pedal: 0.7793, Trill: 0.0000, KLD: 22.5593\n",
      "2020-11-23 16:49:22 - Valid Loss= 0.6971 , Tempo: 0.5823, Vel: 0.6636, Deviation: 0.4835, Articulation: 0.8673, Pedal: 0.7245, Trill: 0.0000\n",
      "2020-11-23 16:49:31 - current training step is 12308\n"
     ]
    }
   ],
   "source": [
    "%run {run_str}"
   ]
  },
  {
   "cell_type": "code",
   "execution_count": null,
   "metadata": {},
   "outputs": [],
   "source": []
  }
 ],
 "metadata": {
  "kernelspec": {
   "display_name": "Python 3",
   "language": "python",
   "name": "python3"
  },
  "language_info": {
   "codemirror_mode": {
    "name": "ipython",
    "version": 3
   },
   "file_extension": ".py",
   "mimetype": "text/x-python",
   "name": "python",
   "nbconvert_exporter": "python",
   "pygments_lexer": "ipython3",
   "version": "3.7.7"
  },
  "neptune": {
   "notebookId": "9865b319-cbe6-40ab-b59d-aed654bbf608"
  }
 },
 "nbformat": 4,
 "nbformat_minor": 4
}
