{
 "cells": [
  {
   "cell_type": "code",
   "execution_count": 3,
   "metadata": {},
   "outputs": [],
   "source": [
    "%load_ext autoreload\n",
    "%autoreload 2"
   ]
  },
  {
   "cell_type": "code",
   "execution_count": 4,
   "metadata": {},
   "outputs": [],
   "source": [
    "from src.constants import CACHE_DATA_DIR, CACHE_MODEL_DIR\n",
    "from src.experiments.training.training import legacy_training_run_str"
   ]
  },
  {
   "cell_type": "code",
   "execution_count": 5,
   "metadata": {},
   "outputs": [
    {
     "name": "stdout",
     "output_type": "stream",
     "text": [
      "/uusoc/exports/scratch/rtimpson/thesis/virtuosoNet/src/old/model_run.py -mode=train -code=han_ar_baseline -data=/uusoc/exports/scratch/rtimpson/thesis/virtuosoNet/data/train/training_data -model_name=\"han baseline full\"  -is_dev=false -exp_name=\"Full Han Baseline\" -exp_description=\"Running HAN Basline with full data on neptune integration\" -tags=han_ar_baseline\n"
     ]
    }
   ],
   "source": [
    "model_name = '\"han baseline full\"'\n",
    "model_code = 'han_ar_baseline'\n",
    "exp_name = '\"Full Han Baseline\"'\n",
    "exp_description = '\"Running HAN Basline with full data on neptune integration\"'\n",
    "is_dev = 'false'\n",
    "tags = ['han_ar_baseline']\n",
    "run_str = legacy_training_run_str(\n",
    "    model_name=model_name, \n",
    "    model_code=model_code, \n",
    "    exp_description=exp_description, \n",
    "    exp_name=exp_name,\n",
    "    is_dev=is_dev, \n",
    "    tags=tags\n",
    ")\n",
    "print(run_str)"
   ]
  },
  {
   "cell_type": "code",
   "execution_count": null,
   "metadata": {},
   "outputs": [
    {
     "name": "stdout",
     "output_type": "stream",
     "text": [
      "Namespace(boolPedal=False, composer='Beethoven', dataName='/uusoc/exports/scratch/rtimpson/thesis/virtuosoNet/data/train/training_data', deltaLoss=False, device=1, disklavier=True, exp_description='Running HAN Basline with full data on neptune integration', exp_name='Full Han Baseline', exp_tags='han_ar_baseline', hierCode='han_ar_measure', intermediateLoss=True, is_dev=False, latent=0, modelCode='han_ar_baseline', model_folder='legacy', model_name='han baseline full', multi_instruments=False, num_epochs=100, perfName='Anger_sub1', randomTrain=True, resume='_best.pth.tar', resumeTraining=False, run_description='Running Model', run_folder='default_run_folder', sessMode='train', slurEdge=False, startTempo=0, testPath='./test_pieces/bps_5_1/', trainTrill=False, trainingLoss='MSE', trillCode='trill_default', velocity='50,65', voiceEdge=True)\n",
      "Learning Rate: 0.0003, Time_steps: 500, Delta weight: 2, Weight decay: 1e-05, Grad clip: 5, KLD max: 0.01, KLD sig step: 200000.0\n"
     ]
    }
   ],
   "source": [
    "%run {run_str}"
   ]
  },
  {
   "cell_type": "code",
   "execution_count": null,
   "metadata": {},
   "outputs": [],
   "source": []
  }
 ],
 "metadata": {
  "kernelspec": {
   "display_name": "Python 3",
   "language": "python",
   "name": "python3"
  },
  "language_info": {
   "codemirror_mode": {
    "name": "ipython",
    "version": 3
   },
   "file_extension": ".py",
   "mimetype": "text/x-python",
   "name": "python",
   "nbconvert_exporter": "python",
   "pygments_lexer": "ipython3",
   "version": "3.7.7"
  },
  "neptune": {
   "notebookId": "9865b319-cbe6-40ab-b59d-aed654bbf608"
  }
 },
 "nbformat": 4,
 "nbformat_minor": 4
}
