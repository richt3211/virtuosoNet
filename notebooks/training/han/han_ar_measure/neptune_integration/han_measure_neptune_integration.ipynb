{
 "cells": [
  {
   "cell_type": "code",
   "execution_count": 1,
   "metadata": {},
   "outputs": [],
   "source": [
    "%load_ext autoreload\n",
    "%autoreload 2"
   ]
  },
  {
   "cell_type": "code",
   "execution_count": 2,
   "metadata": {},
   "outputs": [],
   "source": [
    "from src.constants import CACHE_DATA_DIR, CACHE_MODEL_DIR\n",
    "from src.experiments.training.training import legacy_training_run_str"
   ]
  },
  {
   "cell_type": "markdown",
   "metadata": {},
   "source": [
    "# Dev"
   ]
  },
  {
   "cell_type": "code",
   "execution_count": 3,
   "metadata": {},
   "outputs": [
    {
     "name": "stdout",
     "output_type": "stream",
     "text": [
      "/uusoc/exports/scratch/rtimpson/thesis/virtuosoNet/src/old/model_run.py -mode=train -code=han_ar_measure -data=/uusoc/exports/scratch/rtimpson/thesis/virtuosoNet/data/train/training_data_development -model_name=\"han baseline dev\"  -is_dev=true -exp_name=\"Dev Han Measure\" -exp_description=\"Running HAN Basline with dev data on neptune integration\" -tags=han_ar_measure\n"
     ]
    }
   ],
   "source": [
    "model_name = '\"han baseline dev\"'\n",
    "model_code = 'han_ar_measure'\n",
    "exp_name = '\"Dev Han Measure\"'\n",
    "exp_description = '\"Running HAN Basline with dev data on neptune integration\"'\n",
    "is_dev = 'true'\n",
    "tags = ['han_ar_measure']\n",
    "run_str = legacy_training_run_str(\n",
    "    model_name=model_name, \n",
    "    model_code=model_code, \n",
    "    exp_description=exp_description, \n",
    "    exp_name=exp_name,\n",
    "    is_dev=is_dev, \n",
    "    tags=tags\n",
    ")\n",
    "print(run_str)"
   ]
  },
  {
   "cell_type": "code",
   "execution_count": 9,
   "metadata": {},
   "outputs": [
    {
     "name": "stdout",
     "output_type": "stream",
     "text": [
      "Namespace(boolPedal=False, composer='Beethoven', dataName='/uusoc/exports/scratch/rtimpson/thesis/virtuosoNet/data/train/training_data_development', deltaLoss=False, device=1, disklavier=True, exp_description='Running HAN Basline with dev data on neptune integration', exp_id=None, exp_name='Dev Han Measure', exp_tags='han_ar_measure', hierCode='han_ar_measure', intermediateLoss=True, is_dev=True, latent=0, modelCode='han_ar_measure', model_folder='legacy', model_name='han baseline dev', multi_instruments=False, num_epochs=100, perfName='Anger_sub1', randomTrain=True, resume='_best.pth.tar', resumeTraining=False, run_description='Running Model', run_folder='default_run_folder', sessMode='train', slurEdge=False, startTempo=0, testPath='./test_pieces/bps_5_1/', trainTrill=False, trainingLoss='MSE', trillCode='trill_default', velocity='50,65', voiceEdge=True)\n",
      "Learning Rate: 0.0003, Time_steps: 500, Delta weight: 2, Weight decay: 1e-05, Grad clip: 5, KLD max: 0.01, KLD sig step: 200000.0\n",
      "<src.old.model_parameters.NetParams object at 0x7f35fda5bc50>\n",
      "https://ui.neptune.ai/richt3211/thesis/e/THESIS-81\n",
      "2020-11-24 12:32:57 - Starting experiment\n",
      "2020-11-24 12:32:57 - Starting training job at 11/24/20 12:32:57\n",
      "2020-11-24 12:32:57 - Number of Network Parameters is 969314\n",
      "2020-11-24 12:32:57 - HAN_Integrated(\n",
      "  (lstm): LSTM(64, 64, num_layers=2, batch_first=True, dropout=0.1, bidirectional=True)\n",
      "  (voice_net): LSTM(64, 64, num_layers=2, batch_first=True, dropout=0.1, bidirectional=True)\n",
      "  (beat_attention): ContextAttention(\n",
      "    (attention_net): Linear(in_features=256, out_features=256, bias=True)\n",
      "  )\n",
      "  (beat_rnn): LSTM(256, 64, num_layers=2, batch_first=True, dropout=0.1, bidirectional=True)\n",
      "  (measure_attention): ContextAttention(\n",
      "    (attention_net): Linear(in_features=128, out_features=128, bias=True)\n",
      "  )\n",
      "  (measure_rnn): LSTM(128, 64, batch_first=True, bidirectional=True)\n",
      "  (perform_style_to_measure): LSTM(160, 32)\n",
      "  (output_lstm): LSTM(162, 64, batch_first=True)\n",
      "  (note_fc): Sequential(\n",
      "    (0): Linear(in_features=78, out_features=64, bias=True)\n",
      "    (1): Dropout(p=0.1, inplace=False)\n",
      "    (2): ReLU()\n",
      "    (3): Linear(in_features=64, out_features=64, bias=True)\n",
      "    (4): Dropout(p=0.1, inplace=False)\n",
      "    (5): ReLU()\n",
      "    (6): Linear(in_features=64, out_features=64, bias=True)\n",
      "    (7): Dropout(p=0.1, inplace=False)\n",
      "    (8): ReLU()\n",
      "  )\n",
      "  (fc): Linear(in_features=64, out_features=2, bias=True)\n",
      "  (performance_note_encoder): LSTM(32, 32, bidirectional=True)\n",
      "  (performance_measure_attention): ContextAttention(\n",
      "    (attention_net): Linear(in_features=64, out_features=64, bias=True)\n",
      "  )\n",
      "  (performance_contractor): Sequential(\n",
      "    (0): Linear(in_features=514, out_features=32, bias=True)\n",
      "    (1): Dropout(p=0.1, inplace=False)\n",
      "    (2): ReLU()\n",
      "  )\n",
      "  (performance_encoder): LSTM(64, 32, num_layers=2, batch_first=True, bidirectional=True)\n",
      "  (performance_final_attention): ContextAttention(\n",
      "    (attention_net): Linear(in_features=64, out_features=64, bias=True)\n",
      "  )\n",
      "  (performance_encoder_mean): Linear(in_features=64, out_features=16, bias=True)\n",
      "  (performance_encoder_var): Linear(in_features=64, out_features=16, bias=True)\n",
      "  (style_vector_expandor): Sequential(\n",
      "    (0): Linear(in_features=16, out_features=32, bias=True)\n",
      "    (1): Dropout(p=0.1, inplace=False)\n",
      "    (2): ReLU()\n",
      "  )\n",
      "  (softmax): Softmax(dim=0)\n",
      "  (sigmoid): Sigmoid()\n",
      ")\n",
      "2020-11-24 12:32:57 - Loading the training data...\n",
      "2020-11-24 12:33:01 - number of train performances: 5 number of valid perf: 3\n",
      "2020-11-24 12:33:01 - training sample example [0.40253450874098085, -0.9043350534864922, 2.272152234854334, 1.6245242470007877, 1.2609703359796316, -0.13802735400033747, -0.8957452833471335, -0.8172526447037678, 0.0, 0.0, -1, 0, 0, 0.25, 0, 0, 0, 1, 0, 0, 0, 0, 0, 0, 0, 0, 0.5, 0, 0, 0, 0, 0.4, 0, 0, 0, 0, 1, 0, 1, 0, 0, 0, 1, 0, 0, 0, 0, 0, 0, 0, 0, 0, 0, 0, 0, 0, 0, 0, 0, 0, 1, 0, 0, 0, 0, 0, 0, 0, 0, 0, 0, 0, 0, 0, 0, 0, 0.5, 0]\n",
      "2020-11-24 12:33:02 - current training step is 0\n"
     ]
    },
    {
     "name": "stderr",
     "output_type": "stream",
     "text": [
      "/uusoc/exports/scratch/rtimpson/thesis/virtuosoNet/env/lib/python3.7/site-packages/torch/nn/functional.py:1628: UserWarning: nn.functional.tanh is deprecated. Use torch.tanh instead.\n",
      "  warnings.warn(\"nn.functional.tanh is deprecated. Use torch.tanh instead.\")\n"
     ]
    },
    {
     "name": "stdout",
     "output_type": "stream",
     "text": [
      "2020-11-24 12:33:35 - Epoch [1/100], Loss: 0.2503, Tempo: 1.6783, Vel: 1.0750, Deviation: 0.0000, Articulation: 0.0000, Pedal: 0.0000, Trill: 0.0000, KLD: 0.0840\n",
      "2020-11-24 12:33:38 - Valid Loss= 0.2219 , Tempo: 1.0984, Vel: 1.3424, Deviation: 0.0000, Articulation: 0.0000, Pedal: 0.0000, Trill: 0.0000\n",
      "2020-11-24 12:33:56 - current training step is 10\n",
      "2020-11-24 12:34:28 - Epoch [2/100], Loss: 0.1774, Tempo: 0.8862, Vel: 1.0654, Deviation: 0.0000, Articulation: 0.0000, Pedal: 0.0000, Trill: 0.0000, KLD: 0.0895\n",
      "2020-11-24 12:34:29 - Valid Loss= 0.3808 , Tempo: 2.9038, Vel: 1.2854, Deviation: 0.0000, Articulation: 0.0000, Pedal: 0.0000, Trill: 0.0000\n",
      "2020-11-24 12:34:38 - current training step is 20\n",
      "2020-11-24 12:35:10 - Epoch [3/100], Loss: 0.1008, Tempo: 0.1081, Vel: 1.0012, Deviation: 0.0000, Articulation: 0.0000, Pedal: 0.0000, Trill: 0.0000, KLD: 0.1028\n",
      "2020-11-24 12:35:11 - Valid Loss= 0.6949 , Tempo: 6.0247, Vel: 1.6195, Deviation: 0.0000, Articulation: 0.0000, Pedal: 0.0000, Trill: 0.0000\n",
      "2020-11-24 12:35:17 - current training step is 30\n",
      "2020-11-24 12:35:49 - Epoch [4/100], Loss: 0.0999, Tempo: 0.1066, Vel: 0.9924, Deviation: 0.0000, Articulation: 0.0000, Pedal: 0.0000, Trill: 0.0000, KLD: 0.1155\n",
      "2020-11-24 12:35:50 - Valid Loss= 0.6126 , Tempo: 5.0961, Vel: 1.6427, Deviation: 0.0000, Articulation: 0.0000, Pedal: 0.0000, Trill: 0.0000\n",
      "2020-11-24 12:35:57 - current training step is 40\n",
      "2020-11-24 12:36:29 - Epoch [5/100], Loss: 0.0954, Tempo: 0.0597, Vel: 0.9893, Deviation: 0.0000, Articulation: 0.0000, Pedal: 0.0000, Trill: 0.0000, KLD: 0.1184\n",
      "2020-11-24 12:36:31 - Valid Loss= 0.5542 , Tempo: 4.5009, Vel: 1.5949, Deviation: 0.0000, Articulation: 0.0000, Pedal: 0.0000, Trill: 0.0000\n",
      "2020-11-24 12:36:35 - current training step is 50\n",
      "2020-11-24 12:37:06 - Epoch [6/100], Loss: 0.0953, Tempo: 0.0626, Vel: 0.9859, Deviation: 0.0000, Articulation: 0.0000, Pedal: 0.0000, Trill: 0.0000, KLD: 0.1219\n",
      "2020-11-24 12:37:08 - Valid Loss= 0.5920 , Tempo: 4.8965, Vel: 1.6154, Deviation: 0.0000, Articulation: 0.0000, Pedal: 0.0000, Trill: 0.0000\n",
      "2020-11-24 12:37:14 - current training step is 60\n",
      "2020-11-24 12:37:45 - Epoch [7/100], Loss: 0.0950, Tempo: 0.0650, Vel: 0.9805, Deviation: 0.0000, Articulation: 0.0000, Pedal: 0.0000, Trill: 0.0000, KLD: 0.1260\n",
      "2020-11-24 12:37:46 - Valid Loss= 0.6057 , Tempo: 5.1947, Vel: 1.4683, Deviation: 0.0000, Articulation: 0.0000, Pedal: 0.0000, Trill: 0.0000\n",
      "2020-11-24 12:37:51 - current training step is 70\n",
      "2020-11-24 12:38:22 - Epoch [8/100], Loss: 0.0951, Tempo: 0.0695, Vel: 0.9770, Deviation: 0.0000, Articulation: 0.0000, Pedal: 0.0000, Trill: 0.0000, KLD: 0.1242\n",
      "2020-11-24 12:38:24 - Valid Loss= 0.5747 , Tempo: 4.6335, Vel: 1.6878, Deviation: 0.0000, Articulation: 0.0000, Pedal: 0.0000, Trill: 0.0000\n",
      "2020-11-24 12:38:29 - current training step is 80\n",
      "2020-11-24 12:38:59 - Epoch [9/100], Loss: 0.0943, Tempo: 0.0620, Vel: 0.9749, Deviation: 0.0000, Articulation: 0.0000, Pedal: 0.0000, Trill: 0.0000, KLD: 0.1261\n",
      "2020-11-24 12:39:01 - Valid Loss= 0.5989 , Tempo: 5.0794, Vel: 1.5082, Deviation: 0.0000, Articulation: 0.0000, Pedal: 0.0000, Trill: 0.0000\n",
      "2020-11-24 12:39:06 - current training step is 90\n",
      "2020-11-24 12:39:37 - Epoch [10/100], Loss: 0.0930, Tempo: 0.0604, Vel: 0.9627, Deviation: 0.0000, Articulation: 0.0000, Pedal: 0.0000, Trill: 0.0000, KLD: 0.1293\n",
      "2020-11-24 12:39:39 - Valid Loss= 0.5837 , Tempo: 4.8777, Vel: 1.5435, Deviation: 0.0000, Articulation: 0.0000, Pedal: 0.0000, Trill: 0.0000\n",
      "2020-11-24 12:39:43 - current training step is 100\n",
      "2020-11-24 12:40:15 - Epoch [11/100], Loss: 0.0922, Tempo: 0.0559, Vel: 0.9586, Deviation: 0.0000, Articulation: 0.0000, Pedal: 0.0000, Trill: 0.0000, KLD: 0.1273\n",
      "2020-11-24 12:40:16 - Valid Loss= 0.5833 , Tempo: 4.9008, Vel: 1.5158, Deviation: 0.0000, Articulation: 0.0000, Pedal: 0.0000, Trill: 0.0000\n",
      "2020-11-24 12:40:21 - current training step is 110\n",
      "2020-11-24 12:40:53 - Epoch [12/100], Loss: 0.0915, Tempo: 0.0603, Vel: 0.9462, Deviation: 0.0000, Articulation: 0.0000, Pedal: 0.0000, Trill: 0.0000, KLD: 0.1240\n",
      "2020-11-24 12:40:54 - Valid Loss= 0.6116 , Tempo: 5.0605, Vel: 1.6670, Deviation: 0.0000, Articulation: 0.0000, Pedal: 0.0000, Trill: 0.0000\n",
      "2020-11-24 12:40:59 - current training step is 120\n",
      "2020-11-24 12:41:30 - Epoch [13/100], Loss: 0.0952, Tempo: 0.0623, Vel: 0.9851, Deviation: 0.0000, Articulation: 0.0000, Pedal: 0.0000, Trill: 0.0000, KLD: 0.1176\n",
      "2020-11-24 12:41:32 - Valid Loss= 0.5581 , Tempo: 4.6059, Vel: 1.5326, Deviation: 0.0000, Articulation: 0.0000, Pedal: 0.0000, Trill: 0.0000\n",
      "2020-11-24 12:41:37 - current training step is 130\n",
      "2020-11-24 12:42:08 - Epoch [14/100], Loss: 0.0935, Tempo: 0.0646, Vel: 0.9636, Deviation: 0.0000, Articulation: 0.0000, Pedal: 0.0000, Trill: 0.0000, KLD: 0.1098\n",
      "2020-11-24 12:42:09 - Valid Loss= 0.5719 , Tempo: 4.6536, Vel: 1.6369, Deviation: 0.0000, Articulation: 0.0000, Pedal: 0.0000, Trill: 0.0000\n",
      "2020-11-24 12:42:14 - current training step is 140\n",
      "2020-11-24 12:42:45 - Epoch [15/100], Loss: 0.0961, Tempo: 0.0599, Vel: 0.9968, Deviation: 0.0000, Articulation: 0.0000, Pedal: 0.0000, Trill: 0.0000, KLD: 0.1062\n",
      "2020-11-24 12:42:46 - Valid Loss= 0.5964 , Tempo: 5.1865, Vel: 1.3744, Deviation: 0.0000, Articulation: 0.0000, Pedal: 0.0000, Trill: 0.0000\n",
      "2020-11-24 12:42:51 - current training step is 150\n",
      "2020-11-24 12:43:23 - Epoch [16/100], Loss: 0.0909, Tempo: 0.0640, Vel: 0.9354, Deviation: 0.0000, Articulation: 0.0000, Pedal: 0.0000, Trill: 0.0000, KLD: 0.1063\n",
      "2020-11-24 12:43:24 - Valid Loss= 0.6107 , Tempo: 5.0987, Vel: 1.6193, Deviation: 0.0000, Articulation: 0.0000, Pedal: 0.0000, Trill: 0.0000\n",
      "2020-11-24 12:43:30 - current training step is 160\n",
      "2020-11-24 12:44:01 - Epoch [17/100], Loss: 0.0919, Tempo: 0.0599, Vel: 0.9510, Deviation: 0.0000, Articulation: 0.0000, Pedal: 0.0000, Trill: 0.0000, KLD: 0.1073\n",
      "2020-11-24 12:44:02 - Valid Loss= 0.5649 , Tempo: 4.7632, Vel: 1.4508, Deviation: 0.0000, Articulation: 0.0000, Pedal: 0.0000, Trill: 0.0000\n",
      "2020-11-24 12:44:07 - current training step is 170\n",
      "2020-11-24 12:44:39 - Epoch [18/100], Loss: 0.0899, Tempo: 0.0617, Vel: 0.9275, Deviation: 0.0000, Articulation: 0.0000, Pedal: 0.0000, Trill: 0.0000, KLD: 0.1037\n",
      "2020-11-24 12:44:40 - Valid Loss= 0.5690 , Tempo: 4.6857, Vel: 1.5737, Deviation: 0.0000, Articulation: 0.0000, Pedal: 0.0000, Trill: 0.0000\n",
      "2020-11-24 12:44:49 - current training step is 180\n",
      "2020-11-24 12:45:20 - Epoch [19/100], Loss: 0.0869, Tempo: 0.0572, Vel: 0.8992, Deviation: 0.0000, Articulation: 0.0000, Pedal: 0.0000, Trill: 0.0000, KLD: 0.1028\n",
      "2020-11-24 12:45:21 - Valid Loss= 0.5469 , Tempo: 4.7021, Vel: 1.3144, Deviation: 0.0000, Articulation: 0.0000, Pedal: 0.0000, Trill: 0.0000\n",
      "2020-11-24 12:45:28 - current training step is 190\n",
      "2020-11-24 12:45:58 - Epoch [20/100], Loss: 0.0881, Tempo: 0.0733, Vel: 0.8958, Deviation: 0.0000, Articulation: 0.0000, Pedal: 0.0000, Trill: 0.0000, KLD: 0.1040\n",
      "2020-11-24 12:45:59 - Valid Loss= 0.6137 , Tempo: 5.1035, Vel: 1.6477, Deviation: 0.0000, Articulation: 0.0000, Pedal: 0.0000, Trill: 0.0000\n",
      "2020-11-24 12:46:04 - current training step is 200\n",
      "2020-11-24 12:46:34 - Epoch [21/100], Loss: 0.0852, Tempo: 0.0686, Vel: 0.8683, Deviation: 0.0000, Articulation: 0.0000, Pedal: 0.0000, Trill: 0.0000, KLD: 0.1063\n",
      "2020-11-24 12:46:35 - Valid Loss= 0.5282 , Tempo: 4.6089, Vel: 1.2018, Deviation: 0.0000, Articulation: 0.0000, Pedal: 0.0000, Trill: 0.0000\n",
      "2020-11-24 12:46:41 - current training step is 210\n",
      "2020-11-24 12:47:12 - Epoch [22/100], Loss: 0.0845, Tempo: 0.0605, Vel: 0.8685, Deviation: 0.0000, Articulation: 0.0000, Pedal: 0.0000, Trill: 0.0000, KLD: 0.1124\n",
      "2020-11-24 12:47:14 - Valid Loss= 0.5962 , Tempo: 4.8289, Vel: 1.7295, Deviation: 0.0000, Articulation: 0.0000, Pedal: 0.0000, Trill: 0.0000\n",
      "2020-11-24 12:47:20 - current training step is 220\n",
      "2020-11-24 12:47:51 - Epoch [23/100], Loss: 0.0830, Tempo: 0.0609, Vel: 0.8525, Deviation: 0.0000, Articulation: 0.0000, Pedal: 0.0000, Trill: 0.0000, KLD: 0.1207\n",
      "2020-11-24 12:47:52 - Valid Loss= 0.5860 , Tempo: 4.8958, Vel: 1.5502, Deviation: 0.0000, Articulation: 0.0000, Pedal: 0.0000, Trill: 0.0000\n",
      "2020-11-24 12:47:57 - current training step is 230\n",
      "2020-11-24 12:48:28 - Epoch [24/100], Loss: 0.0791, Tempo: 0.0542, Vel: 0.8164, Deviation: 0.0000, Articulation: 0.0000, Pedal: 0.0000, Trill: 0.0000, KLD: 0.1329\n",
      "2020-11-24 12:48:29 - Valid Loss= 0.5478 , Tempo: 4.5784, Vel: 1.4473, Deviation: 0.0000, Articulation: 0.0000, Pedal: 0.0000, Trill: 0.0000\n",
      "2020-11-24 12:48:35 - current training step is 240\n",
      "2020-11-24 12:49:06 - Epoch [25/100], Loss: 0.0780, Tempo: 0.0576, Vel: 0.8007, Deviation: 0.0000, Articulation: 0.0000, Pedal: 0.0000, Trill: 0.0000, KLD: 0.1493\n",
      "2020-11-24 12:49:07 - Valid Loss= 0.5812 , Tempo: 4.7491, Vel: 1.6444, Deviation: 0.0000, Articulation: 0.0000, Pedal: 0.0000, Trill: 0.0000\n",
      "2020-11-24 12:49:14 - current training step is 250\n",
      "2020-11-24 12:49:45 - Epoch [26/100], Loss: 0.0832, Tempo: 0.0613, Vel: 0.8535, Deviation: 0.0000, Articulation: 0.0000, Pedal: 0.0000, Trill: 0.0000, KLD: 0.1519\n",
      "2020-11-24 12:49:46 - Valid Loss= 0.5827 , Tempo: 4.7940, Vel: 1.6162, Deviation: 0.0000, Articulation: 0.0000, Pedal: 0.0000, Trill: 0.0000\n",
      "2020-11-24 12:49:51 - current training step is 260\n",
      "2020-11-24 12:50:22 - Epoch [27/100], Loss: 0.0769, Tempo: 0.0602, Vel: 0.7856, Deviation: 0.0000, Articulation: 0.0000, Pedal: 0.0000, Trill: 0.0000, KLD: 0.1560\n",
      "2020-11-24 12:50:24 - Valid Loss= 0.5733 , Tempo: 4.8456, Vel: 1.4609, Deviation: 0.0000, Articulation: 0.0000, Pedal: 0.0000, Trill: 0.0000\n",
      "2020-11-24 12:50:29 - current training step is 270\n",
      "2020-11-24 12:50:59 - Epoch [28/100], Loss: 0.0769, Tempo: 0.0588, Vel: 0.7874, Deviation: 0.0000, Articulation: 0.0000, Pedal: 0.0000, Trill: 0.0000, KLD: 0.1460\n",
      "2020-11-24 12:51:01 - Valid Loss= 0.5924 , Tempo: 4.8007, Vel: 1.7155, Deviation: 0.0000, Articulation: 0.0000, Pedal: 0.0000, Trill: 0.0000\n",
      "2020-11-24 12:51:06 - current training step is 280\n",
      "2020-11-24 12:51:38 - Epoch [29/100], Loss: 0.0788, Tempo: 0.0706, Vel: 0.7963, Deviation: 0.0000, Articulation: 0.0000, Pedal: 0.0000, Trill: 0.0000, KLD: 0.1409\n",
      "2020-11-24 12:51:39 - Valid Loss= 0.5439 , Tempo: 4.3698, Vel: 1.6133, Deviation: 0.0000, Articulation: 0.0000, Pedal: 0.0000, Trill: 0.0000\n",
      "2020-11-24 12:51:44 - current training step is 290\n",
      "2020-11-24 12:52:15 - Epoch [30/100], Loss: 0.0762, Tempo: 0.0623, Vel: 0.7756, Deviation: 0.0000, Articulation: 0.0000, Pedal: 0.0000, Trill: 0.0000, KLD: 0.1388\n",
      "2020-11-24 12:52:16 - Valid Loss= 0.5696 , Tempo: 4.6471, Vel: 1.6181, Deviation: 0.0000, Articulation: 0.0000, Pedal: 0.0000, Trill: 0.0000\n",
      "2020-11-24 12:52:22 - current training step is 300\n",
      "2020-11-24 12:52:53 - Epoch [31/100], Loss: 0.0761, Tempo: 0.0585, Vel: 0.7788, Deviation: 0.0000, Articulation: 0.0000, Pedal: 0.0000, Trill: 0.0000, KLD: 0.1401\n",
      "2020-11-24 12:52:54 - Valid Loss= 0.5817 , Tempo: 4.7725, Vel: 1.6267, Deviation: 0.0000, Articulation: 0.0000, Pedal: 0.0000, Trill: 0.0000\n",
      "2020-11-24 12:52:59 - current training step is 310\n",
      "2020-11-24 12:53:31 - Epoch [32/100], Loss: 0.0759, Tempo: 0.0642, Vel: 0.7705, Deviation: 0.0000, Articulation: 0.0000, Pedal: 0.0000, Trill: 0.0000, KLD: 0.1446\n",
      "2020-11-24 12:53:32 - Valid Loss= 0.5511 , Tempo: 4.5214, Vel: 1.5411, Deviation: 0.0000, Articulation: 0.0000, Pedal: 0.0000, Trill: 0.0000\n",
      "2020-11-24 12:53:37 - current training step is 320\n",
      "2020-11-24 12:54:09 - Epoch [33/100], Loss: 0.0785, Tempo: 0.0616, Vel: 0.8019, Deviation: 0.0000, Articulation: 0.0000, Pedal: 0.0000, Trill: 0.0000, KLD: 0.1513\n",
      "2020-11-24 12:54:10 - Valid Loss= 0.6077 , Tempo: 5.0683, Vel: 1.6166, Deviation: 0.0000, Articulation: 0.0000, Pedal: 0.0000, Trill: 0.0000\n",
      "2020-11-24 12:54:17 - current training step is 330\n",
      "2020-11-24 12:54:49 - Epoch [34/100], Loss: 0.0784, Tempo: 0.0573, Vel: 0.8047, Deviation: 0.0000, Articulation: 0.0000, Pedal: 0.0000, Trill: 0.0000, KLD: 0.1518\n",
      "2020-11-24 12:54:50 - Valid Loss= 0.5813 , Tempo: 4.7809, Vel: 1.6129, Deviation: 0.0000, Articulation: 0.0000, Pedal: 0.0000, Trill: 0.0000\n",
      "2020-11-24 12:54:56 - current training step is 340\n",
      "2020-11-24 12:55:27 - Epoch [35/100], Loss: 0.0787, Tempo: 0.0615, Vel: 0.8047, Deviation: 0.0000, Articulation: 0.0000, Pedal: 0.0000, Trill: 0.0000, KLD: 0.1479\n",
      "2020-11-24 12:55:28 - Valid Loss= 0.5845 , Tempo: 4.7021, Vel: 1.7274, Deviation: 0.0000, Articulation: 0.0000, Pedal: 0.0000, Trill: 0.0000\n",
      "2020-11-24 12:55:34 - current training step is 350\n",
      "2020-11-24 12:56:05 - Epoch [36/100], Loss: 0.0772, Tempo: 0.0652, Vel: 0.7835, Deviation: 0.0000, Articulation: 0.0000, Pedal: 0.0000, Trill: 0.0000, KLD: 0.1521\n",
      "2020-11-24 12:56:06 - Valid Loss= 0.5858 , Tempo: 4.8825, Vel: 1.5613, Deviation: 0.0000, Articulation: 0.0000, Pedal: 0.0000, Trill: 0.0000\n",
      "2020-11-24 12:56:12 - current training step is 360\n",
      "2020-11-24 12:56:43 - Epoch [37/100], Loss: 0.0787, Tempo: 0.0607, Vel: 0.8051, Deviation: 0.0000, Articulation: 0.0000, Pedal: 0.0000, Trill: 0.0000, KLD: 0.1583\n",
      "2020-11-24 12:56:44 - Valid Loss= 0.6047 , Tempo: 4.9188, Vel: 1.7333, Deviation: 0.0000, Articulation: 0.0000, Pedal: 0.0000, Trill: 0.0000\n",
      "2020-11-24 12:56:50 - current training step is 370\n",
      "2020-11-24 12:57:20 - Epoch [38/100], Loss: 0.0781, Tempo: 0.0643, Vel: 0.7953, Deviation: 0.0000, Articulation: 0.0000, Pedal: 0.0000, Trill: 0.0000, KLD: 0.1567\n",
      "2020-11-24 12:57:22 - Valid Loss= 0.5680 , Tempo: 4.6179, Vel: 1.6304, Deviation: 0.0000, Articulation: 0.0000, Pedal: 0.0000, Trill: 0.0000\n",
      "2020-11-24 12:57:27 - current training step is 380\n",
      "2020-11-24 12:57:58 - Epoch [39/100], Loss: 0.0767, Tempo: 0.0583, Vel: 0.7855, Deviation: 0.0000, Articulation: 0.0000, Pedal: 0.0000, Trill: 0.0000, KLD: 0.1437\n",
      "2020-11-24 12:58:00 - Valid Loss= 0.5774 , Tempo: 4.6694, Vel: 1.6817, Deviation: 0.0000, Articulation: 0.0000, Pedal: 0.0000, Trill: 0.0000\n",
      "2020-11-24 12:58:05 - current training step is 390\n",
      "2020-11-24 12:58:36 - Epoch [40/100], Loss: 0.0768, Tempo: 0.0544, Vel: 0.7902, Deviation: 0.0000, Articulation: 0.0000, Pedal: 0.0000, Trill: 0.0000, KLD: 0.1410\n",
      "2020-11-24 12:58:38 - Valid Loss= 0.5912 , Tempo: 4.9006, Vel: 1.6031, Deviation: 0.0000, Articulation: 0.0000, Pedal: 0.0000, Trill: 0.0000\n",
      "2020-11-24 12:58:43 - current training step is 400\n",
      "2020-11-24 12:59:14 - Epoch [41/100], Loss: 0.0743, Tempo: 0.0547, Vel: 0.7632, Deviation: 0.0000, Articulation: 0.0000, Pedal: 0.0000, Trill: 0.0000, KLD: 0.1419\n",
      "2020-11-24 12:59:16 - Valid Loss= 0.6113 , Tempo: 4.8086, Vel: 1.9161, Deviation: 0.0000, Articulation: 0.0000, Pedal: 0.0000, Trill: 0.0000\n",
      "2020-11-24 12:59:21 - current training step is 410\n",
      "2020-11-24 12:59:53 - Epoch [42/100], Loss: 0.0770, Tempo: 0.0576, Vel: 0.7891, Deviation: 0.0000, Articulation: 0.0000, Pedal: 0.0000, Trill: 0.0000, KLD: 0.1404\n",
      "2020-11-24 12:59:54 - Valid Loss= 0.5821 , Tempo: 4.7184, Vel: 1.6850, Deviation: 0.0000, Articulation: 0.0000, Pedal: 0.0000, Trill: 0.0000\n",
      "2020-11-24 12:59:59 - current training step is 420\n"
     ]
    },
    {
     "ename": "KeyboardInterrupt",
     "evalue": "",
     "output_type": "error",
     "traceback": [
      "\u001b[0;31m---------------------------------------------------------------------------\u001b[0m",
      "\u001b[0;31mKeyboardInterrupt\u001b[0m                         Traceback (most recent call last)",
      "\u001b[0;32m/uusoc/exports/scratch/rtimpson/thesis/virtuosoNet/src/old/model_run.py\u001b[0m in \u001b[0;36m<module>\u001b[0;34m\u001b[0m\n\u001b[1;32m    940\u001b[0m \u001b[0;34m\u001b[0m\u001b[0m\n\u001b[1;32m    941\u001b[0m                     \u001b[0mtempo_loss\u001b[0m\u001b[0;34m,\u001b[0m \u001b[0mvel_loss\u001b[0m\u001b[0;34m,\u001b[0m \u001b[0mdev_loss\u001b[0m\u001b[0;34m,\u001b[0m \u001b[0marticul_loss\u001b[0m\u001b[0;34m,\u001b[0m \u001b[0mpedal_loss\u001b[0m\u001b[0;34m,\u001b[0m \u001b[0mtrill_loss\u001b[0m\u001b[0;34m,\u001b[0m \u001b[0mkld\u001b[0m \u001b[0;34m=\u001b[0m\u001b[0;31m \u001b[0m\u001b[0;31m\\\u001b[0m\u001b[0;34m\u001b[0m\u001b[0;34m\u001b[0m\u001b[0m\n\u001b[0;32m--> 942\u001b[0;31m                         \u001b[0mbatch_time_step_run\u001b[0m\u001b[0;34m(\u001b[0m\u001b[0mtraining_data\u001b[0m\u001b[0;34m,\u001b[0m \u001b[0mmodel\u001b[0m\u001b[0;34m=\u001b[0m\u001b[0mtrain_model\u001b[0m\u001b[0;34m)\u001b[0m\u001b[0;34m\u001b[0m\u001b[0;34m\u001b[0m\u001b[0m\n\u001b[0m\u001b[1;32m    943\u001b[0m                     \u001b[0mtempo_loss_total\u001b[0m\u001b[0;34m.\u001b[0m\u001b[0mappend\u001b[0m\u001b[0;34m(\u001b[0m\u001b[0mtempo_loss\u001b[0m\u001b[0;34m.\u001b[0m\u001b[0mitem\u001b[0m\u001b[0;34m(\u001b[0m\u001b[0;34m)\u001b[0m\u001b[0;34m)\u001b[0m\u001b[0;34m\u001b[0m\u001b[0;34m\u001b[0m\u001b[0m\n\u001b[1;32m    944\u001b[0m                     \u001b[0mvel_loss_total\u001b[0m\u001b[0;34m.\u001b[0m\u001b[0mappend\u001b[0m\u001b[0;34m(\u001b[0m\u001b[0mvel_loss\u001b[0m\u001b[0;34m.\u001b[0m\u001b[0mitem\u001b[0m\u001b[0;34m(\u001b[0m\u001b[0;34m)\u001b[0m\u001b[0;34m)\u001b[0m\u001b[0;34m\u001b[0m\u001b[0;34m\u001b[0m\u001b[0m\n",
      "\u001b[0;32m/uusoc/exports/scratch/rtimpson/thesis/virtuosoNet/src/old/model_run.py\u001b[0m in \u001b[0;36mbatch_time_step_run\u001b[0;34m(data, model, batch_size)\u001b[0m\n\u001b[1;32m    626\u001b[0m     \u001b[0mmodel_train\u001b[0m \u001b[0;34m=\u001b[0m \u001b[0mmodel\u001b[0m\u001b[0;34m.\u001b[0m\u001b[0mtrain\u001b[0m\u001b[0;34m(\u001b[0m\u001b[0;34m)\u001b[0m\u001b[0;34m\u001b[0m\u001b[0;34m\u001b[0m\u001b[0m\n\u001b[1;32m    627\u001b[0m     \u001b[0moutputs\u001b[0m\u001b[0;34m,\u001b[0m \u001b[0mperform_mu\u001b[0m\u001b[0;34m,\u001b[0m \u001b[0mperform_var\u001b[0m\u001b[0;34m,\u001b[0m \u001b[0mtotal_out_list\u001b[0m\u001b[0;31m \u001b[0m\u001b[0;31m\\\u001b[0m\u001b[0;34m\u001b[0m\u001b[0;34m\u001b[0m\u001b[0m\n\u001b[0;32m--> 628\u001b[0;31m         \u001b[0;34m=\u001b[0m \u001b[0mmodel_train\u001b[0m\u001b[0;34m(\u001b[0m\u001b[0mprime_batch_x\u001b[0m\u001b[0;34m,\u001b[0m \u001b[0mprime_batch_y\u001b[0m\u001b[0;34m,\u001b[0m \u001b[0medges\u001b[0m\u001b[0;34m,\u001b[0m \u001b[0mnote_locations\u001b[0m\u001b[0;34m,\u001b[0m \u001b[0mbatch_start\u001b[0m\u001b[0;34m)\u001b[0m\u001b[0;34m\u001b[0m\u001b[0;34m\u001b[0m\u001b[0m\n\u001b[0m\u001b[1;32m    629\u001b[0m \u001b[0;34m\u001b[0m\u001b[0m\n\u001b[1;32m    630\u001b[0m     \u001b[0;32mif\u001b[0m \u001b[0mHIERARCHY\u001b[0m\u001b[0;34m:\u001b[0m\u001b[0;34m\u001b[0m\u001b[0;34m\u001b[0m\u001b[0m\n",
      "\u001b[0;32m/uusoc/exports/scratch/rtimpson/thesis/virtuosoNet/env/lib/python3.7/site-packages/torch/nn/modules/module.py\u001b[0m in \u001b[0;36m_call_impl\u001b[0;34m(self, *input, **kwargs)\u001b[0m\n\u001b[1;32m    725\u001b[0m             \u001b[0mresult\u001b[0m \u001b[0;34m=\u001b[0m \u001b[0mself\u001b[0m\u001b[0;34m.\u001b[0m\u001b[0m_slow_forward\u001b[0m\u001b[0;34m(\u001b[0m\u001b[0;34m*\u001b[0m\u001b[0minput\u001b[0m\u001b[0;34m,\u001b[0m \u001b[0;34m**\u001b[0m\u001b[0mkwargs\u001b[0m\u001b[0;34m)\u001b[0m\u001b[0;34m\u001b[0m\u001b[0;34m\u001b[0m\u001b[0m\n\u001b[1;32m    726\u001b[0m         \u001b[0;32melse\u001b[0m\u001b[0;34m:\u001b[0m\u001b[0;34m\u001b[0m\u001b[0;34m\u001b[0m\u001b[0m\n\u001b[0;32m--> 727\u001b[0;31m             \u001b[0mresult\u001b[0m \u001b[0;34m=\u001b[0m \u001b[0mself\u001b[0m\u001b[0;34m.\u001b[0m\u001b[0mforward\u001b[0m\u001b[0;34m(\u001b[0m\u001b[0;34m*\u001b[0m\u001b[0minput\u001b[0m\u001b[0;34m,\u001b[0m \u001b[0;34m**\u001b[0m\u001b[0mkwargs\u001b[0m\u001b[0;34m)\u001b[0m\u001b[0;34m\u001b[0m\u001b[0;34m\u001b[0m\u001b[0m\n\u001b[0m\u001b[1;32m    728\u001b[0m         for hook in itertools.chain(\n\u001b[1;32m    729\u001b[0m                 \u001b[0m_global_forward_hooks\u001b[0m\u001b[0;34m.\u001b[0m\u001b[0mvalues\u001b[0m\u001b[0;34m(\u001b[0m\u001b[0;34m)\u001b[0m\u001b[0;34m,\u001b[0m\u001b[0;34m\u001b[0m\u001b[0;34m\u001b[0m\u001b[0m\n",
      "\u001b[0;32m/uusoc/exports/scratch/rtimpson/thesis/virtuosoNet/src/old/nnModel.py\u001b[0m in \u001b[0;36mforward\u001b[0;34m(self, x, y, edges, note_locations, start_index, initial_z, rand_threshold, return_z)\u001b[0m\n\u001b[1;32m    694\u001b[0m         \u001b[0;32melse\u001b[0m\u001b[0;34m:\u001b[0m\u001b[0;34m\u001b[0m\u001b[0;34m\u001b[0m\u001b[0m\n\u001b[1;32m    695\u001b[0m             \u001b[0mnote_out\u001b[0m\u001b[0;34m,\u001b[0m \u001b[0mbeat_hidden_out\u001b[0m\u001b[0;34m,\u001b[0m \u001b[0mmeasure_hidden_out\u001b[0m \u001b[0;34m=\u001b[0m\u001b[0;31m \u001b[0m\u001b[0;31m\\\u001b[0m\u001b[0;34m\u001b[0m\u001b[0;34m\u001b[0m\u001b[0m\n\u001b[0;32m--> 696\u001b[0;31m                 \u001b[0mself\u001b[0m\u001b[0;34m.\u001b[0m\u001b[0mrun_offline_score_model\u001b[0m\u001b[0;34m(\u001b[0m\u001b[0mx\u001b[0m\u001b[0;34m,\u001b[0m \u001b[0medges\u001b[0m\u001b[0;34m,\u001b[0m \u001b[0mbeat_numbers\u001b[0m\u001b[0;34m,\u001b[0m \u001b[0mmeasure_numbers\u001b[0m\u001b[0;34m,\u001b[0m \u001b[0mvoice_numbers\u001b[0m\u001b[0;34m,\u001b[0m \u001b[0mstart_index\u001b[0m\u001b[0;34m)\u001b[0m\u001b[0;34m\u001b[0m\u001b[0;34m\u001b[0m\u001b[0m\n\u001b[0m\u001b[1;32m    697\u001b[0m             \u001b[0mbeat_out_spanned\u001b[0m \u001b[0;34m=\u001b[0m \u001b[0mself\u001b[0m\u001b[0;34m.\u001b[0m\u001b[0mspan_beat_to_note_num\u001b[0m\u001b[0;34m(\u001b[0m\u001b[0mbeat_hidden_out\u001b[0m\u001b[0;34m,\u001b[0m \u001b[0mbeat_numbers\u001b[0m\u001b[0;34m,\u001b[0m \u001b[0mnum_notes\u001b[0m\u001b[0;34m,\u001b[0m \u001b[0mstart_index\u001b[0m\u001b[0;34m)\u001b[0m\u001b[0;34m\u001b[0m\u001b[0;34m\u001b[0m\u001b[0m\n\u001b[1;32m    698\u001b[0m             measure_out_spanned = self.span_beat_to_note_num(measure_hidden_out, measure_numbers, num_notes,\n",
      "\u001b[0;32m/uusoc/exports/scratch/rtimpson/thesis/virtuosoNet/src/old/nnModel.py\u001b[0m in \u001b[0;36mrun_offline_score_model\u001b[0;34m(self, x, edges, beat_numbers, measure_numbers, voice_numbers, start_index)\u001b[0m\n\u001b[1;32m    937\u001b[0m             \u001b[0mhidden_out\u001b[0m \u001b[0;34m=\u001b[0m \u001b[0mtorch\u001b[0m\u001b[0;34m.\u001b[0m\u001b[0mcat\u001b[0m\u001b[0;34m(\u001b[0m\u001b[0;34m(\u001b[0m\u001b[0mhidden_out\u001b[0m\u001b[0;34m,\u001b[0m\u001b[0mvoice_out\u001b[0m\u001b[0;34m)\u001b[0m\u001b[0;34m,\u001b[0m \u001b[0;36m2\u001b[0m\u001b[0;34m)\u001b[0m\u001b[0;34m\u001b[0m\u001b[0;34m\u001b[0m\u001b[0m\n\u001b[1;32m    938\u001b[0m \u001b[0;34m\u001b[0m\u001b[0m\n\u001b[0;32m--> 939\u001b[0;31m         \u001b[0mbeat_nodes\u001b[0m \u001b[0;34m=\u001b[0m \u001b[0mself\u001b[0m\u001b[0;34m.\u001b[0m\u001b[0mmake_higher_node\u001b[0m\u001b[0;34m(\u001b[0m\u001b[0mhidden_out\u001b[0m\u001b[0;34m,\u001b[0m \u001b[0mself\u001b[0m\u001b[0;34m.\u001b[0m\u001b[0mbeat_attention\u001b[0m\u001b[0;34m,\u001b[0m \u001b[0mbeat_numbers\u001b[0m\u001b[0;34m,\u001b[0m \u001b[0mbeat_numbers\u001b[0m\u001b[0;34m,\u001b[0m \u001b[0mstart_index\u001b[0m\u001b[0;34m,\u001b[0m \u001b[0mlower_is_note\u001b[0m\u001b[0;34m=\u001b[0m\u001b[0;32mTrue\u001b[0m\u001b[0;34m)\u001b[0m\u001b[0;34m\u001b[0m\u001b[0;34m\u001b[0m\u001b[0m\n\u001b[0m\u001b[1;32m    940\u001b[0m         \u001b[0mbeat_hidden_out\u001b[0m\u001b[0;34m,\u001b[0m \u001b[0mbeat_hidden\u001b[0m \u001b[0;34m=\u001b[0m \u001b[0mself\u001b[0m\u001b[0;34m.\u001b[0m\u001b[0mbeat_rnn\u001b[0m\u001b[0;34m(\u001b[0m\u001b[0mbeat_nodes\u001b[0m\u001b[0;34m,\u001b[0m \u001b[0mbeat_hidden\u001b[0m\u001b[0;34m)\u001b[0m\u001b[0;34m\u001b[0m\u001b[0;34m\u001b[0m\u001b[0m\n\u001b[1;32m    941\u001b[0m         \u001b[0mmeasure_nodes\u001b[0m \u001b[0;34m=\u001b[0m \u001b[0mself\u001b[0m\u001b[0;34m.\u001b[0m\u001b[0mmake_higher_node\u001b[0m\u001b[0;34m(\u001b[0m\u001b[0mbeat_hidden_out\u001b[0m\u001b[0;34m,\u001b[0m \u001b[0mself\u001b[0m\u001b[0;34m.\u001b[0m\u001b[0mmeasure_attention\u001b[0m\u001b[0;34m,\u001b[0m \u001b[0mbeat_numbers\u001b[0m\u001b[0;34m,\u001b[0m \u001b[0mmeasure_numbers\u001b[0m\u001b[0;34m,\u001b[0m \u001b[0mstart_index\u001b[0m\u001b[0;34m)\u001b[0m\u001b[0;34m\u001b[0m\u001b[0;34m\u001b[0m\u001b[0m\n",
      "\u001b[0;32m/uusoc/exports/scratch/rtimpson/thesis/virtuosoNet/src/old/nnModel.py\u001b[0m in \u001b[0;36mmake_higher_node\u001b[0;34m(self, lower_out, attention_weights, lower_indexes, higher_indexes, start_index, lower_is_note)\u001b[0m\n\u001b[1;32m    998\u001b[0m                 \u001b[0mlower_node_end\u001b[0m \u001b[0;34m=\u001b[0m \u001b[0mlow_index\u001b[0m\u001b[0;34m\u001b[0m\u001b[0;34m\u001b[0m\u001b[0m\n\u001b[1;32m    999\u001b[0m                 \u001b[0mcorresp_lower_out\u001b[0m \u001b[0;34m=\u001b[0m \u001b[0mlower_out\u001b[0m\u001b[0;34m[\u001b[0m\u001b[0;34m:\u001b[0m\u001b[0;34m,\u001b[0m \u001b[0mlower_node_start\u001b[0m\u001b[0;34m:\u001b[0m\u001b[0mlower_node_end\u001b[0m\u001b[0;34m,\u001b[0m \u001b[0;34m:\u001b[0m\u001b[0;34m]\u001b[0m\u001b[0;34m\u001b[0m\u001b[0;34m\u001b[0m\u001b[0m\n\u001b[0;32m-> 1000\u001b[0;31m                 \u001b[0mhigher\u001b[0m \u001b[0;34m=\u001b[0m \u001b[0mattention_weights\u001b[0m\u001b[0;34m(\u001b[0m\u001b[0mcorresp_lower_out\u001b[0m\u001b[0;34m)\u001b[0m\u001b[0;34m\u001b[0m\u001b[0;34m\u001b[0m\u001b[0m\n\u001b[0m\u001b[1;32m   1001\u001b[0m                 \u001b[0mhigher_nodes\u001b[0m\u001b[0;34m.\u001b[0m\u001b[0mappend\u001b[0m\u001b[0;34m(\u001b[0m\u001b[0mhigher\u001b[0m\u001b[0;34m)\u001b[0m\u001b[0;34m\u001b[0m\u001b[0;34m\u001b[0m\u001b[0m\n\u001b[1;32m   1002\u001b[0m \u001b[0;34m\u001b[0m\u001b[0m\n",
      "\u001b[0;32m/uusoc/exports/scratch/rtimpson/thesis/virtuosoNet/env/lib/python3.7/site-packages/torch/nn/modules/module.py\u001b[0m in \u001b[0;36m_call_impl\u001b[0;34m(self, *input, **kwargs)\u001b[0m\n\u001b[1;32m    725\u001b[0m             \u001b[0mresult\u001b[0m \u001b[0;34m=\u001b[0m \u001b[0mself\u001b[0m\u001b[0;34m.\u001b[0m\u001b[0m_slow_forward\u001b[0m\u001b[0;34m(\u001b[0m\u001b[0;34m*\u001b[0m\u001b[0minput\u001b[0m\u001b[0;34m,\u001b[0m \u001b[0;34m**\u001b[0m\u001b[0mkwargs\u001b[0m\u001b[0;34m)\u001b[0m\u001b[0;34m\u001b[0m\u001b[0;34m\u001b[0m\u001b[0m\n\u001b[1;32m    726\u001b[0m         \u001b[0;32melse\u001b[0m\u001b[0;34m:\u001b[0m\u001b[0;34m\u001b[0m\u001b[0;34m\u001b[0m\u001b[0m\n\u001b[0;32m--> 727\u001b[0;31m             \u001b[0mresult\u001b[0m \u001b[0;34m=\u001b[0m \u001b[0mself\u001b[0m\u001b[0;34m.\u001b[0m\u001b[0mforward\u001b[0m\u001b[0;34m(\u001b[0m\u001b[0;34m*\u001b[0m\u001b[0minput\u001b[0m\u001b[0;34m,\u001b[0m \u001b[0;34m**\u001b[0m\u001b[0mkwargs\u001b[0m\u001b[0;34m)\u001b[0m\u001b[0;34m\u001b[0m\u001b[0;34m\u001b[0m\u001b[0m\n\u001b[0m\u001b[1;32m    728\u001b[0m         for hook in itertools.chain(\n\u001b[1;32m    729\u001b[0m                 \u001b[0m_global_forward_hooks\u001b[0m\u001b[0;34m.\u001b[0m\u001b[0mvalues\u001b[0m\u001b[0;34m(\u001b[0m\u001b[0;34m)\u001b[0m\u001b[0;34m,\u001b[0m\u001b[0;34m\u001b[0m\u001b[0;34m\u001b[0m\u001b[0m\n",
      "\u001b[0;32m/uusoc/exports/scratch/rtimpson/thesis/virtuosoNet/src/old/nnModel.py\u001b[0m in \u001b[0;36mforward\u001b[0;34m(self, x)\u001b[0m\n\u001b[1;32m    134\u001b[0m         \u001b[0mattention_tanh\u001b[0m \u001b[0;34m=\u001b[0m \u001b[0mF\u001b[0m\u001b[0;34m.\u001b[0m\u001b[0mtanh\u001b[0m\u001b[0;34m(\u001b[0m\u001b[0mattention\u001b[0m\u001b[0;34m)\u001b[0m\u001b[0;34m\u001b[0m\u001b[0;34m\u001b[0m\u001b[0m\n\u001b[1;32m    135\u001b[0m         \u001b[0;32mif\u001b[0m \u001b[0mself\u001b[0m\u001b[0;34m.\u001b[0m\u001b[0mhead_size\u001b[0m \u001b[0;34m!=\u001b[0m \u001b[0;36m1\u001b[0m\u001b[0;34m:\u001b[0m\u001b[0;34m\u001b[0m\u001b[0;34m\u001b[0m\u001b[0m\n\u001b[0;32m--> 136\u001b[0;31m             \u001b[0mattention_split\u001b[0m \u001b[0;34m=\u001b[0m \u001b[0mtorch\u001b[0m\u001b[0;34m.\u001b[0m\u001b[0mcat\u001b[0m\u001b[0;34m(\u001b[0m\u001b[0mattention_tanh\u001b[0m\u001b[0;34m.\u001b[0m\u001b[0msplit\u001b[0m\u001b[0;34m(\u001b[0m\u001b[0msplit_size\u001b[0m\u001b[0;34m=\u001b[0m\u001b[0mself\u001b[0m\u001b[0;34m.\u001b[0m\u001b[0mhead_size\u001b[0m\u001b[0;34m,\u001b[0m \u001b[0mdim\u001b[0m\u001b[0;34m=\u001b[0m\u001b[0;36m2\u001b[0m\u001b[0;34m)\u001b[0m\u001b[0;34m,\u001b[0m \u001b[0mdim\u001b[0m\u001b[0;34m=\u001b[0m\u001b[0;36m0\u001b[0m\u001b[0;34m)\u001b[0m\u001b[0;34m\u001b[0m\u001b[0;34m\u001b[0m\u001b[0m\n\u001b[0m\u001b[1;32m    137\u001b[0m             \u001b[0msimilarity\u001b[0m \u001b[0;34m=\u001b[0m \u001b[0mtorch\u001b[0m\u001b[0;34m.\u001b[0m\u001b[0mbmm\u001b[0m\u001b[0;34m(\u001b[0m\u001b[0mattention_split\u001b[0m\u001b[0;34m,\u001b[0m \u001b[0mself\u001b[0m\u001b[0;34m.\u001b[0m\u001b[0mcontext_vector\u001b[0m\u001b[0;34m)\u001b[0m\u001b[0;34m\u001b[0m\u001b[0;34m\u001b[0m\u001b[0m\n\u001b[1;32m    138\u001b[0m             \u001b[0msoftmax_weight\u001b[0m \u001b[0;34m=\u001b[0m \u001b[0mF\u001b[0m\u001b[0;34m.\u001b[0m\u001b[0msoftmax\u001b[0m\u001b[0;34m(\u001b[0m\u001b[0msimilarity\u001b[0m\u001b[0;34m,\u001b[0m \u001b[0mdim\u001b[0m\u001b[0;34m=\u001b[0m\u001b[0;36m1\u001b[0m\u001b[0;34m)\u001b[0m\u001b[0;34m\u001b[0m\u001b[0;34m\u001b[0m\u001b[0m\n",
      "\u001b[0;31mKeyboardInterrupt\u001b[0m: "
     ]
    }
   ],
   "source": [
    "%run {run_str}"
   ]
  },
  {
   "cell_type": "markdown",
   "metadata": {},
   "source": [
    "# Full"
   ]
  },
  {
   "cell_type": "code",
   "execution_count": null,
   "metadata": {},
   "outputs": [],
   "source": [
    "model_name = '\"han baseline full\"'\n",
    "model_code = 'han_ar_measure'\n",
    "exp_name = '\"Full Han Baseline\"'\n",
    "exp_description = '\"Running HAN Basline with full data on neptune integration\"'\n",
    "is_dev = 'false'\n",
    "tags = ['han_ar_measure']\n",
    "run_str = legacy_training_run_str(\n",
    "    model_name=model_name, \n",
    "    model_code=model_code, \n",
    "    exp_description=exp_description, \n",
    "    exp_name=exp_name,\n",
    "    is_dev=is_dev, \n",
    "    tags=tags\n",
    ")\n",
    "print(run_str)"
   ]
  },
  {
   "cell_type": "code",
   "execution_count": null,
   "metadata": {},
   "outputs": [],
   "source": [
    "%run {run_str}"
   ]
  },
  {
   "cell_type": "code",
   "execution_count": null,
   "metadata": {},
   "outputs": [],
   "source": []
  }
 ],
 "metadata": {
  "kernelspec": {
   "display_name": "Python 3",
   "language": "python",
   "name": "python3"
  },
  "language_info": {
   "codemirror_mode": {
    "name": "ipython",
    "version": 3
   },
   "file_extension": ".py",
   "mimetype": "text/x-python",
   "name": "python",
   "nbconvert_exporter": "python",
   "pygments_lexer": "ipython3",
   "version": "3.7.7"
  },
  "neptune": {
   "notebookId": "e9e816f0-05f9-44d3-8c13-3102ec43b3a9"
  }
 },
 "nbformat": 4,
 "nbformat_minor": 4
}
