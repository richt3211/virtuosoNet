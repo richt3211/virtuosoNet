{
 "cells": [
  {
   "cell_type": "code",
   "execution_count": 1,
   "metadata": {},
   "outputs": [],
   "source": [
    "%load_ext autoreload\n",
    "%autoreload 2"
   ]
  },
  {
   "cell_type": "code",
   "execution_count": 2,
   "metadata": {},
   "outputs": [],
   "source": [
    "from src.experiments.training.training import init_training_job, get_dev_data, get_full_data, start_training, plot_loss\n",
    "from src.models.BL import LSTMBaseline, LSTMBaselineHyperParams\n",
    "from src.experiments.training.BL.lstm_bl_training import LSTMBlTraining, LSTMBlTrainingJobParams\n",
    "from src.models.model_run_job import ModelJob, ModelJobParams\n",
    "%matplotlib inline"
   ]
  },
  {
   "cell_type": "markdown",
   "metadata": {},
   "source": [
    "# Init"
   ]
  },
  {
   "cell_type": "code",
   "execution_count": 3,
   "metadata": {},
   "outputs": [],
   "source": [
    "folder_name = 'v1_full_data'\n",
    "model_name = \"LSTM Baseline\"\n",
    "model_folder = 'bl/lstm'\n",
    "description = 'Running uni-directional with full data set'\n",
    "is_dev=False"
   ]
  },
  {
   "cell_type": "code",
   "execution_count": 4,
   "metadata": {},
   "outputs": [
    {
     "name": "stdout",
     "output_type": "stream",
     "text": [
      "2020-11-10 09:15:26 - Starting training job for model LSTM Baseline\n",
      "2020-11-10 09:15:26 - Running uni-directional with full data set\n"
     ]
    }
   ],
   "source": [
    "init_training_job(is_dev,folder_name, model_name, description)"
   ]
  },
  {
   "cell_type": "code",
   "execution_count": 5,
   "metadata": {},
   "outputs": [
    {
     "name": "stdout",
     "output_type": "stream",
     "text": [
      "2020-11-10 09:15:27 - LSTM Baseline Hyper Params\n",
      "2020-11-10 09:15:27 - {\n",
      "    \"input_size\": 78,\n",
      "    \"output_size\": 11,\n",
      "    \"num_layers\": 3,\n",
      "    \"hidden_size\": 256,\n",
      "    \"dropout\": 0.5\n",
      "}\n",
      "2020-11-10 09:15:27 - LSTM Baseline Training Job Params\n",
      "2020-11-10 09:15:27 - {\n",
      "    \"input_size\": 78,\n",
      "    \"output_size\": 11,\n",
      "    \"qpm_index\": 0,\n",
      "    \"vel_param_idx\": 0,\n",
      "    \"dev_param_idx\": 2,\n",
      "    \"articul_param_idx\": 3,\n",
      "    \"pedal_param_idx\": 4,\n",
      "    \"time_steps\": 500,\n",
      "    \"num_key_augmentation\": 1,\n",
      "    \"batch_size\": 1,\n",
      "    \"num_tempo_param\": 1,\n",
      "    \"num_input\": 78,\n",
      "    \"num_output\": 11,\n",
      "    \"num_prime_param\": 11,\n",
      "    \"device_num\": 1,\n",
      "    \"is_dev\": false,\n",
      "    \"learning_rate\": 0.1,\n",
      "    \"grad_clip\": 0.5\n",
      "}\n"
     ]
    }
   ],
   "source": [
    "hyper_params = LSTMBaselineHyperParams()\n",
    "job_params = LSTMBlTrainingJobParams(is_dev=is_dev)"
   ]
  },
  {
   "cell_type": "code",
   "execution_count": null,
   "metadata": {},
   "outputs": [
    {
     "name": "stdout",
     "output_type": "stream",
     "text": [
      "2020-11-10 09:15:30 - Reading Full Data\n",
      "2020-11-10 09:15:30 - Loading the training data\n"
     ]
    }
   ],
   "source": [
    "full_data = get_full_data()"
   ]
  },
  {
   "cell_type": "code",
   "execution_count": null,
   "metadata": {},
   "outputs": [],
   "source": [
    "training_loss, valid_loss = start_training(\n",
    "    data=full_data,\n",
    "    version=0.1,\n",
    "    num_epochs=50,\n",
    "    job=LSTMBlTraining,\n",
    "    job_params=job_params,\n",
    "    model_class=LSTMBaseline,\n",
    "    model_hyper_params=hyper_params\n",
    "    model_folder=model_folder\n",
    ")"
   ]
  },
  {
   "cell_type": "code",
   "execution_count": null,
   "metadata": {},
   "outputs": [],
   "source": []
  }
 ],
 "metadata": {
  "kernelspec": {
   "display_name": "Python 3",
   "language": "python",
   "name": "python3"
  },
  "language_info": {
   "codemirror_mode": {
    "name": "ipython",
    "version": 3
   },
   "file_extension": ".py",
   "mimetype": "text/x-python",
   "name": "python",
   "nbconvert_exporter": "python",
   "pygments_lexer": "ipython3",
   "version": "3.7.8"
  }
 },
 "nbformat": 4,
 "nbformat_minor": 2
}
