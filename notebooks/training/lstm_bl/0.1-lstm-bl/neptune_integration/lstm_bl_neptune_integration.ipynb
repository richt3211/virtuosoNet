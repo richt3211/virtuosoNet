{
 "cells": [
  {
   "cell_type": "code",
   "execution_count": 4,
   "metadata": {},
   "outputs": [],
   "source": [
    "%load_ext autoreload\n",
    "%autoreload 2"
   ]
  },
  {
   "cell_type": "code",
   "execution_count": 5,
   "metadata": {},
   "outputs": [],
   "source": [
    "from src.experiments.training.training import run_training_experiment\n",
    "from src.models.lstm_bl import LSTMBaseline, LSTMBaselineHyperParams\n",
    "from src.experiments.training.BL.lstm_bl_training import LSTMBaselineTraining, LSTMBaselineTrainingJobParams\n",
    "from src.models.model_run_job import ModelJob, ModelJobParams\n",
    "from src.constants import SRC_DIR"
   ]
  },
  {
   "cell_type": "code",
   "execution_count": null,
   "metadata": {},
   "outputs": [
    {
     "name": "stdout",
     "output_type": "stream",
     "text": [
      "{\n",
      "    \"input_size\": 78,\n",
      "    \"output_size\": 11,\n",
      "    \"device_num\": 1,\n",
      "    \"time_steps\": 500,\n",
      "    \"is_dev\": false,\n",
      "    \"device\": \"cuda:1\",\n",
      "    \"num_layers\": 3,\n",
      "    \"hidden_size\": 256,\n",
      "    \"dropout\": 0.1,\n",
      "    \"qpm_index\": 0,\n",
      "    \"vel_param_idx\": 1,\n",
      "    \"dev_param_idx\": 2,\n",
      "    \"articul_param_idx\": 3,\n",
      "    \"pedal_param_idx\": 4,\n",
      "    \"num_key_augmentation\": 1,\n",
      "    \"batch_size\": 1,\n",
      "    \"epochs\": 50,\n",
      "    \"num_tempo_param\": 1,\n",
      "    \"num_prime_param\": 11,\n",
      "    \"tempo_loss\": false,\n",
      "    \"learning_rate\": 0.1,\n",
      "    \"grad_clip\": 0.5\n",
      "}\n",
      "https://ui.neptune.ai/richt3211/thesis/e/THESIS-123\n",
      "2020-12-07 14:01:07 - Starting experiment\n",
      "2020-12-07 14:01:07 - Reading Full Data\n",
      "2020-12-07 14:10:32 - STARTING None JOB AT 50 EPOCHS FOR  DATA SET\n",
      "2020-12-07 14:10:33 - Number of model params: 1399563\n",
      "2020-12-07 14:10:33 - LSTMBaseline(\n",
      "  (lstm_encoder): LSTM(78, 256, num_layers=3, dropout=0.1)\n",
      "  (decoder): Linear(in_features=256, out_features=11, bias=True)\n",
      ")\n",
      "2020-12-07 14:10:33 - Training Epoch 1\n",
      "2020-12-07 14:28:10 - Invalid metric value: nan for channel train kld loss. Metrics with nan or +/-inf values will not be sent to server\n",
      "2020-12-07 14:28:10 - train total loss: 1.782138151523158tempo loss: 1.7139369444070536, vel loss: 2.142245642787592, dev loss: 2.266378259501409, articul loss: 1.9414139857317745, pedal loss: 1.6485063197620293, trill loss: 0.0, kld loss: nan, \n"
     ]
    },
    {
     "name": "stderr",
     "output_type": "stream",
     "text": [
      "/uusoc/exports/scratch/rtimpson/thesis/virtuosoNet/env/lib/python3.7/site-packages/numpy/core/fromnumeric.py:3373: RuntimeWarning: Mean of empty slice.\n",
      "  out=out, **kwargs)\n",
      "/uusoc/exports/scratch/rtimpson/thesis/virtuosoNet/env/lib/python3.7/site-packages/numpy/core/_methods.py:170: RuntimeWarning: invalid value encountered in double_scalars\n",
      "  ret = ret.dtype.type(ret / rcount)\n"
     ]
    },
    {
     "name": "stdout",
     "output_type": "stream",
     "text": [
      "2020-12-07 14:28:24 - Invalid metric value: nan for channel valid kld loss. Metrics with nan or +/-inf values will not be sent to server\n",
      "2020-12-07 14:28:24 - valid total loss: 1.1417714931234693tempo loss: 1.8444667277753655, vel loss: 0.8428718222528948, dev loss: 0.8128456106683627, articul loss: 1.2515873273869256, pedal loss: 1.1153877885309371, trill loss: 0.0, kld loss: nan, \n",
      "2020-12-07 14:28:24 - Trained model for 1 epochs with validation loss of 1.1417714931234693\n",
      "2020-12-07 14:28:45 - saving model at epoch 1 as the best model\n",
      "2020-12-07 14:28:45 - Training Epoch 2\n",
      "2020-12-07 14:45:32 - Invalid metric value: nan for channel train kld loss. Metrics with nan or +/-inf values will not be sent to server\n",
      "2020-12-07 14:45:32 - train total loss: 1.4177731126068638tempo loss: 1.1443243942397696, vel loss: 1.4188751915005466, dev loss: 2.6110484824070346, articul loss: 1.425544246123195, pedal loss: 1.2851016417703858, trill loss: 0.0, kld loss: nan, \n",
      "2020-12-07 14:45:45 - Invalid metric value: nan for channel valid kld loss. Metrics with nan or +/-inf values will not be sent to server\n",
      "2020-12-07 14:45:45 - valid total loss: 1.156545378128146tempo loss: 1.5704905491899794, vel loss: 0.8972770658018642, dev loss: 0.8337656516308882, articul loss: 1.2722753296261955, pedal loss: 1.1640271704891472, trill loss: 0.0, kld loss: nan, \n",
      "2020-12-07 14:45:45 - Trained model for 2 epochs with validation loss of 1.156545378128146\n",
      "2020-12-07 14:45:55 - saving model at epoch 2 as the best model\n",
      "2020-12-07 14:45:55 - Training Epoch 3\n",
      "2020-12-07 15:02:45 - Invalid metric value: nan for channel train kld loss. Metrics with nan or +/-inf values will not be sent to server\n",
      "2020-12-07 15:02:45 - train total loss: 1.3884359349819233tempo loss: 1.1352194098968174, vel loss: 1.3882165617582805, dev loss: 2.5001098666033084, articul loss: 1.382195101949467, pedal loss: 1.2667219801163425, trill loss: 0.0, kld loss: nan, \n",
      "2020-12-07 15:02:58 - Invalid metric value: nan for channel valid kld loss. Metrics with nan or +/-inf values will not be sent to server\n",
      "2020-12-07 15:02:58 - valid total loss: 1.2654171388202153tempo loss: 2.1685330657385378, vel loss: 1.0057976948980991, dev loss: 0.9161571966859261, articul loss: 1.3910443401631643, pedal loss: 1.2054365508182057, trill loss: 0.0, kld loss: nan, \n",
      "2020-12-07 15:02:58 - Trained model for 3 epochs with validation loss of 1.2654171388202153\n",
      "2020-12-07 15:03:11 - saving model at epoch 3 as the best model\n",
      "2020-12-07 15:03:11 - Training Epoch 4\n",
      "2020-12-07 15:19:54 - Invalid metric value: nan for channel train kld loss. Metrics with nan or +/-inf values will not be sent to server\n",
      "2020-12-07 15:19:54 - train total loss: 1.376891879168111tempo loss: 1.1460850525036836, vel loss: 1.369196753378087, dev loss: 2.3959459265542535, articul loss: 1.3905011803797982, pedal loss: 1.2634401922592415, trill loss: 0.0, kld loss: nan, \n",
      "2020-12-07 15:20:08 - Invalid metric value: nan for channel valid kld loss. Metrics with nan or +/-inf values will not be sent to server\n",
      "2020-12-07 15:20:08 - valid total loss: 1.153329590616161tempo loss: 1.7468832680087996, vel loss: 0.8625010724294268, dev loss: 0.8868266605095912, articul loss: 1.077207716768735, pedal loss: 1.1590294828255698, trill loss: 0.0, kld loss: nan, \n",
      "2020-12-07 15:20:08 - Trained model for 4 epochs with validation loss of 1.153329590616161\n",
      "2020-12-07 15:20:16 - saving model at epoch 4 as the best model\n",
      "2020-12-07 15:20:16 - Training Epoch 5\n",
      "2020-12-07 15:36:55 - Invalid metric value: nan for channel train kld loss. Metrics with nan or +/-inf values will not be sent to server\n",
      "2020-12-07 15:36:55 - train total loss: 1.3662758967705095tempo loss: 1.1697568672225704, vel loss: 1.4238707169603144, dev loss: 2.2079766943488845, articul loss: 1.3800134390837413, pedal loss: 1.263916667802382, trill loss: 0.0, kld loss: nan, \n",
      "2020-12-07 15:37:08 - Invalid metric value: nan for channel valid kld loss. Metrics with nan or +/-inf values will not be sent to server\n",
      "2020-12-07 15:37:08 - valid total loss: 1.242961771836897tempo loss: 2.140996499394136, vel loss: 0.8776488057812866, dev loss: 0.8309484758369979, articul loss: 1.9146716028553288, pedal loss: 1.129759105188506, trill loss: 0.0, kld loss: nan, \n",
      "2020-12-07 15:37:08 - Trained model for 5 epochs with validation loss of 1.242961771836897\n",
      "2020-12-07 15:37:21 - saving model at epoch 5 as the best model\n",
      "2020-12-07 15:37:21 - Training Epoch 6\n",
      "2020-12-07 15:53:51 - Invalid metric value: nan for channel train kld loss. Metrics with nan or +/-inf values will not be sent to server\n",
      "2020-12-07 15:53:51 - train total loss: 1.3555428699907062tempo loss: 1.1331319319497135, vel loss: 1.3806259891073684, dev loss: 2.1630281828193603, articul loss: 1.3918039987152913, pedal loss: 1.2631972846412787, trill loss: 0.0, kld loss: nan, \n",
      "2020-12-07 15:54:04 - Invalid metric value: nan for channel valid kld loss. Metrics with nan or +/-inf values will not be sent to server\n",
      "2020-12-07 15:54:04 - valid total loss: 1.1059389164562488tempo loss: 1.6597983843592536, vel loss: 0.8755229745585075, dev loss: 0.7690640488332233, articul loss: 1.035257942052846, pedal loss: 1.1179549096990697, trill loss: 0.0, kld loss: nan, \n",
      "2020-12-07 15:54:04 - Trained model for 6 epochs with validation loss of 1.1059389164562488\n",
      "2020-12-07 15:54:24 - saving model at epoch 6 as the best model\n",
      "2020-12-07 15:54:24 - Training Epoch 7\n",
      "2020-12-07 16:11:14 - Invalid metric value: nan for channel train kld loss. Metrics with nan or +/-inf values will not be sent to server\n",
      "2020-12-07 16:11:14 - train total loss: 1.3762297935814733tempo loss: 1.1363593188829053, vel loss: 1.3875280654086461, dev loss: 2.388455690373801, articul loss: 1.3972437736580632, pedal loss: 1.2612772031726318, trill loss: 0.0, kld loss: nan, \n",
      "2020-12-07 16:11:27 - Invalid metric value: nan for channel valid kld loss. Metrics with nan or +/-inf values will not be sent to server\n",
      "2020-12-07 16:11:27 - valid total loss: 1.1507908909084046tempo loss: 1.676244949730598, vel loss: 0.834950219457076, dev loss: 0.7594020169464335, articul loss: 1.246421693785958, pedal loss: 1.1630972233945376, trill loss: 0.0, kld loss: nan, \n",
      "2020-12-07 16:11:27 - Trained model for 7 epochs with validation loss of 1.1507908909084046\n",
      "2020-12-07 16:11:37 - saving model at epoch 7 as the best model\n",
      "2020-12-07 16:11:37 - Training Epoch 8\n",
      "2020-12-07 16:28:16 - Invalid metric value: nan for channel train kld loss. Metrics with nan or +/-inf values will not be sent to server\n",
      "2020-12-07 16:28:16 - train total loss: 1.3443876885965425tempo loss: 1.0890628878632995, vel loss: 1.4067600879789417, dev loss: 2.08396522677691, articul loss: 1.395026378555359, pedal loss: 1.259064221461525, trill loss: 0.0, kld loss: nan, \n",
      "2020-12-07 16:28:29 - Invalid metric value: nan for channel valid kld loss. Metrics with nan or +/-inf values will not be sent to server\n",
      "2020-12-07 16:28:29 - valid total loss: 1.2125693794499095tempo loss: 1.5713285679491158, vel loss: 0.8423633541179518, dev loss: 0.9475158570413915, articul loss: 1.3313707077859813, pedal loss: 1.2350977555299416, trill loss: 0.0, kld loss: nan, \n",
      "2020-12-07 16:28:29 - Trained model for 8 epochs with validation loss of 1.2125693794499095\n",
      "2020-12-07 16:28:40 - saving model at epoch 8 as the best model\n",
      "2020-12-07 16:28:40 - Training Epoch 9\n",
      "2020-12-07 16:45:29 - Invalid metric value: nan for channel train kld loss. Metrics with nan or +/-inf values will not be sent to server\n",
      "2020-12-07 16:45:29 - train total loss: 1.3270304441989877tempo loss: 1.16242769075594, vel loss: 1.4060030687664273, dev loss: 1.7393449270799781, articul loss: 1.3925999509043911, pedal loss: 1.2709941124290218, trill loss: 0.0, kld loss: nan, \n",
      "2020-12-07 16:45:42 - Invalid metric value: nan for channel valid kld loss. Metrics with nan or +/-inf values will not be sent to server\n",
      "2020-12-07 16:45:42 - valid total loss: 1.218913025326199tempo loss: 1.5195298905046577, vel loss: 0.8631590218625517, dev loss: 0.9502027008268569, articul loss: 1.3524995032793437, pedal loss: 1.2460931037226295, trill loss: 0.0, kld loss: nan, \n",
      "2020-12-07 16:45:42 - Trained model for 9 epochs with validation loss of 1.218913025326199\n",
      "2020-12-07 16:45:53 - saving model at epoch 9 as the best model\n",
      "2020-12-07 16:45:53 - Training Epoch 10\n",
      "2020-12-07 17:02:38 - Invalid metric value: nan for channel train kld loss. Metrics with nan or +/-inf values will not be sent to server\n",
      "2020-12-07 17:02:38 - train total loss: 1.3649403161840974tempo loss: 1.1490314173169718, vel loss: 1.4170221250758253, dev loss: 2.110361694028169, articul loss: 1.39597283350969, pedal loss: 1.2774221460651698, trill loss: 0.0, kld loss: nan, \n",
      "2020-12-07 17:02:51 - Invalid metric value: nan for channel valid kld loss. Metrics with nan or +/-inf values will not be sent to server\n",
      "2020-12-07 17:02:51 - valid total loss: 1.1098758261395645tempo loss: 1.6708963528428584, vel loss: 0.8356433166063404, dev loss: 0.9547198436235729, articul loss: 1.2426320046747792, pedal loss: 1.0721060325685021, trill loss: 0.0, kld loss: nan, \n",
      "2020-12-07 17:02:51 - Trained model for 10 epochs with validation loss of 1.1098758261395645\n",
      "2020-12-07 17:03:03 - saving model at epoch 10 as the best model\n",
      "2020-12-07 17:03:03 - Training Epoch 11\n",
      "2020-12-07 17:19:45 - Invalid metric value: nan for channel train kld loss. Metrics with nan or +/-inf values will not be sent to server\n",
      "2020-12-07 17:19:45 - train total loss: 1.3407107324428273tempo loss: 1.1585478371930065, vel loss: 1.4031332249621646, dev loss: 1.9013448767737342, articul loss: 1.403528328046308, pedal loss: 1.2687519060824763, trill loss: 0.0, kld loss: nan, \n",
      "2020-12-07 17:19:58 - Invalid metric value: nan for channel valid kld loss. Metrics with nan or +/-inf values will not be sent to server\n",
      "2020-12-07 17:19:58 - valid total loss: 1.1678244220475629tempo loss: 1.6753005532114065, vel loss: 0.860771883291843, dev loss: 1.2159575439275128, articul loss: 1.0627362433923027, pedal loss: 1.1473288611087897, trill loss: 0.0, kld loss: nan, \n",
      "2020-12-07 17:19:58 - Trained model for 11 epochs with validation loss of 1.1678244220475629\n",
      "2020-12-07 17:20:10 - saving model at epoch 11 as the best model\n",
      "2020-12-07 17:20:10 - Training Epoch 12\n",
      "2020-12-07 17:36:59 - Invalid metric value: nan for channel train kld loss. Metrics with nan or +/-inf values will not be sent to server\n",
      "2020-12-07 17:36:59 - train total loss: 1.3657588851034104tempo loss: 1.1625276119187782, vel loss: 1.4096255637357789, dev loss: 2.1144829532987552, articul loss: 1.4074906276559669, pedal loss: 1.2756029342868505, trill loss: 0.0, kld loss: nan, \n",
      "2020-12-07 17:37:11 - Invalid metric value: nan for channel valid kld loss. Metrics with nan or +/-inf values will not be sent to server\n",
      "2020-12-07 17:37:11 - valid total loss: 1.2346480796178738tempo loss: 2.322561888870054, vel loss: 1.2455286935909644, dev loss: 0.8621237936553422, articul loss: 1.578681063610357, pedal loss: 1.0817475813095803, trill loss: 0.0, kld loss: nan, \n",
      "2020-12-07 17:37:11 - Trained model for 12 epochs with validation loss of 1.2346480796178738\n",
      "2020-12-07 17:37:20 - saving model at epoch 12 as the best model\n",
      "2020-12-07 17:37:20 - Training Epoch 13\n",
      "2020-12-07 17:54:02 - Invalid metric value: nan for channel train kld loss. Metrics with nan or +/-inf values will not be sent to server\n",
      "2020-12-07 17:54:02 - train total loss: 1.3840335041017384tempo loss: 1.1652584863150341, vel loss: 1.393436688709983, dev loss: 2.367878276426057, articul loss: 1.4059196811791785, pedal loss: 1.2702678520385762, trill loss: 0.0, kld loss: nan, \n",
      "2020-12-07 17:54:15 - Invalid metric value: nan for channel valid kld loss. Metrics with nan or +/-inf values will not be sent to server\n",
      "2020-12-07 17:54:15 - valid total loss: 1.1814354625755343tempo loss: 1.9679282613676683, vel loss: 0.8637175205195772, dev loss: 0.7748306078772093, articul loss: 1.2850884990959333, pedal loss: 1.157746403022059, trill loss: 0.0, kld loss: nan, \n",
      "2020-12-07 17:54:15 - Trained model for 13 epochs with validation loss of 1.1814354625755343\n",
      "2020-12-07 17:54:23 - saving model at epoch 13 as the best model\n",
      "2020-12-07 17:54:23 - Training Epoch 14\n",
      "2020-12-07 18:11:08 - Invalid metric value: nan for channel train kld loss. Metrics with nan or +/-inf values will not be sent to server\n",
      "2020-12-07 18:11:09 - train total loss: 1.3468430813637455tempo loss: 1.1489461998323127, vel loss: 1.4133286075665032, dev loss: 1.925388459430294, articul loss: 1.3971831353946458, pedal loss: 1.2757752955785315, trill loss: 0.0, kld loss: nan, \n",
      "2020-12-07 18:11:22 - Invalid metric value: nan for channel valid kld loss. Metrics with nan or +/-inf values will not be sent to server\n",
      "2020-12-07 18:11:22 - valid total loss: 1.170833202500969tempo loss: 1.7155387802922137, vel loss: 1.0512033057172212, dev loss: 0.9773912548104989, articul loss: 1.227795973140905, pedal loss: 1.1296050759251317, trill loss: 0.0, kld loss: nan, \n",
      "2020-12-07 18:11:22 - Trained model for 14 epochs with validation loss of 1.170833202500969\n",
      "2020-12-07 18:11:33 - saving model at epoch 14 as the best model\n",
      "2020-12-07 18:11:33 - Training Epoch 15\n",
      "2020-12-07 18:28:02 - Invalid metric value: nan for channel train kld loss. Metrics with nan or +/-inf values will not be sent to server\n",
      "2020-12-07 18:28:02 - train total loss: 1.3684672629266146tempo loss: 1.1393098930532404, vel loss: 1.409350919270408, dev loss: 2.1651598255100133, articul loss: 1.4182833438904356, pedal loss: 1.2744336381420163, trill loss: 0.0, kld loss: nan, \n",
      "2020-12-07 18:28:15 - Invalid metric value: nan for channel valid kld loss. Metrics with nan or +/-inf values will not be sent to server\n",
      "2020-12-07 18:28:15 - valid total loss: 1.17143345054762tempo loss: 1.8673674028941416, vel loss: 0.8779374741831313, dev loss: 1.22973249106308, articul loss: 1.116311061836818, pedal loss: 1.113488457490088, trill loss: 0.0, kld loss: nan, \n",
      "2020-12-07 18:28:15 - Trained model for 15 epochs with validation loss of 1.17143345054762\n",
      "2020-12-07 18:28:28 - saving model at epoch 15 as the best model\n",
      "2020-12-07 18:28:28 - Training Epoch 16\n",
      "2020-12-07 18:45:02 - Invalid metric value: nan for channel train kld loss. Metrics with nan or +/-inf values will not be sent to server\n",
      "2020-12-07 18:45:02 - train total loss: 1.3366686269511368tempo loss: 1.1497876383319128, vel loss: 1.4193701364994147, dev loss: 1.8403215899481882, articul loss: 1.3817364356245267, pedal loss: 1.273162670009443, trill loss: 0.0, kld loss: nan, \n",
      "2020-12-07 18:45:14 - Invalid metric value: nan for channel valid kld loss. Metrics with nan or +/-inf values will not be sent to server\n",
      "2020-12-07 18:45:14 - valid total loss: 1.1245676369393525tempo loss: 1.795889473539356, vel loss: 0.8402192564553594, dev loss: 0.7875737251350273, articul loss: 1.3719652789351466, pedal loss: 1.0820851314761868, trill loss: 0.0, kld loss: nan, \n",
      "2020-12-07 18:45:14 - Trained model for 16 epochs with validation loss of 1.1245676369393525\n",
      "2020-12-07 18:45:23 - saving model at epoch 16 as the best model\n",
      "2020-12-07 18:45:23 - Training Epoch 17\n"
     ]
    }
   ],
   "source": [
    "is_dev=False\n",
    "hyper_params = LSTMBaselineHyperParams()\n",
    "job_params = LSTMBaselineTrainingJobParams(is_dev=is_dev, tempo_loss=False, epochs=50)\n",
    "model_file_path = f\"{SRC_DIR}/models/lstm_bl.py\"\n",
    "run_training_experiment(\n",
    "    exp_name=\"Getting an actual LSTM BL for the first time\",\n",
    "    exp_description=\"Need to test if the tempo bugs are a function of my transformer model or the performance generation code\",\n",
    "    tags=['lstm_baseline'],\n",
    "    is_dev=is_dev,\n",
    "    hyper_params=hyper_params,\n",
    "    job_params=job_params,\n",
    "    model_file_path=model_file_path,\n",
    "    model_folder=\"bl/lstm\",\n",
    "    model_class=LSTMBaseline,\n",
    "    job_class=LSTMBaselineTraining\n",
    ")"
   ]
  },
  {
   "cell_type": "code",
   "execution_count": null,
   "metadata": {},
   "outputs": [],
   "source": []
  },
  {
   "cell_type": "code",
   "execution_count": null,
   "metadata": {},
   "outputs": [],
   "source": []
  },
  {
   "cell_type": "code",
   "execution_count": null,
   "metadata": {},
   "outputs": [],
   "source": []
  },
  {
   "cell_type": "code",
   "execution_count": null,
   "metadata": {},
   "outputs": [],
   "source": []
  },
  {
   "cell_type": "code",
   "execution_count": null,
   "metadata": {},
   "outputs": [],
   "source": []
  },
  {
   "cell_type": "code",
   "execution_count": null,
   "metadata": {},
   "outputs": [],
   "source": [
    "from src.experiments.training.training import init_training_job, get_dev_data, get_full_data"
   ]
  },
  {
   "cell_type": "code",
   "execution_count": null,
   "metadata": {},
   "outputs": [],
   "source": [
    "is_dev=False\n",
    "hyper_params = LSTMBaselineHyperParams(is_dev=is_dev)\n",
    "job_params = LSTMBaselineTrainingJobParams(is_dev=is_dev, epochs=50)"
   ]
  },
  {
   "cell_type": "code",
   "execution_count": null,
   "metadata": {},
   "outputs": [],
   "source": [
    "model_run_path = f\"{SRC_DIR}/models/model_run_job.py\"\n",
    "model_file_path = f\"{SRC_DIR}/models/lstm_bl.py\"\n",
    "upload_files = [model_file_path, model_run_path]\n",
    "exp_name=\"Debugging lstm\"\n",
    "exp_description=\"Not sure why lstm isn't outputting real values on the full data set\"\n",
    "tags=['lstm_baseline']\n",
    "exp = init_training_job(\n",
    "    is_dev=is_dev,\n",
    "    exp_name=exp_name,\n",
    "    exp_description=exp_description,\n",
    "    hyper_params=hyper_params,\n",
    "    job_params=job_params,\n",
    "    tags=tags,\n",
    "    upload_files=upload_files\n",
    ")"
   ]
  },
  {
   "cell_type": "code",
   "execution_count": null,
   "metadata": {},
   "outputs": [],
   "source": [
    "if is_dev:\n",
    "    data = get_dev_data(exp)\n",
    "else:\n",
    "    data = get_full_data(exp)"
   ]
  },
  {
   "cell_type": "code",
   "execution_count": null,
   "metadata": {},
   "outputs": [],
   "source": [
    "model = LSTMBaseline(hyper_params)\n",
    "model_folder=\"bl/lstm\"\n",
    "training_job = LSTMBaselineTraining(job_params, model, exp)\n",
    "training_job.run_job(data, model_folder=model_folder)"
   ]
  },
  {
   "cell_type": "code",
   "execution_count": null,
   "metadata": {},
   "outputs": [],
   "source": []
  }
 ],
 "metadata": {
  "kernelspec": {
   "display_name": "Python 3",
   "language": "python",
   "name": "python3"
  },
  "language_info": {
   "codemirror_mode": {
    "name": "ipython",
    "version": 3
   },
   "file_extension": ".py",
   "mimetype": "text/x-python",
   "name": "python",
   "nbconvert_exporter": "python",
   "pygments_lexer": "ipython3",
   "version": "3.7.7"
  },
  "neptune": {
   "notebookId": "e05e8d61-3ae0-42bb-bdc9-eb9d9399652b"
  }
 },
 "nbformat": 4,
 "nbformat_minor": 4
}
