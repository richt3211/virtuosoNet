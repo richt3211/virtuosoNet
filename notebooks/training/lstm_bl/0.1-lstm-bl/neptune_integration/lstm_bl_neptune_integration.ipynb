{
 "cells": [
  {
   "cell_type": "code",
   "execution_count": 12,
   "metadata": {},
   "outputs": [
    {
     "name": "stdout",
     "output_type": "stream",
     "text": [
      "The autoreload extension is already loaded. To reload it, use:\n",
      "  %reload_ext autoreload\n"
     ]
    }
   ],
   "source": [
    "%load_ext autoreload\n",
    "%autoreload 2"
   ]
  },
  {
   "cell_type": "code",
   "execution_count": 17,
   "metadata": {},
   "outputs": [],
   "source": [
    "from src.experiments.training.training import init_training_job, get_dev_data, get_full_data, start_training, plot_loss\n",
    "from src.models.lstm_bl import LSTMBaseline, LSTMBaselineHyperParams\n",
    "from src.experiments.training.BL.lstm_bl_training import LSTMBaselineTraining, LSTMBaselineTrainingJobParams\n",
    "from src.models.model_run_job import ModelJob, ModelJobParams\n",
    "from src.constants import SRC_DIR"
   ]
  },
  {
   "cell_type": "markdown",
   "metadata": {},
   "source": [
    "# Full"
   ]
  },
  {
   "cell_type": "code",
   "execution_count": 27,
   "metadata": {},
   "outputs": [],
   "source": [
    "exp_name = 'LSTM Basline Run with Full Data Set at 50 epochs'\n",
    "exp_description = 'Running lstm training with neptune integration'\n",
    "tags = ['lstm_baseline']\n",
    "is_dev = False"
   ]
  },
  {
   "cell_type": "code",
   "execution_count": 28,
   "metadata": {},
   "outputs": [],
   "source": [
    "hyper_params = LSTMBaselineHyperParams()\n",
    "job_params = LSTMBaselineTrainingJobParams(is_dev=is_dev, epochs=50)"
   ]
  },
  {
   "cell_type": "code",
   "execution_count": 29,
   "metadata": {},
   "outputs": [],
   "source": [
    "model_path = f\"{SRC_DIR}/models/lstm_bl.py\""
   ]
  },
  {
   "cell_type": "code",
   "execution_count": 30,
   "metadata": {},
   "outputs": [
    {
     "name": "stdout",
     "output_type": "stream",
     "text": [
      "{\n",
      "    \"input_size\": 78,\n",
      "    \"output_size\": 11,\n",
      "    \"device_num\": 1,\n",
      "    \"is_dev\": false,\n",
      "    \"num_layers\": 3,\n",
      "    \"hidden_size\": 256,\n",
      "    \"dropout\": 0.5,\n",
      "    \"qpm_index\": 0,\n",
      "    \"vel_param_idx\": 0,\n",
      "    \"dev_param_idx\": 2,\n",
      "    \"articul_param_idx\": 3,\n",
      "    \"pedal_param_idx\": 4,\n",
      "    \"num_key_augmentation\": 1,\n",
      "    \"batch_size\": 1,\n",
      "    \"epochs\": 50,\n",
      "    \"num_tempo_param\": 1,\n",
      "    \"num_prime_param\": 11,\n",
      "    \"learning_rate\": 0.1,\n",
      "    \"grad_clip\": 0.5\n",
      "}\n",
      "https://ui.neptune.ai/richt3211/thesis/e/THESIS-44\n"
     ]
    },
    {
     "name": "stderr",
     "output_type": "stream",
     "text": [
      "INFO:root:Starting experiment\n"
     ]
    },
    {
     "name": "stdout",
     "output_type": "stream",
     "text": [
      "2020-11-23 09:17:59 - Starting experiment\n"
     ]
    }
   ],
   "source": [
    "exp = init_training_job(\n",
    "    is_dev=is_dev,\n",
    "    exp_name=exp_name,\n",
    "    exp_description=exp_description,\n",
    "    hyper_params=hyper_params,\n",
    "    job_params=job_params,\n",
    "    tags=tags, \n",
    "    model_src_path=model_path\n",
    ")"
   ]
  },
  {
   "cell_type": "code",
   "execution_count": 31,
   "metadata": {},
   "outputs": [
    {
     "name": "stderr",
     "output_type": "stream",
     "text": [
      "INFO:root:Reading Full Data\n"
     ]
    },
    {
     "name": "stdout",
     "output_type": "stream",
     "text": [
      "2020-11-23 09:18:10 - Reading Full Data\n"
     ]
    }
   ],
   "source": [
    "full_data = get_full_data(exp)"
   ]
  },
  {
   "cell_type": "code",
   "execution_count": null,
   "metadata": {},
   "outputs": [
    {
     "name": "stderr",
     "output_type": "stream",
     "text": [
      "INFO:root:STARTING None TRAINING VERSION 0.1 JOB AT 50 EPOCHS FOR  DATA SET\n"
     ]
    },
    {
     "name": "stdout",
     "output_type": "stream",
     "text": [
      "2020-11-23 09:30:02 - STARTING None TRAINING VERSION 0.1 JOB AT 50 EPOCHS FOR  DATA SET\n"
     ]
    },
    {
     "name": "stderr",
     "output_type": "stream",
     "text": [
      "INFO:root:Number of model params: 1399563\n"
     ]
    },
    {
     "name": "stdout",
     "output_type": "stream",
     "text": [
      "2020-11-23 09:30:02 - Number of model params: 1399563\n"
     ]
    },
    {
     "name": "stderr",
     "output_type": "stream",
     "text": [
      "INFO:root:LSTMBaseline(\n",
      "  (lstm_encoder): LSTM(78, 256, num_layers=3, dropout=0.5)\n",
      "  (decoder): Linear(in_features=256, out_features=11, bias=True)\n",
      ")\n"
     ]
    },
    {
     "name": "stdout",
     "output_type": "stream",
     "text": [
      "2020-11-23 09:30:03 - LSTMBaseline(\n",
      "  (lstm_encoder): LSTM(78, 256, num_layers=3, dropout=0.5)\n",
      "  (decoder): Linear(in_features=256, out_features=11, bias=True)\n",
      ")\n"
     ]
    },
    {
     "name": "stderr",
     "output_type": "stream",
     "text": [
      "INFO:root:Training Epoch 1\n"
     ]
    },
    {
     "name": "stdout",
     "output_type": "stream",
     "text": [
      "2020-11-23 09:30:03 - Training Epoch 1\n"
     ]
    },
    {
     "name": "stderr",
     "output_type": "stream",
     "text": [
      "/uusoc/exports/scratch/rtimpson/thesis/virtuosoNet/env/lib/python3.7/site-packages/numpy/core/fromnumeric.py:3373: RuntimeWarning: Mean of empty slice.\n",
      "  out=out, **kwargs)\n",
      "/uusoc/exports/scratch/rtimpson/thesis/virtuosoNet/env/lib/python3.7/site-packages/numpy/core/_methods.py:170: RuntimeWarning: invalid value encountered in double_scalars\n",
      "  ret = ret.dtype.type(ret / rcount)\n",
      "WARNING:neptune.experiments:Invalid metric value: nan for channel train kld loss. Metrics with nan or +/-inf values will not be sent to server\n"
     ]
    },
    {
     "name": "stdout",
     "output_type": "stream",
     "text": [
      "2020-11-23 09:51:19 - Invalid metric value: nan for channel train kld loss. Metrics with nan or +/-inf values will not be sent to server\n"
     ]
    },
    {
     "name": "stderr",
     "output_type": "stream",
     "text": [
      "INFO:root:train total loss: 1.4702219722049417tempo loss: 1.297296701185178, vel loss: 1.4542304739034868, dev loss: 2.2795651856884844, articul loss: 1.53485143656027, pedal loss: 1.372356785535161, trill loss: 0.0, kld loss: nan, \n"
     ]
    },
    {
     "name": "stdout",
     "output_type": "stream",
     "text": [
      "2020-11-23 09:51:19 - train total loss: 1.4702219722049417tempo loss: 1.297296701185178, vel loss: 1.4542304739034868, dev loss: 2.2795651856884844, articul loss: 1.53485143656027, pedal loss: 1.372356785535161, trill loss: 0.0, kld loss: nan, \n"
     ]
    },
    {
     "name": "stderr",
     "output_type": "stream",
     "text": [
      "WARNING:neptune.experiments:Invalid metric value: nan for channel valid kld loss. Metrics with nan or +/-inf values will not be sent to server\n"
     ]
    },
    {
     "name": "stdout",
     "output_type": "stream",
     "text": [
      "2020-11-23 09:51:45 - Invalid metric value: nan for channel valid kld loss. Metrics with nan or +/-inf values will not be sent to server\n"
     ]
    },
    {
     "name": "stderr",
     "output_type": "stream",
     "text": [
      "INFO:root:valid total loss: 1.2201758381841932tempo loss: 1.8349951545086467, vel loss: 1.4361610021538023, dev loss: 0.7754592855507269, articul loss: 1.0819646592921295, pedal loss: 1.1847648186094766, trill loss: 0.0, kld loss: nan, \n"
     ]
    },
    {
     "name": "stdout",
     "output_type": "stream",
     "text": [
      "2020-11-23 09:51:45 - valid total loss: 1.2201758381841932tempo loss: 1.8349951545086467, vel loss: 1.4361610021538023, dev loss: 0.7754592855507269, articul loss: 1.0819646592921295, pedal loss: 1.1847648186094766, trill loss: 0.0, kld loss: nan, \n"
     ]
    },
    {
     "name": "stderr",
     "output_type": "stream",
     "text": [
      "INFO:root:Trained model for 1 epochs with validation loss of 1.2201758381841932\n"
     ]
    },
    {
     "name": "stdout",
     "output_type": "stream",
     "text": [
      "2020-11-23 09:51:45 - Trained model for 1 epochs with validation loss of 1.2201758381841932\n"
     ]
    },
    {
     "name": "stderr",
     "output_type": "stream",
     "text": [
      "INFO:root:saving model at epoch 1 as the best model\n"
     ]
    },
    {
     "name": "stdout",
     "output_type": "stream",
     "text": [
      "2020-11-23 09:52:13 - saving model at epoch 1 as the best model\n"
     ]
    },
    {
     "name": "stderr",
     "output_type": "stream",
     "text": [
      "INFO:root:Training Epoch 2\n"
     ]
    },
    {
     "name": "stdout",
     "output_type": "stream",
     "text": [
      "2020-11-23 09:52:14 - Training Epoch 2\n"
     ]
    },
    {
     "name": "stderr",
     "output_type": "stream",
     "text": [
      "WARNING:neptune.experiments:Invalid metric value: nan for channel train kld loss. Metrics with nan or +/-inf values will not be sent to server\n"
     ]
    },
    {
     "name": "stdout",
     "output_type": "stream",
     "text": [
      "2020-11-23 10:14:17 - Invalid metric value: nan for channel train kld loss. Metrics with nan or +/-inf values will not be sent to server\n"
     ]
    },
    {
     "name": "stderr",
     "output_type": "stream",
     "text": [
      "INFO:root:train total loss: 1.32023934594714tempo loss: 1.1191817876263528, vel loss: 1.2797614069330936, dev loss: 2.017895024535868, articul loss: 1.3433090072871583, pedal loss: 1.2517835815793052, trill loss: 0.0, kld loss: nan, \n"
     ]
    },
    {
     "name": "stdout",
     "output_type": "stream",
     "text": [
      "2020-11-23 10:14:17 - train total loss: 1.32023934594714tempo loss: 1.1191817876263528, vel loss: 1.2797614069330936, dev loss: 2.017895024535868, articul loss: 1.3433090072871583, pedal loss: 1.2517835815793052, trill loss: 0.0, kld loss: nan, \n"
     ]
    },
    {
     "name": "stderr",
     "output_type": "stream",
     "text": [
      "WARNING:neptune.experiments:Invalid metric value: nan for channel valid kld loss. Metrics with nan or +/-inf values will not be sent to server\n"
     ]
    },
    {
     "name": "stdout",
     "output_type": "stream",
     "text": [
      "2020-11-23 10:14:39 - Invalid metric value: nan for channel valid kld loss. Metrics with nan or +/-inf values will not be sent to server\n"
     ]
    },
    {
     "name": "stderr",
     "output_type": "stream",
     "text": [
      "INFO:root:valid total loss: 1.196432463338285tempo loss: 1.8146962377009113, vel loss: 1.3737824095022637, dev loss: 0.8004851114593728, articul loss: 1.1127988061646825, pedal loss: 1.151284874381683, trill loss: 0.0, kld loss: nan, \n"
     ]
    },
    {
     "name": "stdout",
     "output_type": "stream",
     "text": [
      "2020-11-23 10:14:39 - valid total loss: 1.196432463338285tempo loss: 1.8146962377009113, vel loss: 1.3737824095022637, dev loss: 0.8004851114593728, articul loss: 1.1127988061646825, pedal loss: 1.151284874381683, trill loss: 0.0, kld loss: nan, \n"
     ]
    },
    {
     "name": "stderr",
     "output_type": "stream",
     "text": [
      "INFO:root:Trained model for 2 epochs with validation loss of 1.196432463338285\n"
     ]
    },
    {
     "name": "stdout",
     "output_type": "stream",
     "text": [
      "2020-11-23 10:14:39 - Trained model for 2 epochs with validation loss of 1.196432463338285\n"
     ]
    },
    {
     "name": "stderr",
     "output_type": "stream",
     "text": [
      "INFO:root:saving model at epoch 2 as the best model\n"
     ]
    },
    {
     "name": "stdout",
     "output_type": "stream",
     "text": [
      "2020-11-23 10:14:56 - saving model at epoch 2 as the best model\n"
     ]
    },
    {
     "name": "stderr",
     "output_type": "stream",
     "text": [
      "INFO:root:Training Epoch 3\n"
     ]
    },
    {
     "name": "stdout",
     "output_type": "stream",
     "text": [
      "2020-11-23 10:14:56 - Training Epoch 3\n"
     ]
    },
    {
     "name": "stderr",
     "output_type": "stream",
     "text": [
      "WARNING:neptune.experiments:Invalid metric value: nan for channel train kld loss. Metrics with nan or +/-inf values will not be sent to server\n"
     ]
    },
    {
     "name": "stdout",
     "output_type": "stream",
     "text": [
      "2020-11-23 10:37:05 - Invalid metric value: nan for channel train kld loss. Metrics with nan or +/-inf values will not be sent to server\n"
     ]
    },
    {
     "name": "stderr",
     "output_type": "stream",
     "text": [
      "INFO:root:train total loss: 1.2680737145248098tempo loss: 1.0695089806463667, vel loss: 1.2204736674920056, dev loss: 1.8010465826274749, articul loss: 1.2948494569174416, pedal loss: 1.2232759643911288, trill loss: 0.0, kld loss: nan, \n"
     ]
    },
    {
     "name": "stdout",
     "output_type": "stream",
     "text": [
      "2020-11-23 10:37:05 - train total loss: 1.2680737145248098tempo loss: 1.0695089806463667, vel loss: 1.2204736674920056, dev loss: 1.8010465826274749, articul loss: 1.2948494569174416, pedal loss: 1.2232759643911288, trill loss: 0.0, kld loss: nan, \n"
     ]
    },
    {
     "name": "stderr",
     "output_type": "stream",
     "text": [
      "WARNING:neptune.experiments:Invalid metric value: nan for channel valid kld loss. Metrics with nan or +/-inf values will not be sent to server\n"
     ]
    },
    {
     "name": "stdout",
     "output_type": "stream",
     "text": [
      "2020-11-23 10:37:29 - Invalid metric value: nan for channel valid kld loss. Metrics with nan or +/-inf values will not be sent to server\n"
     ]
    },
    {
     "name": "stderr",
     "output_type": "stream",
     "text": [
      "INFO:root:valid total loss: 1.177028278373692tempo loss: 1.5901637710439527, vel loss: 1.2167793861654115, dev loss: 0.7605189034772705, articul loss: 1.0687605986907467, pedal loss: 1.1872982870123974, trill loss: 0.0, kld loss: nan, \n"
     ]
    },
    {
     "name": "stdout",
     "output_type": "stream",
     "text": [
      "2020-11-23 10:37:29 - valid total loss: 1.177028278373692tempo loss: 1.5901637710439527, vel loss: 1.2167793861654115, dev loss: 0.7605189034772705, articul loss: 1.0687605986907467, pedal loss: 1.1872982870123974, trill loss: 0.0, kld loss: nan, \n"
     ]
    },
    {
     "name": "stderr",
     "output_type": "stream",
     "text": [
      "INFO:root:Trained model for 3 epochs with validation loss of 1.177028278373692\n"
     ]
    },
    {
     "name": "stdout",
     "output_type": "stream",
     "text": [
      "2020-11-23 10:37:29 - Trained model for 3 epochs with validation loss of 1.177028278373692\n"
     ]
    },
    {
     "name": "stderr",
     "output_type": "stream",
     "text": [
      "INFO:root:saving model at epoch 3 as the best model\n"
     ]
    },
    {
     "name": "stdout",
     "output_type": "stream",
     "text": [
      "2020-11-23 10:37:48 - saving model at epoch 3 as the best model\n"
     ]
    },
    {
     "name": "stderr",
     "output_type": "stream",
     "text": [
      "INFO:root:Training Epoch 4\n"
     ]
    },
    {
     "name": "stdout",
     "output_type": "stream",
     "text": [
      "2020-11-23 10:37:48 - Training Epoch 4\n"
     ]
    },
    {
     "name": "stderr",
     "output_type": "stream",
     "text": [
      "WARNING:neptune.experiments:Invalid metric value: nan for channel train kld loss. Metrics with nan or +/-inf values will not be sent to server\n"
     ]
    },
    {
     "name": "stdout",
     "output_type": "stream",
     "text": [
      "2020-11-23 10:59:18 - Invalid metric value: nan for channel train kld loss. Metrics with nan or +/-inf values will not be sent to server\n"
     ]
    },
    {
     "name": "stderr",
     "output_type": "stream",
     "text": [
      "INFO:root:train total loss: 1.2160629448807705tempo loss: 1.0086745706660951, vel loss: 1.1363035528958838, dev loss: 1.9148390483686886, articul loss: 1.2189825568843482, pedal loss: 1.1568417479712394, trill loss: 0.0, kld loss: nan, \n"
     ]
    },
    {
     "name": "stdout",
     "output_type": "stream",
     "text": [
      "2020-11-23 10:59:18 - train total loss: 1.2160629448807705tempo loss: 1.0086745706660951, vel loss: 1.1363035528958838, dev loss: 1.9148390483686886, articul loss: 1.2189825568843482, pedal loss: 1.1568417479712394, trill loss: 0.0, kld loss: nan, \n"
     ]
    },
    {
     "name": "stderr",
     "output_type": "stream",
     "text": [
      "WARNING:neptune.experiments:Invalid metric value: nan for channel valid kld loss. Metrics with nan or +/-inf values will not be sent to server\n"
     ]
    },
    {
     "name": "stdout",
     "output_type": "stream",
     "text": [
      "2020-11-23 10:59:38 - Invalid metric value: nan for channel valid kld loss. Metrics with nan or +/-inf values will not be sent to server\n"
     ]
    },
    {
     "name": "stderr",
     "output_type": "stream",
     "text": [
      "INFO:root:valid total loss: 1.050788778959166tempo loss: 1.5163237354501748, vel loss: 1.3086136122219738, dev loss: 0.7744405560464744, articul loss: 1.3072228983634515, pedal loss: 0.9502964914358011, trill loss: 0.0, kld loss: nan, \n"
     ]
    },
    {
     "name": "stdout",
     "output_type": "stream",
     "text": [
      "2020-11-23 10:59:38 - valid total loss: 1.050788778959166tempo loss: 1.5163237354501748, vel loss: 1.3086136122219738, dev loss: 0.7744405560464744, articul loss: 1.3072228983634515, pedal loss: 0.9502964914358011, trill loss: 0.0, kld loss: nan, \n"
     ]
    },
    {
     "name": "stderr",
     "output_type": "stream",
     "text": [
      "INFO:root:Trained model for 4 epochs with validation loss of 1.050788778959166\n"
     ]
    },
    {
     "name": "stdout",
     "output_type": "stream",
     "text": [
      "2020-11-23 10:59:38 - Trained model for 4 epochs with validation loss of 1.050788778959166\n"
     ]
    },
    {
     "name": "stderr",
     "output_type": "stream",
     "text": [
      "INFO:root:saving model at epoch 4 as the best model\n"
     ]
    },
    {
     "name": "stdout",
     "output_type": "stream",
     "text": [
      "2020-11-23 11:00:00 - saving model at epoch 4 as the best model\n"
     ]
    },
    {
     "name": "stderr",
     "output_type": "stream",
     "text": [
      "INFO:root:Training Epoch 5\n"
     ]
    },
    {
     "name": "stdout",
     "output_type": "stream",
     "text": [
      "2020-11-23 11:00:00 - Training Epoch 5\n"
     ]
    }
   ],
   "source": [
    "start_training(\n",
    "    data=full_data,\n",
    "    version=0.1,\n",
    "    job=LSTMBaselineTraining,\n",
    "    job_params=job_params,\n",
    "    model_class=LSTMBaseline,\n",
    "    model_hyper_params=hyper_params,\n",
    "    model_folder='transformer/transformer_encoder',\n",
    "    exp=exp\n",
    ")"
   ]
  },
  {
   "cell_type": "code",
   "execution_count": null,
   "metadata": {},
   "outputs": [],
   "source": []
  },
  {
   "cell_type": "markdown",
   "metadata": {},
   "source": [
    "# Dev"
   ]
  },
  {
   "cell_type": "code",
   "execution_count": 18,
   "metadata": {},
   "outputs": [],
   "source": [
    "exp_name = 'LSTM Basline Run with Dev Data Set at 10 epochs'\n",
    "exp_description = 'Running lstm training with neptune integration'\n",
    "tags = ['lstm_baseline']\n",
    "is_dev = True"
   ]
  },
  {
   "cell_type": "code",
   "execution_count": 20,
   "metadata": {},
   "outputs": [],
   "source": [
    "hyper_params = LSTMBaselineHyperParams()\n",
    "job_params = LSTMBaselineTrainingJobParams(is_dev=is_dev, epochs=50)"
   ]
  },
  {
   "cell_type": "code",
   "execution_count": 21,
   "metadata": {},
   "outputs": [],
   "source": [
    "model_path = f\"{SRC_DIR}/models/lstm_bl.py\""
   ]
  },
  {
   "cell_type": "code",
   "execution_count": 22,
   "metadata": {},
   "outputs": [
    {
     "name": "stdout",
     "output_type": "stream",
     "text": [
      "{\n",
      "    \"input_size\": 78,\n",
      "    \"output_size\": 11,\n",
      "    \"device_num\": 1,\n",
      "    \"is_dev\": true,\n",
      "    \"num_layers\": 3,\n",
      "    \"hidden_size\": 256,\n",
      "    \"dropout\": 0.5,\n",
      "    \"qpm_index\": 0,\n",
      "    \"vel_param_idx\": 0,\n",
      "    \"dev_param_idx\": 2,\n",
      "    \"articul_param_idx\": 3,\n",
      "    \"pedal_param_idx\": 4,\n",
      "    \"num_key_augmentation\": 1,\n",
      "    \"batch_size\": 1,\n",
      "    \"epochs\": 50,\n",
      "    \"num_tempo_param\": 1,\n",
      "    \"num_prime_param\": 11,\n",
      "    \"learning_rate\": 0.1,\n",
      "    \"grad_clip\": 0.5\n",
      "}\n",
      "https://ui.neptune.ai/richt3211/thesis/e/THESIS-42\n"
     ]
    },
    {
     "name": "stderr",
     "output_type": "stream",
     "text": [
      "INFO:root:Starting experiment\n"
     ]
    },
    {
     "name": "stdout",
     "output_type": "stream",
     "text": [
      "2020-11-23 09:01:08 - Starting experiment\n"
     ]
    }
   ],
   "source": [
    "exp = init_training_job(\n",
    "    is_dev=is_dev,\n",
    "    exp_name=exp_name,\n",
    "    exp_description=exp_description,\n",
    "    hyper_params=hyper_params,\n",
    "    job_params=job_params,\n",
    "    tags=tags, \n",
    "    model_src_path=model_path\n",
    ")"
   ]
  },
  {
   "cell_type": "code",
   "execution_count": 23,
   "metadata": {},
   "outputs": [
    {
     "name": "stderr",
     "output_type": "stream",
     "text": [
      "INFO:root:Reading Dev Data\n"
     ]
    },
    {
     "name": "stdout",
     "output_type": "stream",
     "text": [
      "2020-11-23 09:01:29 - Reading Dev Data\n"
     ]
    }
   ],
   "source": [
    "dev_data = get_dev_data(exp)"
   ]
  }
 ],
 "metadata": {
  "kernelspec": {
   "display_name": "Python 3",
   "language": "python",
   "name": "python3"
  },
  "language_info": {
   "codemirror_mode": {
    "name": "ipython",
    "version": 3
   },
   "file_extension": ".py",
   "mimetype": "text/x-python",
   "name": "python",
   "nbconvert_exporter": "python",
   "pygments_lexer": "ipython3",
   "version": "3.7.7"
  },
  "neptune": {
   "notebookId": "a8ad5fab-a6a7-43c1-a5fe-8001cc189284"
  }
 },
 "nbformat": 4,
 "nbformat_minor": 4
}
