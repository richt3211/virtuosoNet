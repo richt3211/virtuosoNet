{
 "cells": [
  {
   "cell_type": "code",
   "execution_count": 2,
   "metadata": {},
   "outputs": [],
   "source": [
    "%load_ext autoreload\n",
    "%autoreload 2"
   ]
  },
  {
   "cell_type": "code",
   "execution_count": 3,
   "metadata": {},
   "outputs": [],
   "source": [
    "from src.experiments.training.training import run_training_experiment\n",
    "from src.models.lstm_bl import LSTMBaseline, LSTMBaselineHyperParams\n",
    "from src.experiments.training.BL.lstm_bl_training import LSTMBaselineTraining, LSTMBaselineTrainingJobParams\n",
    "from src.models.model_run_job import ModelJob, ModelJobParams\n",
    "from src.constants import SRC_DIR"
   ]
  },
  {
   "cell_type": "code",
   "execution_count": null,
   "metadata": {},
   "outputs": [
    {
     "name": "stdout",
     "output_type": "stream",
     "text": [
      "{\n",
      "    \"input_size\": 78,\n",
      "    \"output_size\": 11,\n",
      "    \"device_num\": 1,\n",
      "    \"is_dev\": false,\n",
      "    \"num_layers\": 3,\n",
      "    \"hidden_size\": 256,\n",
      "    \"dropout\": 0.5,\n",
      "    \"qpm_index\": 0,\n",
      "    \"vel_param_idx\": 0,\n",
      "    \"dev_param_idx\": 2,\n",
      "    \"articul_param_idx\": 3,\n",
      "    \"pedal_param_idx\": 4,\n",
      "    \"num_key_augmentation\": 1,\n",
      "    \"batch_size\": 1,\n",
      "    \"epochs\": 50,\n",
      "    \"num_tempo_param\": 1,\n",
      "    \"num_prime_param\": 11,\n",
      "    \"tempo_loss\": true,\n",
      "    \"learning_rate\": 0.1,\n",
      "    \"grad_clip\": 0.5\n",
      "}\n",
      "https://ui.neptune.ai/richt3211/thesis/e/THESIS-94\n",
      "2020-12-02 11:24:57 - Starting experiment\n",
      "2020-12-02 11:24:58 - Reading Full Data\n",
      "2020-12-02 11:34:19 - STARTING None JOB AT 50 EPOCHS FOR  DATA SET\n",
      "2020-12-02 11:34:19 - Number of model params: 1399563\n",
      "2020-12-02 11:34:20 - LSTMBaseline(\n",
      "  (lstm_encoder): LSTM(78, 256, num_layers=3, dropout=0.5)\n",
      "  (decoder): Linear(in_features=256, out_features=11, bias=True)\n",
      ")\n",
      "2020-12-02 11:34:20 - Training Epoch 1\n",
      "2020-12-02 11:58:38 - Invalid metric value: nan for channel train total loss. Metrics with nan or +/-inf values will not be sent to server\n",
      "2020-12-02 11:58:38 - Invalid metric value: nan for channel train tempo loss. Metrics with nan or +/-inf values will not be sent to server\n",
      "2020-12-02 11:58:38 - Invalid metric value: nan for channel train vel loss. Metrics with nan or +/-inf values will not be sent to server\n",
      "2020-12-02 11:58:38 - Invalid metric value: nan for channel train dev loss. Metrics with nan or +/-inf values will not be sent to server\n",
      "2020-12-02 11:58:38 - Invalid metric value: nan for channel train articul loss. Metrics with nan or +/-inf values will not be sent to server\n",
      "2020-12-02 11:58:38 - Invalid metric value: nan for channel train pedal loss. Metrics with nan or +/-inf values will not be sent to server\n",
      "2020-12-02 11:58:39 - Invalid metric value: nan for channel train kld loss. Metrics with nan or +/-inf values will not be sent to server\n",
      "2020-12-02 11:58:39 - train total loss: nantempo loss: nan, vel loss: nan, dev loss: nan, articul loss: nan, pedal loss: nan, trill loss: 0.0, kld loss: nan, \n"
     ]
    },
    {
     "name": "stderr",
     "output_type": "stream",
     "text": [
      "/uusoc/exports/scratch/rtimpson/thesis/virtuosoNet/env/lib/python3.7/site-packages/numpy/core/fromnumeric.py:3373: RuntimeWarning: Mean of empty slice.\n",
      "  out=out, **kwargs)\n",
      "/uusoc/exports/scratch/rtimpson/thesis/virtuosoNet/env/lib/python3.7/site-packages/numpy/core/_methods.py:170: RuntimeWarning: invalid value encountered in double_scalars\n",
      "  ret = ret.dtype.type(ret / rcount)\n"
     ]
    },
    {
     "name": "stdout",
     "output_type": "stream",
     "text": [
      "2020-12-02 11:59:02 - Invalid metric value: nan for channel valid total loss. Metrics with nan or +/-inf values will not be sent to server\n",
      "2020-12-02 11:59:02 - Invalid metric value: nan for channel valid tempo loss. Metrics with nan or +/-inf values will not be sent to server\n",
      "2020-12-02 11:59:02 - Invalid metric value: nan for channel valid vel loss. Metrics with nan or +/-inf values will not be sent to server\n",
      "2020-12-02 11:59:02 - Invalid metric value: nan for channel valid dev loss. Metrics with nan or +/-inf values will not be sent to server\n",
      "2020-12-02 11:59:02 - Invalid metric value: nan for channel valid articul loss. Metrics with nan or +/-inf values will not be sent to server\n",
      "2020-12-02 11:59:02 - Invalid metric value: nan for channel valid pedal loss. Metrics with nan or +/-inf values will not be sent to server\n",
      "2020-12-02 11:59:02 - Invalid metric value: nan for channel valid kld loss. Metrics with nan or +/-inf values will not be sent to server\n",
      "2020-12-02 11:59:02 - valid total loss: nantempo loss: nan, vel loss: nan, dev loss: nan, articul loss: nan, pedal loss: nan, trill loss: 0.0, kld loss: nan, \n",
      "2020-12-02 11:59:02 - Trained model for 1 epochs with validation loss of nan\n",
      "2020-12-02 11:59:17 - saving model at epoch 1 as the best model\n",
      "2020-12-02 11:59:18 - Training Epoch 2\n"
     ]
    }
   ],
   "source": [
    "is_dev=False\n",
    "hyper_params = LSTMBaselineHyperParams()\n",
    "job_params = LSTMBaselineTrainingJobParams(is_dev=is_dev, epochs=50)\n",
    "model_file_path = f\"{SRC_DIR}/models/lstm_bl.py\"\n",
    "run_training_experiment(\n",
    "    exp_name=\"Getting an actual LSTM BL for the first time\",\n",
    "    exp_description=\"Need to test if the tempo bugs are a function of my transformer model or the performance generation code\",\n",
    "    tags=['lstm_baseline'],\n",
    "    is_dev=is_dev,\n",
    "    hyper_params=hyper_params,\n",
    "    job_params=job_params,\n",
    "    model_file_path=model_file_path,\n",
    "    model_folder=\"bl/lstm\",\n",
    "    model_class=LSTMBaseline,\n",
    "    job_class=LSTMBaselineTraining\n",
    ")"
   ]
  },
  {
   "cell_type": "code",
   "execution_count": null,
   "metadata": {},
   "outputs": [],
   "source": []
  }
 ],
 "metadata": {
  "kernelspec": {
   "display_name": "Python 3",
   "language": "python",
   "name": "python3"
  },
  "language_info": {
   "codemirror_mode": {
    "name": "ipython",
    "version": 3
   },
   "file_extension": ".py",
   "mimetype": "text/x-python",
   "name": "python",
   "nbconvert_exporter": "python",
   "pygments_lexer": "ipython3",
   "version": "3.7.7"
  },
  "neptune": {
   "notebookId": "e05e8d61-3ae0-42bb-bdc9-eb9d9399652b"
  }
 },
 "nbformat": 4,
 "nbformat_minor": 4
}
