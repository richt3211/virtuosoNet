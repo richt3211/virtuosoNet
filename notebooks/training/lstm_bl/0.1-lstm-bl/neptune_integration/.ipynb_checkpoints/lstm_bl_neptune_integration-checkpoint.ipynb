{
 "cells": [
  {
   "cell_type": "code",
   "execution_count": null,
   "metadata": {},
   "outputs": [],
   "source": [
    "%load_ext autoreload\n",
    "%autoreload 2"
   ]
  },
  {
   "cell_type": "code",
   "execution_count": null,
   "metadata": {},
   "outputs": [],
   "source": [
    "from src.experiments.training.training import run_training_experiment\n",
    "from src.models.lstm_bl import LSTMBaseline, LSTMBaselineHyperParams\n",
    "from src.experiments.training.BL.lstm_bl_training import LSTMBaselineTraining, LSTMBaselineTrainingJobParams\n",
    "from src.models.model_run_job import ModelJob, ModelJobParams\n",
    "from src.constants import SRC_DIR"
   ]
  },
  {
   "cell_type": "code",
   "execution_count": null,
   "metadata": {},
   "outputs": [],
   "source": [
    "is_dev=False\n",
    "hyper_params = LSTMBaselineHyperParams()\n",
    "job_params = LSTMBaselineTrainingJobParams(is_dev=is_dev, epochs=50)\n",
    "model_file_path = f\"{SRC_DIR}/models/lstm_bl.py\"\n",
    "run_training_experiment(\n",
    "    exp_name=\"Getting an actual LSTM BL for the first time\",\n",
    "    exp_description=\"Need to test if the tempo bugs are a function of my transformer model or the performance generation code\",\n",
    "    tags=['lstm_baseline'],\n",
    "    is_dev=is_dev,\n",
    "    hyper_params=hyper_params,\n",
    "    job_params=job_params,\n",
    "    model_file_path=model_file_path,\n",
    "    model_folder=\"bl/lstm\",\n",
    "    model_class=LSTMBaseline,\n",
    "    job_class=LSTMBaselineTraining\n",
    ")"
   ]
  },
  {
   "cell_type": "code",
   "execution_count": null,
   "metadata": {},
   "outputs": [],
   "source": []
  }
 ],
 "metadata": {
  "kernelspec": {
   "display_name": "Python 3",
   "language": "python",
   "name": "python3"
  },
  "language_info": {
   "codemirror_mode": {
    "name": "ipython",
    "version": 3
   },
   "file_extension": ".py",
   "mimetype": "text/x-python",
   "name": "python",
   "nbconvert_exporter": "python",
   "pygments_lexer": "ipython3",
   "version": "3.7.7"
  },
  "neptune": {
   "notebookId": "e05e8d61-3ae0-42bb-bdc9-eb9d9399652b"
  }
 },
 "nbformat": 4,
 "nbformat_minor": 4
}
