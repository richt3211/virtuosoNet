{
 "cells": [
  {
   "cell_type": "code",
   "execution_count": 1,
   "metadata": {},
   "outputs": [],
   "source": [
    "%load_ext autoreload\n",
    "%autoreload 2"
   ]
  },
  {
   "cell_type": "code",
   "execution_count": 2,
   "metadata": {},
   "outputs": [],
   "source": [
    "from src.logger import init_logger"
   ]
  },
  {
   "cell_type": "code",
   "execution_count": 4,
   "metadata": {},
   "outputs": [
    {
     "output_type": "error",
     "ename": "ModuleNotFoundError",
     "evalue": "No module named 'src.experiments.training.model_run_job'",
     "traceback": [
      "\u001b[0;31m---------------------------------------------------------------------------\u001b[0m",
      "\u001b[0;31mModuleNotFoundError\u001b[0m                       Traceback (most recent call last)",
      "\u001b[0;32m<ipython-input-4-6f898432723b>\u001b[0m in \u001b[0;36m<module>\u001b[0;34m\u001b[0m\n\u001b[1;32m      1\u001b[0m \u001b[0;32mfrom\u001b[0m \u001b[0msrc\u001b[0m\u001b[0;34m.\u001b[0m\u001b[0mconstants\u001b[0m \u001b[0;32mimport\u001b[0m \u001b[0mCACHE_DATA_DIR\u001b[0m\u001b[0;34m\u001b[0m\u001b[0;34m\u001b[0m\u001b[0m\n\u001b[1;32m      2\u001b[0m \u001b[0;32mfrom\u001b[0m \u001b[0msrc\u001b[0m\u001b[0;34m.\u001b[0m\u001b[0mdata\u001b[0m\u001b[0;34m.\u001b[0m\u001b[0mdata_reader\u001b[0m\u001b[0;34m.\u001b[0m\u001b[0mread_featurized_cache\u001b[0m \u001b[0;32mimport\u001b[0m \u001b[0mread_featurized\u001b[0m\u001b[0;34m\u001b[0m\u001b[0;34m\u001b[0m\u001b[0m\n\u001b[0;32m----> 3\u001b[0;31m \u001b[0;32mfrom\u001b[0m \u001b[0msrc\u001b[0m\u001b[0;34m.\u001b[0m\u001b[0mexperiments\u001b[0m\u001b[0;34m.\u001b[0m\u001b[0mtraining\u001b[0m\u001b[0;34m.\u001b[0m\u001b[0mBL\u001b[0m\u001b[0;34m.\u001b[0m\u001b[0mHANBaseline_training\u001b[0m \u001b[0;32mimport\u001b[0m \u001b[0mrun_han_bl_job\u001b[0m\u001b[0;34m\u001b[0m\u001b[0;34m\u001b[0m\u001b[0m\n\u001b[0m\u001b[1;32m      4\u001b[0m \u001b[0;34m\u001b[0m\u001b[0m\n\u001b[1;32m      5\u001b[0m \u001b[0;32mimport\u001b[0m \u001b[0mlogging\u001b[0m\u001b[0;34m\u001b[0m\u001b[0;34m\u001b[0m\u001b[0m\n",
      "\u001b[0;32m/uusoc/exports/scratch/rtimpson/thesis/virtuosoNet/src/experiments/training/BL/HANBaseline_training.py\u001b[0m in \u001b[0;36m<module>\u001b[0;34m\u001b[0m\n\u001b[1;32m      2\u001b[0m \u001b[0;34m\u001b[0m\u001b[0m\n\u001b[1;32m      3\u001b[0m \u001b[0;32mfrom\u001b[0m \u001b[0mdatetime\u001b[0m \u001b[0;32mimport\u001b[0m \u001b[0mdatetime\u001b[0m\u001b[0;34m\u001b[0m\u001b[0;34m\u001b[0m\u001b[0m\n\u001b[0;32m----> 4\u001b[0;31m \u001b[0;32mfrom\u001b[0m \u001b[0msrc\u001b[0m\u001b[0;34m.\u001b[0m\u001b[0mexperiments\u001b[0m\u001b[0;34m.\u001b[0m\u001b[0mtraining\u001b[0m\u001b[0;34m.\u001b[0m\u001b[0mmodel_run_job\u001b[0m \u001b[0;32mimport\u001b[0m \u001b[0mModelRun\u001b[0m\u001b[0;34m\u001b[0m\u001b[0;34m\u001b[0m\u001b[0m\n\u001b[0m\u001b[1;32m      5\u001b[0m \u001b[0;32mfrom\u001b[0m \u001b[0msrc\u001b[0m\u001b[0;34m.\u001b[0m\u001b[0mmodels\u001b[0m\u001b[0;34m.\u001b[0m\u001b[0mBL\u001b[0m \u001b[0;32mimport\u001b[0m \u001b[0mHANBaseline\u001b[0m\u001b[0;34m,\u001b[0m \u001b[0mHANBaselineHyperParams\u001b[0m\u001b[0;34m\u001b[0m\u001b[0;34m\u001b[0m\u001b[0m\n\u001b[1;32m      6\u001b[0m \u001b[0;32mfrom\u001b[0m \u001b[0msrc\u001b[0m\u001b[0;34m.\u001b[0m\u001b[0mdiscord_bot\u001b[0m \u001b[0;32mimport\u001b[0m \u001b[0msendToDiscord\u001b[0m\u001b[0;34m\u001b[0m\u001b[0;34m\u001b[0m\u001b[0m\n",
      "\u001b[0;31mModuleNotFoundError\u001b[0m: No module named 'src.experiments.training.model_run_job'"
     ]
    }
   ],
   "source": [
    "from src.constants import CACHE_DATA_DIR\n",
    "from src.data.data_reader.read_featurized_cache import read_featurized\n",
    "from src.experiments.training.BL.HANBaseline_training import run_han_bl_job\n",
    "\n",
    "import logging"
   ]
  },
  {
   "cell_type": "code",
   "execution_count": 5,
   "metadata": {},
   "outputs": [],
   "source": [
    "logger_path = 'logs/run_dev_data_0.1.log'\n",
    "init_logger(logger_path)"
   ]
  },
  {
   "cell_type": "code",
   "execution_count": 6,
   "metadata": {},
   "outputs": [
    {
     "name": "stdout",
     "output_type": "stream",
     "text": [
      "2020-10-17 13:52:02 - Loading the training data\n",
      "2020-10-17 13:52:07 - number of train performances: 5 number of valid perf: 3\n",
      "2020-10-17 13:52:07 - training sample example: [0.40253450874098085, -0.9043350534864922, 2.272152234854334, 1.6245242470007877, 1.2609703359796316, -0.13802735400033747, -0.8957452833471335, -0.8172526447037678, 0.0, 0.0, -1, 0, 0, 0.25, 0, 0, 0, 1, 0, 0, 0, 0, 0, 0, 0, 0, 0.5, 0, 0, 0, 0, 0.4, 0, 0, 0, 0, 1, 0, 1, 0, 0, 0, 1, 0, 0, 0, 0, 0, 0, 0, 0, 0, 0, 0, 0, 0, 0, 0, 0, 0, 1, 0, 0, 0, 0, 0, 0, 0, 0, 0, 0, 0, 0, 0, 0, 0, 0.5, 0]\n"
     ]
    }
   ],
   "source": [
    "path = f'{CACHE_DATA_DIR}/train/training_data_development.pickle'\n",
    "dev_data = read_featurized(path)"
   ]
  },
  {
   "cell_type": "code",
   "execution_count": 11,
   "metadata": {},
   "outputs": [
    {
     "name": "stdout",
     "output_type": "stream",
     "text": [
      "2020-10-17 14:36:25 - STARTING HAN BL TRAINING VERSION 0.2 JOB AT 5 EPOCHS FOR DEV DATA SET\n",
      "2020-10-17 14:36:25 - Starting training job at 10/17/20 02:36:25\n",
      "2020-10-17 14:36:25 - Training Epoch 1\n",
      "2020-10-17 14:36:25 - \n",
      "2020-10-17 14:37:27 - Training Loss\n",
      "2020-10-17 14:37:27 - Total Loss: 0.8185430663196664\n",
      "2020-10-17 14:37:27 - \ttempo: 0.1655 vel: 0.856 dev: 0.6718 articul: 0.8654 pedal: 0.9208 trill: 0.0 kld: 0.3775 \n",
      "2020-10-17 14:37:27 - \n",
      "2020-10-17 14:37:29 - Validation loss\n",
      "2020-10-17 14:37:29 - Total Loss: 1.4459925095240276\n",
      "2020-10-17 14:37:29 - \ttempo: 4.953 vel: 1.041 dev: 0.8629 articul: 1.004 pedal: 1.149 trill: 0.0 kld: 2.01 \n",
      "2020-10-17 14:37:29 - \n",
      "2020-10-17 14:37:29 - \n",
      "2020-10-17 14:37:29 - Training Epoch 2\n",
      "2020-10-17 14:37:29 - \n",
      "2020-10-17 14:38:34 - Training Loss\n",
      "2020-10-17 14:38:34 - Total Loss: 0.8303260080019633\n",
      "2020-10-17 14:38:34 - \ttempo: 0.099 vel: 0.8644 dev: 0.6698 articul: 0.8551 pedal: 0.9493 trill: 0.0 kld: 0.8958 \n",
      "2020-10-17 14:38:34 - \n",
      "2020-10-17 14:38:36 - Validation loss\n",
      "2020-10-17 14:38:36 - Total Loss: 1.3925750652949016\n",
      "2020-10-17 14:38:36 - \ttempo: 5.917 vel: 1.092 dev: 0.8654 articul: 0.8933 pedal: 0.9357 trill: 0.0 kld: 18.65 \n",
      "2020-10-17 14:38:36 - \n",
      "2020-10-17 14:38:36 - \n",
      "2020-10-17 14:38:36 - Training Epoch 3\n",
      "2020-10-17 14:38:36 - \n",
      "2020-10-17 14:39:41 - Training Loss\n",
      "2020-10-17 14:39:41 - Total Loss: 0.837874741156896\n",
      "2020-10-17 14:39:41 - \ttempo: 0.1214 vel: 0.8623 dev: 0.688 articul: 0.8578 pedal: 0.9553 trill: 0.0 kld: 10.21 \n",
      "2020-10-17 14:39:41 - \n",
      "2020-10-17 14:39:43 - Validation loss\n",
      "2020-10-17 14:39:43 - Total Loss: 1.3778090079625447\n",
      "2020-10-17 14:39:43 - \ttempo: 5.714 vel: 1.046 dev: 0.8448 articul: 1.134 pedal: 0.9167 trill: 0.0 kld: 14.89 \n",
      "2020-10-17 14:39:43 - \n",
      "2020-10-17 14:39:43 - \n",
      "2020-10-17 14:39:43 - Training Epoch 4\n",
      "2020-10-17 14:39:43 - \n",
      "2020-10-17 14:40:46 - Training Loss\n",
      "2020-10-17 14:40:46 - Total Loss: 0.8445250062566054\n",
      "2020-10-17 14:40:46 - \ttempo: 0.1084 vel: 0.8725 dev: 0.6695 articul: 0.8533 pedal: 0.9694 trill: 0.0 kld: 10.21 \n",
      "2020-10-17 14:40:46 - \n",
      "2020-10-17 14:40:47 - Validation loss\n",
      "2020-10-17 14:40:47 - Total Loss: 1.2729981740315754\n",
      "2020-10-17 14:40:47 - \ttempo: 4.652 vel: 1.08 dev: 0.8555 articul: 1.043 pedal: 0.9105 trill: 0.0 kld: 3.214 \n",
      "2020-10-17 14:40:47 - \n",
      "2020-10-17 14:40:47 - \n",
      "2020-10-17 14:40:47 - Training Epoch 5\n",
      "2020-10-17 14:40:47 - \n",
      "2020-10-17 14:41:49 - Training Loss\n",
      "2020-10-17 14:41:49 - Total Loss: 0.8459700499031995\n",
      "2020-10-17 14:41:49 - \ttempo: 0.09348 vel: 0.888 dev: 0.6707 articul: 0.8478 pedal: 0.9722 trill: 0.0 kld: 2.728 \n",
      "2020-10-17 14:41:49 - \n",
      "2020-10-17 14:41:50 - Validation loss\n",
      "2020-10-17 14:41:50 - Total Loss: 1.349895675977071\n",
      "2020-10-17 14:41:50 - \ttempo: 5.442 vel: 1.09 dev: 0.8597 articul: 1.065 pedal: 0.913 trill: 0.0 kld: 5.903 \n",
      "2020-10-17 14:41:50 - \n",
      "2020-10-17 14:41:50 - \n",
      "2020-10-17 14:41:51 - FINISHED HAN BL VERSION 0.2 TRAINING JOB AT 5 EPOCHS FOR DEV DATA SET\n"
     ]
    }
   ],
   "source": [
    "num_epochs = 5\n",
    "run_han_bl_job(dev_data, num_epochs, version=0.2, is_dev=True)"
   ]
  },
  {
   "cell_type": "code",
   "execution_count": 12,
   "metadata": {},
   "outputs": [],
   "source": [
    "logger_path = 'logs/run_full_data_0.1.log'\n",
    "init_logger(logger_path)"
   ]
  },
  {
   "cell_type": "code",
   "execution_count": 13,
   "metadata": {},
   "outputs": [
    {
     "name": "stdout",
     "output_type": "stream",
     "text": [
      "2020-10-17 14:44:15 - Loading the training data\n",
      "2020-10-17 14:44:15 - Loading the training data\n",
      "2020-10-17 14:53:39 - number of train performances: 709 number of valid perf: 82\n",
      "2020-10-17 14:53:39 - number of train performances: 709 number of valid perf: 82\n",
      "2020-10-17 14:53:39 - training sample example: [0.6979665018697635, -0.06717901528552674, -0.24900381647255815, -0.18282409397938054, -0.28513258251543067, -0.0476638292090852, -0.6054306213640016, -0.722166594420889, 0.16666666666666666, 0.0011402508551881414, 0, 0, 0, 0.25, 0, 0, 0, 1, 0, 0, 0, 0, 0, 0, 0, 0, 0.3, 0, 0, 0, 0, -0.4, 0, 0, 0, 0, 1, 0, 0, 1, 0, 0, 0, 1, 0, 0, 0, 0, 1, 0, 1, 0, 0, 0, 0, 0, 0, 0, 0, 1, 0, 0, 0, 0, 0, 0, 0, 0, 0, 0, 0, 0, 0, 0, 0, 0, 0.3, 0]\n",
      "2020-10-17 14:53:39 - training sample example: [0.6979665018697635, -0.06717901528552674, -0.24900381647255815, -0.18282409397938054, -0.28513258251543067, -0.0476638292090852, -0.6054306213640016, -0.722166594420889, 0.16666666666666666, 0.0011402508551881414, 0, 0, 0, 0.25, 0, 0, 0, 1, 0, 0, 0, 0, 0, 0, 0, 0, 0.3, 0, 0, 0, 0, -0.4, 0, 0, 0, 0, 1, 0, 0, 1, 0, 0, 0, 1, 0, 0, 0, 0, 1, 0, 1, 0, 0, 0, 0, 0, 0, 0, 0, 1, 0, 0, 0, 0, 0, 0, 0, 0, 0, 0, 0, 0, 0, 0, 0, 0, 0.3, 0]\n"
     ]
    }
   ],
   "source": [
    "path = f'{CACHE_DATA_DIR}/train/training_data.pickle'\n",
    "data = read_featurized(path)"
   ]
  },
  {
   "cell_type": "code",
   "execution_count": null,
   "metadata": {},
   "outputs": [
    {
     "name": "stdout",
     "output_type": "stream",
     "text": [
      "2020-10-17 14:53:42 - STARTING HAN BL TRAINING VERSION 0.2 JOB AT 100 EPOCHS FOR  DATA SET\n",
      "2020-10-17 14:53:42 - STARTING HAN BL TRAINING VERSION 0.2 JOB AT 100 EPOCHS FOR  DATA SET\n",
      "2020-10-17 14:53:42 - Starting training job at 10/17/20 02:53:42\n",
      "2020-10-17 14:53:42 - Starting training job at 10/17/20 02:53:42\n",
      "2020-10-17 14:53:42 - Training Epoch 1\n",
      "2020-10-17 14:53:42 - Training Epoch 1\n",
      "2020-10-17 14:53:42 - \n",
      "2020-10-17 14:53:42 - \n"
     ]
    }
   ],
   "source": [
    "num_epochs = 100\n",
    "run_han_bl_job(data, num_epochs, version=0.2, is_dev=False)"
   ]
  },
  {
   "cell_type": "code",
   "execution_count": null,
   "metadata": {},
   "outputs": [],
   "source": []
  }
 ],
 "metadata": {
  "kernelspec": {
   "display_name": "Python 3",
   "language": "python",
   "name": "python3"
  },
  "language_info": {
   "codemirror_mode": {
    "name": "ipython",
    "version": 3
   },
   "file_extension": ".py",
   "mimetype": "text/x-python",
   "name": "python",
   "nbconvert_exporter": "python",
   "pygments_lexer": "ipython3",
   "version": "3.7.8-final"
  }
 },
 "nbformat": 4,
 "nbformat_minor": 4
}