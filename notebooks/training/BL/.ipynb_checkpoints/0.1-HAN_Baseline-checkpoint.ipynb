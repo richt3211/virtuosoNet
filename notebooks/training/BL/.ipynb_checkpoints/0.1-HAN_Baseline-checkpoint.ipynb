{
 "cells": [
  {
   "cell_type": "code",
   "execution_count": 1,
   "metadata": {},
   "outputs": [
    {
     "name": "stdout",
     "output_type": "stream",
     "text": [
      "['/uusoc/exports/scratch/rtimpson/thesis/virtuosoNet/notebooks/training/BL', '/uusoc/exports/scratch/rtimpson/thesis/virtuosoNet/notebooks/training/BL', '/uusoc/exports/scratch/rtimpson/virtuosoNet', '/uusoc/exports/scratch/rtimpson/thesis/virtuosoNet/env/lib/python38.zip', '/uusoc/exports/scratch/rtimpson/thesis/virtuosoNet/env/lib/python3.8', '/uusoc/exports/scratch/rtimpson/thesis/virtuosoNet/env/lib/python3.8/lib-dynload', '', '/home/rtimpson/.local/lib/python3.8/site-packages', '/uusoc/exports/scratch/rtimpson/thesis/virtuosoNet/env/lib/python3.8/site-packages', '/home/rtimpson/scr/thesis/virtuosoNet', '/home/rtimpson/.local/lib/python3.8/site-packages/IPython/extensions', '/home/rtimpson/.ipython']\n"
     ]
    }
   ],
   "source": [
    "import sys \n",
    "print(sys.path)"
   ]
  },
  {
   "cell_type": "code",
   "execution_count": 2,
   "metadata": {},
   "outputs": [],
   "source": [
    "from src.data.data_reader.read_featurized_cache import read_featurized\n",
    "%load_ext autoreload\n",
    "%autoreload 2"
   ]
  },
  {
   "cell_type": "code",
   "execution_count": 3,
   "metadata": {},
   "outputs": [],
   "source": [
    "DATA_DIR = \"/uusoc/exports/scratch/rtimpson/thesis/virtuosoNet/data\"\n",
    "path = f'{DATA_DIR}/train/training_data_development.pickle'"
   ]
  },
  {
   "cell_type": "code",
   "execution_count": 4,
   "metadata": {},
   "outputs": [
    {
     "name": "stdout",
     "output_type": "stream",
     "text": [
      "Loading the training data\n",
      "number of train performances:  5 number of valid perf:  3\n",
      "training sample example [0.40253450874098085, -0.9043350534864922, 2.272152234854334, 1.6245242470007877, 1.2609703359796316, -0.13802735400033747, -0.8957452833471335, -0.8172526447037678, 0.0, 0.0, -1, 0, 0, 0.25, 0, 0, 0, 1, 0, 0, 0, 0, 0, 0, 0, 0, 0.5, 0, 0, 0, 0, 0.4, 0, 0, 0, 0, 1, 0, 1, 0, 0, 0, 1, 0, 0, 0, 0, 0, 0, 0, 0, 0, 0, 0, 0, 0, 0, 0, 0, 0, 1, 0, 0, 0, 0, 0, 0, 0, 0, 0, 0, 0, 0, 0, 0, 0, 0.5, 0]\n"
     ]
    }
   ],
   "source": [
    "dev_data = read_featurized(path)\n"
   ]
  },
  {
   "cell_type": "code",
   "execution_count": 5,
   "metadata": {},
   "outputs": [
    {
     "name": "stdout",
     "output_type": "stream",
     "text": [
      "The autoreload extension is already loaded. To reload it, use:\n",
      "  %reload_ext autoreload\n"
     ]
    }
   ],
   "source": [
    "import torch\n",
    "from src.models.BL import HANBaseline, HANBaselineHyperParams\n",
    "from src.experiments.training.BL.HANBaseline_training import HANBaselineModelRun\n",
    "# from src.experiments.training.HANBaseline_training import train_model\n",
    "%load_ext autoreload\n",
    "%autoreload 2"
   ]
  },
  {
   "cell_type": "code",
   "execution_count": 6,
   "metadata": {},
   "outputs": [],
   "source": [
    "device = 1"
   ]
  },
  {
   "cell_type": "code",
   "execution_count": 7,
   "metadata": {},
   "outputs": [],
   "source": [
    "hyper_params = HANBaselineHyperParams()\n",
    "HAN_BL = HANBaseline(hyper_params, device).to(device)\n"
   ]
  },
  {
   "cell_type": "code",
   "execution_count": 8,
   "metadata": {},
   "outputs": [],
   "source": [
    "run_job = HANBaselineModelRun(1)"
   ]
  },
  {
   "cell_type": "code",
   "execution_count": null,
   "metadata": {},
   "outputs": [
    {
     "name": "stdout",
     "output_type": "stream",
     "text": [
      "Starting training job at 10/13/20 09:18:01\n",
      "Training Epoch 1\n",
      "\n"
     ]
    },
    {
     "name": "stderr",
     "output_type": "stream",
     "text": [
      "/uusoc/exports/scratch/rtimpson/thesis/virtuosoNet/env/lib/python3.8/site-packages/torch/nn/functional.py:1614: UserWarning: nn.functional.tanh is deprecated. Use torch.tanh instead.\n",
      "  warnings.warn(\"nn.functional.tanh is deprecated. Use torch.tanh instead.\")\n"
     ]
    }
   ],
   "source": [
    "run_job.train(HAN_BL, dev_data, 5)"
   ]
  },
  {
   "cell_type": "markdown",
   "metadata": {},
   "source": [
    "# Training on full data set"
   ]
  },
  {
   "cell_type": "code",
   "execution_count": 15,
   "metadata": {},
   "outputs": [
    {
     "name": "stdout",
     "output_type": "stream",
     "text": [
      "Loading the training data\n",
      "number of train performances:  709 number of valid perf:  82\n",
      "training sample example [0.6979665018697635, -0.06717901528552674, -0.24900381647255815, -0.18282409397938054, -0.28513258251543067, -0.0476638292090852, -0.6054306213640016, -0.722166594420889, 0.16666666666666666, 0.0011402508551881414, 0, 0, 0, 0.25, 0, 0, 0, 1, 0, 0, 0, 0, 0, 0, 0, 0, 0.3, 0, 0, 0, 0, -0.4, 0, 0, 0, 0, 1, 0, 0, 1, 0, 0, 0, 1, 0, 0, 0, 0, 1, 0, 1, 0, 0, 0, 0, 0, 0, 0, 0, 1, 0, 0, 0, 0, 0, 0, 0, 0, 0, 0, 0, 0, 0, 0, 0, 0, 0.3, 0]\n",
      "The autoreload extension is already loaded. To reload it, use:\n",
      "  %reload_ext autoreload\n"
     ]
    }
   ],
   "source": [
    "path = f'{DATA_DIR}/train/training_data.pickle'\n",
    "data = read_featurized(path)\n",
    "import torch\n",
    "from src.models.BL import HANBaseline, HANBaselineHyperParams\n",
    "from src.experiments.training.BL.HANBaseline_training import HANBaselineModelRun\n",
    "# from src.experiments.training.HANBaseline_training import train_model\n",
    "%load_ext autoreload\n",
    "%autoreload 2"
   ]
  },
  {
   "cell_type": "code",
   "execution_count": 16,
   "metadata": {},
   "outputs": [],
   "source": [
    "device = 1\n",
    "hyper_params = HANBaselineHyperParams()\n",
    "HAN_BL = HANBaseline(hyper_params, device).to(device)"
   ]
  },
  {
   "cell_type": "code",
   "execution_count": null,
   "metadata": {},
   "outputs": [],
   "source": [
    "run_job = HANBaselineModelRun(1)\n",
    "run_job.train(HAN_BL, data, 10)"
   ]
  },
  {
   "cell_type": "code",
   "execution_count": null,
   "metadata": {},
   "outputs": [],
   "source": []
  }
 ],
 "metadata": {
  "kernelspec": {
   "display_name": "Python 3",
   "language": "python",
   "name": "python3"
  },
  "language_info": {
   "codemirror_mode": {
    "name": "ipython",
    "version": 3
   },
   "file_extension": ".py",
   "mimetype": "text/x-python",
   "name": "python",
   "nbconvert_exporter": "python",
   "pygments_lexer": "ipython3",
   "version": "3.8.5"
  }
 },
 "nbformat": 4,
 "nbformat_minor": 2
}
