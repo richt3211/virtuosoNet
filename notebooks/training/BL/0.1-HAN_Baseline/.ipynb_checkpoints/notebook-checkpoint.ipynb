{
 "cells": [
  {
   "cell_type": "markdown",
   "metadata": {},
   "source": [
    "# Running for dev data set"
   ]
  },
  {
   "cell_type": "code",
   "execution_count": 1,
   "metadata": {},
   "outputs": [],
   "source": [
    "%load_ext autoreload\n",
    "%autoreload 2"
   ]
  },
  {
   "cell_type": "code",
   "execution_count": 2,
   "metadata": {},
   "outputs": [],
   "source": [
    "from src.logger import init_logger"
   ]
  },
  {
   "cell_type": "code",
   "execution_count": 3,
   "metadata": {},
   "outputs": [],
   "source": [
    "from constants import CACHE_DATA_DIR\n",
    "from src.data.data_reader.read_featurized_cache import read_featurized\n",
    "from src.experiments.training.BL.HANBaseline_training import run_han_bl_job\n",
    "\n",
    "import logging"
   ]
  },
  {
   "cell_type": "code",
   "execution_count": 4,
   "metadata": {},
   "outputs": [],
   "source": [
    "logger_path = 'logs/run_dev_data_0.1.log'\n",
    "init_logger(logger_path)"
   ]
  },
  {
   "cell_type": "code",
   "execution_count": 5,
   "metadata": {},
   "outputs": [
    {
     "name": "stdout",
     "output_type": "stream",
     "text": [
      "2020-10-16 21:42:09 - Loading the training data\n",
      "2020-10-16 21:42:13 - number of train performances: 5 number of valid perf: 3\n",
      "2020-10-16 21:42:13 - training sample example: [0.40253450874098085, -0.9043350534864922, 2.272152234854334, 1.6245242470007877, 1.2609703359796316, -0.13802735400033747, -0.8957452833471335, -0.8172526447037678, 0.0, 0.0, -1, 0, 0, 0.25, 0, 0, 0, 1, 0, 0, 0, 0, 0, 0, 0, 0, 0.5, 0, 0, 0, 0, 0.4, 0, 0, 0, 0, 1, 0, 1, 0, 0, 0, 1, 0, 0, 0, 0, 0, 0, 0, 0, 0, 0, 0, 0, 0, 0, 0, 0, 0, 1, 0, 0, 0, 0, 0, 0, 0, 0, 0, 0, 0, 0, 0, 0, 0, 0.5, 0]\n"
     ]
    }
   ],
   "source": [
    "path = f'{CACHE_DATA_DIR}/train/training_data_development.pickle'\n",
    "dev_data = read_featurized(path)"
   ]
  },
  {
   "cell_type": "code",
   "execution_count": 7,
   "metadata": {},
   "outputs": [
    {
     "name": "stdout",
     "output_type": "stream",
     "text": [
      "2020-10-16 21:44:03 - STARTING TRAINING JOB AT 1 EPOCH FOR DEV DATA SET\n",
      "2020-10-16 21:44:03 - Starting training job at 10/16/20 09:44:03\n",
      "2020-10-16 21:44:03 - Training Epoch 1\n",
      "2020-10-16 21:44:03 - \n",
      "2020-10-16 21:45:04 - Training Loss\n",
      "2020-10-16 21:45:04 - Total Loss: 0.8116388354254397\n",
      "2020-10-16 21:45:04 - \ttempo: 0.1977 vel: 0.8637 dev: 0.7054 articul: 0.8664 pedal: 0.8993 trill: 0.0 kld: 2.658 \n",
      "2020-10-16 21:45:04 - \n",
      "2020-10-16 21:45:06 - Validation loss\n",
      "2020-10-16 21:45:06 - Total Loss: 1.522978663444519\n",
      "2020-10-16 21:45:06 - \ttempo: 5.001 vel: 1.019 dev: 0.8571 articul: 1.073 pedal: 1.257 trill: 0.0 kld: 5.391 \n",
      "2020-10-16 21:45:06 - \n",
      "2020-10-16 21:45:06 - \n"
     ]
    }
   ],
   "source": [
    "num_epochs = 1\n",
    "dataset_type = \"DEV\"\n",
    "logging.info(f\"STARTING TRAINING JOB AT {num_epochs} EPOCHS FOR DEV DATA SET\")\n",
    "\n",
    "run_han_bl_job(dev_data, num_epochs, dataset_type)\n",
    "\n",
    "logging.info(f'FINISHED TRAINING JOB AT {num_epochs} EPOCHS FOR DEV DATA SET)"
   ]
  },
  {
   "cell_type": "code",
   "execution_count": null,
   "metadata": {},
   "outputs": [],
   "source": [
    "device = "
   ]
  },
  {
   "cell_type": "code",
   "execution_count": null,
   "metadata": {},
   "outputs": [],
   "source": [
    "hyper_params = HANBaselineHyperParams()\n",
    "HAN_BL = HANBaseline(hyper_params, device).to(device)"
   ]
  },
  {
   "cell_type": "code",
   "execution_count": null,
   "metadata": {},
   "outputs": [],
   "source": [
    "run_job = HANBaselineModelRun(device)"
   ]
  },
  {
   "cell_type": "code",
   "execution_count": null,
   "metadata": {},
   "outputs": [],
   "source": [
    "num_epochs\n",
    "run_job.train(HAN_BL, dev_data, 10)"
   ]
  },
  {
   "cell_type": "markdown",
   "metadata": {},
   "source": [
    "# Training on full data set"
   ]
  },
  {
   "cell_type": "code",
   "execution_count": null,
   "metadata": {},
   "outputs": [],
   "source": [
    "path = f'{DATA_DIR}/train/training_data.pickle'\n",
    "data = read_featurized(path)\n",
    "import torch\n",
    "from src.models.BL import HANBaseline, HANBaselineHyperParams\n",
    "from src.experiments.training.BL.HANBaseline_training import HANBaselineModelRun\n",
    "# from src.experiments.training.HANBaseline_training import train_model\n",
    "%load_ext autoreload\n",
    "%autoreload 2"
   ]
  },
  {
   "cell_type": "code",
   "execution_count": null,
   "metadata": {},
   "outputs": [],
   "source": [
    "device = 1\n",
    "hyper_params = HANBaselineHyperParams()\n",
    "HAN_BL = HANBaseline(hyper_params, device).to(device)"
   ]
  },
  {
   "cell_type": "code",
   "execution_count": null,
   "metadata": {},
   "outputs": [],
   "source": [
    "num_epochs = 100\n",
    "run_job = HANBaselineModelRun(device)\n",
    "run_job.train(HAN_BL, data, num_epochs)"
   ]
  },
  {
   "cell_type": "code",
   "execution_count": null,
   "metadata": {},
   "outputs": [],
   "source": []
  }
 ],
 "metadata": {
  "kernelspec": {
   "display_name": "Python 3",
   "language": "python",
   "name": "python3"
  },
  "language_info": {
   "codemirror_mode": {
    "name": "ipython",
    "version": 3
   },
   "file_extension": ".py",
   "mimetype": "text/x-python",
   "name": "python",
   "nbconvert_exporter": "python",
   "pygments_lexer": "ipython3",
   "version": "3.8.5"
  }
 },
 "nbformat": 4,
 "nbformat_minor": 2
}
