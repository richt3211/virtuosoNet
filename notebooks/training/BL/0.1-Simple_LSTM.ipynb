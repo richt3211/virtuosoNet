{
 "metadata": {
  "language_info": {
   "codemirror_mode": {
    "name": "ipython",
    "version": 3
   },
   "file_extension": ".py",
   "mimetype": "text/x-python",
   "name": "python",
   "nbconvert_exporter": "python",
   "pygments_lexer": "ipython3",
   "version": "3.8.5-final"
  },
  "orig_nbformat": 2,
  "kernelspec": {
   "name": "Python 3.8.5 64-bit (conda)",
   "display_name": "Python 3.8.5 64-bit (conda)",
   "metadata": {
    "interpreter": {
     "hash": "81dc5a356f4cb696469e5f7b2542489ba49d6f1d47415d9b5591a215c3b81bce"
    }
   }
  }
 },
 "nbformat": 4,
 "nbformat_minor": 2,
 "cells": [
  {
   "cell_type": "code",
   "execution_count": 16,
   "metadata": {},
   "outputs": [
    {
     "output_type": "stream",
     "name": "stdout",
     "text": [
      "The autoreload extension is already loaded. To reload it, use:\n  %reload_ext autoreload\n"
     ]
    }
   ],
   "source": [
    "from src.data.data_reader.read_featurized_cache import read_featurized\n",
    "%load_ext autoreload\n",
    "%autoreload 2\n"
   ]
  },
  {
   "source": [
    "# Training for very small dev data set"
   ],
   "cell_type": "markdown",
   "metadata": {}
  },
  {
   "cell_type": "code",
   "execution_count": 17,
   "metadata": {},
   "outputs": [],
   "source": [
    "DATA_DIR = \"/uusoc/exports/scratch/rtimpson/thesis/virtuosoNet/data\""
   ]
  },
  {
   "cell_type": "code",
   "execution_count": 18,
   "metadata": {},
   "outputs": [],
   "source": [
    "path = f'{DATA_DIR}/train/training_data_development.pickle'"
   ]
  },
  {
   "cell_type": "code",
   "execution_count": 19,
   "metadata": {},
   "outputs": [
    {
     "output_type": "stream",
     "name": "stdout",
     "text": [
      "Loading the training data\n",
      "number of train performances:  5 number of valid perf:  3\n",
      "training sample example [0.40253450874098085, -0.9043350534864922, 2.272152234854334, 1.6245242470007877, 1.2609703359796316, -0.13802735400033747, -0.8957452833471335, -0.8172526447037678, 0.0, 0.0, -1, 0, 0, 0.25, 0, 0, 0, 1, 0, 0, 0, 0, 0, 0, 0, 0, 0.5, 0, 0, 0, 0, 0.4, 0, 0, 0, 0, 1, 0, 1, 0, 0, 0, 1, 0, 0, 0, 0, 0, 0, 0, 0, 0, 0, 0, 0, 0, 0, 0, 0, 0, 1, 0, 0, 0, 0, 0, 0, 0, 0, 0, 0, 0, 0, 0, 0, 0, 0.5, 0]\n"
     ]
    }
   ],
   "source": [
    "dev_data = read_featurized(path)"
   ]
  },
  {
   "cell_type": "code",
   "execution_count": 24,
   "metadata": {},
   "outputs": [
    {
     "output_type": "stream",
     "name": "stdout",
     "text": [
      "The autoreload extension is already loaded. To reload it, use:\n  %reload_ext autoreload\n"
     ]
    }
   ],
   "source": [
    "import torch\n",
    "from src.models.BL import LSTM_Baseline\n",
    "from src.experiments.training.BL_training import train_model\n",
    "%load_ext autoreload\n",
    "%autoreload 2\n"
   ]
  },
  {
   "cell_type": "code",
   "execution_count": 25,
   "metadata": {},
   "outputs": [],
   "source": [
    "BL = LSTM_Baseline()"
   ]
  },
  {
   "cell_type": "code",
   "execution_count": 43,
   "metadata": {},
   "outputs": [
    {
     "output_type": "stream",
     "name": "stdout",
     "text": [
      "Training for epoch 1/10\n",
      "\n",
      "Training Loss\n",
      "\tTotal Loss: 0.5405309081077576\n",
      "\ttempo loss: 0.2651 vel loss: 0.9009 dev loss: 0.6267 articul loss: 0.5572 pedal loss: 0.5244 \n",
      "Validation Loss and Evaluation\n",
      "\tTotal Loss: 1.1562379399935405\n",
      "\ttempo loss: 3.071 vel loss: 1.067 dev loss: 1.462 articul loss: 2.117 pedal loss: 1.004 \n",
      "\n",
      "Training for epoch 2/10\n",
      "\n",
      "Training Loss\n",
      "\tTotal Loss: 0.5394165396690369\n",
      "\ttempo loss: 0.2651 vel loss: 0.9009 dev loss: 0.6264 articul loss: 0.5566 pedal loss: 0.5231 \n",
      "Validation Loss and Evaluation\n",
      "\tTotal Loss: 1.153373231490453\n",
      "\ttempo loss: 3.071 vel loss: 1.066 dev loss: 1.463 articul loss: 2.12 pedal loss: 1.0 \n",
      "\n",
      "Training for epoch 3/10\n",
      "\n",
      "Training Loss\n",
      "\tTotal Loss: 0.5388235052426656\n",
      "\ttempo loss: 0.2651 vel loss: 0.9009 dev loss: 0.6262 articul loss: 0.5561 pedal loss: 0.5224 \n",
      "Validation Loss and Evaluation\n",
      "\tTotal Loss: 1.1494790116945903\n",
      "\ttempo loss: 3.071 vel loss: 1.066 dev loss: 1.464 articul loss: 2.122 pedal loss: 0.9952 \n",
      "\n",
      "Training for epoch 4/10\n",
      "\n",
      "Training Loss\n",
      "\tTotal Loss: 0.5387098208069802\n",
      "\ttempo loss: 0.2651 vel loss: 0.9009 dev loss: 0.626 articul loss: 0.5557 pedal loss: 0.5223 \n",
      "Validation Loss and Evaluation\n",
      "\tTotal Loss: 1.146096910039584\n",
      "\ttempo loss: 3.071 vel loss: 1.066 dev loss: 1.466 articul loss: 2.125 pedal loss: 0.9909 \n",
      "\n",
      "Training for epoch 5/10\n",
      "\n",
      "Training Loss\n",
      "\tTotal Loss: 0.5386729884147644\n",
      "\ttempo loss: 0.2651 vel loss: 0.9009 dev loss: 0.6258 articul loss: 0.5554 pedal loss: 0.5222 \n",
      "Validation Loss and Evaluation\n",
      "\tTotal Loss: 1.144142504533132\n",
      "\ttempo loss: 3.071 vel loss: 1.066 dev loss: 1.467 articul loss: 2.128 pedal loss: 0.9882 \n",
      "\n",
      "Training for epoch 6/10\n",
      "\n",
      "Training Loss\n",
      "\tTotal Loss: 0.5384469658136368\n",
      "\ttempo loss: 0.2651 vel loss: 0.9009 dev loss: 0.6257 articul loss: 0.5551 pedal loss: 0.522 \n",
      "Validation Loss and Evaluation\n",
      "\tTotal Loss: 1.1441210938824549\n",
      "\ttempo loss: 3.071 vel loss: 1.065 dev loss: 1.47 articul loss: 2.133 pedal loss: 0.9879 \n",
      "\n",
      "Training for epoch 7/10\n",
      "\n",
      "Training Loss\n",
      "\tTotal Loss: 0.5380634452615466\n",
      "\ttempo loss: 0.2651 vel loss: 0.9009 dev loss: 0.6255 articul loss: 0.5548 pedal loss: 0.5215 \n",
      "Validation Loss and Evaluation\n",
      "\tTotal Loss: 1.144694603624798\n",
      "\ttempo loss: 3.071 vel loss: 1.065 dev loss: 1.473 articul loss: 2.14 pedal loss: 0.9882 \n",
      "\n",
      "Training for epoch 8/10\n",
      "\n",
      "Training Loss\n",
      "\tTotal Loss: 0.5376269310712815\n",
      "\ttempo loss: 0.2651 vel loss: 0.9009 dev loss: 0.6253 articul loss: 0.5544 pedal loss: 0.521 \n",
      "Validation Loss and Evaluation\n",
      "\tTotal Loss: 1.1457234770059586\n",
      "\ttempo loss: 3.071 vel loss: 1.065 dev loss: 1.476 articul loss: 2.147 pedal loss: 0.9891 \n",
      "\n",
      "Training for epoch 9/10\n",
      "\n",
      "Training Loss\n",
      "\tTotal Loss: 0.5372181442048815\n",
      "\ttempo loss: 0.2651 vel loss: 0.9009 dev loss: 0.6251 articul loss: 0.554 pedal loss: 0.5205 \n",
      "Validation Loss and Evaluation\n",
      "\tTotal Loss: 1.1460075908237033\n",
      "\ttempo loss: 3.071 vel loss: 1.065 dev loss: 1.48 articul loss: 2.155 pedal loss: 0.9889 \n",
      "\n",
      "Training for epoch 10/10\n",
      "\n",
      "Training Loss\n",
      "\tTotal Loss: 0.5368565118312836\n",
      "\ttempo loss: 0.2651 vel loss: 0.9009 dev loss: 0.6249 articul loss: 0.5535 pedal loss: 0.5201 \n",
      "Validation Loss and Evaluation\n",
      "\tTotal Loss: 1.1456774870554607\n",
      "\ttempo loss: 3.071 vel loss: 1.066 dev loss: 1.484 articul loss: 2.163 pedal loss: 0.988 \n",
      "\n"
     ]
    },
    {
     "output_type": "execute_result",
     "data": {
      "text/plain": [
       "LSTM_Baseline(\n",
       "  (lstm): LSTM(78, 20)\n",
       ")"
      ]
     },
     "metadata": {},
     "execution_count": 43
    }
   ],
   "source": [
    "train_model(dev_data, BL, 10)"
   ]
  },
  {
   "cell_type": "code",
   "execution_count": null,
   "metadata": {},
   "outputs": [],
   "source": []
  }
 ]
}