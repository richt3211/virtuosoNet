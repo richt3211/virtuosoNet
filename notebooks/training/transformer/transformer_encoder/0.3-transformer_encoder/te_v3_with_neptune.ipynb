{
 "cells": [
  {
   "cell_type": "code",
   "execution_count": 1,
   "metadata": {},
   "outputs": [],
   "source": [
    "%load_ext autoreload\n",
    "%autoreload 2"
   ]
  },
  {
   "cell_type": "code",
   "execution_count": 2,
   "metadata": {},
   "outputs": [],
   "source": [
    "from src.experiments.training.training import init_training_job, get_dev_data, get_full_data, start_training, plot_loss\n",
    "from src.models.transformer import TransformerEncoder, TransformerEncoderHyperParams\n",
    "from src.experiments.training.Transformer.TransformerEncoder_training import TransformerEncoderJob, TransformerEncoderJobParams\n",
    "from src.models.model_run_job import ModelJob, ModelJobParams\n",
    "from src.constants import SRC_DIR\n",
    "%matplotlib inline"
   ]
  },
  {
   "cell_type": "markdown",
   "metadata": {},
   "source": [
    "# Full"
   ]
  },
  {
   "cell_type": "code",
   "execution_count": 3,
   "metadata": {},
   "outputs": [],
   "source": [
    "exp_name = 'Transformer Encoder Run with Full Data Set at 50 epochs'\n",
    "exp_description = 'Running a transformer training with neptune integration for the first time'\n",
    "tags = ['transformer_encoder']\n",
    "is_dev = False"
   ]
  },
  {
   "cell_type": "code",
   "execution_count": 4,
   "metadata": {},
   "outputs": [],
   "source": [
    "hyper_params = TransformerEncoderHyperParams()\n",
    "job_params = TransformerEncoderJobParams(is_dev=is_dev, epochs=50)"
   ]
  },
  {
   "cell_type": "code",
   "execution_count": 5,
   "metadata": {},
   "outputs": [],
   "source": [
    "model_path = f\"{SRC_DIR}/models/transformer.py\""
   ]
  },
  {
   "cell_type": "code",
   "execution_count": 6,
   "metadata": {},
   "outputs": [
    {
     "name": "stdout",
     "output_type": "stream",
     "text": [
      "{\n",
      "    \"input_size\": 78,\n",
      "    \"output_size\": 11,\n",
      "    \"device_num\": 1,\n",
      "    \"is_dev\": false,\n",
      "    \"num_head\": 6,\n",
      "    \"hidden_size\": 128,\n",
      "    \"num_layers\": 5,\n",
      "    \"dropout\": 0.1,\n",
      "    \"qpm_index\": 0,\n",
      "    \"vel_param_idx\": 0,\n",
      "    \"dev_param_idx\": 2,\n",
      "    \"articul_param_idx\": 3,\n",
      "    \"pedal_param_idx\": 4,\n",
      "    \"num_key_augmentation\": 1,\n",
      "    \"batch_size\": 1,\n",
      "    \"epochs\": 50,\n",
      "    \"num_tempo_param\": 1,\n",
      "    \"num_prime_param\": 11,\n",
      "    \"learning_rate\": 3e-05,\n",
      "    \"grad_clip\": 0.5,\n",
      "    \"model_name\": \"TRANSFORMER ENCODER ONLY\"\n",
      "}\n",
      "https://ui.neptune.ai/richt3211/thesis/e/THESIS-43\n",
      "2020-11-23 09:05:43 - Starting experiment\n"
     ]
    }
   ],
   "source": [
    "exp = init_training_job(\n",
    "    is_dev=is_dev,\n",
    "    exp_name=exp_name,\n",
    "    exp_description=exp_description,\n",
    "    hyper_params=hyper_params,\n",
    "    job_params=job_params,\n",
    "    tags=tags, \n",
    "    model_src_path=model_path\n",
    ")"
   ]
  },
  {
   "cell_type": "code",
   "execution_count": 7,
   "metadata": {},
   "outputs": [
    {
     "name": "stdout",
     "output_type": "stream",
     "text": [
      "2020-11-23 09:05:44 - Reading Full Data\n"
     ]
    }
   ],
   "source": [
    "full_data = get_full_data(exp)"
   ]
  },
  {
   "cell_type": "code",
   "execution_count": null,
   "metadata": {},
   "outputs": [
    {
     "name": "stdout",
     "output_type": "stream",
     "text": [
      "2020-11-23 09:15:20 - STARTING None TRAINING VERSION 0.3 JOB AT 50 EPOCHS FOR  DATA SET\n",
      "2020-11-23 09:15:20 - Number of model params: 226539\n",
      "2020-11-23 09:15:20 - TransformerEncoder(\n",
      "  (pos_encoder): PositionalEncoding(\n",
      "    (dropout): Dropout(p=0.1, inplace=False)\n",
      "  )\n",
      "  (transformer_encoder): TransformerEncoder(\n",
      "    (layers): ModuleList(\n",
      "      (0): TransformerEncoderLayer(\n",
      "        (self_attn): MultiheadAttention(\n",
      "          (out_proj): _LinearWithBias(in_features=78, out_features=78, bias=True)\n",
      "        )\n",
      "        (linear1): Linear(in_features=78, out_features=128, bias=True)\n",
      "        (dropout): Dropout(p=0.1, inplace=False)\n",
      "        (linear2): Linear(in_features=128, out_features=78, bias=True)\n",
      "        (norm1): LayerNorm((78,), eps=1e-05, elementwise_affine=True)\n",
      "        (norm2): LayerNorm((78,), eps=1e-05, elementwise_affine=True)\n",
      "        (dropout1): Dropout(p=0.1, inplace=False)\n",
      "        (dropout2): Dropout(p=0.1, inplace=False)\n",
      "      )\n",
      "      (1): TransformerEncoderLayer(\n",
      "        (self_attn): MultiheadAttention(\n",
      "          (out_proj): _LinearWithBias(in_features=78, out_features=78, bias=True)\n",
      "        )\n",
      "        (linear1): Linear(in_features=78, out_features=128, bias=True)\n",
      "        (dropout): Dropout(p=0.1, inplace=False)\n",
      "        (linear2): Linear(in_features=128, out_features=78, bias=True)\n",
      "        (norm1): LayerNorm((78,), eps=1e-05, elementwise_affine=True)\n",
      "        (norm2): LayerNorm((78,), eps=1e-05, elementwise_affine=True)\n",
      "        (dropout1): Dropout(p=0.1, inplace=False)\n",
      "        (dropout2): Dropout(p=0.1, inplace=False)\n",
      "      )\n",
      "      (2): TransformerEncoderLayer(\n",
      "        (self_attn): MultiheadAttention(\n",
      "          (out_proj): _LinearWithBias(in_features=78, out_features=78, bias=True)\n",
      "        )\n",
      "        (linear1): Linear(in_features=78, out_features=128, bias=True)\n",
      "        (dropout): Dropout(p=0.1, inplace=False)\n",
      "        (linear2): Linear(in_features=128, out_features=78, bias=True)\n",
      "        (norm1): LayerNorm((78,), eps=1e-05, elementwise_affine=True)\n",
      "        (norm2): LayerNorm((78,), eps=1e-05, elementwise_affine=True)\n",
      "        (dropout1): Dropout(p=0.1, inplace=False)\n",
      "        (dropout2): Dropout(p=0.1, inplace=False)\n",
      "      )\n",
      "      (3): TransformerEncoderLayer(\n",
      "        (self_attn): MultiheadAttention(\n",
      "          (out_proj): _LinearWithBias(in_features=78, out_features=78, bias=True)\n",
      "        )\n",
      "        (linear1): Linear(in_features=78, out_features=128, bias=True)\n",
      "        (dropout): Dropout(p=0.1, inplace=False)\n",
      "        (linear2): Linear(in_features=128, out_features=78, bias=True)\n",
      "        (norm1): LayerNorm((78,), eps=1e-05, elementwise_affine=True)\n",
      "        (norm2): LayerNorm((78,), eps=1e-05, elementwise_affine=True)\n",
      "        (dropout1): Dropout(p=0.1, inplace=False)\n",
      "        (dropout2): Dropout(p=0.1, inplace=False)\n",
      "      )\n",
      "      (4): TransformerEncoderLayer(\n",
      "        (self_attn): MultiheadAttention(\n",
      "          (out_proj): _LinearWithBias(in_features=78, out_features=78, bias=True)\n",
      "        )\n",
      "        (linear1): Linear(in_features=78, out_features=128, bias=True)\n",
      "        (dropout): Dropout(p=0.1, inplace=False)\n",
      "        (linear2): Linear(in_features=128, out_features=78, bias=True)\n",
      "        (norm1): LayerNorm((78,), eps=1e-05, elementwise_affine=True)\n",
      "        (norm2): LayerNorm((78,), eps=1e-05, elementwise_affine=True)\n",
      "        (dropout1): Dropout(p=0.1, inplace=False)\n",
      "        (dropout2): Dropout(p=0.1, inplace=False)\n",
      "      )\n",
      "    )\n",
      "  )\n",
      "  (decoder): Linear(in_features=78, out_features=11, bias=True)\n",
      ")\n",
      "2020-11-23 09:15:20 - Training Epoch 1\n",
      "2020-11-23 09:28:37 - Invalid metric value: nan for channel train kld loss. Metrics with nan or +/-inf values will not be sent to server\n",
      "2020-11-23 09:28:37 - train total loss: 1.0112191787719222tempo loss: 0.5249255130974074, vel loss: 0.7104214943201805, dev loss: 2.322636678015182, articul loss: 0.9961223574964805, pedal loss: 0.9384720929668144, trill loss: 0.0, kld loss: nan, \n"
     ]
    },
    {
     "name": "stderr",
     "output_type": "stream",
     "text": [
      "/uusoc/exports/scratch/rtimpson/thesis/virtuosoNet/env/lib/python3.7/site-packages/numpy/core/fromnumeric.py:3373: RuntimeWarning: Mean of empty slice.\n",
      "  out=out, **kwargs)\n",
      "/uusoc/exports/scratch/rtimpson/thesis/virtuosoNet/env/lib/python3.7/site-packages/numpy/core/_methods.py:170: RuntimeWarning: invalid value encountered in double_scalars\n",
      "  ret = ret.dtype.type(ret / rcount)\n"
     ]
    },
    {
     "name": "stdout",
     "output_type": "stream",
     "text": [
      "2020-11-23 09:28:50 - Invalid metric value: nan for channel valid kld loss. Metrics with nan or +/-inf values will not be sent to server\n",
      "2020-11-23 09:28:50 - valid total loss: 0.7846921051205215tempo loss: 0.40008981531896326, vel loss: 0.5630238039766328, dev loss: 0.7551987266278494, articul loss: 1.091075038051201, pedal loss: 0.8317465034329286, trill loss: 0.0, kld loss: nan, \n",
      "2020-11-23 09:28:50 - Trained model for 1 epochs with validation loss of 0.7846921051205215\n",
      "2020-11-23 09:29:00 - saving model at epoch 1 as the best model\n",
      "2020-11-23 09:29:00 - Training Epoch 2\n",
      "2020-11-23 09:44:39 - Invalid metric value: nan for channel train kld loss. Metrics with nan or +/-inf values will not be sent to server\n",
      "2020-11-23 09:44:39 - train total loss: 0.8606220064356866tempo loss: 0.36440588251096717, vel loss: 0.5808375514192604, dev loss: 1.5741166075972817, articul loss: 0.91550672079855, pedal loss: 0.8617107194849646, trill loss: 0.0, kld loss: nan, \n",
      "2020-11-23 09:44:54 - Invalid metric value: nan for channel valid kld loss. Metrics with nan or +/-inf values will not be sent to server\n",
      "2020-11-23 09:44:54 - valid total loss: 0.7687018428420284tempo loss: 0.3974049066903895, vel loss: 0.5553388642691255, dev loss: 0.7559020199950567, articul loss: 1.0485059057724024, pedal loss: 0.8140811876576278, trill loss: 0.0, kld loss: nan, \n",
      "2020-11-23 09:44:54 - Trained model for 2 epochs with validation loss of 0.7687018428420284\n",
      "2020-11-23 09:45:02 - saving model at epoch 2 as the best model\n",
      "2020-11-23 09:45:02 - Training Epoch 3\n",
      "2020-11-23 10:01:45 - Invalid metric value: nan for channel train kld loss. Metrics with nan or +/-inf values will not be sent to server\n",
      "2020-11-23 10:01:45 - train total loss: 0.8448478303847272tempo loss: 0.3234461709514562, vel loss: 0.542442059952009, dev loss: 1.6463077628977771, articul loss: 0.8805524491629816, pedal loss: 0.8429396306860326, trill loss: 0.0, kld loss: nan, \n",
      "2020-11-23 10:02:01 - Invalid metric value: nan for channel valid kld loss. Metrics with nan or +/-inf values will not be sent to server\n",
      "2020-11-23 10:02:01 - valid total loss: 0.766061725152522tempo loss: 0.38163163718732257, vel loss: 0.5328111438355905, dev loss: 0.7569151228946662, articul loss: 0.9941998653344273, pedal loss: 0.8230172774219995, trill loss: 0.0, kld loss: nan, \n",
      "2020-11-23 10:02:01 - Trained model for 3 epochs with validation loss of 0.766061725152522\n",
      "2020-11-23 10:02:08 - saving model at epoch 3 as the best model\n",
      "2020-11-23 10:02:08 - Training Epoch 4\n",
      "2020-11-23 10:18:08 - Invalid metric value: nan for channel train kld loss. Metrics with nan or +/-inf values will not be sent to server\n",
      "2020-11-23 10:18:08 - train total loss: 0.8804819780159728tempo loss: 0.3000251915531674, vel loss: 0.518939864897335, dev loss: 2.2113904635541757, articul loss: 0.8538300690433471, pedal loss: 0.8287308398613528, trill loss: 0.0, kld loss: nan, \n",
      "2020-11-23 10:18:24 - Invalid metric value: nan for channel valid kld loss. Metrics with nan or +/-inf values will not be sent to server\n",
      "2020-11-23 10:18:24 - valid total loss: 0.7683747055044272tempo loss: 0.34712112619559216, vel loss: 0.5150791527687375, dev loss: 0.7573784742081175, articul loss: 0.9695652582507946, pedal loss: 0.8375682171767581, trill loss: 0.0, kld loss: nan, \n",
      "2020-11-23 10:18:24 - Trained model for 4 epochs with validation loss of 0.7683747055044272\n",
      "2020-11-23 10:18:28 - saving model at epoch 4 as the best model\n",
      "2020-11-23 10:18:28 - Training Epoch 5\n",
      "2020-11-23 10:34:48 - Invalid metric value: nan for channel train kld loss. Metrics with nan or +/-inf values will not be sent to server\n",
      "2020-11-23 10:34:48 - train total loss: 0.8198718550087036tempo loss: 0.2812389487949399, vel loss: 0.5008941678851481, dev loss: 1.6570639070297914, articul loss: 0.8349530794771822, pedal loss: 0.820634291962617, trill loss: 0.0, kld loss: nan, \n",
      "2020-11-23 10:35:03 - Invalid metric value: nan for channel valid kld loss. Metrics with nan or +/-inf values will not be sent to server\n",
      "2020-11-23 10:35:03 - valid total loss: 0.7727315289193186tempo loss: 0.3370476660816448, vel loss: 0.5026816126601449, dev loss: 0.7772012753604814, articul loss: 0.9330289908524217, pedal loss: 0.8500124288979789, trill loss: 0.0, kld loss: nan, \n",
      "2020-11-23 10:35:03 - Trained model for 5 epochs with validation loss of 0.7727315289193186\n",
      "2020-11-23 10:35:08 - saving model at epoch 5 as the best model\n",
      "2020-11-23 10:35:08 - Training Epoch 6\n",
      "2020-11-23 10:51:29 - Invalid metric value: nan for channel train kld loss. Metrics with nan or +/-inf values will not be sent to server\n",
      "2020-11-23 10:51:29 - train total loss: 0.8032062029085447tempo loss: 0.26829022818850556, vel loss: 0.4878565437724648, dev loss: 1.5815481549628363, articul loss: 0.8208639957668026, pedal loss: 0.8109584341269189, trill loss: 0.0, kld loss: nan, \n",
      "2020-11-23 10:51:45 - Invalid metric value: nan for channel valid kld loss. Metrics with nan or +/-inf values will not be sent to server\n",
      "2020-11-23 10:51:45 - valid total loss: 0.7646509019049956tempo loss: 0.33822341919402127, vel loss: 0.5006607596429519, dev loss: 0.7835335875917644, articul loss: 0.9413056055241504, pedal loss: 0.8353480440733346, trill loss: 0.0, kld loss: nan, \n",
      "2020-11-23 10:51:45 - Trained model for 6 epochs with validation loss of 0.7646509019049956\n",
      "2020-11-23 10:51:53 - saving model at epoch 6 as the best model\n",
      "2020-11-23 10:51:53 - Training Epoch 7\n",
      "2020-11-23 11:08:18 - Invalid metric value: nan for channel train kld loss. Metrics with nan or +/-inf values will not be sent to server\n",
      "2020-11-23 11:08:18 - train total loss: 0.8224543948955767tempo loss: 0.2565930120562233, vel loss: 0.4770205637063449, dev loss: 1.8626283949887545, articul loss: 0.8115155719847661, pedal loss: 0.8056057960517464, trill loss: 0.0, kld loss: nan, \n",
      "2020-11-23 11:08:33 - Invalid metric value: nan for channel valid kld loss. Metrics with nan or +/-inf values will not be sent to server\n",
      "2020-11-23 11:08:33 - valid total loss: 0.7668405207692546tempo loss: 0.3234460620760634, vel loss: 0.49011727466302757, dev loss: 0.7590290626404633, articul loss: 0.9119921493179658, pedal loss: 0.8500944210416203, trill loss: 0.0, kld loss: nan, \n",
      "2020-11-23 11:08:33 - Trained model for 7 epochs with validation loss of 0.7668405207692546\n",
      "2020-11-23 11:08:36 - saving model at epoch 7 as the best model\n",
      "2020-11-23 11:08:36 - Training Epoch 8\n"
     ]
    }
   ],
   "source": [
    "start_training(\n",
    "    data=full_data,\n",
    "    version=0.3,\n",
    "    job=TransformerEncoderJob,\n",
    "    job_params=job_params,\n",
    "    model_class=TransformerEncoder,\n",
    "    model_hyper_params=hyper_params,\n",
    "    model_folder='transformer/transformer_encoder',\n",
    "    exp=exp\n",
    ")"
   ]
  },
  {
   "cell_type": "markdown",
   "metadata": {},
   "source": [
    "# Dev"
   ]
  },
  {
   "cell_type": "code",
   "execution_count": null,
   "metadata": {},
   "outputs": [],
   "source": [
    "exp_name = 'Transformer Encoder First go'\n",
    "exp_description = 'Integrating with neptune AI for the first time'\n",
    "tags = ['transformer_encoder']\n",
    "is_dev = True"
   ]
  },
  {
   "cell_type": "code",
   "execution_count": null,
   "metadata": {},
   "outputs": [],
   "source": [
    "hyper_params = TransformerEncoderHyperParams()\n",
    "job_params = TransformerEncoderJobParams(is_dev=is_dev, epochs=5)"
   ]
  },
  {
   "cell_type": "code",
   "execution_count": null,
   "metadata": {},
   "outputs": [],
   "source": [
    "model_path = f\"{SRC_DIR}/models/transformer.py\""
   ]
  },
  {
   "cell_type": "code",
   "execution_count": null,
   "metadata": {},
   "outputs": [],
   "source": [
    "exp = init_training_job(\n",
    "    is_dev=is_dev,\n",
    "    exp_name=exp_name,\n",
    "    exp_description=exp_description,\n",
    "    hyper_params=hyper_params,\n",
    "    job_params=job_params,\n",
    "    tags=tags,\n",
    "    model_src_path=model_path\n",
    ")"
   ]
  },
  {
   "cell_type": "code",
   "execution_count": null,
   "metadata": {},
   "outputs": [],
   "source": [
    "dev_data = get_dev_data(exp)"
   ]
  },
  {
   "cell_type": "code",
   "execution_count": null,
   "metadata": {},
   "outputs": [],
   "source": [
    "start_training(\n",
    "    data=dev_data,\n",
    "    version=0.3,\n",
    "    job=TransformerEncoderJob,\n",
    "    job_params=job_params,\n",
    "    model_class=TransformerEncoder,\n",
    "    model_hyper_params=hyper_params,\n",
    "    model_folder='transformer/transformer_encoder',\n",
    "    exp=exp\n",
    ")"
   ]
  },
  {
   "cell_type": "code",
   "execution_count": null,
   "metadata": {},
   "outputs": [],
   "source": []
  }
 ],
 "metadata": {
  "kernelspec": {
   "display_name": "Python 3",
   "language": "python",
   "name": "python3"
  },
  "language_info": {
   "codemirror_mode": {
    "name": "ipython",
    "version": 3
   },
   "file_extension": ".py",
   "mimetype": "text/x-python",
   "name": "python",
   "nbconvert_exporter": "python",
   "pygments_lexer": "ipython3",
   "version": "3.7.7"
  },
  "neptune": {
   "notebookId": "b58bd848-c507-40c0-9eb9-0fc1e4780d5b"
  }
 },
 "nbformat": 4,
 "nbformat_minor": 4
}
