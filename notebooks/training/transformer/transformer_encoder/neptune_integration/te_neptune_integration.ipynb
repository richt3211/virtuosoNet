{
 "cells": [
  {
   "cell_type": "code",
   "execution_count": 2,
   "metadata": {},
   "outputs": [],
   "source": [
    "%load_ext autoreload\n",
    "%autoreload 2"
   ]
  },
  {
   "cell_type": "code",
   "execution_count": 3,
   "metadata": {},
   "outputs": [],
   "source": [
    "from src.experiments.training.training import run_training_experiment\n",
    "from src.models.transformer import TransformerEncoder, TransformerEncoderHyperParams\n",
    "from src.experiments.training.Transformer.transformer_training import TransformerEncoderJob, TransformerEncoderJobParams\n",
    "from src.models.model_run_job import ModelJob, ModelJobParams\n",
    "from src.constants import SRC_DIR\n",
    "%matplotlib inline"
   ]
  },
  {
   "cell_type": "code",
   "execution_count": 4,
   "metadata": {},
   "outputs": [],
   "source": [
    "other = 1\n",
    "pedal = 7"
   ]
  },
  {
   "cell_type": "code",
   "execution_count": 5,
   "metadata": {},
   "outputs": [
    {
     "data": {
      "text/plain": [
       "TransformerEncoderJobParams(input_size=78, output_size=11, device_num=1, time_steps=500, is_dev=False, device=device(type='cuda', index=1), qpm_index=0, vel_param_idx=1, dev_param_idx=2, articul_param_idx=3, pedal_param_idx=4, num_key_augmentation=1, batch_size=1, epochs=50, num_tempo_param=1, num_prime_param=11, criterion='torch', tempo_loss=True, articul_mask='pedal', tempo_weight=1, vel_weight=1, dev_weight=1, articul_weight=1, pedal_weight=7, learning_rate=3e-05, grad_clip=0.5, model_name='TRANSFORMER ENCODER ONLY')"
      ]
     },
     "metadata": {},
     "output_type": "display_data"
    }
   ],
   "source": [
    "is_dev=False\n",
    "hyper_params = TransformerEncoderHyperParams(hidden_size=256, num_layers=6, num_head=6)\n",
    "job_params = TransformerEncoderJobParams(\n",
    "    is_dev=is_dev, \n",
    "    articul_mask=\"pedal\", \n",
    "    articul_weight = other,\n",
    "    dev_weight = other,\n",
    "    pedal_weight = pedal,\n",
    "    vel_weight = other,\n",
    "    tempo_weight=other, \n",
    ")\n",
    "model_file_path = f\"{SRC_DIR}/models/transformer.py\"\n",
    "exp_name=\"Increasing layers\"\n",
    "exp_description=\"Making sure we have models that we produce results for\"\n",
    "model_class=TransformerEncoder\n",
    "job_class=TransformerEncoderJob\n",
    "tags=['transformer_encoder']\n",
    "display(job_params)"
   ]
  },
  {
   "cell_type": "code",
   "execution_count": null,
   "metadata": {},
   "outputs": [
    {
     "name": "stdout",
     "output_type": "stream",
     "text": [
      "{\n",
      "    \"input_size\": 78,\n",
      "    \"output_size\": 11,\n",
      "    \"device_num\": 1,\n",
      "    \"time_steps\": 500,\n",
      "    \"is_dev\": false,\n",
      "    \"device\": \"cuda:1\",\n",
      "    \"with_layer_norm\": true,\n",
      "    \"num_head\": 6,\n",
      "    \"hidden_size\": 256,\n",
      "    \"num_layers\": 6,\n",
      "    \"dropout\": 0.1,\n",
      "    \"qpm_index\": 0,\n",
      "    \"vel_param_idx\": 1,\n",
      "    \"dev_param_idx\": 2,\n",
      "    \"articul_param_idx\": 3,\n",
      "    \"pedal_param_idx\": 4,\n",
      "    \"num_key_augmentation\": 1,\n",
      "    \"batch_size\": 1,\n",
      "    \"epochs\": 50,\n",
      "    \"num_tempo_param\": 1,\n",
      "    \"num_prime_param\": 11,\n",
      "    \"criterion\": \"torch\",\n",
      "    \"tempo_loss\": true,\n",
      "    \"articul_mask\": \"pedal\",\n",
      "    \"tempo_weight\": 1,\n",
      "    \"vel_weight\": 1,\n",
      "    \"dev_weight\": 1,\n",
      "    \"articul_weight\": 1,\n",
      "    \"pedal_weight\": 7,\n",
      "    \"learning_rate\": 3e-05,\n",
      "    \"grad_clip\": 0.5,\n",
      "    \"model_name\": \"TRANSFORMER ENCODER ONLY\"\n",
      "}\n"
     ]
    },
    {
     "name": "stderr",
     "output_type": "stream",
     "text": [
      "WARNING: There is a new version of neptune-client 0.4.130 (installed: 0.4.126).\n"
     ]
    },
    {
     "name": "stdout",
     "output_type": "stream",
     "text": [
      "https://ui.neptune.ai/richt3211/thesis/e/THESIS-195\n",
      "2021-01-13 17:57:07 - Starting experiment\n",
      "2021-01-13 17:57:07 - Reading Full Data\n"
     ]
    }
   ],
   "source": [
    "run_training_experiment(\n",
    "    exp_name=exp_name,\n",
    "    exp_description=exp_description,\n",
    "    tags=tags,\n",
    "    is_dev=is_dev,\n",
    "    hyper_params=hyper_params,\n",
    "    job_params=job_params,\n",
    "    model_file_path=model_file_path,\n",
    "    model_class=model_class,\n",
    "    job_class=job_class\n",
    ")"
   ]
  },
  {
   "cell_type": "code",
   "execution_count": null,
   "metadata": {},
   "outputs": [],
   "source": []
  }
 ],
 "metadata": {
  "kernelspec": {
   "display_name": "Python 3",
   "language": "python",
   "name": "python3"
  },
  "language_info": {
   "codemirror_mode": {
    "name": "ipython",
    "version": 3
   },
   "file_extension": ".py",
   "mimetype": "text/x-python",
   "name": "python",
   "nbconvert_exporter": "python",
   "pygments_lexer": "ipython3",
   "version": "3.7.7"
  },
  "neptune": {
   "notebookId": "b58bd848-c507-40c0-9eb9-0fc1e4780d5b"
  }
 },
 "nbformat": 4,
 "nbformat_minor": 4
}
