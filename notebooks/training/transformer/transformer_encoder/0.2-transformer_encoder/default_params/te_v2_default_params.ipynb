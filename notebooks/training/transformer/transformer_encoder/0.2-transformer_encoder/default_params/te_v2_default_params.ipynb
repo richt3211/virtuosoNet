{
 "cells": [
  {
   "cell_type": "code",
   "execution_count": 1,
   "metadata": {},
   "outputs": [],
   "source": [
    "%load_ext autoreload\n",
    "%autoreload 2"
   ]
  },
  {
   "cell_type": "code",
   "execution_count": 20,
   "metadata": {},
   "outputs": [],
   "source": [
    "from src.experiments.training.training import init_training_job, get_dev_data, get_full_data, start_training, plot_loss\n",
    "from src.models.Transformer import TransformerEncoder, TransformerEncoderHyperParams\n",
    "from src.experiments.training.Transformer.TransformerEncoder_training import TransformerEncoderJob, TransformerEncoderJobParams\n",
    "from src.models.model_run_job import ModelJob, ModelJobParams\n",
    "%matplotlib inline"
   ]
  },
  {
   "source": [
    "# Init"
   ],
   "cell_type": "markdown",
   "metadata": {}
  },
  {
   "cell_type": "code",
   "execution_count": 3,
   "metadata": {},
   "outputs": [],
   "source": [
    "folder_name = 'decreased_learning_rate'\n",
    "model_name = \"Transformer Encoder\"\n",
    "description = 'Decreased the learning rate and changed from adam to adamw optimizer. Also changed the weight initialization'\n",
    "is_dev=False"
   ]
  },
  {
   "source": [
    "# Full Data"
   ],
   "cell_type": "markdown",
   "metadata": {}
  },
  {
   "cell_type": "code",
   "execution_count": null,
   "metadata": {},
   "outputs": [],
   "source": [
    "init_training_job(is_dev,folder_name, model_name, description)"
   ]
  },
  {
   "cell_type": "code",
   "execution_count": null,
   "metadata": {},
   "outputs": [],
   "source": [
    "hyper_params = TransformerEncoderHyperParams()\n",
    "job_params = TransformerEncoderJobParams(is_dev)"
   ]
  },
  {
   "cell_type": "code",
   "execution_count": null,
   "metadata": {},
   "outputs": [],
   "source": [
    "full_data = get_full_data()"
   ]
  },
  {
   "cell_type": "code",
   "execution_count": null,
   "metadata": {
    "tags": []
   },
   "outputs": [],
   "source": [
    "training_loss, valid_loss = start_training(\n",
    "    data=full_data,\n",
    "    version=0.2,\n",
    "    num_epochs=20,\n",
    "    job=TransformerEncoderJob,\n",
    "    job_params=job_params,\n",
    "    model_class=TransformerEncoder,\n",
    "    model_hyper_params=hyper_params\n",
    ")"
   ]
  },
  {
   "cell_type": "code",
   "execution_count": null,
   "metadata": {},
   "outputs": [],
   "source": [
    "plot_loss(training_loss, valid_loss, folder_name, is_dev)"
   ]
  },
  {
   "cell_type": "code",
   "execution_count": null,
   "metadata": {},
   "outputs": [],
   "source": []
  },
  {
   "cell_type": "code",
   "execution_count": null,
   "metadata": {},
   "outputs": [],
   "source": []
  },
  {
   "source": [
    "# Dev Data"
   ],
   "cell_type": "markdown",
   "metadata": {}
  },
  {
   "cell_type": "code",
   "execution_count": 13,
   "metadata": {},
   "outputs": [
    {
     "output_type": "stream",
     "name": "stdout",
     "text": [
      "2020-11-08 16:45:39 - Starting training job for model Transformer Encoder\n",
      "2020-11-08 16:45:39 - Decreased the learning rate and changed from adam to adamw optimizer. Also changed the weight initialization\n"
     ]
    }
   ],
   "source": [
    "is_dev=True\n",
    "init_training_job(is_dev,folder_name, model_name, description)"
   ]
  },
  {
   "cell_type": "code",
   "execution_count": 14,
   "metadata": {},
   "outputs": [
    {
     "output_type": "stream",
     "name": "stdout",
     "text": [
      "2020-11-08 16:45:39 - Transformer Encoder Hyper Params\n",
      "2020-11-08 16:45:39 - {\n",
      "    \"input_size\": 78,\n",
      "    \"output_size\": 11,\n",
      "    \"num_head\": 6,\n",
      "    \"hidden_size\": 128,\n",
      "    \"num_layers\": 5,\n",
      "    \"dropout\": 0.1\n",
      "}\n",
      "2020-11-08 16:45:39 - Transformer Encoder Job params\n",
      "2020-11-08 16:45:39 - {\n",
      "    \"qpm_index\": true,\n",
      "    \"vel_param_idx\": 0,\n",
      "    \"dev_param_idx\": 2,\n",
      "    \"articul_param_idx\": 3,\n",
      "    \"pedal_param_idx\": 4,\n",
      "    \"time_steps\": 500,\n",
      "    \"num_key_augmentation\": 1,\n",
      "    \"batch_size\": 1,\n",
      "    \"num_tempo_param\": 1,\n",
      "    \"num_input\": 78,\n",
      "    \"num_output\": 11,\n",
      "    \"num_prime_param\": 11,\n",
      "    \"device_num\": 1,\n",
      "    \"is_dev\": false,\n",
      "    \"learning_rate\": 3e-05,\n",
      "    \"grad_clip\": 0.5,\n",
      "    \"model_name\": \"TRANSFORMER ENCODER ONLY\"\n",
      "}\n"
     ]
    }
   ],
   "source": [
    "hyper_params = TransformerEncoderHyperParams()\n",
    "job_params = TransformerEncoderJobParams(is_dev)"
   ]
  },
  {
   "cell_type": "code",
   "execution_count": 15,
   "metadata": {},
   "outputs": [
    {
     "output_type": "stream",
     "name": "stdout",
     "text": [
      "2020-11-08 16:45:41 - Reading Dev Data\n",
      "2020-11-08 16:45:41 - Loading the training data\n",
      "2020-11-08 16:45:46 - number of train performances: 5 number of valid perf: 3\n",
      "2020-11-08 16:45:46 - training sample example: [0.40253450874098085, -0.9043350534864922, 2.272152234854334, 1.6245242470007877, 1.2609703359796316, -0.13802735400033747, -0.8957452833471335, -0.8172526447037678, 0.0, 0.0, -1, 0, 0, 0.25, 0, 0, 0, 1, 0, 0, 0, 0, 0, 0, 0, 0, 0.5, 0, 0, 0, 0, 0.4, 0, 0, 0, 0, 1, 0, 1, 0, 0, 0, 1, 0, 0, 0, 0, 0, 0, 0, 0, 0, 0, 0, 0, 0, 0, 0, 0, 0, 1, 0, 0, 0, 0, 0, 0, 0, 0, 0, 0, 0, 0, 0, 0, 0, 0.5, 0]\n"
     ]
    }
   ],
   "source": [
    "dev_data = get_dev_data()"
   ]
  },
  {
   "cell_type": "code",
   "execution_count": 17,
   "metadata": {},
   "outputs": [
    {
     "output_type": "stream",
     "name": "stdout",
     "text": [
      "2020-11-08 16:45:59 - STARTING None TRAINING VERSION 0.2 JOB AT 20 EPOCHS FOR  DATA SET\n",
      "2020-11-08 16:45:59 - Number of model params: 226539\n",
      "2020-11-08 16:45:59 - TransformerEncoder(\n",
      "  (pos_encoder): PositionalEncoding(\n",
      "    (dropout): Dropout(p=0.1, inplace=False)\n",
      "  )\n",
      "  (transformer_encoder): TransformerEncoder(\n",
      "    (layers): ModuleList(\n",
      "      (0): TransformerEncoderLayer(\n",
      "        (self_attn): MultiheadAttention(\n",
      "          (out_proj): _LinearWithBias(in_features=78, out_features=78, bias=True)\n",
      "        )\n",
      "        (linear1): Linear(in_features=78, out_features=128, bias=True)\n",
      "        (dropout): Dropout(p=0.1, inplace=False)\n",
      "        (linear2): Linear(in_features=128, out_features=78, bias=True)\n",
      "        (norm1): LayerNorm((78,), eps=1e-05, elementwise_affine=True)\n",
      "        (norm2): LayerNorm((78,), eps=1e-05, elementwise_affine=True)\n",
      "        (dropout1): Dropout(p=0.1, inplace=False)\n",
      "        (dropout2): Dropout(p=0.1, inplace=False)\n",
      "      )\n",
      "      (1): TransformerEncoderLayer(\n",
      "        (self_attn): MultiheadAttention(\n",
      "          (out_proj): _LinearWithBias(in_features=78, out_features=78, bias=True)\n",
      "        )\n",
      "        (linear1): Linear(in_features=78, out_features=128, bias=True)\n",
      "        (dropout): Dropout(p=0.1, inplace=False)\n",
      "        (linear2): Linear(in_features=128, out_features=78, bias=True)\n",
      "        (norm1): LayerNorm((78,), eps=1e-05, elementwise_affine=True)\n",
      "        (norm2): LayerNorm((78,), eps=1e-05, elementwise_affine=True)\n",
      "        (dropout1): Dropout(p=0.1, inplace=False)\n",
      "        (dropout2): Dropout(p=0.1, inplace=False)\n",
      "      )\n",
      "      (2): TransformerEncoderLayer(\n",
      "        (self_attn): MultiheadAttention(\n",
      "          (out_proj): _LinearWithBias(in_features=78, out_features=78, bias=True)\n",
      "        )\n",
      "        (linear1): Linear(in_features=78, out_features=128, bias=True)\n",
      "        (dropout): Dropout(p=0.1, inplace=False)\n",
      "        (linear2): Linear(in_features=128, out_features=78, bias=True)\n",
      "        (norm1): LayerNorm((78,), eps=1e-05, elementwise_affine=True)\n",
      "        (norm2): LayerNorm((78,), eps=1e-05, elementwise_affine=True)\n",
      "        (dropout1): Dropout(p=0.1, inplace=False)\n",
      "        (dropout2): Dropout(p=0.1, inplace=False)\n",
      "      )\n",
      "      (3): TransformerEncoderLayer(\n",
      "        (self_attn): MultiheadAttention(\n",
      "          (out_proj): _LinearWithBias(in_features=78, out_features=78, bias=True)\n",
      "        )\n",
      "        (linear1): Linear(in_features=78, out_features=128, bias=True)\n",
      "        (dropout): Dropout(p=0.1, inplace=False)\n",
      "        (linear2): Linear(in_features=128, out_features=78, bias=True)\n",
      "        (norm1): LayerNorm((78,), eps=1e-05, elementwise_affine=True)\n",
      "        (norm2): LayerNorm((78,), eps=1e-05, elementwise_affine=True)\n",
      "        (dropout1): Dropout(p=0.1, inplace=False)\n",
      "        (dropout2): Dropout(p=0.1, inplace=False)\n",
      "      )\n",
      "      (4): TransformerEncoderLayer(\n",
      "        (self_attn): MultiheadAttention(\n",
      "          (out_proj): _LinearWithBias(in_features=78, out_features=78, bias=True)\n",
      "        )\n",
      "        (linear1): Linear(in_features=78, out_features=128, bias=True)\n",
      "        (dropout): Dropout(p=0.1, inplace=False)\n",
      "        (linear2): Linear(in_features=128, out_features=78, bias=True)\n",
      "        (norm1): LayerNorm((78,), eps=1e-05, elementwise_affine=True)\n",
      "        (norm2): LayerNorm((78,), eps=1e-05, elementwise_affine=True)\n",
      "        (dropout1): Dropout(p=0.1, inplace=False)\n",
      "        (dropout2): Dropout(p=0.1, inplace=False)\n",
      "      )\n",
      "    )\n",
      "  )\n",
      "  (decoder): Linear(in_features=78, out_features=11, bias=True)\n",
      ")\n",
      "2020-11-08 16:45:59 - Training Epoch 1\n",
      "2020-11-08 16:45:59 - \n",
      "2020-11-08 16:46:05 - Training Loss\n",
      "2020-11-08 16:46:05 - Total Loss: 1.0103076929981645\n",
      "2020-11-08 16:46:05 - \ttempo: 0.5709 vel: 0.7214 dev: 0.7559 articul: 0.9729 pedal: 1.156 trill: 0.0 kld: nan \n",
      "2020-11-08 16:46:05 - \n",
      "2020-11-08 16:46:05 - Validation loss\n",
      "2020-11-08 16:46:05 - Total Loss: 1.620125373204549\n",
      "2020-11-08 16:46:05 - \ttempo: 4.901 vel: 2.997 dev: 1.121 articul: 1.62 pedal: 1.026 trill: 0.0 kld: nan \n",
      "2020-11-08 16:46:05 - \n",
      "2020-11-08 16:46:05 - \n",
      "2020-11-08 16:46:05 - Training Epoch 2\n",
      "2020-11-08 16:46:05 - \n",
      "2020-11-08 16:46:11 - Training Loss\n",
      "2020-11-08 16:46:11 - Total Loss: 0.8416692109571563\n",
      "2020-11-08 16:46:11 - \ttempo: 0.1195 vel: 0.4992 dev: 0.7112 articul: 0.8981 pedal: 1.004 trill: 0.0 kld: nan \n",
      "2020-11-08 16:46:11 - \n",
      "2020-11-08 16:46:11 - Validation loss\n",
      "2020-11-08 16:46:11 - Total Loss: 1.6579052805900574\n",
      "2020-11-08 16:46:11 - \ttempo: 5.435 vel: 3.343 dev: 1.072 articul: 1.36 pedal: 1.004 trill: 0.0 kld: nan \n",
      "2020-11-08 16:46:11 - \n",
      "2020-11-08 16:46:11 - \n",
      "2020-11-08 16:46:11 - Training Epoch 3\n",
      "2020-11-08 16:46:11 - \n",
      "2020-11-08 16:46:16 - Training Loss\n",
      "2020-11-08 16:46:16 - Total Loss: 0.8488699655010276\n",
      "2020-11-08 16:46:16 - \ttempo: 0.1126 vel: 0.492 dev: 0.6966 articul: 0.8771 pedal: 1.023 trill: 0.0 kld: nan \n",
      "2020-11-08 16:46:16 - \n",
      "2020-11-08 16:46:16 - Validation loss\n",
      "2020-11-08 16:46:16 - Total Loss: 1.6258352001508076\n",
      "2020-11-08 16:46:16 - \ttempo: 5.295 vel: 3.273 dev: 1.037 articul: 1.382 pedal: 0.9852 trill: 0.0 kld: nan \n",
      "2020-11-08 16:46:16 - \n",
      "2020-11-08 16:46:16 - \n",
      "2020-11-08 16:46:16 - Training Epoch 4\n",
      "2020-11-08 16:46:16 - \n",
      "2020-11-08 16:46:21 - Training Loss\n",
      "2020-11-08 16:46:21 - Total Loss: 0.8147333812069248\n",
      "2020-11-08 16:46:21 - \ttempo: 0.1071 vel: 0.4804 dev: 0.6907 articul: 0.8632 pedal: 0.9744 trill: 0.0 kld: nan \n",
      "2020-11-08 16:46:21 - \n",
      "2020-11-08 16:46:21 - Validation loss\n",
      "2020-11-08 16:46:21 - Total Loss: 1.5923694570859273\n",
      "2020-11-08 16:46:21 - \ttempo: 5.217 vel: 3.214 dev: 1.008 articul: 1.33 pedal: 0.9639 trill: 0.0 kld: nan \n",
      "2020-11-08 16:46:21 - \n",
      "2020-11-08 16:46:21 - \n",
      "2020-11-08 16:46:21 - Training Epoch 5\n",
      "2020-11-08 16:46:21 - \n",
      "2020-11-08 16:46:26 - Training Loss\n",
      "2020-11-08 16:46:26 - Total Loss: 0.8079482897927489\n",
      "2020-11-08 16:46:26 - \ttempo: 0.1062 vel: 0.4719 dev: 0.6748 articul: 0.8477 pedal: 0.9696 trill: 0.0 kld: nan \n",
      "2020-11-08 16:46:26 - \n",
      "2020-11-08 16:46:26 - Validation loss\n",
      "2020-11-08 16:46:26 - Total Loss: 1.5618678132692974\n",
      "2020-11-08 16:46:26 - \ttempo: 5.206 vel: 3.198 dev: 0.9846 articul: 1.149 pedal: 0.9489 trill: 0.0 kld: nan \n",
      "2020-11-08 16:46:26 - \n",
      "2020-11-08 16:46:26 - \n",
      "2020-11-08 16:46:27 - Training Epoch 6\n",
      "2020-11-08 16:46:27 - \n",
      "2020-11-08 16:46:32 - Training Loss\n",
      "2020-11-08 16:46:32 - Total Loss: 0.8098582826651536\n",
      "2020-11-08 16:46:32 - \ttempo: 0.1008 vel: 0.4759 dev: 0.6935 articul: 0.8455 pedal: 0.9704 trill: 0.0 kld: nan \n",
      "2020-11-08 16:46:32 - \n",
      "2020-11-08 16:46:32 - Validation loss\n",
      "2020-11-08 16:46:32 - Total Loss: 1.5803054173787434\n",
      "2020-11-08 16:46:32 - \ttempo: 5.312 vel: 3.271 dev: 0.9876 articul: 1.154 pedal: 0.9514 trill: 0.0 kld: nan \n",
      "2020-11-08 16:46:32 - \n",
      "2020-11-08 16:46:32 - \n",
      "2020-11-08 16:46:33 - Training Epoch 7\n",
      "2020-11-08 16:46:33 - \n",
      "2020-11-08 16:46:38 - Training Loss\n",
      "2020-11-08 16:46:38 - Total Loss: 0.812272356571378\n",
      "2020-11-08 16:46:38 - \ttempo: 0.09656 vel: 0.4801 dev: 0.6917 articul: 0.8436 pedal: 0.9747 trill: 0.0 kld: nan \n",
      "2020-11-08 16:46:38 - \n",
      "2020-11-08 16:46:38 - Validation loss\n",
      "2020-11-08 16:46:38 - Total Loss: 1.5644988616307576\n",
      "2020-11-08 16:46:38 - \ttempo: 5.207 vel: 3.211 dev: 0.9835 articul: 1.168 pedal: 0.9485 trill: 0.0 kld: nan \n",
      "2020-11-08 16:46:38 - \n",
      "2020-11-08 16:46:38 - \n",
      "2020-11-08 16:46:38 - Training Epoch 8\n",
      "2020-11-08 16:46:38 - \n",
      "2020-11-08 16:46:43 - Training Loss\n",
      "2020-11-08 16:46:43 - Total Loss: 0.8085240684449673\n",
      "2020-11-08 16:46:43 - \ttempo: 0.09956 vel: 0.4799 dev: 0.6975 articul: 0.8279 pedal: 0.9698 trill: 0.0 kld: nan \n",
      "2020-11-08 16:46:43 - \n",
      "2020-11-08 16:46:43 - Validation loss\n",
      "2020-11-08 16:46:43 - Total Loss: 1.554364562034607\n",
      "2020-11-08 16:46:43 - \ttempo: 5.166 vel: 3.204 dev: 0.9704 articul: 1.116 pedal: 0.9486 trill: 0.0 kld: nan \n",
      "2020-11-08 16:46:43 - \n",
      "2020-11-08 16:46:43 - \n",
      "2020-11-08 16:46:44 - Training Epoch 9\n",
      "2020-11-08 16:46:44 - \n",
      "2020-11-08 16:46:48 - Training Loss\n",
      "2020-11-08 16:46:48 - Total Loss: 0.8287180462112166\n",
      "2020-11-08 16:46:48 - \ttempo: 0.09946 vel: 0.4755 dev: 0.685 articul: 0.8242 pedal: 1.005 trill: 0.0 kld: nan \n",
      "2020-11-08 16:46:48 - \n",
      "2020-11-08 16:46:49 - Validation loss\n",
      "2020-11-08 16:46:49 - Total Loss: 1.5165438652038574\n",
      "2020-11-08 16:46:49 - \ttempo: 4.983 vel: 3.11 dev: 0.9624 articul: 1.012 pedal: 0.9449 trill: 0.0 kld: nan \n",
      "2020-11-08 16:46:49 - \n",
      "2020-11-08 16:46:49 - \n",
      "2020-11-08 16:46:49 - Training Epoch 10\n",
      "2020-11-08 16:46:49 - \n",
      "2020-11-08 16:46:54 - Training Loss\n",
      "2020-11-08 16:46:54 - Total Loss: 0.8021842388257588\n",
      "2020-11-08 16:46:54 - \ttempo: 0.09334 vel: 0.4618 dev: 0.6714 articul: 0.8376 pedal: 0.9657 trill: 0.0 kld: nan \n",
      "2020-11-08 16:46:54 - \n",
      "2020-11-08 16:46:55 - Validation loss\n",
      "2020-11-08 16:46:55 - Total Loss: 1.5320093631744385\n",
      "2020-11-08 16:46:55 - \ttempo: 5.065 vel: 3.128 dev: 0.9623 articul: 1.137 pedal: 0.9372 trill: 0.0 kld: nan \n",
      "2020-11-08 16:46:55 - \n",
      "2020-11-08 16:46:55 - \n",
      "2020-11-08 16:46:55 - Training Epoch 11\n",
      "2020-11-08 16:46:55 - \n",
      "2020-11-08 16:47:00 - Training Loss\n",
      "2020-11-08 16:47:00 - Total Loss: 0.8017463617854648\n",
      "2020-11-08 16:47:00 - \ttempo: 0.09634 vel: 0.468 dev: 0.6983 articul: 0.8192 pedal: 0.9625 trill: 0.0 kld: nan \n",
      "2020-11-08 16:47:00 - \n",
      "2020-11-08 16:47:00 - Validation loss\n",
      "2020-11-08 16:47:00 - Total Loss: 1.5148323973019917\n",
      "2020-11-08 16:47:00 - \ttempo: 4.948 vel: 3.087 dev: 0.9596 articul: 1.083 pedal: 0.9409 trill: 0.0 kld: nan \n",
      "2020-11-08 16:47:00 - \n",
      "2020-11-08 16:47:00 - \n",
      "2020-11-08 16:47:00 - Training Epoch 12\n",
      "2020-11-08 16:47:00 - \n",
      "2020-11-08 16:47:05 - Training Loss\n",
      "2020-11-08 16:47:05 - Total Loss: 0.8050145800854709\n",
      "2020-11-08 16:47:05 - \ttempo: 0.09055 vel: 0.458 dev: 0.6795 articul: 0.833 pedal: 0.9706 trill: 0.0 kld: nan \n",
      "2020-11-08 16:47:05 - \n",
      "2020-11-08 16:47:05 - Validation loss\n",
      "2020-11-08 16:47:05 - Total Loss: 1.5487820903460185\n",
      "2020-11-08 16:47:05 - \ttempo: 5.153 vel: 3.205 dev: 0.9583 articul: 1.112 pedal: 0.9441 trill: 0.0 kld: nan \n",
      "2020-11-08 16:47:05 - \n",
      "2020-11-08 16:47:05 - \n",
      "2020-11-08 16:47:06 - Training Epoch 13\n",
      "2020-11-08 16:47:06 - \n",
      "2020-11-08 16:47:11 - Training Loss\n",
      "2020-11-08 16:47:11 - Total Loss: 0.8029186202062143\n",
      "2020-11-08 16:47:11 - \ttempo: 0.09959 vel: 0.4608 dev: 0.6887 articul: 0.8173 pedal: 0.9665 trill: 0.0 kld: nan \n",
      "2020-11-08 16:47:11 - \n",
      "2020-11-08 16:47:11 - Validation loss\n",
      "2020-11-08 16:47:11 - Total Loss: 1.4993507067362468\n",
      "2020-11-08 16:47:11 - \ttempo: 4.847 vel: 3.022 dev: 0.957 articul: 1.085 pedal: 0.9404 trill: 0.0 kld: nan \n",
      "2020-11-08 16:47:11 - \n",
      "2020-11-08 16:47:11 - \n",
      "2020-11-08 16:47:11 - Training Epoch 14\n",
      "2020-11-08 16:47:11 - \n",
      "2020-11-08 16:47:16 - Training Loss\n",
      "2020-11-08 16:47:16 - Total Loss: 0.8222821587569094\n",
      "2020-11-08 16:47:16 - \ttempo: 0.09465 vel: 0.4605 dev: 0.7011 articul: 0.8179 pedal: 0.9959 trill: 0.0 kld: nan \n",
      "2020-11-08 16:47:16 - \n",
      "2020-11-08 16:47:17 - Validation loss\n",
      "2020-11-08 16:47:17 - Total Loss: 1.4992982745170593\n",
      "2020-11-08 16:47:17 - \ttempo: 4.798 vel: 3.009 dev: 0.9552 articul: 1.103 pedal: 0.9466 trill: 0.0 kld: nan \n",
      "2020-11-08 16:47:17 - \n",
      "2020-11-08 16:47:17 - \n",
      "2020-11-08 16:47:17 - Training Epoch 15\n",
      "2020-11-08 16:47:17 - \n",
      "2020-11-08 16:47:22 - Training Loss\n",
      "2020-11-08 16:47:22 - Total Loss: 0.7935405432393676\n",
      "2020-11-08 16:47:22 - \ttempo: 0.09823 vel: 0.4566 dev: 0.6999 articul: 0.8282 pedal: 0.9494 trill: 0.0 kld: nan \n",
      "2020-11-08 16:47:22 - \n",
      "2020-11-08 16:47:22 - Validation loss\n",
      "2020-11-08 16:47:22 - Total Loss: 1.4801370700200398\n",
      "2020-11-08 16:47:22 - \ttempo: 4.749 vel: 2.987 dev: 0.9541 articul: 1.04 pedal: 0.9359 trill: 0.0 kld: nan \n",
      "2020-11-08 16:47:22 - \n",
      "2020-11-08 16:47:22 - \n",
      "2020-11-08 16:47:22 - Training Epoch 16\n",
      "2020-11-08 16:47:22 - \n",
      "2020-11-08 16:47:28 - Training Loss\n",
      "2020-11-08 16:47:28 - Total Loss: 0.7896210945941307\n",
      "2020-11-08 16:47:28 - \ttempo: 0.09495 vel: 0.4445 dev: 0.6746 articul: 0.809 pedal: 0.9518 trill: 0.0 kld: nan \n",
      "2020-11-08 16:47:28 - \n",
      "2020-11-08 16:47:28 - Validation loss\n",
      "2020-11-08 16:47:28 - Total Loss: 1.476520339647929\n",
      "2020-11-08 16:47:28 - \ttempo: 4.68 vel: 2.941 dev: 0.9546 articul: 1.086 pedal: 0.9401 trill: 0.0 kld: nan \n",
      "2020-11-08 16:47:28 - \n",
      "2020-11-08 16:47:28 - \n",
      "2020-11-08 16:47:28 - Training Epoch 17\n",
      "2020-11-08 16:47:28 - \n",
      "2020-11-08 16:47:33 - Training Loss\n",
      "2020-11-08 16:47:33 - Total Loss: 0.7864226553785173\n",
      "2020-11-08 16:47:33 - \ttempo: 0.09428 vel: 0.4447 dev: 0.6702 articul: 0.805 pedal: 0.9481 trill: 0.0 kld: nan \n",
      "2020-11-08 16:47:33 - \n",
      "2020-11-08 16:47:33 - Validation loss\n",
      "2020-11-08 16:47:33 - Total Loss: 1.4612169067064922\n",
      "2020-11-08 16:47:33 - \ttempo: 4.655 vel: 2.94 dev: 0.9622 articul: 0.9641 pedal: 0.9359 trill: 0.0 kld: nan \n",
      "2020-11-08 16:47:33 - \n",
      "2020-11-08 16:47:33 - \n",
      "2020-11-08 16:47:33 - Training Epoch 18\n",
      "2020-11-08 16:47:33 - \n",
      "2020-11-08 16:47:38 - Training Loss\n",
      "2020-11-08 16:47:38 - Total Loss: 0.7883496771793108\n",
      "2020-11-08 16:47:38 - \ttempo: 0.0916 vel: 0.4458 dev: 0.6801 articul: 0.8123 pedal: 0.9489 trill: 0.0 kld: nan \n",
      "2020-11-08 16:47:38 - \n",
      "2020-11-08 16:47:38 - Validation loss\n",
      "2020-11-08 16:47:38 - Total Loss: 1.4426917831103008\n",
      "2020-11-08 16:47:38 - \ttempo: 4.461 vel: 2.838 dev: 0.9525 articul: 1.044 pedal: 0.9391 trill: 0.0 kld: nan \n",
      "2020-11-08 16:47:38 - \n",
      "2020-11-08 16:47:38 - \n",
      "2020-11-08 16:47:38 - Training Epoch 19\n",
      "2020-11-08 16:47:38 - \n",
      "2020-11-08 16:47:43 - Training Loss\n",
      "2020-11-08 16:47:43 - Total Loss: 0.7876309089754757\n",
      "2020-11-08 16:47:43 - \ttempo: 0.09395 vel: 0.4502 dev: 0.6697 articul: 0.8012 pedal: 0.9498 trill: 0.0 kld: nan \n",
      "2020-11-08 16:47:43 - \n",
      "2020-11-08 16:47:43 - Validation loss\n",
      "2020-11-08 16:47:43 - Total Loss: 1.4413128296534221\n",
      "2020-11-08 16:47:43 - \ttempo: 4.442 vel: 2.82 dev: 0.9465 articul: 1.045 pedal: 0.9431 trill: 0.0 kld: nan \n",
      "2020-11-08 16:47:43 - \n",
      "2020-11-08 16:47:43 - \n",
      "2020-11-08 16:47:44 - Training Epoch 20\n",
      "2020-11-08 16:47:44 - \n",
      "2020-11-08 16:47:48 - Training Loss\n",
      "2020-11-08 16:47:48 - Total Loss: 0.792461183336046\n",
      "2020-11-08 16:47:48 - \ttempo: 0.09643 vel: 0.4455 dev: 0.691 articul: 0.8023 pedal: 0.9546 trill: 0.0 kld: nan \n",
      "2020-11-08 16:47:48 - \n",
      "2020-11-08 16:47:48 - Validation loss\n",
      "2020-11-08 16:47:48 - Total Loss: 1.4205672144889832\n",
      "2020-11-08 16:47:48 - \ttempo: 4.255 vel: 2.719 dev: 0.9408 articul: 1.066 pedal: 0.9494 trill: 0.0 kld: nan \n",
      "2020-11-08 16:47:48 - \n",
      "2020-11-08 16:47:48 - \n",
      "2020-11-08 16:47:49 - FINISHED None VERSION 0.2 TRAINING JOB AT 20 EPOCHS FOR  DATA SET\n"
     ]
    }
   ],
   "source": [
    "training_loss, valid_loss = start_training(\n",
    "    data=dev_data,\n",
    "    version=0.2,\n",
    "    num_epochs=20,\n",
    "    job=TransformerEncoderJob,\n",
    "    job_params=job_params,\n",
    "    model_class=TransformerEncoder,\n",
    "    model_hyper_params=hyper_params\n",
    ")"
   ]
  },
  {
   "cell_type": "code",
   "execution_count": 33,
   "metadata": {},
   "outputs": [
    {
     "output_type": "display_data",
     "data": {
      "text/plain": "<Figure size 1080x576 with 1 Axes>",
      "image/svg+xml": "<?xml version=\"1.0\" encoding=\"utf-8\" standalone=\"no\"?>\n<!DOCTYPE svg PUBLIC \"-//W3C//DTD SVG 1.1//EN\"\n  \"http://www.w3.org/Graphics/SVG/1.1/DTD/svg11.dtd\">\n<!-- Created with matplotlib (https://matplotlib.org/) -->\n<svg height=\"494.754375pt\" version=\"1.1\" viewBox=\"0 0 894.34375 494.754375\" width=\"894.34375pt\" xmlns=\"http://www.w3.org/2000/svg\" xmlns:xlink=\"http://www.w3.org/1999/xlink\">\n <metadata>\n  <rdf:RDF xmlns:cc=\"http://creativecommons.org/ns#\" xmlns:dc=\"http://purl.org/dc/elements/1.1/\" xmlns:rdf=\"http://www.w3.org/1999/02/22-rdf-syntax-ns#\">\n   <cc:Work>\n    <dc:type rdf:resource=\"http://purl.org/dc/dcmitype/StillImage\"/>\n    <dc:date>2020-11-08T16:58:31.425190</dc:date>\n    <dc:format>image/svg+xml</dc:format>\n    <dc:creator>\n     <cc:Agent>\n      <dc:title>Matplotlib v3.3.2, https://matplotlib.org/</dc:title>\n     </cc:Agent>\n    </dc:creator>\n   </cc:Work>\n  </rdf:RDF>\n </metadata>\n <defs>\n  <style type=\"text/css\">*{stroke-linecap:butt;stroke-linejoin:round;}</style>\n </defs>\n <g id=\"figure_1\">\n  <g id=\"patch_1\">\n   <path d=\"M 0 494.754375 \nL 894.34375 494.754375 \nL 894.34375 0 \nL 0 0 \nz\n\" style=\"fill:none;\"/>\n  </g>\n  <g id=\"axes_1\">\n   <g id=\"patch_2\">\n    <path d=\"M 50.14375 457.198125 \nL 887.14375 457.198125 \nL 887.14375 22.318125 \nL 50.14375 22.318125 \nz\n\" style=\"fill:#ffffff;\"/>\n   </g>\n   <g id=\"matplotlib.axis_1\">\n    <g id=\"xtick_1\">\n     <g id=\"line2d_1\">\n      <defs>\n       <path d=\"M 0 0 \nL 0 3.5 \n\" id=\"mc9a274c12b\" style=\"stroke:#000000;stroke-width:0.8;\"/>\n      </defs>\n      <g>\n       <use style=\"stroke:#000000;stroke-width:0.8;\" x=\"88.189205\" xlink:href=\"#mc9a274c12b\" y=\"457.198125\"/>\n      </g>\n     </g>\n     <g id=\"text_1\">\n      <!-- 0.0 -->\n      <g transform=\"translate(80.237642 471.796562)scale(0.1 -0.1)\">\n       <defs>\n        <path d=\"M 31.78125 66.40625 \nQ 24.171875 66.40625 20.328125 58.90625 \nQ 16.5 51.421875 16.5 36.375 \nQ 16.5 21.390625 20.328125 13.890625 \nQ 24.171875 6.390625 31.78125 6.390625 \nQ 39.453125 6.390625 43.28125 13.890625 \nQ 47.125 21.390625 47.125 36.375 \nQ 47.125 51.421875 43.28125 58.90625 \nQ 39.453125 66.40625 31.78125 66.40625 \nz\nM 31.78125 74.21875 \nQ 44.046875 74.21875 50.515625 64.515625 \nQ 56.984375 54.828125 56.984375 36.375 \nQ 56.984375 17.96875 50.515625 8.265625 \nQ 44.046875 -1.421875 31.78125 -1.421875 \nQ 19.53125 -1.421875 13.0625 8.265625 \nQ 6.59375 17.96875 6.59375 36.375 \nQ 6.59375 54.828125 13.0625 64.515625 \nQ 19.53125 74.21875 31.78125 74.21875 \nz\n\" id=\"DejaVuSans-48\"/>\n        <path d=\"M 10.6875 12.40625 \nL 21 12.40625 \nL 21 0 \nL 10.6875 0 \nz\n\" id=\"DejaVuSans-46\"/>\n       </defs>\n       <use xlink:href=\"#DejaVuSans-48\"/>\n       <use x=\"63.623047\" xlink:href=\"#DejaVuSans-46\"/>\n       <use x=\"95.410156\" xlink:href=\"#DejaVuSans-48\"/>\n      </g>\n     </g>\n    </g>\n    <g id=\"xtick_2\">\n     <g id=\"line2d_2\">\n      <g>\n       <use style=\"stroke:#000000;stroke-width:0.8;\" x=\"188.308822\" xlink:href=\"#mc9a274c12b\" y=\"457.198125\"/>\n      </g>\n     </g>\n     <g id=\"text_2\">\n      <!-- 2.5 -->\n      <g transform=\"translate(180.357259 471.796562)scale(0.1 -0.1)\">\n       <defs>\n        <path d=\"M 19.1875 8.296875 \nL 53.609375 8.296875 \nL 53.609375 0 \nL 7.328125 0 \nL 7.328125 8.296875 \nQ 12.9375 14.109375 22.625 23.890625 \nQ 32.328125 33.6875 34.8125 36.53125 \nQ 39.546875 41.84375 41.421875 45.53125 \nQ 43.3125 49.21875 43.3125 52.78125 \nQ 43.3125 58.59375 39.234375 62.25 \nQ 35.15625 65.921875 28.609375 65.921875 \nQ 23.96875 65.921875 18.8125 64.3125 \nQ 13.671875 62.703125 7.8125 59.421875 \nL 7.8125 69.390625 \nQ 13.765625 71.78125 18.9375 73 \nQ 24.125 74.21875 28.421875 74.21875 \nQ 39.75 74.21875 46.484375 68.546875 \nQ 53.21875 62.890625 53.21875 53.421875 \nQ 53.21875 48.921875 51.53125 44.890625 \nQ 49.859375 40.875 45.40625 35.40625 \nQ 44.1875 33.984375 37.640625 27.21875 \nQ 31.109375 20.453125 19.1875 8.296875 \nz\n\" id=\"DejaVuSans-50\"/>\n        <path d=\"M 10.796875 72.90625 \nL 49.515625 72.90625 \nL 49.515625 64.59375 \nL 19.828125 64.59375 \nL 19.828125 46.734375 \nQ 21.96875 47.46875 24.109375 47.828125 \nQ 26.265625 48.1875 28.421875 48.1875 \nQ 40.625 48.1875 47.75 41.5 \nQ 54.890625 34.8125 54.890625 23.390625 \nQ 54.890625 11.625 47.5625 5.09375 \nQ 40.234375 -1.421875 26.90625 -1.421875 \nQ 22.3125 -1.421875 17.546875 -0.640625 \nQ 12.796875 0.140625 7.71875 1.703125 \nL 7.71875 11.625 \nQ 12.109375 9.234375 16.796875 8.0625 \nQ 21.484375 6.890625 26.703125 6.890625 \nQ 35.15625 6.890625 40.078125 11.328125 \nQ 45.015625 15.765625 45.015625 23.390625 \nQ 45.015625 31 40.078125 35.4375 \nQ 35.15625 39.890625 26.703125 39.890625 \nQ 22.75 39.890625 18.8125 39.015625 \nQ 14.890625 38.140625 10.796875 36.28125 \nz\n\" id=\"DejaVuSans-53\"/>\n       </defs>\n       <use xlink:href=\"#DejaVuSans-50\"/>\n       <use x=\"63.623047\" xlink:href=\"#DejaVuSans-46\"/>\n       <use x=\"95.410156\" xlink:href=\"#DejaVuSans-53\"/>\n      </g>\n     </g>\n    </g>\n    <g id=\"xtick_3\">\n     <g id=\"line2d_3\">\n      <g>\n       <use style=\"stroke:#000000;stroke-width:0.8;\" x=\"288.428439\" xlink:href=\"#mc9a274c12b\" y=\"457.198125\"/>\n      </g>\n     </g>\n     <g id=\"text_3\">\n      <!-- 5.0 -->\n      <g transform=\"translate(280.476876 471.796562)scale(0.1 -0.1)\">\n       <use xlink:href=\"#DejaVuSans-53\"/>\n       <use x=\"63.623047\" xlink:href=\"#DejaVuSans-46\"/>\n       <use x=\"95.410156\" xlink:href=\"#DejaVuSans-48\"/>\n      </g>\n     </g>\n    </g>\n    <g id=\"xtick_4\">\n     <g id=\"line2d_4\">\n      <g>\n       <use style=\"stroke:#000000;stroke-width:0.8;\" x=\"388.548056\" xlink:href=\"#mc9a274c12b\" y=\"457.198125\"/>\n      </g>\n     </g>\n     <g id=\"text_4\">\n      <!-- 7.5 -->\n      <g transform=\"translate(380.596494 471.796562)scale(0.1 -0.1)\">\n       <defs>\n        <path d=\"M 8.203125 72.90625 \nL 55.078125 72.90625 \nL 55.078125 68.703125 \nL 28.609375 0 \nL 18.3125 0 \nL 43.21875 64.59375 \nL 8.203125 64.59375 \nz\n\" id=\"DejaVuSans-55\"/>\n       </defs>\n       <use xlink:href=\"#DejaVuSans-55\"/>\n       <use x=\"63.623047\" xlink:href=\"#DejaVuSans-46\"/>\n       <use x=\"95.410156\" xlink:href=\"#DejaVuSans-53\"/>\n      </g>\n     </g>\n    </g>\n    <g id=\"xtick_5\">\n     <g id=\"line2d_5\">\n      <g>\n       <use style=\"stroke:#000000;stroke-width:0.8;\" x=\"488.667673\" xlink:href=\"#mc9a274c12b\" y=\"457.198125\"/>\n      </g>\n     </g>\n     <g id=\"text_5\">\n      <!-- 10.0 -->\n      <g transform=\"translate(477.534861 471.796562)scale(0.1 -0.1)\">\n       <defs>\n        <path d=\"M 12.40625 8.296875 \nL 28.515625 8.296875 \nL 28.515625 63.921875 \nL 10.984375 60.40625 \nL 10.984375 69.390625 \nL 28.421875 72.90625 \nL 38.28125 72.90625 \nL 38.28125 8.296875 \nL 54.390625 8.296875 \nL 54.390625 0 \nL 12.40625 0 \nz\n\" id=\"DejaVuSans-49\"/>\n       </defs>\n       <use xlink:href=\"#DejaVuSans-49\"/>\n       <use x=\"63.623047\" xlink:href=\"#DejaVuSans-48\"/>\n       <use x=\"127.246094\" xlink:href=\"#DejaVuSans-46\"/>\n       <use x=\"159.033203\" xlink:href=\"#DejaVuSans-48\"/>\n      </g>\n     </g>\n    </g>\n    <g id=\"xtick_6\">\n     <g id=\"line2d_6\">\n      <g>\n       <use style=\"stroke:#000000;stroke-width:0.8;\" x=\"588.787291\" xlink:href=\"#mc9a274c12b\" y=\"457.198125\"/>\n      </g>\n     </g>\n     <g id=\"text_6\">\n      <!-- 12.5 -->\n      <g transform=\"translate(577.654478 471.796562)scale(0.1 -0.1)\">\n       <use xlink:href=\"#DejaVuSans-49\"/>\n       <use x=\"63.623047\" xlink:href=\"#DejaVuSans-50\"/>\n       <use x=\"127.246094\" xlink:href=\"#DejaVuSans-46\"/>\n       <use x=\"159.033203\" xlink:href=\"#DejaVuSans-53\"/>\n      </g>\n     </g>\n    </g>\n    <g id=\"xtick_7\">\n     <g id=\"line2d_7\">\n      <g>\n       <use style=\"stroke:#000000;stroke-width:0.8;\" x=\"688.906908\" xlink:href=\"#mc9a274c12b\" y=\"457.198125\"/>\n      </g>\n     </g>\n     <g id=\"text_7\">\n      <!-- 15.0 -->\n      <g transform=\"translate(677.774095 471.796562)scale(0.1 -0.1)\">\n       <use xlink:href=\"#DejaVuSans-49\"/>\n       <use x=\"63.623047\" xlink:href=\"#DejaVuSans-53\"/>\n       <use x=\"127.246094\" xlink:href=\"#DejaVuSans-46\"/>\n       <use x=\"159.033203\" xlink:href=\"#DejaVuSans-48\"/>\n      </g>\n     </g>\n    </g>\n    <g id=\"xtick_8\">\n     <g id=\"line2d_8\">\n      <g>\n       <use style=\"stroke:#000000;stroke-width:0.8;\" x=\"789.026525\" xlink:href=\"#mc9a274c12b\" y=\"457.198125\"/>\n      </g>\n     </g>\n     <g id=\"text_8\">\n      <!-- 17.5 -->\n      <g transform=\"translate(777.893713 471.796562)scale(0.1 -0.1)\">\n       <use xlink:href=\"#DejaVuSans-49\"/>\n       <use x=\"63.623047\" xlink:href=\"#DejaVuSans-55\"/>\n       <use x=\"127.246094\" xlink:href=\"#DejaVuSans-46\"/>\n       <use x=\"159.033203\" xlink:href=\"#DejaVuSans-53\"/>\n      </g>\n     </g>\n    </g>\n    <g id=\"text_9\">\n     <!-- epoch number -->\n     <g transform=\"translate(432.3125 485.474687)scale(0.1 -0.1)\">\n      <defs>\n       <path d=\"M 56.203125 29.59375 \nL 56.203125 25.203125 \nL 14.890625 25.203125 \nQ 15.484375 15.921875 20.484375 11.0625 \nQ 25.484375 6.203125 34.421875 6.203125 \nQ 39.59375 6.203125 44.453125 7.46875 \nQ 49.3125 8.734375 54.109375 11.28125 \nL 54.109375 2.78125 \nQ 49.265625 0.734375 44.1875 -0.34375 \nQ 39.109375 -1.421875 33.890625 -1.421875 \nQ 20.796875 -1.421875 13.15625 6.1875 \nQ 5.515625 13.8125 5.515625 26.8125 \nQ 5.515625 40.234375 12.765625 48.109375 \nQ 20.015625 56 32.328125 56 \nQ 43.359375 56 49.78125 48.890625 \nQ 56.203125 41.796875 56.203125 29.59375 \nz\nM 47.21875 32.234375 \nQ 47.125 39.59375 43.09375 43.984375 \nQ 39.0625 48.390625 32.421875 48.390625 \nQ 24.90625 48.390625 20.390625 44.140625 \nQ 15.875 39.890625 15.1875 32.171875 \nz\n\" id=\"DejaVuSans-101\"/>\n       <path d=\"M 18.109375 8.203125 \nL 18.109375 -20.796875 \nL 9.078125 -20.796875 \nL 9.078125 54.6875 \nL 18.109375 54.6875 \nL 18.109375 46.390625 \nQ 20.953125 51.265625 25.265625 53.625 \nQ 29.59375 56 35.59375 56 \nQ 45.5625 56 51.78125 48.09375 \nQ 58.015625 40.1875 58.015625 27.296875 \nQ 58.015625 14.40625 51.78125 6.484375 \nQ 45.5625 -1.421875 35.59375 -1.421875 \nQ 29.59375 -1.421875 25.265625 0.953125 \nQ 20.953125 3.328125 18.109375 8.203125 \nz\nM 48.6875 27.296875 \nQ 48.6875 37.203125 44.609375 42.84375 \nQ 40.53125 48.484375 33.40625 48.484375 \nQ 26.265625 48.484375 22.1875 42.84375 \nQ 18.109375 37.203125 18.109375 27.296875 \nQ 18.109375 17.390625 22.1875 11.75 \nQ 26.265625 6.109375 33.40625 6.109375 \nQ 40.53125 6.109375 44.609375 11.75 \nQ 48.6875 17.390625 48.6875 27.296875 \nz\n\" id=\"DejaVuSans-112\"/>\n       <path d=\"M 30.609375 48.390625 \nQ 23.390625 48.390625 19.1875 42.75 \nQ 14.984375 37.109375 14.984375 27.296875 \nQ 14.984375 17.484375 19.15625 11.84375 \nQ 23.34375 6.203125 30.609375 6.203125 \nQ 37.796875 6.203125 41.984375 11.859375 \nQ 46.1875 17.53125 46.1875 27.296875 \nQ 46.1875 37.015625 41.984375 42.703125 \nQ 37.796875 48.390625 30.609375 48.390625 \nz\nM 30.609375 56 \nQ 42.328125 56 49.015625 48.375 \nQ 55.71875 40.765625 55.71875 27.296875 \nQ 55.71875 13.875 49.015625 6.21875 \nQ 42.328125 -1.421875 30.609375 -1.421875 \nQ 18.84375 -1.421875 12.171875 6.21875 \nQ 5.515625 13.875 5.515625 27.296875 \nQ 5.515625 40.765625 12.171875 48.375 \nQ 18.84375 56 30.609375 56 \nz\n\" id=\"DejaVuSans-111\"/>\n       <path d=\"M 48.78125 52.59375 \nL 48.78125 44.1875 \nQ 44.96875 46.296875 41.140625 47.34375 \nQ 37.3125 48.390625 33.40625 48.390625 \nQ 24.65625 48.390625 19.8125 42.84375 \nQ 14.984375 37.3125 14.984375 27.296875 \nQ 14.984375 17.28125 19.8125 11.734375 \nQ 24.65625 6.203125 33.40625 6.203125 \nQ 37.3125 6.203125 41.140625 7.25 \nQ 44.96875 8.296875 48.78125 10.40625 \nL 48.78125 2.09375 \nQ 45.015625 0.34375 40.984375 -0.53125 \nQ 36.96875 -1.421875 32.421875 -1.421875 \nQ 20.0625 -1.421875 12.78125 6.34375 \nQ 5.515625 14.109375 5.515625 27.296875 \nQ 5.515625 40.671875 12.859375 48.328125 \nQ 20.21875 56 33.015625 56 \nQ 37.15625 56 41.109375 55.140625 \nQ 45.0625 54.296875 48.78125 52.59375 \nz\n\" id=\"DejaVuSans-99\"/>\n       <path d=\"M 54.890625 33.015625 \nL 54.890625 0 \nL 45.90625 0 \nL 45.90625 32.71875 \nQ 45.90625 40.484375 42.875 44.328125 \nQ 39.84375 48.1875 33.796875 48.1875 \nQ 26.515625 48.1875 22.3125 43.546875 \nQ 18.109375 38.921875 18.109375 30.90625 \nL 18.109375 0 \nL 9.078125 0 \nL 9.078125 75.984375 \nL 18.109375 75.984375 \nL 18.109375 46.1875 \nQ 21.34375 51.125 25.703125 53.5625 \nQ 30.078125 56 35.796875 56 \nQ 45.21875 56 50.046875 50.171875 \nQ 54.890625 44.34375 54.890625 33.015625 \nz\n\" id=\"DejaVuSans-104\"/>\n       <path id=\"DejaVuSans-32\"/>\n       <path d=\"M 54.890625 33.015625 \nL 54.890625 0 \nL 45.90625 0 \nL 45.90625 32.71875 \nQ 45.90625 40.484375 42.875 44.328125 \nQ 39.84375 48.1875 33.796875 48.1875 \nQ 26.515625 48.1875 22.3125 43.546875 \nQ 18.109375 38.921875 18.109375 30.90625 \nL 18.109375 0 \nL 9.078125 0 \nL 9.078125 54.6875 \nL 18.109375 54.6875 \nL 18.109375 46.1875 \nQ 21.34375 51.125 25.703125 53.5625 \nQ 30.078125 56 35.796875 56 \nQ 45.21875 56 50.046875 50.171875 \nQ 54.890625 44.34375 54.890625 33.015625 \nz\n\" id=\"DejaVuSans-110\"/>\n       <path d=\"M 8.5 21.578125 \nL 8.5 54.6875 \nL 17.484375 54.6875 \nL 17.484375 21.921875 \nQ 17.484375 14.15625 20.5 10.265625 \nQ 23.53125 6.390625 29.59375 6.390625 \nQ 36.859375 6.390625 41.078125 11.03125 \nQ 45.3125 15.671875 45.3125 23.6875 \nL 45.3125 54.6875 \nL 54.296875 54.6875 \nL 54.296875 0 \nL 45.3125 0 \nL 45.3125 8.40625 \nQ 42.046875 3.421875 37.71875 1 \nQ 33.40625 -1.421875 27.6875 -1.421875 \nQ 18.265625 -1.421875 13.375 4.4375 \nQ 8.5 10.296875 8.5 21.578125 \nz\nM 31.109375 56 \nz\n\" id=\"DejaVuSans-117\"/>\n       <path d=\"M 52 44.1875 \nQ 55.375 50.25 60.0625 53.125 \nQ 64.75 56 71.09375 56 \nQ 79.640625 56 84.28125 50.015625 \nQ 88.921875 44.046875 88.921875 33.015625 \nL 88.921875 0 \nL 79.890625 0 \nL 79.890625 32.71875 \nQ 79.890625 40.578125 77.09375 44.375 \nQ 74.3125 48.1875 68.609375 48.1875 \nQ 61.625 48.1875 57.5625 43.546875 \nQ 53.515625 38.921875 53.515625 30.90625 \nL 53.515625 0 \nL 44.484375 0 \nL 44.484375 32.71875 \nQ 44.484375 40.625 41.703125 44.40625 \nQ 38.921875 48.1875 33.109375 48.1875 \nQ 26.21875 48.1875 22.15625 43.53125 \nQ 18.109375 38.875 18.109375 30.90625 \nL 18.109375 0 \nL 9.078125 0 \nL 9.078125 54.6875 \nL 18.109375 54.6875 \nL 18.109375 46.1875 \nQ 21.1875 51.21875 25.484375 53.609375 \nQ 29.78125 56 35.6875 56 \nQ 41.65625 56 45.828125 52.96875 \nQ 50 49.953125 52 44.1875 \nz\n\" id=\"DejaVuSans-109\"/>\n       <path d=\"M 48.6875 27.296875 \nQ 48.6875 37.203125 44.609375 42.84375 \nQ 40.53125 48.484375 33.40625 48.484375 \nQ 26.265625 48.484375 22.1875 42.84375 \nQ 18.109375 37.203125 18.109375 27.296875 \nQ 18.109375 17.390625 22.1875 11.75 \nQ 26.265625 6.109375 33.40625 6.109375 \nQ 40.53125 6.109375 44.609375 11.75 \nQ 48.6875 17.390625 48.6875 27.296875 \nz\nM 18.109375 46.390625 \nQ 20.953125 51.265625 25.265625 53.625 \nQ 29.59375 56 35.59375 56 \nQ 45.5625 56 51.78125 48.09375 \nQ 58.015625 40.1875 58.015625 27.296875 \nQ 58.015625 14.40625 51.78125 6.484375 \nQ 45.5625 -1.421875 35.59375 -1.421875 \nQ 29.59375 -1.421875 25.265625 0.953125 \nQ 20.953125 3.328125 18.109375 8.203125 \nL 18.109375 0 \nL 9.078125 0 \nL 9.078125 75.984375 \nL 18.109375 75.984375 \nz\n\" id=\"DejaVuSans-98\"/>\n       <path d=\"M 41.109375 46.296875 \nQ 39.59375 47.171875 37.8125 47.578125 \nQ 36.03125 48 33.890625 48 \nQ 26.265625 48 22.1875 43.046875 \nQ 18.109375 38.09375 18.109375 28.8125 \nL 18.109375 0 \nL 9.078125 0 \nL 9.078125 54.6875 \nL 18.109375 54.6875 \nL 18.109375 46.1875 \nQ 20.953125 51.171875 25.484375 53.578125 \nQ 30.03125 56 36.53125 56 \nQ 37.453125 56 38.578125 55.875 \nQ 39.703125 55.765625 41.0625 55.515625 \nz\n\" id=\"DejaVuSans-114\"/>\n      </defs>\n      <use xlink:href=\"#DejaVuSans-101\"/>\n      <use x=\"61.523438\" xlink:href=\"#DejaVuSans-112\"/>\n      <use x=\"125\" xlink:href=\"#DejaVuSans-111\"/>\n      <use x=\"186.181641\" xlink:href=\"#DejaVuSans-99\"/>\n      <use x=\"241.162109\" xlink:href=\"#DejaVuSans-104\"/>\n      <use x=\"304.541016\" xlink:href=\"#DejaVuSans-32\"/>\n      <use x=\"336.328125\" xlink:href=\"#DejaVuSans-110\"/>\n      <use x=\"399.707031\" xlink:href=\"#DejaVuSans-117\"/>\n      <use x=\"463.085938\" xlink:href=\"#DejaVuSans-109\"/>\n      <use x=\"560.498047\" xlink:href=\"#DejaVuSans-98\"/>\n      <use x=\"623.974609\" xlink:href=\"#DejaVuSans-101\"/>\n      <use x=\"685.498047\" xlink:href=\"#DejaVuSans-114\"/>\n     </g>\n    </g>\n   </g>\n   <g id=\"matplotlib.axis_2\">\n    <g id=\"ytick_1\">\n     <g id=\"line2d_9\">\n      <defs>\n       <path d=\"M 0 0 \nL -3.5 0 \n\" id=\"mb888181e00\" style=\"stroke:#000000;stroke-width:0.8;\"/>\n      </defs>\n      <g>\n       <use style=\"stroke:#000000;stroke-width:0.8;\" x=\"50.14375\" xlink:href=\"#mb888181e00\" y=\"457.198125\"/>\n      </g>\n     </g>\n     <g id=\"text_10\">\n      <!-- 0.00 -->\n      <g transform=\"translate(20.878125 460.997344)scale(0.1 -0.1)\">\n       <use xlink:href=\"#DejaVuSans-48\"/>\n       <use x=\"63.623047\" xlink:href=\"#DejaVuSans-46\"/>\n       <use x=\"95.410156\" xlink:href=\"#DejaVuSans-48\"/>\n       <use x=\"159.033203\" xlink:href=\"#DejaVuSans-48\"/>\n      </g>\n     </g>\n    </g>\n    <g id=\"ytick_2\">\n     <g id=\"line2d_10\">\n      <g>\n       <use style=\"stroke:#000000;stroke-width:0.8;\" x=\"50.14375\" xlink:href=\"#mb888181e00\" y=\"397.58292\"/>\n      </g>\n     </g>\n     <g id=\"text_11\">\n      <!-- 0.25 -->\n      <g transform=\"translate(20.878125 401.382138)scale(0.1 -0.1)\">\n       <use xlink:href=\"#DejaVuSans-48\"/>\n       <use x=\"63.623047\" xlink:href=\"#DejaVuSans-46\"/>\n       <use x=\"95.410156\" xlink:href=\"#DejaVuSans-50\"/>\n       <use x=\"159.033203\" xlink:href=\"#DejaVuSans-53\"/>\n      </g>\n     </g>\n    </g>\n    <g id=\"ytick_3\">\n     <g id=\"line2d_11\">\n      <g>\n       <use style=\"stroke:#000000;stroke-width:0.8;\" x=\"50.14375\" xlink:href=\"#mb888181e00\" y=\"337.967714\"/>\n      </g>\n     </g>\n     <g id=\"text_12\">\n      <!-- 0.50 -->\n      <g transform=\"translate(20.878125 341.766933)scale(0.1 -0.1)\">\n       <use xlink:href=\"#DejaVuSans-48\"/>\n       <use x=\"63.623047\" xlink:href=\"#DejaVuSans-46\"/>\n       <use x=\"95.410156\" xlink:href=\"#DejaVuSans-53\"/>\n       <use x=\"159.033203\" xlink:href=\"#DejaVuSans-48\"/>\n      </g>\n     </g>\n    </g>\n    <g id=\"ytick_4\">\n     <g id=\"line2d_12\">\n      <g>\n       <use style=\"stroke:#000000;stroke-width:0.8;\" x=\"50.14375\" xlink:href=\"#mb888181e00\" y=\"278.352509\"/>\n      </g>\n     </g>\n     <g id=\"text_13\">\n      <!-- 0.75 -->\n      <g transform=\"translate(20.878125 282.151728)scale(0.1 -0.1)\">\n       <use xlink:href=\"#DejaVuSans-48\"/>\n       <use x=\"63.623047\" xlink:href=\"#DejaVuSans-46\"/>\n       <use x=\"95.410156\" xlink:href=\"#DejaVuSans-55\"/>\n       <use x=\"159.033203\" xlink:href=\"#DejaVuSans-53\"/>\n      </g>\n     </g>\n    </g>\n    <g id=\"ytick_5\">\n     <g id=\"line2d_13\">\n      <g>\n       <use style=\"stroke:#000000;stroke-width:0.8;\" x=\"50.14375\" xlink:href=\"#mb888181e00\" y=\"218.737304\"/>\n      </g>\n     </g>\n     <g id=\"text_14\">\n      <!-- 1.00 -->\n      <g transform=\"translate(20.878125 222.536523)scale(0.1 -0.1)\">\n       <use xlink:href=\"#DejaVuSans-49\"/>\n       <use x=\"63.623047\" xlink:href=\"#DejaVuSans-46\"/>\n       <use x=\"95.410156\" xlink:href=\"#DejaVuSans-48\"/>\n       <use x=\"159.033203\" xlink:href=\"#DejaVuSans-48\"/>\n      </g>\n     </g>\n    </g>\n    <g id=\"ytick_6\">\n     <g id=\"line2d_14\">\n      <g>\n       <use style=\"stroke:#000000;stroke-width:0.8;\" x=\"50.14375\" xlink:href=\"#mb888181e00\" y=\"159.122099\"/>\n      </g>\n     </g>\n     <g id=\"text_15\">\n      <!-- 1.25 -->\n      <g transform=\"translate(20.878125 162.921317)scale(0.1 -0.1)\">\n       <use xlink:href=\"#DejaVuSans-49\"/>\n       <use x=\"63.623047\" xlink:href=\"#DejaVuSans-46\"/>\n       <use x=\"95.410156\" xlink:href=\"#DejaVuSans-50\"/>\n       <use x=\"159.033203\" xlink:href=\"#DejaVuSans-53\"/>\n      </g>\n     </g>\n    </g>\n    <g id=\"ytick_7\">\n     <g id=\"line2d_15\">\n      <g>\n       <use style=\"stroke:#000000;stroke-width:0.8;\" x=\"50.14375\" xlink:href=\"#mb888181e00\" y=\"99.506893\"/>\n      </g>\n     </g>\n     <g id=\"text_16\">\n      <!-- 1.50 -->\n      <g transform=\"translate(20.878125 103.306112)scale(0.1 -0.1)\">\n       <use xlink:href=\"#DejaVuSans-49\"/>\n       <use x=\"63.623047\" xlink:href=\"#DejaVuSans-46\"/>\n       <use x=\"95.410156\" xlink:href=\"#DejaVuSans-53\"/>\n       <use x=\"159.033203\" xlink:href=\"#DejaVuSans-48\"/>\n      </g>\n     </g>\n    </g>\n    <g id=\"ytick_8\">\n     <g id=\"line2d_16\">\n      <g>\n       <use style=\"stroke:#000000;stroke-width:0.8;\" x=\"50.14375\" xlink:href=\"#mb888181e00\" y=\"39.891688\"/>\n      </g>\n     </g>\n     <g id=\"text_17\">\n      <!-- 1.75 -->\n      <g transform=\"translate(20.878125 43.690907)scale(0.1 -0.1)\">\n       <use xlink:href=\"#DejaVuSans-49\"/>\n       <use x=\"63.623047\" xlink:href=\"#DejaVuSans-46\"/>\n       <use x=\"95.410156\" xlink:href=\"#DejaVuSans-55\"/>\n       <use x=\"159.033203\" xlink:href=\"#DejaVuSans-53\"/>\n      </g>\n     </g>\n    </g>\n    <g id=\"text_18\">\n     <!-- MSE -->\n     <g transform=\"translate(14.798437 250.405781)rotate(-90)scale(0.1 -0.1)\">\n      <defs>\n       <path d=\"M 9.8125 72.90625 \nL 24.515625 72.90625 \nL 43.109375 23.296875 \nL 61.8125 72.90625 \nL 76.515625 72.90625 \nL 76.515625 0 \nL 66.890625 0 \nL 66.890625 64.015625 \nL 48.09375 14.015625 \nL 38.1875 14.015625 \nL 19.390625 64.015625 \nL 19.390625 0 \nL 9.8125 0 \nz\n\" id=\"DejaVuSans-77\"/>\n       <path d=\"M 53.515625 70.515625 \nL 53.515625 60.890625 \nQ 47.90625 63.578125 42.921875 64.890625 \nQ 37.9375 66.21875 33.296875 66.21875 \nQ 25.25 66.21875 20.875 63.09375 \nQ 16.5 59.96875 16.5 54.203125 \nQ 16.5 49.359375 19.40625 46.890625 \nQ 22.3125 44.4375 30.421875 42.921875 \nL 36.375 41.703125 \nQ 47.40625 39.59375 52.65625 34.296875 \nQ 57.90625 29 57.90625 20.125 \nQ 57.90625 9.515625 50.796875 4.046875 \nQ 43.703125 -1.421875 29.984375 -1.421875 \nQ 24.8125 -1.421875 18.96875 -0.25 \nQ 13.140625 0.921875 6.890625 3.21875 \nL 6.890625 13.375 \nQ 12.890625 10.015625 18.65625 8.296875 \nQ 24.421875 6.59375 29.984375 6.59375 \nQ 38.421875 6.59375 43.015625 9.90625 \nQ 47.609375 13.234375 47.609375 19.390625 \nQ 47.609375 24.75 44.3125 27.78125 \nQ 41.015625 30.8125 33.5 32.328125 \nL 27.484375 33.5 \nQ 16.453125 35.6875 11.515625 40.375 \nQ 6.59375 45.0625 6.59375 53.421875 \nQ 6.59375 63.09375 13.40625 68.65625 \nQ 20.21875 74.21875 32.171875 74.21875 \nQ 37.3125 74.21875 42.625 73.28125 \nQ 47.953125 72.359375 53.515625 70.515625 \nz\n\" id=\"DejaVuSans-83\"/>\n       <path d=\"M 9.8125 72.90625 \nL 55.90625 72.90625 \nL 55.90625 64.59375 \nL 19.671875 64.59375 \nL 19.671875 43.015625 \nL 54.390625 43.015625 \nL 54.390625 34.71875 \nL 19.671875 34.71875 \nL 19.671875 8.296875 \nL 56.78125 8.296875 \nL 56.78125 0 \nL 9.8125 0 \nz\n\" id=\"DejaVuSans-69\"/>\n      </defs>\n      <use xlink:href=\"#DejaVuSans-77\"/>\n      <use x=\"86.279297\" xlink:href=\"#DejaVuSans-83\"/>\n      <use x=\"149.755859\" xlink:href=\"#DejaVuSans-69\"/>\n     </g>\n    </g>\n   </g>\n   <g id=\"line2d_17\">\n    <path clip-path=\"url(#p966c037938)\" d=\"M 88.189205 216.279323 \nL 128.237051 256.492994 \nL 168.284898 254.775896 \nL 208.332745 262.916134 \nL 248.380592 264.534112 \nL 288.428439 264.078654 \nL 328.476286 263.502992 \nL 368.524133 264.396812 \nL 408.57198 259.581339 \nL 448.619827 265.908613 \nL 488.667673 266.013029 \nL 528.71552 265.233687 \nL 568.763367 265.733492 \nL 608.811214 261.116046 \nL 648.859061 267.969795 \nL 688.906908 268.90443 \nL 728.954755 269.667133 \nL 769.002602 269.207614 \nL 809.050449 269.379012 \nL 849.098295 268.227181 \n\" style=\"fill:none;stroke:#0000ff;stroke-linecap:square;stroke-width:1.5;\"/>\n    <defs>\n     <path d=\"M 0 3 \nC 0.795609 3 1.55874 2.683901 2.12132 2.12132 \nC 2.683901 1.55874 3 0.795609 3 0 \nC 3 -0.795609 2.683901 -1.55874 2.12132 -2.12132 \nC 1.55874 -2.683901 0.795609 -3 0 -3 \nC -0.795609 -3 -1.55874 -2.683901 -2.12132 -2.12132 \nC -2.683901 -1.55874 -3 -0.795609 -3 0 \nC -3 0.795609 -2.683901 1.55874 -2.12132 2.12132 \nC -1.55874 2.683901 -0.795609 3 0 3 \nz\n\" id=\"m835579887a\" style=\"stroke:#0000ff;\"/>\n    </defs>\n    <g clip-path=\"url(#p966c037938)\">\n     <use style=\"fill:#0000ff;stroke:#0000ff;\" x=\"88.189205\" xlink:href=\"#m835579887a\" y=\"216.279323\"/>\n     <use style=\"fill:#0000ff;stroke:#0000ff;\" x=\"128.237051\" xlink:href=\"#m835579887a\" y=\"256.492994\"/>\n     <use style=\"fill:#0000ff;stroke:#0000ff;\" x=\"168.284898\" xlink:href=\"#m835579887a\" y=\"254.775896\"/>\n     <use style=\"fill:#0000ff;stroke:#0000ff;\" x=\"208.332745\" xlink:href=\"#m835579887a\" y=\"262.916134\"/>\n     <use style=\"fill:#0000ff;stroke:#0000ff;\" x=\"248.380592\" xlink:href=\"#m835579887a\" y=\"264.534112\"/>\n     <use style=\"fill:#0000ff;stroke:#0000ff;\" x=\"288.428439\" xlink:href=\"#m835579887a\" y=\"264.078654\"/>\n     <use style=\"fill:#0000ff;stroke:#0000ff;\" x=\"328.476286\" xlink:href=\"#m835579887a\" y=\"263.502992\"/>\n     <use style=\"fill:#0000ff;stroke:#0000ff;\" x=\"368.524133\" xlink:href=\"#m835579887a\" y=\"264.396812\"/>\n     <use style=\"fill:#0000ff;stroke:#0000ff;\" x=\"408.57198\" xlink:href=\"#m835579887a\" y=\"259.581339\"/>\n     <use style=\"fill:#0000ff;stroke:#0000ff;\" x=\"448.619827\" xlink:href=\"#m835579887a\" y=\"265.908613\"/>\n     <use style=\"fill:#0000ff;stroke:#0000ff;\" x=\"488.667673\" xlink:href=\"#m835579887a\" y=\"266.013029\"/>\n     <use style=\"fill:#0000ff;stroke:#0000ff;\" x=\"528.71552\" xlink:href=\"#m835579887a\" y=\"265.233687\"/>\n     <use style=\"fill:#0000ff;stroke:#0000ff;\" x=\"568.763367\" xlink:href=\"#m835579887a\" y=\"265.733492\"/>\n     <use style=\"fill:#0000ff;stroke:#0000ff;\" x=\"608.811214\" xlink:href=\"#m835579887a\" y=\"261.116046\"/>\n     <use style=\"fill:#0000ff;stroke:#0000ff;\" x=\"648.859061\" xlink:href=\"#m835579887a\" y=\"267.969795\"/>\n     <use style=\"fill:#0000ff;stroke:#0000ff;\" x=\"688.906908\" xlink:href=\"#m835579887a\" y=\"268.90443\"/>\n     <use style=\"fill:#0000ff;stroke:#0000ff;\" x=\"728.954755\" xlink:href=\"#m835579887a\" y=\"269.667133\"/>\n     <use style=\"fill:#0000ff;stroke:#0000ff;\" x=\"769.002602\" xlink:href=\"#m835579887a\" y=\"269.207614\"/>\n     <use style=\"fill:#0000ff;stroke:#0000ff;\" x=\"809.050449\" xlink:href=\"#m835579887a\" y=\"269.379012\"/>\n     <use style=\"fill:#0000ff;stroke:#0000ff;\" x=\"849.098295\" xlink:href=\"#m835579887a\" y=\"268.227181\"/>\n    </g>\n   </g>\n   <g id=\"line2d_18\">\n    <path clip-path=\"url(#p966c037938)\" d=\"M 88.189205 70.861698 \nL 128.237051 61.85267 \nL 168.284898 69.500128 \nL 208.332745 77.480397 \nL 248.380592 84.753844 \nL 288.428439 80.357198 \nL 328.476286 84.126442 \nL 368.524133 86.543075 \nL 408.57198 95.56183 \nL 448.619827 91.873914 \nL 488.667673 95.969948 \nL 528.71552 87.874276 \nL 568.763367 99.661724 \nL 608.811214 99.674227 \nL 648.859061 104.243424 \nL 688.906908 105.105872 \nL 728.954755 108.755142 \nL 769.002602 113.172658 \nL 809.050449 113.501484 \nL 849.098295 118.448501 \n\" style=\"fill:none;stroke:#008000;stroke-linecap:square;stroke-width:1.5;\"/>\n    <defs>\n     <path d=\"M 0 3 \nC 0.795609 3 1.55874 2.683901 2.12132 2.12132 \nC 2.683901 1.55874 3 0.795609 3 0 \nC 3 -0.795609 2.683901 -1.55874 2.12132 -2.12132 \nC 1.55874 -2.683901 0.795609 -3 0 -3 \nC -0.795609 -3 -1.55874 -2.683901 -2.12132 -2.12132 \nC -2.683901 -1.55874 -3 -0.795609 -3 0 \nC -3 0.795609 -2.683901 1.55874 -2.12132 2.12132 \nC -1.55874 2.683901 -0.795609 3 0 3 \nz\n\" id=\"m37f2eb3378\" style=\"stroke:#008000;\"/>\n    </defs>\n    <g clip-path=\"url(#p966c037938)\">\n     <use style=\"fill:#008000;stroke:#008000;\" x=\"88.189205\" xlink:href=\"#m37f2eb3378\" y=\"70.861698\"/>\n     <use style=\"fill:#008000;stroke:#008000;\" x=\"128.237051\" xlink:href=\"#m37f2eb3378\" y=\"61.85267\"/>\n     <use style=\"fill:#008000;stroke:#008000;\" x=\"168.284898\" xlink:href=\"#m37f2eb3378\" y=\"69.500128\"/>\n     <use style=\"fill:#008000;stroke:#008000;\" x=\"208.332745\" xlink:href=\"#m37f2eb3378\" y=\"77.480397\"/>\n     <use style=\"fill:#008000;stroke:#008000;\" x=\"248.380592\" xlink:href=\"#m37f2eb3378\" y=\"84.753844\"/>\n     <use style=\"fill:#008000;stroke:#008000;\" x=\"288.428439\" xlink:href=\"#m37f2eb3378\" y=\"80.357198\"/>\n     <use style=\"fill:#008000;stroke:#008000;\" x=\"328.476286\" xlink:href=\"#m37f2eb3378\" y=\"84.126442\"/>\n     <use style=\"fill:#008000;stroke:#008000;\" x=\"368.524133\" xlink:href=\"#m37f2eb3378\" y=\"86.543075\"/>\n     <use style=\"fill:#008000;stroke:#008000;\" x=\"408.57198\" xlink:href=\"#m37f2eb3378\" y=\"95.56183\"/>\n     <use style=\"fill:#008000;stroke:#008000;\" x=\"448.619827\" xlink:href=\"#m37f2eb3378\" y=\"91.873914\"/>\n     <use style=\"fill:#008000;stroke:#008000;\" x=\"488.667673\" xlink:href=\"#m37f2eb3378\" y=\"95.969948\"/>\n     <use style=\"fill:#008000;stroke:#008000;\" x=\"528.71552\" xlink:href=\"#m37f2eb3378\" y=\"87.874276\"/>\n     <use style=\"fill:#008000;stroke:#008000;\" x=\"568.763367\" xlink:href=\"#m37f2eb3378\" y=\"99.661724\"/>\n     <use style=\"fill:#008000;stroke:#008000;\" x=\"608.811214\" xlink:href=\"#m37f2eb3378\" y=\"99.674227\"/>\n     <use style=\"fill:#008000;stroke:#008000;\" x=\"648.859061\" xlink:href=\"#m37f2eb3378\" y=\"104.243424\"/>\n     <use style=\"fill:#008000;stroke:#008000;\" x=\"688.906908\" xlink:href=\"#m37f2eb3378\" y=\"105.105872\"/>\n     <use style=\"fill:#008000;stroke:#008000;\" x=\"728.954755\" xlink:href=\"#m37f2eb3378\" y=\"108.755142\"/>\n     <use style=\"fill:#008000;stroke:#008000;\" x=\"769.002602\" xlink:href=\"#m37f2eb3378\" y=\"113.172658\"/>\n     <use style=\"fill:#008000;stroke:#008000;\" x=\"809.050449\" xlink:href=\"#m37f2eb3378\" y=\"113.501484\"/>\n     <use style=\"fill:#008000;stroke:#008000;\" x=\"849.098295\" xlink:href=\"#m37f2eb3378\" y=\"118.448501\"/>\n    </g>\n   </g>\n   <g id=\"patch_3\">\n    <path d=\"M 50.14375 457.198125 \nL 50.14375 22.318125 \n\" style=\"fill:none;stroke:#000000;stroke-linecap:square;stroke-linejoin:miter;stroke-width:0.8;\"/>\n   </g>\n   <g id=\"patch_4\">\n    <path d=\"M 887.14375 457.198125 \nL 887.14375 22.318125 \n\" style=\"fill:none;stroke:#000000;stroke-linecap:square;stroke-linejoin:miter;stroke-width:0.8;\"/>\n   </g>\n   <g id=\"patch_5\">\n    <path d=\"M 50.14375 457.198125 \nL 887.14375 457.198125 \n\" style=\"fill:none;stroke:#000000;stroke-linecap:square;stroke-linejoin:miter;stroke-width:0.8;\"/>\n   </g>\n   <g id=\"patch_6\">\n    <path d=\"M 50.14375 22.318125 \nL 887.14375 22.318125 \n\" style=\"fill:none;stroke:#000000;stroke-linecap:square;stroke-linejoin:miter;stroke-width:0.8;\"/>\n   </g>\n   <g id=\"text_19\">\n    <!-- MSE Loss -->\n    <g transform=\"translate(440.799062 16.318125)scale(0.12 -0.12)\">\n     <defs>\n      <path d=\"M 9.8125 72.90625 \nL 19.671875 72.90625 \nL 19.671875 8.296875 \nL 55.171875 8.296875 \nL 55.171875 0 \nL 9.8125 0 \nz\n\" id=\"DejaVuSans-76\"/>\n      <path d=\"M 44.28125 53.078125 \nL 44.28125 44.578125 \nQ 40.484375 46.53125 36.375 47.5 \nQ 32.28125 48.484375 27.875 48.484375 \nQ 21.1875 48.484375 17.84375 46.4375 \nQ 14.5 44.390625 14.5 40.28125 \nQ 14.5 37.15625 16.890625 35.375 \nQ 19.28125 33.59375 26.515625 31.984375 \nL 29.59375 31.296875 \nQ 39.15625 29.25 43.1875 25.515625 \nQ 47.21875 21.78125 47.21875 15.09375 \nQ 47.21875 7.46875 41.1875 3.015625 \nQ 35.15625 -1.421875 24.609375 -1.421875 \nQ 20.21875 -1.421875 15.453125 -0.5625 \nQ 10.6875 0.296875 5.421875 2 \nL 5.421875 11.28125 \nQ 10.40625 8.6875 15.234375 7.390625 \nQ 20.0625 6.109375 24.8125 6.109375 \nQ 31.15625 6.109375 34.5625 8.28125 \nQ 37.984375 10.453125 37.984375 14.40625 \nQ 37.984375 18.0625 35.515625 20.015625 \nQ 33.0625 21.96875 24.703125 23.78125 \nL 21.578125 24.515625 \nQ 13.234375 26.265625 9.515625 29.90625 \nQ 5.8125 33.546875 5.8125 39.890625 \nQ 5.8125 47.609375 11.28125 51.796875 \nQ 16.75 56 26.8125 56 \nQ 31.78125 56 36.171875 55.265625 \nQ 40.578125 54.546875 44.28125 53.078125 \nz\n\" id=\"DejaVuSans-115\"/>\n     </defs>\n     <use xlink:href=\"#DejaVuSans-77\"/>\n     <use x=\"86.279297\" xlink:href=\"#DejaVuSans-83\"/>\n     <use x=\"149.755859\" xlink:href=\"#DejaVuSans-69\"/>\n     <use x=\"212.939453\" xlink:href=\"#DejaVuSans-32\"/>\n     <use x=\"244.726562\" xlink:href=\"#DejaVuSans-76\"/>\n     <use x=\"298.689453\" xlink:href=\"#DejaVuSans-111\"/>\n     <use x=\"359.871094\" xlink:href=\"#DejaVuSans-115\"/>\n     <use x=\"411.970703\" xlink:href=\"#DejaVuSans-115\"/>\n    </g>\n   </g>\n   <g id=\"legend_1\">\n    <g id=\"patch_7\">\n     <path d=\"M 783.579687 59.674375 \nL 880.14375 59.674375 \nQ 882.14375 59.674375 882.14375 57.674375 \nL 882.14375 29.318125 \nQ 882.14375 27.318125 880.14375 27.318125 \nL 783.579687 27.318125 \nQ 781.579687 27.318125 781.579687 29.318125 \nL 781.579687 57.674375 \nQ 781.579687 59.674375 783.579687 59.674375 \nz\n\" style=\"fill:#ffffff;opacity:0.8;stroke:#cccccc;stroke-linejoin:miter;\"/>\n    </g>\n    <g id=\"line2d_19\">\n     <path d=\"M 785.579687 35.416562 \nL 805.579687 35.416562 \n\" style=\"fill:none;stroke:#0000ff;stroke-linecap:square;stroke-width:1.5;\"/>\n    </g>\n    <g id=\"line2d_20\">\n     <g>\n      <use style=\"fill:#0000ff;stroke:#0000ff;\" x=\"795.579687\" xlink:href=\"#m835579887a\" y=\"35.416562\"/>\n     </g>\n    </g>\n    <g id=\"text_20\">\n     <!-- Training Loss -->\n     <g transform=\"translate(813.579687 38.916562)scale(0.1 -0.1)\">\n      <defs>\n       <path d=\"M -0.296875 72.90625 \nL 61.375 72.90625 \nL 61.375 64.59375 \nL 35.5 64.59375 \nL 35.5 0 \nL 25.59375 0 \nL 25.59375 64.59375 \nL -0.296875 64.59375 \nz\n\" id=\"DejaVuSans-84\"/>\n       <path d=\"M 34.28125 27.484375 \nQ 23.390625 27.484375 19.1875 25 \nQ 14.984375 22.515625 14.984375 16.5 \nQ 14.984375 11.71875 18.140625 8.90625 \nQ 21.296875 6.109375 26.703125 6.109375 \nQ 34.1875 6.109375 38.703125 11.40625 \nQ 43.21875 16.703125 43.21875 25.484375 \nL 43.21875 27.484375 \nz\nM 52.203125 31.203125 \nL 52.203125 0 \nL 43.21875 0 \nL 43.21875 8.296875 \nQ 40.140625 3.328125 35.546875 0.953125 \nQ 30.953125 -1.421875 24.3125 -1.421875 \nQ 15.921875 -1.421875 10.953125 3.296875 \nQ 6 8.015625 6 15.921875 \nQ 6 25.140625 12.171875 29.828125 \nQ 18.359375 34.515625 30.609375 34.515625 \nL 43.21875 34.515625 \nL 43.21875 35.40625 \nQ 43.21875 41.609375 39.140625 45 \nQ 35.0625 48.390625 27.6875 48.390625 \nQ 23 48.390625 18.546875 47.265625 \nQ 14.109375 46.140625 10.015625 43.890625 \nL 10.015625 52.203125 \nQ 14.9375 54.109375 19.578125 55.046875 \nQ 24.21875 56 28.609375 56 \nQ 40.484375 56 46.34375 49.84375 \nQ 52.203125 43.703125 52.203125 31.203125 \nz\n\" id=\"DejaVuSans-97\"/>\n       <path d=\"M 9.421875 54.6875 \nL 18.40625 54.6875 \nL 18.40625 0 \nL 9.421875 0 \nz\nM 9.421875 75.984375 \nL 18.40625 75.984375 \nL 18.40625 64.59375 \nL 9.421875 64.59375 \nz\n\" id=\"DejaVuSans-105\"/>\n       <path d=\"M 45.40625 27.984375 \nQ 45.40625 37.75 41.375 43.109375 \nQ 37.359375 48.484375 30.078125 48.484375 \nQ 22.859375 48.484375 18.828125 43.109375 \nQ 14.796875 37.75 14.796875 27.984375 \nQ 14.796875 18.265625 18.828125 12.890625 \nQ 22.859375 7.515625 30.078125 7.515625 \nQ 37.359375 7.515625 41.375 12.890625 \nQ 45.40625 18.265625 45.40625 27.984375 \nz\nM 54.390625 6.78125 \nQ 54.390625 -7.171875 48.1875 -13.984375 \nQ 42 -20.796875 29.203125 -20.796875 \nQ 24.46875 -20.796875 20.265625 -20.09375 \nQ 16.0625 -19.390625 12.109375 -17.921875 \nL 12.109375 -9.1875 \nQ 16.0625 -11.328125 19.921875 -12.34375 \nQ 23.78125 -13.375 27.78125 -13.375 \nQ 36.625 -13.375 41.015625 -8.765625 \nQ 45.40625 -4.15625 45.40625 5.171875 \nL 45.40625 9.625 \nQ 42.625 4.78125 38.28125 2.390625 \nQ 33.9375 0 27.875 0 \nQ 17.828125 0 11.671875 7.65625 \nQ 5.515625 15.328125 5.515625 27.984375 \nQ 5.515625 40.671875 11.671875 48.328125 \nQ 17.828125 56 27.875 56 \nQ 33.9375 56 38.28125 53.609375 \nQ 42.625 51.21875 45.40625 46.390625 \nL 45.40625 54.6875 \nL 54.390625 54.6875 \nz\n\" id=\"DejaVuSans-103\"/>\n      </defs>\n      <use xlink:href=\"#DejaVuSans-84\"/>\n      <use x=\"46.333984\" xlink:href=\"#DejaVuSans-114\"/>\n      <use x=\"87.447266\" xlink:href=\"#DejaVuSans-97\"/>\n      <use x=\"148.726562\" xlink:href=\"#DejaVuSans-105\"/>\n      <use x=\"176.509766\" xlink:href=\"#DejaVuSans-110\"/>\n      <use x=\"239.888672\" xlink:href=\"#DejaVuSans-105\"/>\n      <use x=\"267.671875\" xlink:href=\"#DejaVuSans-110\"/>\n      <use x=\"331.050781\" xlink:href=\"#DejaVuSans-103\"/>\n      <use x=\"394.527344\" xlink:href=\"#DejaVuSans-32\"/>\n      <use x=\"426.314453\" xlink:href=\"#DejaVuSans-76\"/>\n      <use x=\"480.277344\" xlink:href=\"#DejaVuSans-111\"/>\n      <use x=\"541.458984\" xlink:href=\"#DejaVuSans-115\"/>\n      <use x=\"593.558594\" xlink:href=\"#DejaVuSans-115\"/>\n     </g>\n    </g>\n    <g id=\"line2d_21\">\n     <path d=\"M 785.579687 50.094687 \nL 805.579687 50.094687 \n\" style=\"fill:none;stroke:#008000;stroke-linecap:square;stroke-width:1.5;\"/>\n    </g>\n    <g id=\"line2d_22\">\n     <g>\n      <use style=\"fill:#008000;stroke:#008000;\" x=\"795.579687\" xlink:href=\"#m37f2eb3378\" y=\"50.094687\"/>\n     </g>\n    </g>\n    <g id=\"text_21\">\n     <!-- Valid Loss -->\n     <g transform=\"translate(813.579687 53.594687)scale(0.1 -0.1)\">\n      <defs>\n       <path d=\"M 28.609375 0 \nL 0.78125 72.90625 \nL 11.078125 72.90625 \nL 34.1875 11.53125 \nL 57.328125 72.90625 \nL 67.578125 72.90625 \nL 39.796875 0 \nz\n\" id=\"DejaVuSans-86\"/>\n       <path d=\"M 9.421875 75.984375 \nL 18.40625 75.984375 \nL 18.40625 0 \nL 9.421875 0 \nz\n\" id=\"DejaVuSans-108\"/>\n       <path d=\"M 45.40625 46.390625 \nL 45.40625 75.984375 \nL 54.390625 75.984375 \nL 54.390625 0 \nL 45.40625 0 \nL 45.40625 8.203125 \nQ 42.578125 3.328125 38.25 0.953125 \nQ 33.9375 -1.421875 27.875 -1.421875 \nQ 17.96875 -1.421875 11.734375 6.484375 \nQ 5.515625 14.40625 5.515625 27.296875 \nQ 5.515625 40.1875 11.734375 48.09375 \nQ 17.96875 56 27.875 56 \nQ 33.9375 56 38.25 53.625 \nQ 42.578125 51.265625 45.40625 46.390625 \nz\nM 14.796875 27.296875 \nQ 14.796875 17.390625 18.875 11.75 \nQ 22.953125 6.109375 30.078125 6.109375 \nQ 37.203125 6.109375 41.296875 11.75 \nQ 45.40625 17.390625 45.40625 27.296875 \nQ 45.40625 37.203125 41.296875 42.84375 \nQ 37.203125 48.484375 30.078125 48.484375 \nQ 22.953125 48.484375 18.875 42.84375 \nQ 14.796875 37.203125 14.796875 27.296875 \nz\n\" id=\"DejaVuSans-100\"/>\n      </defs>\n      <use xlink:href=\"#DejaVuSans-86\"/>\n      <use x=\"60.658203\" xlink:href=\"#DejaVuSans-97\"/>\n      <use x=\"121.9375\" xlink:href=\"#DejaVuSans-108\"/>\n      <use x=\"149.720703\" xlink:href=\"#DejaVuSans-105\"/>\n      <use x=\"177.503906\" xlink:href=\"#DejaVuSans-100\"/>\n      <use x=\"240.980469\" xlink:href=\"#DejaVuSans-32\"/>\n      <use x=\"272.767578\" xlink:href=\"#DejaVuSans-76\"/>\n      <use x=\"326.730469\" xlink:href=\"#DejaVuSans-111\"/>\n      <use x=\"387.912109\" xlink:href=\"#DejaVuSans-115\"/>\n      <use x=\"440.011719\" xlink:href=\"#DejaVuSans-115\"/>\n     </g>\n    </g>\n   </g>\n  </g>\n </g>\n <defs>\n  <clipPath id=\"p966c037938\">\n   <rect height=\"434.88\" width=\"837\" x=\"50.14375\" y=\"22.318125\"/>\n  </clipPath>\n </defs>\n</svg>\n",
      "image/png": "[encoded data removed]"
     },
     "metadata": {
      "needs_background": "light"
     }
    }
   ],
   "source": [
    "plot_loss(training_loss, valid_loss, folder_name, is_dev)"
   ]
  },
  {
   "cell_type": "code",
   "execution_count": null,
   "metadata": {},
   "outputs": [],
   "source": []
  }
 ],
 "metadata": {
  "kernelspec": {
   "display_name": "Python 3",
   "language": "python",
   "name": "python3"
  },
  "language_info": {
   "codemirror_mode": {
    "name": "ipython",
    "version": 3
   },
   "file_extension": ".py",
   "mimetype": "text/x-python",
   "name": "python",
   "nbconvert_exporter": "python",
   "pygments_lexer": "ipython3",
   "version": "3.7.8-final"
  }
 },
 "nbformat": 4,
 "nbformat_minor": 2
}